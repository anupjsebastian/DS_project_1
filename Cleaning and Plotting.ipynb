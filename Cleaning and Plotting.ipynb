{
 "cells": [
  {
   "cell_type": "markdown",
   "metadata": {},
   "source": [
    "# Importing libraries and files"
   ]
  },
  {
   "cell_type": "code",
   "execution_count": null,
   "metadata": {},
   "outputs": [],
   "source": [
    "import pandas as pd\n",
    "import numpy as np \n",
    "import plotly.graph_objects as go"
   ]
  },
  {
   "cell_type": "code",
   "execution_count": null,
   "metadata": {},
   "outputs": [],
   "source": [
    "!ls"
   ]
  },
  {
   "cell_type": "markdown",
   "metadata": {},
   "source": [
    "# Reading in the file"
   ]
  },
  {
   "cell_type": "code",
   "execution_count": null,
   "metadata": {},
   "outputs": [],
   "source": [
    "movie_data_df = pd.read_csv('interim_data.csv')"
   ]
  },
  {
   "cell_type": "code",
   "execution_count": null,
   "metadata": {},
   "outputs": [],
   "source": [
    "movie_data_df.info()"
   ]
  },
  {
   "cell_type": "markdown",
   "metadata": {},
   "source": [
    "# Cleanup"
   ]
  },
  {
   "cell_type": "code",
   "execution_count": null,
   "metadata": {},
   "outputs": [],
   "source": [
    "movie_data_df.columns"
   ]
  },
  {
   "cell_type": "code",
   "execution_count": null,
   "metadata": {},
   "outputs": [],
   "source": [
    "movie_data_df.head(2)"
   ]
  },
  {
   "cell_type": "code",
   "execution_count": null,
   "metadata": {},
   "outputs": [],
   "source": [
    "movie_data_df.columns[:10]"
   ]
  },
  {
   "cell_type": "markdown",
   "metadata": {},
   "source": [
    "## Obtaining Clean Years"
   ]
  },
  {
   "cell_type": "code",
   "execution_count": null,
   "metadata": {},
   "outputs": [],
   "source": [
    "movie_data_df = movie_data_df.drop(labels = 'Unnamed: 0', axis = 1)"
   ]
  },
  {
   "cell_type": "code",
   "execution_count": null,
   "metadata": {},
   "outputs": [],
   "source": [
    "clean_list = ['Year']"
   ]
  },
  {
   "cell_type": "code",
   "execution_count": null,
   "metadata": {},
   "outputs": [],
   "source": [
    "type(movie_data_df['Year'][1]) == int"
   ]
  },
  {
   "cell_type": "code",
   "execution_count": null,
   "metadata": {
    "scrolled": true
   },
   "outputs": [],
   "source": [
    "movie_data_df['Year'].unique()"
   ]
  },
  {
   "cell_type": "code",
   "execution_count": null,
   "metadata": {},
   "outputs": [],
   "source": [
    "for column in list(movie_data_df.columns):\n",
    "    if column in clean_list:\n",
    "        movie_data_df[column] = movie_data_df[column].map(lambda row:  row if type(row) == int else int(row.replace('–','').replace(' ','')))\n",
    "        \n",
    "        "
   ]
  },
  {
   "cell_type": "code",
   "execution_count": null,
   "metadata": {},
   "outputs": [],
   "source": [
    "movie_data_df.groupby('Year').size()"
   ]
  },
  {
   "cell_type": "code",
   "execution_count": null,
   "metadata": {},
   "outputs": [],
   "source": [
    "idx = movie_data_df['Year'] >= 2015"
   ]
  },
  {
   "cell_type": "code",
   "execution_count": null,
   "metadata": {},
   "outputs": [],
   "source": [
    "movie_data_df = movie_data_df[idx]"
   ]
  },
  {
   "cell_type": "code",
   "execution_count": null,
   "metadata": {
    "scrolled": true
   },
   "outputs": [],
   "source": [
    "movie_data_df['Year'].unique()"
   ]
  },
  {
   "cell_type": "code",
   "execution_count": null,
   "metadata": {},
   "outputs": [],
   "source": [
    "idx = movie_data_df['Year'] == 20112016 "
   ]
  },
  {
   "cell_type": "code",
   "execution_count": null,
   "metadata": {},
   "outputs": [],
   "source": [
    "movie_data_df = movie_data_df[~idx]"
   ]
  },
  {
   "cell_type": "code",
   "execution_count": null,
   "metadata": {},
   "outputs": [],
   "source": [
    "idx = movie_data_df['Year'] == 20042011 "
   ]
  },
  {
   "cell_type": "code",
   "execution_count": null,
   "metadata": {},
   "outputs": [],
   "source": [
    "movie_data_df = movie_data_df[~idx]"
   ]
  },
  {
   "cell_type": "code",
   "execution_count": null,
   "metadata": {},
   "outputs": [],
   "source": [
    "idx = movie_data_df['Year'] == 20102015 "
   ]
  },
  {
   "cell_type": "code",
   "execution_count": null,
   "metadata": {},
   "outputs": [],
   "source": [
    "movie_data_df = movie_data_df[~idx]"
   ]
  },
  {
   "cell_type": "code",
   "execution_count": null,
   "metadata": {},
   "outputs": [],
   "source": [
    "movie_data_df['Year'].unique()"
   ]
  },
  {
   "cell_type": "code",
   "execution_count": null,
   "metadata": {},
   "outputs": [],
   "source": [
    "movie_data_df.groupby('Year').size()"
   ]
  },
  {
   "cell_type": "markdown",
   "metadata": {},
   "source": [
    "## Obtaining Clean Runtimes"
   ]
  },
  {
   "cell_type": "code",
   "execution_count": null,
   "metadata": {},
   "outputs": [],
   "source": [
    "int(movie_data_df['Runtime'][0].replace('min','').replace(' ',''))"
   ]
  },
  {
   "cell_type": "code",
   "execution_count": null,
   "metadata": {},
   "outputs": [],
   "source": [
    "clean_list = ['Runtime']"
   ]
  },
  {
   "cell_type": "code",
   "execution_count": null,
   "metadata": {},
   "outputs": [],
   "source": [
    "empty_runtimes = movie_data_df['Runtime'].isna()"
   ]
  },
  {
   "cell_type": "code",
   "execution_count": null,
   "metadata": {},
   "outputs": [],
   "source": [
    "empty_runtimes.sum()"
   ]
  },
  {
   "cell_type": "code",
   "execution_count": null,
   "metadata": {},
   "outputs": [],
   "source": [
    "movie_data_df['Runtime'][empty_runtimes]"
   ]
  },
  {
   "cell_type": "code",
   "execution_count": null,
   "metadata": {},
   "outputs": [],
   "source": [
    "for column in list(movie_data_df.columns):\n",
    "    if column in clean_list:\n",
    "        empty_runtimes = movie_data_df[column].isna()\n",
    "        movie_data_df[column][empty_runtimes] = str('0')\n",
    "        movie_data_df[column] = movie_data_df[column].map(lambda row: str(row))\n",
    "        movie_data_df[column] = movie_data_df[column].map(lambda row: int(row.replace('min','').replace(' ','')))\n",
    "        "
   ]
  },
  {
   "cell_type": "code",
   "execution_count": null,
   "metadata": {},
   "outputs": [],
   "source": [
    "movie_data_df['Runtime'].head(2)"
   ]
  },
  {
   "cell_type": "markdown",
   "metadata": {},
   "source": [
    "## Obtaining Clean Metascores"
   ]
  },
  {
   "cell_type": "code",
   "execution_count": null,
   "metadata": {},
   "outputs": [],
   "source": [
    "empty_metascores = movie_data_df['Metascore'].isna()"
   ]
  },
  {
   "cell_type": "code",
   "execution_count": null,
   "metadata": {},
   "outputs": [],
   "source": [
    "empty_metascores.sum()"
   ]
  },
  {
   "cell_type": "code",
   "execution_count": null,
   "metadata": {},
   "outputs": [],
   "source": [
    "clean_list = ['Metascore']"
   ]
  },
  {
   "cell_type": "code",
   "execution_count": null,
   "metadata": {},
   "outputs": [],
   "source": [
    "for column in list(movie_data_df.columns):\n",
    "    if column in clean_list:\n",
    "        empty_runtimes = movie_data_df[column].isna()\n",
    "        movie_data_df[column][empty_runtimes] = 0\n",
    "        "
   ]
  },
  {
   "cell_type": "code",
   "execution_count": null,
   "metadata": {},
   "outputs": [],
   "source": [
    "empty_metascores = movie_data_df['Metascore'].isna()\n",
    "empty_metascores.sum()"
   ]
  },
  {
   "cell_type": "markdown",
   "metadata": {},
   "source": [
    "# Plotting Movie Count by Year"
   ]
  },
  {
   "cell_type": "code",
   "execution_count": null,
   "metadata": {},
   "outputs": [],
   "source": [
    "movies_with_years = movie_data_df[['Title', 'Year']]"
   ]
  },
  {
   "cell_type": "code",
   "execution_count": null,
   "metadata": {},
   "outputs": [],
   "source": [
    "movies_with_years.head(2)"
   ]
  },
  {
   "cell_type": "code",
   "execution_count": null,
   "metadata": {},
   "outputs": [],
   "source": [
    "movies_with_years_count = movies_with_years.groupby('Year').count().reset_index()"
   ]
  },
  {
   "cell_type": "code",
   "execution_count": null,
   "metadata": {},
   "outputs": [],
   "source": [
    "movies_with_years_count"
   ]
  },
  {
   "cell_type": "code",
   "execution_count": null,
   "metadata": {},
   "outputs": [],
   "source": [
    "x = list(movies_with_years_count['Year'])"
   ]
  },
  {
   "cell_type": "code",
   "execution_count": null,
   "metadata": {},
   "outputs": [],
   "source": [
    "y = list(movies_with_years_count['Title'])"
   ]
  },
  {
   "cell_type": "code",
   "execution_count": null,
   "metadata": {},
   "outputs": [],
   "source": [
    "import plotly.graph_objects as go\n",
    "\n",
    "total_movies_plot = go.Figure([go.Bar(x=x, y=y, marker_color='#bfa878')])\n",
    "total_movies_plot.update_layout(\n",
    "    template=\"ggplot2\",\n",
    "    font=dict(\n",
    "        family=\"Calibri\",\n",
    "        size=24,\n",
    "        color='#7a4b4b'\n",
    "    ))\n",
    "\n",
    "total_movies_plot.show()"
   ]
  },
  {
   "cell_type": "markdown",
   "metadata": {},
   "source": [
    "# Plotting Total Worldwide Revenue"
   ]
  },
  {
   "cell_type": "code",
   "execution_count": null,
   "metadata": {},
   "outputs": [],
   "source": [
    "movies_with_worldwide_revenue = movie_data_df[['Year', 'Worldwide']]"
   ]
  },
  {
   "cell_type": "code",
   "execution_count": null,
   "metadata": {},
   "outputs": [],
   "source": [
    "movies_with_worldwide_revenue_sum = movies_with_worldwide_revenue.groupby('Year').sum().reset_index()"
   ]
  },
  {
   "cell_type": "code",
   "execution_count": null,
   "metadata": {},
   "outputs": [],
   "source": [
    "movies_with_worldwide_revenue_sum"
   ]
  },
  {
   "cell_type": "code",
   "execution_count": null,
   "metadata": {},
   "outputs": [],
   "source": [
    "x_sum = list(movies_with_worldwide_revenue_sum['Year'])"
   ]
  },
  {
   "cell_type": "code",
   "execution_count": null,
   "metadata": {},
   "outputs": [],
   "source": [
    "y_sum = list(movies_with_worldwide_revenue_sum['Worldwide'])"
   ]
  },
  {
   "cell_type": "code",
   "execution_count": null,
   "metadata": {
    "scrolled": false
   },
   "outputs": [],
   "source": [
    "\n",
    "worldwide_revenue_plot = go.Figure([go.Bar(x=x_sum, y=y_sum)])\n",
    "worldwide_revenue_plot.show()"
   ]
  },
  {
   "cell_type": "markdown",
   "metadata": {},
   "source": [
    "# Plotting the same with Domestic and Foreign Split"
   ]
  },
  {
   "cell_type": "code",
   "execution_count": null,
   "metadata": {},
   "outputs": [],
   "source": [
    "movies_with_Domestic_and_Foreign_revenue = movie_data_df[['Year', 'Domestic', 'Foreign']]"
   ]
  },
  {
   "cell_type": "code",
   "execution_count": null,
   "metadata": {},
   "outputs": [],
   "source": [
    "movies_with_Domestic_and_Foreign_revenue_sum = movies_with_Domestic_and_Foreign_revenue.groupby('Year').sum().reset_index()"
   ]
  },
  {
   "cell_type": "code",
   "execution_count": null,
   "metadata": {},
   "outputs": [],
   "source": [
    "movies_with_Domestic_and_Foreign_revenue_sum"
   ]
  },
  {
   "cell_type": "code",
   "execution_count": null,
   "metadata": {},
   "outputs": [],
   "source": [
    "y_sum_Domestic = list(movies_with_Domestic_and_Foreign_revenue_sum['Domestic'])\n",
    "y_sum_Foreign = list(movies_with_Domestic_and_Foreign_revenue_sum['Foreign'])"
   ]
  },
  {
   "cell_type": "code",
   "execution_count": null,
   "metadata": {},
   "outputs": [],
   "source": [
    "stacked_worldwide_revenue_plot = go.Figure(data=[\n",
    "    go.Bar(name='Domestic', x=x_sum, y=y_sum_Domestic, marker_color='#bfa878'),\n",
    "    go.Bar(name='Foreign', x=x_sum, y=y_sum_Foreign, marker_color='#d9cdb4')\n",
    "])\n",
    "\n",
    "stacked_worldwide_revenue_plot.update_layout(\n",
    "    yaxis_title=\"Revenue (USD)\",\n",
    "    template=\"ggplot2\",\n",
    "    showlegend = False,\n",
    "    font=dict(\n",
    "        family=\"Calibri\",\n",
    "        size=24,\n",
    "        color='#7a4b4b'\n",
    "    ))\n",
    "\n",
    "# Change the bar mode\n",
    "stacked_worldwide_revenue_plot.update_layout(barmode='stack')\n",
    "stacked_worldwide_revenue_plot.show()"
   ]
  },
  {
   "cell_type": "markdown",
   "metadata": {},
   "source": [
    "# Plotting Averages"
   ]
  },
  {
   "cell_type": "code",
   "execution_count": null,
   "metadata": {},
   "outputs": [],
   "source": [
    "movies_with_worldwide_revenue_and_title  = pd.concat([movies_with_years_count, movies_with_worldwide_revenue_sum['Worldwide']], axis = 1)"
   ]
  },
  {
   "cell_type": "code",
   "execution_count": null,
   "metadata": {},
   "outputs": [],
   "source": [
    "movies_with_worldwide_revenue_and_title"
   ]
  },
  {
   "cell_type": "code",
   "execution_count": null,
   "metadata": {},
   "outputs": [],
   "source": [
    "movies_with_worldwide_revenue_and_title['Average Revenue'] = movies_with_worldwide_revenue_and_title['Worldwide']/movies_with_worldwide_revenue_and_title['Title']"
   ]
  },
  {
   "cell_type": "code",
   "execution_count": null,
   "metadata": {},
   "outputs": [],
   "source": [
    "movies_with_worldwide_revenue_and_title"
   ]
  },
  {
   "cell_type": "code",
   "execution_count": null,
   "metadata": {},
   "outputs": [],
   "source": [
    "idx_2015 = movie_data_df['Year'] == 2015\n",
    "idx_2016 = movie_data_df['Year'] == 2016\n",
    "idx_2017 = movie_data_df['Year'] == 2017\n",
    "idx_2018 = movie_data_df['Year'] == 2018\n",
    "idx_2019 = movie_data_df['Year'] == 2019"
   ]
  },
  {
   "cell_type": "code",
   "execution_count": null,
   "metadata": {},
   "outputs": [],
   "source": [
    "movie_data_2015 = movie_data_df[idx_2015]\n",
    "movie_data_2016 = movie_data_df[idx_2016]\n",
    "movie_data_2017 = movie_data_df[idx_2017]\n",
    "movie_data_2018 = movie_data_df[idx_2018]\n",
    "movie_data_2019 = movie_data_df[idx_2019]"
   ]
  },
  {
   "cell_type": "code",
   "execution_count": null,
   "metadata": {},
   "outputs": [],
   "source": [
    "movie_data_2015_revenue = movie_data_2015.filter(['Title','Worldwide','Domestic', 'Foreign'])\n",
    "movie_data_2016_revenue = movie_data_2016.filter(['Title','Worldwide','Domestic', 'Foreign'])\n",
    "movie_data_2017_revenue = movie_data_2017.filter(['Title','Worldwide','Domestic', 'Foreign'])\n",
    "movie_data_2018_revenue = movie_data_2018.filter(['Title','Worldwide','Domestic', 'Foreign'])\n",
    "movie_data_2019_revenue = movie_data_2019.filter(['Title','Worldwide','Domestic', 'Foreign'])"
   ]
  },
  {
   "cell_type": "code",
   "execution_count": null,
   "metadata": {},
   "outputs": [],
   "source": [
    "movie_data_2015_revenue"
   ]
  },
  {
   "cell_type": "code",
   "execution_count": null,
   "metadata": {},
   "outputs": [],
   "source": [
    "movie_data_2015_revenue['Worldwide'].quantile(0.25)"
   ]
  },
  {
   "cell_type": "code",
   "execution_count": null,
   "metadata": {},
   "outputs": [],
   "source": [
    "movie_data_2015_revenue['Worldwide'].median()"
   ]
  },
  {
   "cell_type": "code",
   "execution_count": null,
   "metadata": {},
   "outputs": [],
   "source": [
    "movie_data_2015_revenue['Worldwide'].std()"
   ]
  },
  {
   "cell_type": "code",
   "execution_count": null,
   "metadata": {},
   "outputs": [],
   "source": [
    "trace_2015_worldwide = list(movie_data_2015_revenue['Worldwide'])\n",
    "trace_2016_worldwide = list(movie_data_2016_revenue['Worldwide'])\n",
    "trace_2017_worldwide = list(movie_data_2017_revenue['Worldwide'])\n",
    "trace_2018_worldwide = list(movie_data_2018_revenue['Worldwide'])\n",
    "trace_2019_worldwide = list(movie_data_2019_revenue['Worldwide'])"
   ]
  },
  {
   "cell_type": "code",
   "execution_count": null,
   "metadata": {},
   "outputs": [],
   "source": [
    "rev_plot_worldwide = go.Figure()\n",
    "rev_plot_worldwide.add_trace(go.Box(x=trace_2015_worldwide, name = '2015'))\n",
    "rev_plot_worldwide.add_trace(go.Box(x=trace_2016_worldwide, name = '2016'))\n",
    "rev_plot_worldwide.add_trace(go.Box(x=trace_2017_worldwide, name = '2017'))\n",
    "rev_plot_worldwide.add_trace(go.Box(x=trace_2018_worldwide, name = '2018'))\n",
    "rev_plot_worldwide.add_trace(go.Box(x=trace_2019_worldwide, name = '2019'))\n",
    "rev_plot_worldwide.update_layout(\n",
    "    xaxis_title=\"Revenue (USD)\",\n",
    "    template=\"ggplot2\",\n",
    "    showlegend = False,\n",
    "    font=dict(\n",
    "        family=\"Calibri\",\n",
    "        size=24,\n",
    "        color='#7a4b4b'\n",
    "    ))\n",
    "\n",
    "rev_plot_worldwide.show()"
   ]
  },
  {
   "cell_type": "code",
   "execution_count": null,
   "metadata": {},
   "outputs": [],
   "source": [
    "def calculate_stats(dataframe, column = 'Worldwide'):\n",
    "    mean = dataframe[column].mean()\n",
    "    std = dataframe[column].std()\n",
    "    std_x_1_upper = mean + std\n",
    "    std_x_1_lower = mean - std\n",
    "    std_x_2_upper = mean + 2*std\n",
    "    std_x_2_lower = mean - 2*std\n",
    "    return {'mean': mean, 'std_x_1_lower': std_x_1_lower, 'std_x_1_upper': std_x_1_upper,'std_x_2_upper': std_x_2_upper, 'std_x_2_lower':std_x_2_lower }"
   ]
  },
  {
   "cell_type": "code",
   "execution_count": null,
   "metadata": {},
   "outputs": [],
   "source": [
    "movie_data_2015_revenue['Worldwide'].mean()"
   ]
  },
  {
   "cell_type": "code",
   "execution_count": null,
   "metadata": {},
   "outputs": [],
   "source": [
    "year_dataframe_list = [movie_data_2015_revenue, movie_data_2016_revenue, movie_data_2017_revenue, movie_data_2018_revenue, movie_data_2019_revenue]"
   ]
  },
  {
   "cell_type": "code",
   "execution_count": null,
   "metadata": {},
   "outputs": [],
   "source": [
    "Worldwide_line_plot_values = []\n",
    "for dataframe in year_dataframe_list:\n",
    "    Worldwide_line_plot_values.append(calculate_stats(dataframe))"
   ]
  },
  {
   "cell_type": "code",
   "execution_count": null,
   "metadata": {
    "scrolled": false
   },
   "outputs": [],
   "source": [
    "Worldwide_line_plot_values"
   ]
  },
  {
   "cell_type": "code",
   "execution_count": null,
   "metadata": {},
   "outputs": [],
   "source": [
    "mean_values_worldwide = [x['mean'] for x in Worldwide_line_plot_values ]\n",
    "std_x_1_lower_values_worldwide = [x['std_x_1_lower'] for x in Worldwide_line_plot_values ]\n",
    "std_x_1_upper_values_worldwide = [x['std_x_1_upper'] for x in Worldwide_line_plot_values ]\n",
    "std_x_2_upper_values_worldwide = [x['std_x_2_upper'] for x in Worldwide_line_plot_values ]\n",
    "std_x_2_lower_values_worldwide = [x['std_x_2_upper'] for x in Worldwide_line_plot_values ]"
   ]
  },
  {
   "cell_type": "code",
   "execution_count": null,
   "metadata": {},
   "outputs": [],
   "source": [
    "years = ['2015', '2016', '2017', '2018', '2019']"
   ]
  },
  {
   "cell_type": "code",
   "execution_count": null,
   "metadata": {},
   "outputs": [],
   "source": [
    "mean_values_worldwide"
   ]
  },
  {
   "cell_type": "code",
   "execution_count": null,
   "metadata": {},
   "outputs": [],
   "source": [
    "from plotly.subplots import make_subplots"
   ]
  },
  {
   "cell_type": "code",
   "execution_count": null,
   "metadata": {},
   "outputs": [],
   "source": [
    "\n",
    "revenue_bar_with_lines = make_subplots(specs=[[{\"secondary_y\": True}]])\n",
    "\n",
    "revenue_bar_with_lines.add_trace(go.Scatter(x=x, y=mean_values_worldwide, name='Mean', line = dict(color='#7a4b4b', width=4), marker = dict(color='#7a4b4b', size=10)), secondary_y=True)\n",
    "revenue_bar_with_lines.add_trace(go.Scatter(x=x, y=std_x_1_upper_values_worldwide, name='1xSTD up', line = dict(color='#7a4b4b', width=4, dash='dash'), marker = dict(color='#7a4b4b', size=10)), secondary_y=True)\n",
    "revenue_bar_with_lines.add_trace(go.Scatter(x=x, y=std_x_1_lower_values_worldwide, name='1xSTD down', line = dict(color='#7a4b4b', width=4, dash='dash'), marker = dict(color='#7a4b4b', size=10)), secondary_y=True)\n",
    "# revenue_bar_with_lines.add_trace(go.Scatter(x=x, y=std_x_2_lower_values_worldwide, mode='lines', name='2xSTD up'), secondary_y=True)\n",
    "# revenue_bar_with_lines.add_trace(go.Scatter(x=x, y=std_x_2_lower_values_worldwide, mode='lines', name='2xSTD down'), secondary_y=True)\n",
    "\n",
    "# add_trace(go.Scatter(x=top_actors, y=top_avg), secondary_y=True)\n",
    "\n",
    "revenue_bar_with_lines.add_trace(go.Bar(name='Domestic', x=x_sum, y=y_sum_Domestic, marker_color='#bfa878'))\n",
    "revenue_bar_with_lines.add_trace(go.Bar(name='Foreign', x=x_sum, y=y_sum_Foreign, marker_color='#d9cdb4'))\n",
    "\n",
    "revenue_bar_with_lines.update_layout(\n",
    "    yaxis_title=\"Revenue (USD)\",\n",
    "    template=\"ggplot2\",\n",
    "    font=dict(\n",
    "        family=\"Calibri\",\n",
    "        size=24,\n",
    "        color='#7a4b4b'\n",
    "    ))\n",
    "revenue_bar_with_lines.update_yaxes(title_text=\"Avg Revenue (USD)\", secondary_y=True)\n",
    "\n",
    "revenue_bar_with_lines.update_layout(barmode='stack', showlegend = False)\n",
    "\n",
    "\n",
    "revenue_bar_with_lines.show()"
   ]
  },
  {
   "cell_type": "code",
   "execution_count": null,
   "metadata": {},
   "outputs": [],
   "source": []
  },
  {
   "cell_type": "markdown",
   "metadata": {},
   "source": [
    "# Plot by Runtime"
   ]
  },
  {
   "cell_type": "code",
   "execution_count": null,
   "metadata": {},
   "outputs": [],
   "source": [
    "import matplotlib.pyplot as plt\n",
    "%matplotlib inline\n",
    "import statistics as stat"
   ]
  },
  {
   "cell_type": "code",
   "execution_count": null,
   "metadata": {},
   "outputs": [],
   "source": [
    "movies_with_Title_Worldwide_and_Runtime = movie_data_df[['Title', 'Worldwide', 'Runtime']]"
   ]
  },
  {
   "cell_type": "code",
   "execution_count": null,
   "metadata": {},
   "outputs": [],
   "source": [
    "movies_with_Title_Worldwide_and_Runtime.head()"
   ]
  },
  {
   "cell_type": "code",
   "execution_count": null,
   "metadata": {},
   "outputs": [],
   "source": [
    "movies_with_Title_Worldwide_and_Runtime.sort_values(by = 'Runtime', inplace = True)"
   ]
  },
  {
   "cell_type": "code",
   "execution_count": null,
   "metadata": {},
   "outputs": [],
   "source": [
    "zero_runtime_indices = movies_with_Title_Worldwide_and_Runtime['Runtime'] == 0"
   ]
  },
  {
   "cell_type": "code",
   "execution_count": null,
   "metadata": {},
   "outputs": [],
   "source": [
    "movies_with_Title_Worldwide_and_Runtime = movies_with_Title_Worldwide_and_Runtime[~zero_runtime_indices]"
   ]
  },
  {
   "cell_type": "code",
   "execution_count": null,
   "metadata": {},
   "outputs": [],
   "source": [
    "movies_with_Title_Worldwide_and_Runtime.reset_index(inplace = True)"
   ]
  },
  {
   "cell_type": "code",
   "execution_count": null,
   "metadata": {},
   "outputs": [],
   "source": [
    "movies_with_Title_Worldwide_and_Runtime.drop(labels = ['index'], axis = 1, inplace = True)"
   ]
  },
  {
   "cell_type": "code",
   "execution_count": null,
   "metadata": {},
   "outputs": [],
   "source": [
    "movies_with_Title_Worldwide_and_Runtime"
   ]
  },
  {
   "cell_type": "code",
   "execution_count": null,
   "metadata": {},
   "outputs": [],
   "source": [
    "len(movies_with_Title_Worldwide_and_Runtime)/5"
   ]
  },
  {
   "cell_type": "code",
   "execution_count": null,
   "metadata": {},
   "outputs": [],
   "source": [
    "Runtime_bin_1 = movies_with_Title_Worldwide_and_Runtime[0:222]\n",
    "Runtime_bin_2 = movies_with_Title_Worldwide_and_Runtime[222:444]\n",
    "Runtime_bin_3 = movies_with_Title_Worldwide_and_Runtime[444:666]\n",
    "Runtime_bin_4 = movies_with_Title_Worldwide_and_Runtime[666:888]\n",
    "Runtime_bin_5 = movies_with_Title_Worldwide_and_Runtime[888:1110]"
   ]
  },
  {
   "cell_type": "code",
   "execution_count": null,
   "metadata": {},
   "outputs": [],
   "source": [
    "Runtime_list = [Runtime_bin_1, Runtime_bin_2, Runtime_bin_3, Runtime_bin_4, Runtime_bin_5]"
   ]
  },
  {
   "cell_type": "code",
   "execution_count": null,
   "metadata": {},
   "outputs": [],
   "source": [
    "movies_with_Title_Worldwide_and_Runtime['Runtime'].iloc[222]"
   ]
  },
  {
   "cell_type": "code",
   "execution_count": null,
   "metadata": {},
   "outputs": [],
   "source": [
    "x_runtime = []\n",
    "for i in range(1,5):\n",
    "    x_runtime.append(movies_with_Title_Worldwide_and_Runtime['Runtime'].iloc[(i) * 222])"
   ]
  },
  {
   "cell_type": "code",
   "execution_count": null,
   "metadata": {},
   "outputs": [],
   "source": [
    "x_runtime"
   ]
  },
  {
   "cell_type": "code",
   "execution_count": null,
   "metadata": {},
   "outputs": [],
   "source": [
    "x_runtime = ['< 95', '< 104', '< 114', '< 125', '>= 125']"
   ]
  },
  {
   "cell_type": "code",
   "execution_count": null,
   "metadata": {},
   "outputs": [],
   "source": [
    "Runtime_bin_1['Worldwide'].sum()"
   ]
  },
  {
   "cell_type": "code",
   "execution_count": null,
   "metadata": {},
   "outputs": [],
   "source": [
    "y_runtime = []"
   ]
  },
  {
   "cell_type": "code",
   "execution_count": null,
   "metadata": {},
   "outputs": [],
   "source": [
    "for runtime_df in Runtime_list:\n",
    "    y_runtime.append(runtime_df['Worldwide'].sum())"
   ]
  },
  {
   "cell_type": "code",
   "execution_count": null,
   "metadata": {},
   "outputs": [],
   "source": [
    "y_runtime"
   ]
  },
  {
   "cell_type": "code",
   "execution_count": null,
   "metadata": {},
   "outputs": [],
   "source": [
    "plt.hist(x = list(movie_data_df['Runtime']), bins = 5)"
   ]
  },
  {
   "cell_type": "code",
   "execution_count": null,
   "metadata": {},
   "outputs": [],
   "source": [
    "runtime_plot = go.Figure([go.Bar(x=x_runtime, y=y_runtime, marker_color='#bfa878')])\n",
    "runtime_plot.update_layout(\n",
    "    template=\"ggplot2\",\n",
    "    xaxis_title = 'minutes',\n",
    "    yaxis_title = 'Worldwide Revenue (USD)',\n",
    "    font=dict(\n",
    "        family=\"Calibri\",\n",
    "        size=24,\n",
    "        color='#7a4b4b'\n",
    "    ))\n",
    "\n",
    "\n",
    "runtime_plot.show()"
   ]
  },
  {
   "cell_type": "markdown",
   "metadata": {},
   "source": [
    "# Plot by Metascore"
   ]
  },
  {
   "cell_type": "code",
   "execution_count": null,
   "metadata": {},
   "outputs": [],
   "source": [
    "movies_with_Title_Worldwide_and_Metascore = movie_data_df[['Title', 'Worldwide', 'Metascore']]"
   ]
  },
  {
   "cell_type": "code",
   "execution_count": null,
   "metadata": {},
   "outputs": [],
   "source": [
    "movies_with_Title_Worldwide_and_Metascore.sort_values(by = 'Metascore', inplace = True)"
   ]
  },
  {
   "cell_type": "code",
   "execution_count": null,
   "metadata": {},
   "outputs": [],
   "source": [
    "zero_metascore_indices = movies_with_Title_Worldwide_and_Metascore['Metascore'] == 0"
   ]
  },
  {
   "cell_type": "code",
   "execution_count": null,
   "metadata": {},
   "outputs": [],
   "source": [
    "movies_with_Title_Worldwide_and_Metascore = movies_with_Title_Worldwide_and_Metascore[~zero_metascore_indices]"
   ]
  },
  {
   "cell_type": "code",
   "execution_count": null,
   "metadata": {},
   "outputs": [],
   "source": [
    "movies_with_Title_Worldwide_and_Metascore.reset_index(inplace = True)"
   ]
  },
  {
   "cell_type": "code",
   "execution_count": null,
   "metadata": {},
   "outputs": [],
   "source": [
    "movies_with_Title_Worldwide_and_Metascore.drop(labels = ['index'], axis = 1, inplace = True)"
   ]
  },
  {
   "cell_type": "code",
   "execution_count": null,
   "metadata": {},
   "outputs": [],
   "source": [
    "movies_with_Title_Worldwide_and_Metascore"
   ]
  },
  {
   "cell_type": "code",
   "execution_count": null,
   "metadata": {},
   "outputs": [],
   "source": [
    "len(movies_with_Title_Worldwide_and_Metascore)"
   ]
  },
  {
   "cell_type": "code",
   "execution_count": null,
   "metadata": {},
   "outputs": [],
   "source": [
    "Metascore_bin_1 = movies_with_Title_Worldwide_and_Metascore[0:85]\n",
    "Metascore_bin_2 = movies_with_Title_Worldwide_and_Metascore[85:170]\n",
    "Metascore_bin_3 = movies_with_Title_Worldwide_and_Metascore[170:255]\n",
    "Metascore_bin_4 = movies_with_Title_Worldwide_and_Metascore[255:340]\n",
    "Metascore_bin_5 = movies_with_Title_Worldwide_and_Metascore[340:425]\n",
    "Metascore_bin_6 = movies_with_Title_Worldwide_and_Metascore[425:510]\n",
    "Metascore_bin_7 = movies_with_Title_Worldwide_and_Metascore[510:595]\n",
    "Metascore_bin_8 = movies_with_Title_Worldwide_and_Metascore[595:680]\n",
    "Metascore_bin_9 = movies_with_Title_Worldwide_and_Metascore[680:765]\n",
    "Metascore_bin_10 = movies_with_Title_Worldwide_and_Metascore[765:]"
   ]
  },
  {
   "cell_type": "code",
   "execution_count": null,
   "metadata": {},
   "outputs": [],
   "source": [
    "Metascore_list = [Metascore_bin_1, Metascore_bin_2, Metascore_bin_3, Metascore_bin_4, Metascore_bin_5,Metascore_bin_6, Metascore_bin_7, Metascore_bin_8, Metascore_bin_9, Metascore_bin_10 ]"
   ]
  },
  {
   "cell_type": "code",
   "execution_count": null,
   "metadata": {},
   "outputs": [],
   "source": [
    "movies_with_Title_Worldwide_and_Metascore['Metascore'].iloc[171]"
   ]
  },
  {
   "cell_type": "code",
   "execution_count": null,
   "metadata": {},
   "outputs": [],
   "source": [
    "x_metascore = []\n",
    "for i in range(1,10):\n",
    "    x_metascore.append(movies_with_Title_Worldwide_and_Metascore['Metascore'].iloc[(i) * 85])"
   ]
  },
  {
   "cell_type": "code",
   "execution_count": null,
   "metadata": {},
   "outputs": [],
   "source": [
    "x_metascore"
   ]
  },
  {
   "cell_type": "code",
   "execution_count": null,
   "metadata": {},
   "outputs": [],
   "source": [
    "x_metascore = ['< 35', '< 42', '< 48', '< 53', '< 58', '< 63', '< 68', '< 74', '< 81', '>= 81']"
   ]
  },
  {
   "cell_type": "code",
   "execution_count": null,
   "metadata": {},
   "outputs": [],
   "source": [
    "y_metascore = []"
   ]
  },
  {
   "cell_type": "code",
   "execution_count": null,
   "metadata": {},
   "outputs": [],
   "source": [
    "for metascore_df in Metascore_list:\n",
    "    y_metascore.append(metascore_df['Worldwide'].sum())"
   ]
  },
  {
   "cell_type": "code",
   "execution_count": null,
   "metadata": {},
   "outputs": [],
   "source": [
    "y_metascore"
   ]
  },
  {
   "cell_type": "code",
   "execution_count": null,
   "metadata": {},
   "outputs": [],
   "source": [
    "metascore_plot = go.Figure([go.Bar(x=x_metascore, y=y_metascore, marker_color='#bfa878')])\n",
    "metascore_plot.update_layout(\n",
    "    template=\"ggplot2\",\n",
    "    xaxis_title = 'Metascore',\n",
    "    yaxis_title = 'Worldwide Revenue (USD)',\n",
    "    font=dict(\n",
    "        family=\"Calibri\",\n",
    "        size=24,\n",
    "        color='#7a4b4b'\n",
    "    ))\n",
    "\n",
    "\n",
    "metascore_plot.show()"
   ]
  },
  {
   "cell_type": "code",
   "execution_count": null,
   "metadata": {},
   "outputs": [],
   "source": []
  },
  {
   "cell_type": "markdown",
   "metadata": {},
   "source": [
    "# Bar Chart by Genre"
   ]
  },
  {
   "cell_type": "code",
   "execution_count": null,
   "metadata": {},
   "outputs": [],
   "source": [
    "genre_action = movie_data_df[ movie_data_df['Genre_Action'] == 1]"
   ]
  },
  {
   "cell_type": "code",
   "execution_count": null,
   "metadata": {},
   "outputs": [],
   "source": [
    "genre_action[['Year', 'Worldwide']].groupby(['Year']).agg('sum')"
   ]
  },
  {
   "cell_type": "code",
   "execution_count": null,
   "metadata": {},
   "outputs": [],
   "source": [
    "sum(genre_action[['Year', 'Worldwide']].groupby(['Year']).agg('sum')['Worldwide'])"
   ]
  },
  {
   "cell_type": "markdown",
   "metadata": {},
   "source": [
    "Now that we know how to do it for one genre, build a function that we can call for each movie genre. It returns total and count, so that the client can calculate average."
   ]
  },
  {
   "cell_type": "code",
   "execution_count": null,
   "metadata": {},
   "outputs": [],
   "source": [
    "def group_by_genre(genre):\n",
    "    genre_cat = movie_data_df[ movie_data_df[genre] == 1]\n",
    "    total = sum(genre_cat[['Year', 'Worldwide']].groupby(['Year']).agg('sum')['Worldwide'])\n",
    "    count = sum(genre_cat[['Year', 'Worldwide']].groupby(['Year']).size()) \n",
    "    return total, count\n",
    "    "
   ]
  },
  {
   "cell_type": "markdown",
   "metadata": {},
   "source": [
    "Test it for Action genre and make sure we get the same answer."
   ]
  },
  {
   "cell_type": "code",
   "execution_count": null,
   "metadata": {},
   "outputs": [],
   "source": [
    "group_by_genre(\"Genre_Action\")"
   ]
  },
  {
   "cell_type": "markdown",
   "metadata": {},
   "source": [
    "Now build a loop that for each Genre adds total, average, and gebnre name to separate lists."
   ]
  },
  {
   "cell_type": "code",
   "execution_count": null,
   "metadata": {},
   "outputs": [],
   "source": [
    "total_list = []\n",
    "avg_list = []\n",
    "genre_list = []"
   ]
  },
  {
   "cell_type": "code",
   "execution_count": null,
   "metadata": {},
   "outputs": [],
   "source": [
    "for col in movie_data_df.columns:\n",
    "    if \"Genre_\" in col:\n",
    "        total, count = group_by_genre(col)\n",
    "        if total > 0:\n",
    "           print(total, count)\n",
    "           total_list.append(total)\n",
    "           avg_list.append(int(total/count))\n",
    "           genre_list.append(col[6:])\n",
    "\n",
    "print(total_list)\n",
    "print(avg_list)\n",
    "print(genre_list)"
   ]
  },
  {
   "cell_type": "markdown",
   "metadata": {},
   "source": [
    "Now determine the top x. This starts by creating a sorted list in descending order (large to small). top is the number of elements to show. "
   ]
  },
  {
   "cell_type": "code",
   "execution_count": null,
   "metadata": {},
   "outputs": [],
   "source": [
    "top = 10\n",
    "total_sorted = sorted(total_list, reverse=True)\n",
    "total_sorted"
   ]
  },
  {
   "cell_type": "markdown",
   "metadata": {},
   "source": [
    "Create empty top lists for total, average, and genre."
   ]
  },
  {
   "cell_type": "code",
   "execution_count": null,
   "metadata": {},
   "outputs": [],
   "source": [
    "top_total = []\n",
    "top_genres = []\n",
    "top_avg = []"
   ]
  },
  {
   "cell_type": "markdown",
   "metadata": {},
   "source": [
    "The loop below selects each top x totals. Determines the index for the total in the original lists, and then uses that to append to the top_xxx lists."
   ]
  },
  {
   "cell_type": "code",
   "execution_count": null,
   "metadata": {},
   "outputs": [],
   "source": [
    "for i in range(top):\n",
    "    for j, total in enumerate(total_list):\n",
    "#        print(i, j)\n",
    "        category = genre_list[j]\n",
    "        if total_sorted[i] == total and category not in top_genres: \n",
    "           top_total.append(total)\n",
    "           top_avg.append(avg_list[j])\n",
    "           top_genres.append(genre_list[j])\n",
    "            \n",
    "           print(total, avg_list[j], genre_list[j])\n",
    "           break"
   ]
  },
  {
   "cell_type": "code",
   "execution_count": null,
   "metadata": {},
   "outputs": [],
   "source": [
    "top_total"
   ]
  },
  {
   "cell_type": "code",
   "execution_count": null,
   "metadata": {},
   "outputs": [],
   "source": [
    "top_avg"
   ]
  },
  {
   "cell_type": "code",
   "execution_count": null,
   "metadata": {
    "scrolled": true
   },
   "outputs": [],
   "source": [
    "top_genres"
   ]
  },
  {
   "cell_type": "code",
   "execution_count": null,
   "metadata": {},
   "outputs": [],
   "source": [
    "#plt.bar(top_genres, top_total)\n",
    "\n",
    "plot_top_genres_total = go.Figure()\n",
    "plot_top_genres_total = go.Figure([go.Bar(x=top_genres, y=top_total)])\n",
    "plot_top_genres_total.show()"
   ]
  },
  {
   "cell_type": "code",
   "execution_count": null,
   "metadata": {},
   "outputs": [],
   "source": [
    "#plt.plot(top_genres, top_avg)\n",
    "\n",
    "plot_top_genres_avg = go.Figure()\n",
    "plot_top_genres_avg = go.Figure([go.Scatter(x=top_genres, y=top_avg)])\n",
    "plot_top_genres_avg.show()"
   ]
  },
  {
   "cell_type": "code",
   "execution_count": null,
   "metadata": {},
   "outputs": [],
   "source": [
    "# Combining the above two plots\n",
    "plot_top_genres_total_and_avg = make_subplots(specs=[[{\"secondary_y\": True}]])\n",
    "\n",
    "plot_top_genres_total_and_avg.add_trace(go.Bar(x=top_genres, y=top_total, name = 'Total Revenue', marker_color='#bfa878'))\n",
    "plot_top_genres_total_and_avg.add_trace(go.Scatter(x=top_genres, y=top_avg, name = 'Avg Revenue', marker_color='#7a4b4b'), secondary_y=True)\n",
    "plot_top_genres_total_and_avg.update_layout(\n",
    "    yaxis_title=\"Revenue (USD)\", showlegend = False,\n",
    "    template=\"ggplot2\",\n",
    "    font=dict(\n",
    "        family=\"Calibri\",\n",
    "        size=24,\n",
    "        color='#7a4b4b'\n",
    "    ))\n",
    "plot_top_genres_total_and_avg.update_yaxes(title_text=\"Avg Revenue (USD)\", secondary_y=True)\n",
    "\n",
    "\n",
    "plot_top_genres_total_and_avg.show()"
   ]
  },
  {
   "cell_type": "code",
   "execution_count": null,
   "metadata": {},
   "outputs": [],
   "source": []
  },
  {
   "cell_type": "code",
   "execution_count": null,
   "metadata": {},
   "outputs": [],
   "source": []
  },
  {
   "cell_type": "code",
   "execution_count": null,
   "metadata": {},
   "outputs": [],
   "source": []
  },
  {
   "cell_type": "code",
   "execution_count": null,
   "metadata": {},
   "outputs": [],
   "source": []
  },
  {
   "cell_type": "markdown",
   "metadata": {},
   "source": [
    "## Chart Top Actors\n",
    "\n",
    "Similar to genre categories, now determine the top x actors."
   ]
  },
  {
   "cell_type": "code",
   "execution_count": null,
   "metadata": {},
   "outputs": [],
   "source": [
    "count = 0\n",
    "for col in movie_data_df.columns:\n",
    "    if \"Actor_\" in col:\n",
    "        actor = movie_data_df[ movie_data_df[col] == 1]\n",
    "        if len(actor) > 2 and count<100:\n",
    "           print(col, len(actor))\n",
    "        count += 1\n",
    "        "
   ]
  },
  {
   "cell_type": "markdown",
   "metadata": {},
   "source": [
    "We will try to work with one actor first to ensure we get the logic to work properly. We will use Actor_Tom_Holland."
   ]
  },
  {
   "cell_type": "code",
   "execution_count": null,
   "metadata": {},
   "outputs": [],
   "source": [
    "actor = movie_data_df[ movie_data_df['Actor_Tom_Holland'] == 1]"
   ]
  },
  {
   "cell_type": "code",
   "execution_count": null,
   "metadata": {},
   "outputs": [],
   "source": [
    "actor"
   ]
  },
  {
   "cell_type": "code",
   "execution_count": null,
   "metadata": {},
   "outputs": [],
   "source": [
    "actor[['Year', 'Worldwide']].groupby(['Year']).agg('sum')"
   ]
  },
  {
   "cell_type": "code",
   "execution_count": null,
   "metadata": {},
   "outputs": [],
   "source": [
    "sum(actor[['Year', 'Worldwide']].groupby(['Year']).agg('sum')['Worldwide'])"
   ]
  },
  {
   "cell_type": "code",
   "execution_count": null,
   "metadata": {},
   "outputs": [],
   "source": [
    "def group_by_actor(actor):\n",
    "    actor_df = movie_data_df[ movie_data_df[actor] == 1]\n",
    "    total = sum(actor_df[['Year', 'Worldwide']].groupby(['Year']).agg('sum')['Worldwide'])\n",
    "    count = sum(actor_df[['Year', 'Worldwide']].groupby(['Year']).size()) \n",
    "    return total, count"
   ]
  },
  {
   "cell_type": "code",
   "execution_count": null,
   "metadata": {},
   "outputs": [],
   "source": [
    "group_by_actor('Actor_Tom_Holland')"
   ]
  },
  {
   "cell_type": "code",
   "execution_count": null,
   "metadata": {},
   "outputs": [],
   "source": [
    "total_list = []\n",
    "avg_list = []\n",
    "actor_list = []"
   ]
  },
  {
   "cell_type": "code",
   "execution_count": null,
   "metadata": {},
   "outputs": [],
   "source": [
    "count = 0\n",
    "for col in movie_data_df.columns:\n",
    "    if \"Actor_\" in col:\n",
    "        total, count = group_by_actor(col)\n",
    "        if total > 0:\n",
    "           if count % 50 == 0:\n",
    "              print(total, count)\n",
    "           total_list.append(total)\n",
    "           avg_list.append(int(total/count))\n",
    "           actor_list.append(col[6:])\n",
    "           count += 1\n",
    "\n",
    "print(total_list)\n",
    "print(avg_list)\n",
    "print(actor_list)"
   ]
  },
  {
   "cell_type": "code",
   "execution_count": null,
   "metadata": {},
   "outputs": [],
   "source": [
    "print(len(total_list), len(avg_list), len(actor_list))"
   ]
  },
  {
   "cell_type": "code",
   "execution_count": null,
   "metadata": {},
   "outputs": [],
   "source": [
    "count = 0\n",
    "for col in movie_data_df.columns:\n",
    "    if \"Actor_\" in col:\n",
    "       count += 1\n",
    "print(count)"
   ]
  },
  {
   "cell_type": "code",
   "execution_count": null,
   "metadata": {},
   "outputs": [],
   "source": [
    "top = 10\n",
    "total_sorted = sorted(total_list, reverse=True)\n",
    "total_sorted"
   ]
  },
  {
   "cell_type": "code",
   "execution_count": null,
   "metadata": {},
   "outputs": [],
   "source": [
    "top_total_actors = []\n",
    "top_actors = []\n",
    "top_avg_actors = []"
   ]
  },
  {
   "cell_type": "code",
   "execution_count": null,
   "metadata": {},
   "outputs": [],
   "source": [
    "top"
   ]
  },
  {
   "cell_type": "code",
   "execution_count": null,
   "metadata": {},
   "outputs": [],
   "source": [
    "for i in range(top):\n",
    "    for j, total in enumerate(total_list):\n",
    "        #print(i, j)\n",
    "        actor = actor_list[j]\n",
    "        if actor not in top_actors and total_sorted[i] == total: \n",
    "            top_total_actors.append(total)\n",
    "            top_avg_actors.append(avg_list[j])\n",
    "            top_actors.append(actor_list[j])\n",
    "            print(total, avg_list[j], actor_list[j])\n",
    "            "
   ]
  },
  {
   "cell_type": "code",
   "execution_count": null,
   "metadata": {},
   "outputs": [],
   "source": [
    "top_total_actors[0] > top_avg_actors[0]"
   ]
  },
  {
   "cell_type": "code",
   "execution_count": null,
   "metadata": {},
   "outputs": [],
   "source": [
    "print(top_actors, \"\\n\", top_total_actors)"
   ]
  },
  {
   "cell_type": "code",
   "execution_count": null,
   "metadata": {},
   "outputs": [],
   "source": [
    "movie_data_df[movie_data_df['Actor_Robert_Downey_Jr.'] == 1]['Title']"
   ]
  },
  {
   "cell_type": "code",
   "execution_count": null,
   "metadata": {},
   "outputs": [],
   "source": [
    "movie_data_df[movie_data_df['Actor_Chris_Hemsworth'] == 1]['Title']"
   ]
  },
  {
   "cell_type": "code",
   "execution_count": null,
   "metadata": {},
   "outputs": [],
   "source": [
    "top_actors = list(map(lambda actor: actor.replace('_', ' '), top_actors))"
   ]
  },
  {
   "cell_type": "code",
   "execution_count": null,
   "metadata": {},
   "outputs": [],
   "source": [
    "# plt.bar(top_actors, top_total)\n",
    "\n",
    "plot_top_actors_total = go.Figure()\n",
    "plot_top_actors_total = go.Figure([go.Bar(x=top_actors, y=top_total_actors)])\n",
    "plot_top_actors_total.show()"
   ]
  },
  {
   "cell_type": "code",
   "execution_count": null,
   "metadata": {},
   "outputs": [],
   "source": [
    "# plt.plot(top_actors, top_avg)\n",
    "\n",
    "plot_top_actors_avg = go.Figure()\n",
    "plot_top_actors_avg = go.Figure([go.Scatter(x=top_actors, y=top_avg)])\n",
    "plot_top_actors_avg.show()"
   ]
  },
  {
   "cell_type": "code",
   "execution_count": null,
   "metadata": {},
   "outputs": [],
   "source": [
    "# Combining the above two plots\n",
    "plot_top_actors_total_and_avg = make_subplots(specs=[[{\"secondary_y\": True}]])\n",
    "\n",
    "plot_top_actors_total_and_avg.add_trace(go.Bar(x=top_actors, y=top_total, marker_color='#bfa878'))\n",
    "plot_top_actors_total_and_avg.add_trace(go.Scatter(x=top_actors, y=top_avg, marker_color='#7a4b4b'), secondary_y=True)\n",
    "plot_top_actors_total_and_avg.update_layout(\n",
    "    yaxis_title=\"Revenue (USD)\", showlegend = False,\n",
    "    template=\"ggplot2\",\n",
    "    font=dict(\n",
    "        family=\"Calibri\",\n",
    "        size=24,\n",
    "        color='#7a4b4b'\n",
    "    ))\n",
    "plot_top_actors_total_and_avg.update_yaxes(title_text=\"Avg Revenue (USD)\", secondary_y=True)\n",
    "plot_top_actors_total_and_avg.show()"
   ]
  },
  {
   "cell_type": "markdown",
   "metadata": {},
   "source": [
    "Done!"
   ]
  },
  {
   "cell_type": "code",
   "execution_count": null,
   "metadata": {},
   "outputs": [],
   "source": []
  }
 ],
 "metadata": {
  "kernelspec": {
   "display_name": "Python [conda env:learn-env] *",
   "language": "python",
   "name": "conda-env-learn-env-py"
  },
  "language_info": {
   "codemirror_mode": {
    "name": "ipython",
    "version": 3
   },
   "file_extension": ".py",
   "mimetype": "text/x-python",
   "name": "python",
   "nbconvert_exporter": "python",
   "pygments_lexer": "ipython3",
   "version": "3.6.9"
  }
 },
 "nbformat": 4,
 "nbformat_minor": 2
}
