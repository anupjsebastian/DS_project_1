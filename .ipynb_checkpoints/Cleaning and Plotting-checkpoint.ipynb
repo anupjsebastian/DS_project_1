{
 "cells": [
  {
   "cell_type": "markdown",
   "metadata": {},
   "source": [
    "# Importing libraries and files"
   ]
  },
  {
   "cell_type": "code",
   "execution_count": 1,
   "metadata": {},
   "outputs": [],
   "source": [
    "import pandas as pd\n",
    "import numpy as np \n",
    "import plotly.graph_objects as go"
   ]
  },
  {
   "cell_type": "code",
   "execution_count": 2,
   "metadata": {},
   "outputs": [
    {
     "name": "stdout",
     "output_type": "stream",
     "text": [
      "2015 to 2018 earnings\n",
      "2015 to 2018 earnings.csv\n",
      "2015 to 2019 earnings.csv\n",
      "2015_top_200.csv\n",
      "2016_top_200.csv\n",
      "2017_top_200.csv\n",
      "2018_top_200.csv\n",
      "2019_and_all_time.csv\n",
      "all_year_data.csv\n",
      "all_year_flat_03.csv\n",
      "allTime and 2019.csv\n",
      "allTime.csv\n",
      "allTime_pulled.csv\n",
      "clean_movies_01.csv\n",
      "clean_movies_03.csv\n",
      "Cleanup Code.ipynb\n",
      "data_2015_to_2018\n",
      "data_2015_to_2018.csv\n",
      "final_data.csv\n",
      "interim_data.csv\n",
      "merge_test.ipynb\n",
      "Merging Multiple Years CSV.ipynb\n",
      "Merging Process Final.ipynb\n",
      "movie_data.csv\n",
      "movies.csv\n",
      "omdb_extract.ipynb\n",
      "README.md\n",
      "test.csv\n",
      "Untitled.ipynb\n",
      "Untitled2.ipynb\n",
      "visualization.ipynb\n",
      "Work Here.ipynb\n"
     ]
    }
   ],
   "source": [
    "!ls"
   ]
  },
  {
   "cell_type": "markdown",
   "metadata": {},
   "source": [
    "# Reading in the file"
   ]
  },
  {
   "cell_type": "code",
   "execution_count": 3,
   "metadata": {},
   "outputs": [
    {
     "name": "stderr",
     "output_type": "stream",
     "text": [
      "C:\\Users\\anupj\\Anaconda3\\envs\\learn-env\\lib\\site-packages\\IPython\\core\\interactiveshell.py:3058: DtypeWarning:\n",
      "\n",
      "Columns (9) have mixed types. Specify dtype option on import or set low_memory=False.\n",
      "\n"
     ]
    }
   ],
   "source": [
    "movie_data_df = pd.read_csv('interim_data.csv')"
   ]
  },
  {
   "cell_type": "markdown",
   "metadata": {},
   "source": [
    "# Cleanup"
   ]
  },
  {
   "cell_type": "code",
   "execution_count": 4,
   "metadata": {},
   "outputs": [
    {
     "data": {
      "text/plain": [
       "Index(['Unnamed: 0', 'Title', 'Awards', 'Country', 'Director', 'Language',\n",
       "       'Metascore', 'Released', 'Runtime', 'Year',\n",
       "       ...\n",
       "       'Actor_Jack_Kilmer', 'Actor_J._Michael_Finley', 'Actor_Zoe_Kazan',\n",
       "       'Actor_Dong-hoon_Ha', 'Actor_Aparshakti_Khurana', 'Worldwide',\n",
       "       'Domestic', '% Domestic', 'Foreign', '% Foreign'],\n",
       "      dtype='object', length=3772)"
      ]
     },
     "execution_count": 4,
     "metadata": {},
     "output_type": "execute_result"
    }
   ],
   "source": [
    "movie_data_df.columns"
   ]
  },
  {
   "cell_type": "code",
   "execution_count": 5,
   "metadata": {},
   "outputs": [
    {
     "data": {
      "text/html": [
       "<div>\n",
       "<style scoped>\n",
       "    .dataframe tbody tr th:only-of-type {\n",
       "        vertical-align: middle;\n",
       "    }\n",
       "\n",
       "    .dataframe tbody tr th {\n",
       "        vertical-align: top;\n",
       "    }\n",
       "\n",
       "    .dataframe thead th {\n",
       "        text-align: right;\n",
       "    }\n",
       "</style>\n",
       "<table border=\"1\" class=\"dataframe\">\n",
       "  <thead>\n",
       "    <tr style=\"text-align: right;\">\n",
       "      <th></th>\n",
       "      <th>Unnamed: 0</th>\n",
       "      <th>Title</th>\n",
       "      <th>Awards</th>\n",
       "      <th>Country</th>\n",
       "      <th>Director</th>\n",
       "      <th>Language</th>\n",
       "      <th>Metascore</th>\n",
       "      <th>Released</th>\n",
       "      <th>Runtime</th>\n",
       "      <th>Year</th>\n",
       "      <th>...</th>\n",
       "      <th>Actor_Jack_Kilmer</th>\n",
       "      <th>Actor_J._Michael_Finley</th>\n",
       "      <th>Actor_Zoe_Kazan</th>\n",
       "      <th>Actor_Dong-hoon_Ha</th>\n",
       "      <th>Actor_Aparshakti_Khurana</th>\n",
       "      <th>Worldwide</th>\n",
       "      <th>Domestic</th>\n",
       "      <th>% Domestic</th>\n",
       "      <th>Foreign</th>\n",
       "      <th>% Foreign</th>\n",
       "    </tr>\n",
       "  </thead>\n",
       "  <tbody>\n",
       "    <tr>\n",
       "      <td>0</td>\n",
       "      <td>0</td>\n",
       "      <td>Star Wars: Episode VII - The Force Awakens</td>\n",
       "      <td>Nominated for 5 Oscars. Another 57 wins &amp; 123 ...</td>\n",
       "      <td>USA</td>\n",
       "      <td>J.J. Abrams</td>\n",
       "      <td>English</td>\n",
       "      <td>81.0</td>\n",
       "      <td>18-Dec-15</td>\n",
       "      <td>138 min</td>\n",
       "      <td>2015</td>\n",
       "      <td>...</td>\n",
       "      <td>0</td>\n",
       "      <td>0</td>\n",
       "      <td>0</td>\n",
       "      <td>0</td>\n",
       "      <td>0</td>\n",
       "      <td>2.068224e+09</td>\n",
       "      <td>936662225.0</td>\n",
       "      <td>45.3</td>\n",
       "      <td>1.131561e+09</td>\n",
       "      <td>54.7</td>\n",
       "    </tr>\n",
       "    <tr>\n",
       "      <td>1</td>\n",
       "      <td>2</td>\n",
       "      <td>Avengers: Infinity War</td>\n",
       "      <td>NaN</td>\n",
       "      <td>USA</td>\n",
       "      <td>Anthony Russo, Joe Russo</td>\n",
       "      <td>English</td>\n",
       "      <td>68.0</td>\n",
       "      <td>27-Apr-18</td>\n",
       "      <td>149 min</td>\n",
       "      <td>2018</td>\n",
       "      <td>...</td>\n",
       "      <td>0</td>\n",
       "      <td>0</td>\n",
       "      <td>0</td>\n",
       "      <td>0</td>\n",
       "      <td>0</td>\n",
       "      <td>2.048360e+09</td>\n",
       "      <td>678815482.0</td>\n",
       "      <td>33.1</td>\n",
       "      <td>1.369544e+09</td>\n",
       "      <td>66.9</td>\n",
       "    </tr>\n",
       "  </tbody>\n",
       "</table>\n",
       "<p>2 rows × 3772 columns</p>\n",
       "</div>"
      ],
      "text/plain": [
       "   Unnamed: 0                                       Title  \\\n",
       "0           0  Star Wars: Episode VII - The Force Awakens   \n",
       "1           2                      Avengers: Infinity War   \n",
       "\n",
       "                                              Awards Country  \\\n",
       "0  Nominated for 5 Oscars. Another 57 wins & 123 ...     USA   \n",
       "1                                                NaN     USA   \n",
       "\n",
       "                   Director Language  Metascore   Released  Runtime  Year  \\\n",
       "0               J.J. Abrams  English       81.0  18-Dec-15  138 min  2015   \n",
       "1  Anthony Russo, Joe Russo  English       68.0  27-Apr-18  149 min  2018   \n",
       "\n",
       "   ... Actor_Jack_Kilmer  Actor_J._Michael_Finley Actor_Zoe_Kazan  \\\n",
       "0  ...                 0                        0               0   \n",
       "1  ...                 0                        0               0   \n",
       "\n",
       "   Actor_Dong-hoon_Ha  Actor_Aparshakti_Khurana     Worldwide     Domestic  \\\n",
       "0                   0                         0  2.068224e+09  936662225.0   \n",
       "1                   0                         0  2.048360e+09  678815482.0   \n",
       "\n",
       "   % Domestic       Foreign  % Foreign  \n",
       "0        45.3  1.131561e+09       54.7  \n",
       "1        33.1  1.369544e+09       66.9  \n",
       "\n",
       "[2 rows x 3772 columns]"
      ]
     },
     "execution_count": 5,
     "metadata": {},
     "output_type": "execute_result"
    }
   ],
   "source": [
    "movie_data_df.head(2)"
   ]
  },
  {
   "cell_type": "code",
   "execution_count": 6,
   "metadata": {},
   "outputs": [
    {
     "data": {
      "text/plain": [
       "Index(['Unnamed: 0', 'Title', 'Awards', 'Country', 'Director', 'Language',\n",
       "       'Metascore', 'Released', 'Runtime', 'Year'],\n",
       "      dtype='object')"
      ]
     },
     "execution_count": 6,
     "metadata": {},
     "output_type": "execute_result"
    }
   ],
   "source": [
    "movie_data_df.columns[:10]"
   ]
  },
  {
   "cell_type": "markdown",
   "metadata": {},
   "source": [
    "## Obtaining Clean Years"
   ]
  },
  {
   "cell_type": "code",
   "execution_count": 7,
   "metadata": {},
   "outputs": [],
   "source": [
    "movie_data_df = movie_data_df.drop(labels = 'Unnamed: 0', axis = 1)"
   ]
  },
  {
   "cell_type": "code",
   "execution_count": 8,
   "metadata": {},
   "outputs": [],
   "source": [
    "clean_list = ['Year']"
   ]
  },
  {
   "cell_type": "code",
   "execution_count": 9,
   "metadata": {},
   "outputs": [
    {
     "data": {
      "text/plain": [
       "True"
      ]
     },
     "execution_count": 9,
     "metadata": {},
     "output_type": "execute_result"
    }
   ],
   "source": [
    "type(movie_data_df['Year'][1]) == int"
   ]
  },
  {
   "cell_type": "code",
   "execution_count": 10,
   "metadata": {
    "scrolled": true
   },
   "outputs": [
    {
     "data": {
      "text/plain": [
       "array([2015, 2018, 2017, 2016, 2009, 2005, 2000, 2014, 2010, 2004, 2006,\n",
       "       2001, 1991, '2016', '2017', '2018', '2015', '2014', '2012', '2005',\n",
       "       '2006', '2002', '2019', '1992', '2013–', '1984', '2013', '1959',\n",
       "       '1998–', '1977', '2000–', '2003', '2007', '1952', '1988', '1979',\n",
       "       '1976', '1987', '1990', '1993', '2010–2015', '2001', '1941',\n",
       "       '2004–2011', '2004', '1997', '1932', '1999', '1998', '1980',\n",
       "       '1978', '1969', '2011', '1989', '1962', '2015–', '2016–', '2009',\n",
       "       '1994', '1971', '1983', '2008', '1991', '1985', '1982', '2010–',\n",
       "       '1915', '1965', '1957', '1973', '1995', '1975', '1935', '1921',\n",
       "       '1948', '1928', '2011–2016', '2019–', '1956'], dtype=object)"
      ]
     },
     "execution_count": 10,
     "metadata": {},
     "output_type": "execute_result"
    }
   ],
   "source": [
    "movie_data_df['Year'].unique()"
   ]
  },
  {
   "cell_type": "code",
   "execution_count": 11,
   "metadata": {},
   "outputs": [],
   "source": [
    "for column in list(movie_data_df.columns):\n",
    "    if column in clean_list:\n",
    "        movie_data_df[column] = movie_data_df[column].map(lambda row:  row if type(row) == int else int(row.replace('–','').replace(' ','')))\n",
    "        \n",
    "        "
   ]
  },
  {
   "cell_type": "code",
   "execution_count": 12,
   "metadata": {},
   "outputs": [
    {
     "data": {
      "text/plain": [
       "Year\n",
       "1915          1\n",
       "1921          1\n",
       "1928          1\n",
       "1932          1\n",
       "1935          1\n",
       "           ... \n",
       "2018        275\n",
       "2019        280\n",
       "20042011      1\n",
       "20102015      1\n",
       "20112016      1\n",
       "Length: 61, dtype: int64"
      ]
     },
     "execution_count": 12,
     "metadata": {},
     "output_type": "execute_result"
    }
   ],
   "source": [
    "movie_data_df.groupby('Year').size()"
   ]
  },
  {
   "cell_type": "code",
   "execution_count": 13,
   "metadata": {},
   "outputs": [],
   "source": [
    "idx = movie_data_df['Year'] >= 2015"
   ]
  },
  {
   "cell_type": "code",
   "execution_count": 14,
   "metadata": {},
   "outputs": [],
   "source": [
    "movie_data_df = movie_data_df[idx]"
   ]
  },
  {
   "cell_type": "code",
   "execution_count": 15,
   "metadata": {
    "scrolled": true
   },
   "outputs": [
    {
     "data": {
      "text/plain": [
       "array([    2015,     2018,     2017,     2016,     2019, 20102015,\n",
       "       20042011, 20112016], dtype=int64)"
      ]
     },
     "execution_count": 15,
     "metadata": {},
     "output_type": "execute_result"
    }
   ],
   "source": [
    "movie_data_df['Year'].unique()"
   ]
  },
  {
   "cell_type": "code",
   "execution_count": 16,
   "metadata": {},
   "outputs": [],
   "source": [
    "idx = movie_data_df['Year'] == 20112016 "
   ]
  },
  {
   "cell_type": "code",
   "execution_count": 17,
   "metadata": {},
   "outputs": [],
   "source": [
    "movie_data_df = movie_data_df[~idx]"
   ]
  },
  {
   "cell_type": "code",
   "execution_count": 18,
   "metadata": {},
   "outputs": [],
   "source": [
    "idx = movie_data_df['Year'] == 20042011 "
   ]
  },
  {
   "cell_type": "code",
   "execution_count": 19,
   "metadata": {},
   "outputs": [],
   "source": [
    "movie_data_df = movie_data_df[~idx]"
   ]
  },
  {
   "cell_type": "code",
   "execution_count": 20,
   "metadata": {},
   "outputs": [],
   "source": [
    "idx = movie_data_df['Year'] == 20102015 "
   ]
  },
  {
   "cell_type": "code",
   "execution_count": 21,
   "metadata": {},
   "outputs": [],
   "source": [
    "movie_data_df = movie_data_df[~idx]"
   ]
  },
  {
   "cell_type": "code",
   "execution_count": 22,
   "metadata": {},
   "outputs": [
    {
     "data": {
      "text/plain": [
       "array([2015, 2018, 2017, 2016, 2019], dtype=int64)"
      ]
     },
     "execution_count": 22,
     "metadata": {},
     "output_type": "execute_result"
    }
   ],
   "source": [
    "movie_data_df['Year'].unique()"
   ]
  },
  {
   "cell_type": "code",
   "execution_count": 23,
   "metadata": {},
   "outputs": [
    {
     "data": {
      "text/plain": [
       "Year\n",
       "2015    179\n",
       "2016    203\n",
       "2017    184\n",
       "2018    275\n",
       "2019    280\n",
       "dtype: int64"
      ]
     },
     "execution_count": 23,
     "metadata": {},
     "output_type": "execute_result"
    }
   ],
   "source": [
    "movie_data_df.groupby('Year').size()"
   ]
  },
  {
   "cell_type": "markdown",
   "metadata": {},
   "source": [
    "## Obtaining Clean Runtimes"
   ]
  },
  {
   "cell_type": "code",
   "execution_count": 24,
   "metadata": {},
   "outputs": [
    {
     "data": {
      "text/plain": [
       "138"
      ]
     },
     "execution_count": 24,
     "metadata": {},
     "output_type": "execute_result"
    }
   ],
   "source": [
    "int(movie_data_df['Runtime'][0].replace('min','').replace(' ',''))"
   ]
  },
  {
   "cell_type": "code",
   "execution_count": 25,
   "metadata": {},
   "outputs": [],
   "source": [
    "clean_list = ['Runtime']"
   ]
  },
  {
   "cell_type": "code",
   "execution_count": 26,
   "metadata": {},
   "outputs": [],
   "source": [
    "empty_runtimes = movie_data_df['Runtime'].isna()"
   ]
  },
  {
   "cell_type": "code",
   "execution_count": 27,
   "metadata": {},
   "outputs": [
    {
     "data": {
      "text/plain": [
       "11"
      ]
     },
     "execution_count": 27,
     "metadata": {},
     "output_type": "execute_result"
    }
   ],
   "source": [
    "empty_runtimes.sum()"
   ]
  },
  {
   "cell_type": "code",
   "execution_count": 28,
   "metadata": {},
   "outputs": [
    {
     "data": {
      "text/plain": [
       "439     NaN\n",
       "514     NaN\n",
       "581     NaN\n",
       "588     NaN\n",
       "625     NaN\n",
       "650     NaN\n",
       "734     NaN\n",
       "777     NaN\n",
       "850     NaN\n",
       "1123    NaN\n",
       "1224    NaN\n",
       "Name: Runtime, dtype: object"
      ]
     },
     "execution_count": 28,
     "metadata": {},
     "output_type": "execute_result"
    }
   ],
   "source": [
    "movie_data_df['Runtime'][empty_runtimes]"
   ]
  },
  {
   "cell_type": "code",
   "execution_count": 29,
   "metadata": {},
   "outputs": [],
   "source": [
    "for column in list(movie_data_df.columns):\n",
    "    if column in clean_list:\n",
    "        empty_runtimes = movie_data_df[column].isna()\n",
    "        movie_data_df[column][empty_runtimes] = str('0')\n",
    "        movie_data_df[column] = movie_data_df[column].map(lambda row: str(row))\n",
    "        movie_data_df[column] = movie_data_df[column].map(lambda row: int(row.replace('min','').replace(' ','')))\n",
    "        "
   ]
  },
  {
   "cell_type": "code",
   "execution_count": 30,
   "metadata": {},
   "outputs": [
    {
     "data": {
      "text/plain": [
       "0    138\n",
       "1    149\n",
       "Name: Runtime, dtype: int64"
      ]
     },
     "execution_count": 30,
     "metadata": {},
     "output_type": "execute_result"
    }
   ],
   "source": [
    "movie_data_df['Runtime'].head(2)"
   ]
  },
  {
   "cell_type": "markdown",
   "metadata": {},
   "source": [
    "# Plotting Movie Count by Year"
   ]
  },
  {
   "cell_type": "code",
   "execution_count": 31,
   "metadata": {},
   "outputs": [],
   "source": [
    "movies_with_years = movie_data_df[['Title', 'Year']]"
   ]
  },
  {
   "cell_type": "code",
   "execution_count": 32,
   "metadata": {},
   "outputs": [
    {
     "data": {
      "text/html": [
       "<div>\n",
       "<style scoped>\n",
       "    .dataframe tbody tr th:only-of-type {\n",
       "        vertical-align: middle;\n",
       "    }\n",
       "\n",
       "    .dataframe tbody tr th {\n",
       "        vertical-align: top;\n",
       "    }\n",
       "\n",
       "    .dataframe thead th {\n",
       "        text-align: right;\n",
       "    }\n",
       "</style>\n",
       "<table border=\"1\" class=\"dataframe\">\n",
       "  <thead>\n",
       "    <tr style=\"text-align: right;\">\n",
       "      <th></th>\n",
       "      <th>Title</th>\n",
       "      <th>Year</th>\n",
       "    </tr>\n",
       "  </thead>\n",
       "  <tbody>\n",
       "    <tr>\n",
       "      <td>0</td>\n",
       "      <td>Star Wars: Episode VII - The Force Awakens</td>\n",
       "      <td>2015</td>\n",
       "    </tr>\n",
       "    <tr>\n",
       "      <td>1</td>\n",
       "      <td>Avengers: Infinity War</td>\n",
       "      <td>2018</td>\n",
       "    </tr>\n",
       "  </tbody>\n",
       "</table>\n",
       "</div>"
      ],
      "text/plain": [
       "                                        Title  Year\n",
       "0  Star Wars: Episode VII - The Force Awakens  2015\n",
       "1                      Avengers: Infinity War  2018"
      ]
     },
     "execution_count": 32,
     "metadata": {},
     "output_type": "execute_result"
    }
   ],
   "source": [
    "movies_with_years.head(2)"
   ]
  },
  {
   "cell_type": "code",
   "execution_count": 33,
   "metadata": {},
   "outputs": [],
   "source": [
    "movies_with_years_count = movies_with_years.groupby('Year').count().reset_index()"
   ]
  },
  {
   "cell_type": "code",
   "execution_count": 34,
   "metadata": {},
   "outputs": [
    {
     "data": {
      "text/html": [
       "<div>\n",
       "<style scoped>\n",
       "    .dataframe tbody tr th:only-of-type {\n",
       "        vertical-align: middle;\n",
       "    }\n",
       "\n",
       "    .dataframe tbody tr th {\n",
       "        vertical-align: top;\n",
       "    }\n",
       "\n",
       "    .dataframe thead th {\n",
       "        text-align: right;\n",
       "    }\n",
       "</style>\n",
       "<table border=\"1\" class=\"dataframe\">\n",
       "  <thead>\n",
       "    <tr style=\"text-align: right;\">\n",
       "      <th></th>\n",
       "      <th>Year</th>\n",
       "      <th>Title</th>\n",
       "    </tr>\n",
       "  </thead>\n",
       "  <tbody>\n",
       "    <tr>\n",
       "      <td>0</td>\n",
       "      <td>2015</td>\n",
       "      <td>179</td>\n",
       "    </tr>\n",
       "    <tr>\n",
       "      <td>1</td>\n",
       "      <td>2016</td>\n",
       "      <td>203</td>\n",
       "    </tr>\n",
       "    <tr>\n",
       "      <td>2</td>\n",
       "      <td>2017</td>\n",
       "      <td>184</td>\n",
       "    </tr>\n",
       "    <tr>\n",
       "      <td>3</td>\n",
       "      <td>2018</td>\n",
       "      <td>275</td>\n",
       "    </tr>\n",
       "    <tr>\n",
       "      <td>4</td>\n",
       "      <td>2019</td>\n",
       "      <td>280</td>\n",
       "    </tr>\n",
       "  </tbody>\n",
       "</table>\n",
       "</div>"
      ],
      "text/plain": [
       "   Year  Title\n",
       "0  2015    179\n",
       "1  2016    203\n",
       "2  2017    184\n",
       "3  2018    275\n",
       "4  2019    280"
      ]
     },
     "execution_count": 34,
     "metadata": {},
     "output_type": "execute_result"
    }
   ],
   "source": [
    "movies_with_years_count"
   ]
  },
  {
   "cell_type": "code",
   "execution_count": 35,
   "metadata": {},
   "outputs": [],
   "source": [
    "x = list(movies_with_years_count['Year'])"
   ]
  },
  {
   "cell_type": "code",
   "execution_count": 36,
   "metadata": {},
   "outputs": [],
   "source": [
    "y = list(movies_with_years_count['Title'])"
   ]
  },
  {
   "cell_type": "code",
   "execution_count": 226,
   "metadata": {},
   "outputs": [
    {
     "data": {
      "application/vnd.plotly.v1+json": {
       "config": {
        "plotlyServerURL": "https://plot.ly"
       },
       "data": [
        {
         "marker": {
          "color": "#bfa878"
         },
         "type": "bar",
         "x": [
          2015,
          2016,
          2017,
          2018,
          2019
         ],
         "y": [
          179,
          203,
          184,
          275,
          280
         ]
        }
       ],
       "layout": {
        "font": {
         "color": "#7a4b4b",
         "family": "Calibri",
         "size": 24
        },
        "template": {
         "data": {
          "bar": [
           {
            "error_x": {
             "color": "rgb(51,51,51)"
            },
            "error_y": {
             "color": "rgb(51,51,51)"
            },
            "marker": {
             "line": {
              "color": "rgb(237,237,237)",
              "width": 0.5
             }
            },
            "type": "bar"
           }
          ],
          "barpolar": [
           {
            "marker": {
             "line": {
              "color": "rgb(237,237,237)",
              "width": 0.5
             }
            },
            "type": "barpolar"
           }
          ],
          "carpet": [
           {
            "aaxis": {
             "endlinecolor": "rgb(51,51,51)",
             "gridcolor": "white",
             "linecolor": "white",
             "minorgridcolor": "white",
             "startlinecolor": "rgb(51,51,51)"
            },
            "baxis": {
             "endlinecolor": "rgb(51,51,51)",
             "gridcolor": "white",
             "linecolor": "white",
             "minorgridcolor": "white",
             "startlinecolor": "rgb(51,51,51)"
            },
            "type": "carpet"
           }
          ],
          "choropleth": [
           {
            "colorbar": {
             "outlinewidth": 0,
             "tickcolor": "rgb(237,237,237)",
             "ticklen": 6,
             "ticks": "inside"
            },
            "type": "choropleth"
           }
          ],
          "contour": [
           {
            "colorbar": {
             "outlinewidth": 0,
             "tickcolor": "rgb(237,237,237)",
             "ticklen": 6,
             "ticks": "inside"
            },
            "colorscale": [
             [
              0,
              "rgb(20,44,66)"
             ],
             [
              1,
              "rgb(90,179,244)"
             ]
            ],
            "type": "contour"
           }
          ],
          "contourcarpet": [
           {
            "colorbar": {
             "outlinewidth": 0,
             "tickcolor": "rgb(237,237,237)",
             "ticklen": 6,
             "ticks": "inside"
            },
            "type": "contourcarpet"
           }
          ],
          "heatmap": [
           {
            "colorbar": {
             "outlinewidth": 0,
             "tickcolor": "rgb(237,237,237)",
             "ticklen": 6,
             "ticks": "inside"
            },
            "colorscale": [
             [
              0,
              "rgb(20,44,66)"
             ],
             [
              1,
              "rgb(90,179,244)"
             ]
            ],
            "type": "heatmap"
           }
          ],
          "heatmapgl": [
           {
            "colorbar": {
             "outlinewidth": 0,
             "tickcolor": "rgb(237,237,237)",
             "ticklen": 6,
             "ticks": "inside"
            },
            "colorscale": [
             [
              0,
              "rgb(20,44,66)"
             ],
             [
              1,
              "rgb(90,179,244)"
             ]
            ],
            "type": "heatmapgl"
           }
          ],
          "histogram": [
           {
            "marker": {
             "colorbar": {
              "outlinewidth": 0,
              "tickcolor": "rgb(237,237,237)",
              "ticklen": 6,
              "ticks": "inside"
             }
            },
            "type": "histogram"
           }
          ],
          "histogram2d": [
           {
            "colorbar": {
             "outlinewidth": 0,
             "tickcolor": "rgb(237,237,237)",
             "ticklen": 6,
             "ticks": "inside"
            },
            "colorscale": [
             [
              0,
              "rgb(20,44,66)"
             ],
             [
              1,
              "rgb(90,179,244)"
             ]
            ],
            "type": "histogram2d"
           }
          ],
          "histogram2dcontour": [
           {
            "colorbar": {
             "outlinewidth": 0,
             "tickcolor": "rgb(237,237,237)",
             "ticklen": 6,
             "ticks": "inside"
            },
            "colorscale": [
             [
              0,
              "rgb(20,44,66)"
             ],
             [
              1,
              "rgb(90,179,244)"
             ]
            ],
            "type": "histogram2dcontour"
           }
          ],
          "mesh3d": [
           {
            "colorbar": {
             "outlinewidth": 0,
             "tickcolor": "rgb(237,237,237)",
             "ticklen": 6,
             "ticks": "inside"
            },
            "type": "mesh3d"
           }
          ],
          "parcoords": [
           {
            "line": {
             "colorbar": {
              "outlinewidth": 0,
              "tickcolor": "rgb(237,237,237)",
              "ticklen": 6,
              "ticks": "inside"
             }
            },
            "type": "parcoords"
           }
          ],
          "pie": [
           {
            "automargin": true,
            "type": "pie"
           }
          ],
          "scatter": [
           {
            "marker": {
             "colorbar": {
              "outlinewidth": 0,
              "tickcolor": "rgb(237,237,237)",
              "ticklen": 6,
              "ticks": "inside"
             }
            },
            "type": "scatter"
           }
          ],
          "scatter3d": [
           {
            "line": {
             "colorbar": {
              "outlinewidth": 0,
              "tickcolor": "rgb(237,237,237)",
              "ticklen": 6,
              "ticks": "inside"
             }
            },
            "marker": {
             "colorbar": {
              "outlinewidth": 0,
              "tickcolor": "rgb(237,237,237)",
              "ticklen": 6,
              "ticks": "inside"
             }
            },
            "type": "scatter3d"
           }
          ],
          "scattercarpet": [
           {
            "marker": {
             "colorbar": {
              "outlinewidth": 0,
              "tickcolor": "rgb(237,237,237)",
              "ticklen": 6,
              "ticks": "inside"
             }
            },
            "type": "scattercarpet"
           }
          ],
          "scattergeo": [
           {
            "marker": {
             "colorbar": {
              "outlinewidth": 0,
              "tickcolor": "rgb(237,237,237)",
              "ticklen": 6,
              "ticks": "inside"
             }
            },
            "type": "scattergeo"
           }
          ],
          "scattergl": [
           {
            "marker": {
             "colorbar": {
              "outlinewidth": 0,
              "tickcolor": "rgb(237,237,237)",
              "ticklen": 6,
              "ticks": "inside"
             }
            },
            "type": "scattergl"
           }
          ],
          "scattermapbox": [
           {
            "marker": {
             "colorbar": {
              "outlinewidth": 0,
              "tickcolor": "rgb(237,237,237)",
              "ticklen": 6,
              "ticks": "inside"
             }
            },
            "type": "scattermapbox"
           }
          ],
          "scatterpolar": [
           {
            "marker": {
             "colorbar": {
              "outlinewidth": 0,
              "tickcolor": "rgb(237,237,237)",
              "ticklen": 6,
              "ticks": "inside"
             }
            },
            "type": "scatterpolar"
           }
          ],
          "scatterpolargl": [
           {
            "marker": {
             "colorbar": {
              "outlinewidth": 0,
              "tickcolor": "rgb(237,237,237)",
              "ticklen": 6,
              "ticks": "inside"
             }
            },
            "type": "scatterpolargl"
           }
          ],
          "scatterternary": [
           {
            "marker": {
             "colorbar": {
              "outlinewidth": 0,
              "tickcolor": "rgb(237,237,237)",
              "ticklen": 6,
              "ticks": "inside"
             }
            },
            "type": "scatterternary"
           }
          ],
          "surface": [
           {
            "colorbar": {
             "outlinewidth": 0,
             "tickcolor": "rgb(237,237,237)",
             "ticklen": 6,
             "ticks": "inside"
            },
            "colorscale": [
             [
              0,
              "rgb(20,44,66)"
             ],
             [
              1,
              "rgb(90,179,244)"
             ]
            ],
            "type": "surface"
           }
          ],
          "table": [
           {
            "cells": {
             "fill": {
              "color": "rgb(237,237,237)"
             },
             "line": {
              "color": "white"
             }
            },
            "header": {
             "fill": {
              "color": "rgb(217,217,217)"
             },
             "line": {
              "color": "white"
             }
            },
            "type": "table"
           }
          ]
         },
         "layout": {
          "annotationdefaults": {
           "arrowhead": 0,
           "arrowwidth": 1
          },
          "coloraxis": {
           "colorbar": {
            "outlinewidth": 0,
            "tickcolor": "rgb(237,237,237)",
            "ticklen": 6,
            "ticks": "inside"
           }
          },
          "colorscale": {
           "sequential": [
            [
             0,
             "rgb(20,44,66)"
            ],
            [
             1,
             "rgb(90,179,244)"
            ]
           ],
           "sequentialminus": [
            [
             0,
             "rgb(20,44,66)"
            ],
            [
             1,
             "rgb(90,179,244)"
            ]
           ]
          },
          "colorway": [
           "#F8766D",
           "#A3A500",
           "#00BF7D",
           "#00B0F6",
           "#E76BF3"
          ],
          "font": {
           "color": "rgb(51,51,51)"
          },
          "geo": {
           "bgcolor": "white",
           "lakecolor": "white",
           "landcolor": "rgb(237,237,237)",
           "showlakes": true,
           "showland": true,
           "subunitcolor": "white"
          },
          "hoverlabel": {
           "align": "left"
          },
          "hovermode": "closest",
          "paper_bgcolor": "white",
          "plot_bgcolor": "rgb(237,237,237)",
          "polar": {
           "angularaxis": {
            "gridcolor": "white",
            "linecolor": "white",
            "showgrid": true,
            "tickcolor": "rgb(51,51,51)",
            "ticks": "outside"
           },
           "bgcolor": "rgb(237,237,237)",
           "radialaxis": {
            "gridcolor": "white",
            "linecolor": "white",
            "showgrid": true,
            "tickcolor": "rgb(51,51,51)",
            "ticks": "outside"
           }
          },
          "scene": {
           "xaxis": {
            "backgroundcolor": "rgb(237,237,237)",
            "gridcolor": "white",
            "gridwidth": 2,
            "linecolor": "white",
            "showbackground": true,
            "showgrid": true,
            "tickcolor": "rgb(51,51,51)",
            "ticks": "outside",
            "zerolinecolor": "white"
           },
           "yaxis": {
            "backgroundcolor": "rgb(237,237,237)",
            "gridcolor": "white",
            "gridwidth": 2,
            "linecolor": "white",
            "showbackground": true,
            "showgrid": true,
            "tickcolor": "rgb(51,51,51)",
            "ticks": "outside",
            "zerolinecolor": "white"
           },
           "zaxis": {
            "backgroundcolor": "rgb(237,237,237)",
            "gridcolor": "white",
            "gridwidth": 2,
            "linecolor": "white",
            "showbackground": true,
            "showgrid": true,
            "tickcolor": "rgb(51,51,51)",
            "ticks": "outside",
            "zerolinecolor": "white"
           }
          },
          "shapedefaults": {
           "fillcolor": "black",
           "line": {
            "width": 0
           },
           "opacity": 0.3
          },
          "ternary": {
           "aaxis": {
            "gridcolor": "white",
            "linecolor": "white",
            "showgrid": true,
            "tickcolor": "rgb(51,51,51)",
            "ticks": "outside"
           },
           "baxis": {
            "gridcolor": "white",
            "linecolor": "white",
            "showgrid": true,
            "tickcolor": "rgb(51,51,51)",
            "ticks": "outside"
           },
           "bgcolor": "rgb(237,237,237)",
           "caxis": {
            "gridcolor": "white",
            "linecolor": "white",
            "showgrid": true,
            "tickcolor": "rgb(51,51,51)",
            "ticks": "outside"
           }
          },
          "xaxis": {
           "automargin": true,
           "gridcolor": "white",
           "linecolor": "white",
           "showgrid": true,
           "tickcolor": "rgb(51,51,51)",
           "ticks": "outside",
           "title": {
            "standoff": 15
           },
           "zerolinecolor": "white"
          },
          "yaxis": {
           "automargin": true,
           "gridcolor": "white",
           "linecolor": "white",
           "showgrid": true,
           "tickcolor": "rgb(51,51,51)",
           "ticks": "outside",
           "title": {
            "standoff": 15
           },
           "zerolinecolor": "white"
          }
         }
        },
        "yaxis": {
         "title": {
          "text": "Number of Movies"
         }
        }
       }
      },
      "text/html": [
       "<div>\n",
       "        \n",
       "        \n",
       "            <div id=\"8223349f-2af7-4aeb-b0a4-27cef489057d\" class=\"plotly-graph-div\" style=\"height:525px; width:100%;\"></div>\n",
       "            <script type=\"text/javascript\">\n",
       "                require([\"plotly\"], function(Plotly) {\n",
       "                    window.PLOTLYENV=window.PLOTLYENV || {};\n",
       "                    \n",
       "                if (document.getElementById(\"8223349f-2af7-4aeb-b0a4-27cef489057d\")) {\n",
       "                    Plotly.newPlot(\n",
       "                        '8223349f-2af7-4aeb-b0a4-27cef489057d',\n",
       "                        [{\"marker\": {\"color\": \"#bfa878\"}, \"type\": \"bar\", \"x\": [2015, 2016, 2017, 2018, 2019], \"y\": [179, 203, 184, 275, 280]}],\n",
       "                        {\"font\": {\"color\": \"#7a4b4b\", \"family\": \"Calibri\", \"size\": 24}, \"template\": {\"data\": {\"bar\": [{\"error_x\": {\"color\": \"rgb(51,51,51)\"}, \"error_y\": {\"color\": \"rgb(51,51,51)\"}, \"marker\": {\"line\": {\"color\": \"rgb(237,237,237)\", \"width\": 0.5}}, \"type\": \"bar\"}], \"barpolar\": [{\"marker\": {\"line\": {\"color\": \"rgb(237,237,237)\", \"width\": 0.5}}, \"type\": \"barpolar\"}], \"carpet\": [{\"aaxis\": {\"endlinecolor\": \"rgb(51,51,51)\", \"gridcolor\": \"white\", \"linecolor\": \"white\", \"minorgridcolor\": \"white\", \"startlinecolor\": \"rgb(51,51,51)\"}, \"baxis\": {\"endlinecolor\": \"rgb(51,51,51)\", \"gridcolor\": \"white\", \"linecolor\": \"white\", \"minorgridcolor\": \"white\", \"startlinecolor\": \"rgb(51,51,51)\"}, \"type\": \"carpet\"}], \"choropleth\": [{\"colorbar\": {\"outlinewidth\": 0, \"tickcolor\": \"rgb(237,237,237)\", \"ticklen\": 6, \"ticks\": \"inside\"}, \"type\": \"choropleth\"}], \"contour\": [{\"colorbar\": {\"outlinewidth\": 0, \"tickcolor\": \"rgb(237,237,237)\", \"ticklen\": 6, \"ticks\": \"inside\"}, \"colorscale\": [[0, \"rgb(20,44,66)\"], [1, \"rgb(90,179,244)\"]], \"type\": \"contour\"}], \"contourcarpet\": [{\"colorbar\": {\"outlinewidth\": 0, \"tickcolor\": \"rgb(237,237,237)\", \"ticklen\": 6, \"ticks\": \"inside\"}, \"type\": \"contourcarpet\"}], \"heatmap\": [{\"colorbar\": {\"outlinewidth\": 0, \"tickcolor\": \"rgb(237,237,237)\", \"ticklen\": 6, \"ticks\": \"inside\"}, \"colorscale\": [[0, \"rgb(20,44,66)\"], [1, \"rgb(90,179,244)\"]], \"type\": \"heatmap\"}], \"heatmapgl\": [{\"colorbar\": {\"outlinewidth\": 0, \"tickcolor\": \"rgb(237,237,237)\", \"ticklen\": 6, \"ticks\": \"inside\"}, \"colorscale\": [[0, \"rgb(20,44,66)\"], [1, \"rgb(90,179,244)\"]], \"type\": \"heatmapgl\"}], \"histogram\": [{\"marker\": {\"colorbar\": {\"outlinewidth\": 0, \"tickcolor\": \"rgb(237,237,237)\", \"ticklen\": 6, \"ticks\": \"inside\"}}, \"type\": \"histogram\"}], \"histogram2d\": [{\"colorbar\": {\"outlinewidth\": 0, \"tickcolor\": \"rgb(237,237,237)\", \"ticklen\": 6, \"ticks\": \"inside\"}, \"colorscale\": [[0, \"rgb(20,44,66)\"], [1, \"rgb(90,179,244)\"]], \"type\": \"histogram2d\"}], \"histogram2dcontour\": [{\"colorbar\": {\"outlinewidth\": 0, \"tickcolor\": \"rgb(237,237,237)\", \"ticklen\": 6, \"ticks\": \"inside\"}, \"colorscale\": [[0, \"rgb(20,44,66)\"], [1, \"rgb(90,179,244)\"]], \"type\": \"histogram2dcontour\"}], \"mesh3d\": [{\"colorbar\": {\"outlinewidth\": 0, \"tickcolor\": \"rgb(237,237,237)\", \"ticklen\": 6, \"ticks\": \"inside\"}, \"type\": \"mesh3d\"}], \"parcoords\": [{\"line\": {\"colorbar\": {\"outlinewidth\": 0, \"tickcolor\": \"rgb(237,237,237)\", \"ticklen\": 6, \"ticks\": \"inside\"}}, \"type\": \"parcoords\"}], \"pie\": [{\"automargin\": true, \"type\": \"pie\"}], \"scatter\": [{\"marker\": {\"colorbar\": {\"outlinewidth\": 0, \"tickcolor\": \"rgb(237,237,237)\", \"ticklen\": 6, \"ticks\": \"inside\"}}, \"type\": \"scatter\"}], \"scatter3d\": [{\"line\": {\"colorbar\": {\"outlinewidth\": 0, \"tickcolor\": \"rgb(237,237,237)\", \"ticklen\": 6, \"ticks\": \"inside\"}}, \"marker\": {\"colorbar\": {\"outlinewidth\": 0, \"tickcolor\": \"rgb(237,237,237)\", \"ticklen\": 6, \"ticks\": \"inside\"}}, \"type\": \"scatter3d\"}], \"scattercarpet\": [{\"marker\": {\"colorbar\": {\"outlinewidth\": 0, \"tickcolor\": \"rgb(237,237,237)\", \"ticklen\": 6, \"ticks\": \"inside\"}}, \"type\": \"scattercarpet\"}], \"scattergeo\": [{\"marker\": {\"colorbar\": {\"outlinewidth\": 0, \"tickcolor\": \"rgb(237,237,237)\", \"ticklen\": 6, \"ticks\": \"inside\"}}, \"type\": \"scattergeo\"}], \"scattergl\": [{\"marker\": {\"colorbar\": {\"outlinewidth\": 0, \"tickcolor\": \"rgb(237,237,237)\", \"ticklen\": 6, \"ticks\": \"inside\"}}, \"type\": \"scattergl\"}], \"scattermapbox\": [{\"marker\": {\"colorbar\": {\"outlinewidth\": 0, \"tickcolor\": \"rgb(237,237,237)\", \"ticklen\": 6, \"ticks\": \"inside\"}}, \"type\": \"scattermapbox\"}], \"scatterpolar\": [{\"marker\": {\"colorbar\": {\"outlinewidth\": 0, \"tickcolor\": \"rgb(237,237,237)\", \"ticklen\": 6, \"ticks\": \"inside\"}}, \"type\": \"scatterpolar\"}], \"scatterpolargl\": [{\"marker\": {\"colorbar\": {\"outlinewidth\": 0, \"tickcolor\": \"rgb(237,237,237)\", \"ticklen\": 6, \"ticks\": \"inside\"}}, \"type\": \"scatterpolargl\"}], \"scatterternary\": [{\"marker\": {\"colorbar\": {\"outlinewidth\": 0, \"tickcolor\": \"rgb(237,237,237)\", \"ticklen\": 6, \"ticks\": \"inside\"}}, \"type\": \"scatterternary\"}], \"surface\": [{\"colorbar\": {\"outlinewidth\": 0, \"tickcolor\": \"rgb(237,237,237)\", \"ticklen\": 6, \"ticks\": \"inside\"}, \"colorscale\": [[0, \"rgb(20,44,66)\"], [1, \"rgb(90,179,244)\"]], \"type\": \"surface\"}], \"table\": [{\"cells\": {\"fill\": {\"color\": \"rgb(237,237,237)\"}, \"line\": {\"color\": \"white\"}}, \"header\": {\"fill\": {\"color\": \"rgb(217,217,217)\"}, \"line\": {\"color\": \"white\"}}, \"type\": \"table\"}]}, \"layout\": {\"annotationdefaults\": {\"arrowhead\": 0, \"arrowwidth\": 1}, \"coloraxis\": {\"colorbar\": {\"outlinewidth\": 0, \"tickcolor\": \"rgb(237,237,237)\", \"ticklen\": 6, \"ticks\": \"inside\"}}, \"colorscale\": {\"sequential\": [[0, \"rgb(20,44,66)\"], [1, \"rgb(90,179,244)\"]], \"sequentialminus\": [[0, \"rgb(20,44,66)\"], [1, \"rgb(90,179,244)\"]]}, \"colorway\": [\"#F8766D\", \"#A3A500\", \"#00BF7D\", \"#00B0F6\", \"#E76BF3\"], \"font\": {\"color\": \"rgb(51,51,51)\"}, \"geo\": {\"bgcolor\": \"white\", \"lakecolor\": \"white\", \"landcolor\": \"rgb(237,237,237)\", \"showlakes\": true, \"showland\": true, \"subunitcolor\": \"white\"}, \"hoverlabel\": {\"align\": \"left\"}, \"hovermode\": \"closest\", \"paper_bgcolor\": \"white\", \"plot_bgcolor\": \"rgb(237,237,237)\", \"polar\": {\"angularaxis\": {\"gridcolor\": \"white\", \"linecolor\": \"white\", \"showgrid\": true, \"tickcolor\": \"rgb(51,51,51)\", \"ticks\": \"outside\"}, \"bgcolor\": \"rgb(237,237,237)\", \"radialaxis\": {\"gridcolor\": \"white\", \"linecolor\": \"white\", \"showgrid\": true, \"tickcolor\": \"rgb(51,51,51)\", \"ticks\": \"outside\"}}, \"scene\": {\"xaxis\": {\"backgroundcolor\": \"rgb(237,237,237)\", \"gridcolor\": \"white\", \"gridwidth\": 2, \"linecolor\": \"white\", \"showbackground\": true, \"showgrid\": true, \"tickcolor\": \"rgb(51,51,51)\", \"ticks\": \"outside\", \"zerolinecolor\": \"white\"}, \"yaxis\": {\"backgroundcolor\": \"rgb(237,237,237)\", \"gridcolor\": \"white\", \"gridwidth\": 2, \"linecolor\": \"white\", \"showbackground\": true, \"showgrid\": true, \"tickcolor\": \"rgb(51,51,51)\", \"ticks\": \"outside\", \"zerolinecolor\": \"white\"}, \"zaxis\": {\"backgroundcolor\": \"rgb(237,237,237)\", \"gridcolor\": \"white\", \"gridwidth\": 2, \"linecolor\": \"white\", \"showbackground\": true, \"showgrid\": true, \"tickcolor\": \"rgb(51,51,51)\", \"ticks\": \"outside\", \"zerolinecolor\": \"white\"}}, \"shapedefaults\": {\"fillcolor\": \"black\", \"line\": {\"width\": 0}, \"opacity\": 0.3}, \"ternary\": {\"aaxis\": {\"gridcolor\": \"white\", \"linecolor\": \"white\", \"showgrid\": true, \"tickcolor\": \"rgb(51,51,51)\", \"ticks\": \"outside\"}, \"baxis\": {\"gridcolor\": \"white\", \"linecolor\": \"white\", \"showgrid\": true, \"tickcolor\": \"rgb(51,51,51)\", \"ticks\": \"outside\"}, \"bgcolor\": \"rgb(237,237,237)\", \"caxis\": {\"gridcolor\": \"white\", \"linecolor\": \"white\", \"showgrid\": true, \"tickcolor\": \"rgb(51,51,51)\", \"ticks\": \"outside\"}}, \"xaxis\": {\"automargin\": true, \"gridcolor\": \"white\", \"linecolor\": \"white\", \"showgrid\": true, \"tickcolor\": \"rgb(51,51,51)\", \"ticks\": \"outside\", \"title\": {\"standoff\": 15}, \"zerolinecolor\": \"white\"}, \"yaxis\": {\"automargin\": true, \"gridcolor\": \"white\", \"linecolor\": \"white\", \"showgrid\": true, \"tickcolor\": \"rgb(51,51,51)\", \"ticks\": \"outside\", \"title\": {\"standoff\": 15}, \"zerolinecolor\": \"white\"}}}, \"yaxis\": {\"title\": {\"text\": \"Number of Movies\"}}},\n",
       "                        {\"responsive\": true}\n",
       "                    ).then(function(){\n",
       "                            \n",
       "var gd = document.getElementById('8223349f-2af7-4aeb-b0a4-27cef489057d');\n",
       "var x = new MutationObserver(function (mutations, observer) {{\n",
       "        var display = window.getComputedStyle(gd).display;\n",
       "        if (!display || display === 'none') {{\n",
       "            console.log([gd, 'removed!']);\n",
       "            Plotly.purge(gd);\n",
       "            observer.disconnect();\n",
       "        }}\n",
       "}});\n",
       "\n",
       "// Listen for the removal of the full notebook cells\n",
       "var notebookContainer = gd.closest('#notebook-container');\n",
       "if (notebookContainer) {{\n",
       "    x.observe(notebookContainer, {childList: true});\n",
       "}}\n",
       "\n",
       "// Listen for the clearing of the current output cell\n",
       "var outputEl = gd.closest('.output');\n",
       "if (outputEl) {{\n",
       "    x.observe(outputEl, {childList: true});\n",
       "}}\n",
       "\n",
       "                        })\n",
       "                };\n",
       "                });\n",
       "            </script>\n",
       "        </div>"
      ]
     },
     "metadata": {},
     "output_type": "display_data"
    }
   ],
   "source": [
    "import plotly.graph_objects as go\n",
    "\n",
    "total_movies_plot = go.Figure([go.Bar(x=x, y=y, marker_color='#bfa878')])\n",
    "total_movies_plot.update_layout(\n",
    "    yaxis_title=\"Number of Movies\",\n",
    "    template=\"ggplot2\",\n",
    "    font=dict(\n",
    "        family=\"Calibri\",\n",
    "        size=24,\n",
    "        color='#7a4b4b'\n",
    "    ))\n",
    "\n",
    "total_movies_plot.show()"
   ]
  },
  {
   "cell_type": "markdown",
   "metadata": {},
   "source": [
    "# Plotting Total Worldwide Revenue"
   ]
  },
  {
   "cell_type": "code",
   "execution_count": 43,
   "metadata": {},
   "outputs": [],
   "source": [
    "movies_with_worldwide_revenue = movie_data_df[['Year', 'Worldwide']]"
   ]
  },
  {
   "cell_type": "code",
   "execution_count": 44,
   "metadata": {},
   "outputs": [],
   "source": [
    "movies_with_worldwide_revenue_sum = movies_with_worldwide_revenue.groupby('Year').sum().reset_index()"
   ]
  },
  {
   "cell_type": "code",
   "execution_count": 45,
   "metadata": {},
   "outputs": [
    {
     "data": {
      "text/html": [
       "<div>\n",
       "<style scoped>\n",
       "    .dataframe tbody tr th:only-of-type {\n",
       "        vertical-align: middle;\n",
       "    }\n",
       "\n",
       "    .dataframe tbody tr th {\n",
       "        vertical-align: top;\n",
       "    }\n",
       "\n",
       "    .dataframe thead th {\n",
       "        text-align: right;\n",
       "    }\n",
       "</style>\n",
       "<table border=\"1\" class=\"dataframe\">\n",
       "  <thead>\n",
       "    <tr style=\"text-align: right;\">\n",
       "      <th></th>\n",
       "      <th>Year</th>\n",
       "      <th>Worldwide</th>\n",
       "    </tr>\n",
       "  </thead>\n",
       "  <tbody>\n",
       "    <tr>\n",
       "      <td>0</td>\n",
       "      <td>2015</td>\n",
       "      <td>2.902794e+10</td>\n",
       "    </tr>\n",
       "    <tr>\n",
       "      <td>1</td>\n",
       "      <td>2016</td>\n",
       "      <td>3.016829e+10</td>\n",
       "    </tr>\n",
       "    <tr>\n",
       "      <td>2</td>\n",
       "      <td>2017</td>\n",
       "      <td>2.974503e+10</td>\n",
       "    </tr>\n",
       "    <tr>\n",
       "      <td>3</td>\n",
       "      <td>2018</td>\n",
       "      <td>2.961332e+10</td>\n",
       "    </tr>\n",
       "    <tr>\n",
       "      <td>4</td>\n",
       "      <td>2019</td>\n",
       "      <td>2.186948e+10</td>\n",
       "    </tr>\n",
       "  </tbody>\n",
       "</table>\n",
       "</div>"
      ],
      "text/plain": [
       "   Year     Worldwide\n",
       "0  2015  2.902794e+10\n",
       "1  2016  3.016829e+10\n",
       "2  2017  2.974503e+10\n",
       "3  2018  2.961332e+10\n",
       "4  2019  2.186948e+10"
      ]
     },
     "execution_count": 45,
     "metadata": {},
     "output_type": "execute_result"
    }
   ],
   "source": [
    "movies_with_worldwide_revenue_sum"
   ]
  },
  {
   "cell_type": "code",
   "execution_count": 46,
   "metadata": {},
   "outputs": [],
   "source": [
    "x_sum = list(movies_with_worldwide_revenue_sum['Year'])"
   ]
  },
  {
   "cell_type": "code",
   "execution_count": 47,
   "metadata": {},
   "outputs": [],
   "source": [
    "y_sum = list(movies_with_worldwide_revenue_sum['Worldwide'])"
   ]
  },
  {
   "cell_type": "code",
   "execution_count": 196,
   "metadata": {
    "scrolled": false
   },
   "outputs": [
    {
     "data": {
      "application/vnd.plotly.v1+json": {
       "config": {
        "plotlyServerURL": "https://plot.ly"
       },
       "data": [
        {
         "type": "bar",
         "x": [
          2015,
          2016,
          2017,
          2018,
          2019
         ],
         "y": [
          29027939080,
          30168292199,
          29745029324,
          29613320337,
          21869483469
         ]
        }
       ],
       "layout": {
        "template": {
         "data": {
          "bar": [
           {
            "error_x": {
             "color": "#2a3f5f"
            },
            "error_y": {
             "color": "#2a3f5f"
            },
            "marker": {
             "line": {
              "color": "#E5ECF6",
              "width": 0.5
             }
            },
            "type": "bar"
           }
          ],
          "barpolar": [
           {
            "marker": {
             "line": {
              "color": "#E5ECF6",
              "width": 0.5
             }
            },
            "type": "barpolar"
           }
          ],
          "carpet": [
           {
            "aaxis": {
             "endlinecolor": "#2a3f5f",
             "gridcolor": "white",
             "linecolor": "white",
             "minorgridcolor": "white",
             "startlinecolor": "#2a3f5f"
            },
            "baxis": {
             "endlinecolor": "#2a3f5f",
             "gridcolor": "white",
             "linecolor": "white",
             "minorgridcolor": "white",
             "startlinecolor": "#2a3f5f"
            },
            "type": "carpet"
           }
          ],
          "choropleth": [
           {
            "colorbar": {
             "outlinewidth": 0,
             "ticks": ""
            },
            "type": "choropleth"
           }
          ],
          "contour": [
           {
            "colorbar": {
             "outlinewidth": 0,
             "ticks": ""
            },
            "colorscale": [
             [
              0,
              "#0d0887"
             ],
             [
              0.1111111111111111,
              "#46039f"
             ],
             [
              0.2222222222222222,
              "#7201a8"
             ],
             [
              0.3333333333333333,
              "#9c179e"
             ],
             [
              0.4444444444444444,
              "#bd3786"
             ],
             [
              0.5555555555555556,
              "#d8576b"
             ],
             [
              0.6666666666666666,
              "#ed7953"
             ],
             [
              0.7777777777777778,
              "#fb9f3a"
             ],
             [
              0.8888888888888888,
              "#fdca26"
             ],
             [
              1,
              "#f0f921"
             ]
            ],
            "type": "contour"
           }
          ],
          "contourcarpet": [
           {
            "colorbar": {
             "outlinewidth": 0,
             "ticks": ""
            },
            "type": "contourcarpet"
           }
          ],
          "heatmap": [
           {
            "colorbar": {
             "outlinewidth": 0,
             "ticks": ""
            },
            "colorscale": [
             [
              0,
              "#0d0887"
             ],
             [
              0.1111111111111111,
              "#46039f"
             ],
             [
              0.2222222222222222,
              "#7201a8"
             ],
             [
              0.3333333333333333,
              "#9c179e"
             ],
             [
              0.4444444444444444,
              "#bd3786"
             ],
             [
              0.5555555555555556,
              "#d8576b"
             ],
             [
              0.6666666666666666,
              "#ed7953"
             ],
             [
              0.7777777777777778,
              "#fb9f3a"
             ],
             [
              0.8888888888888888,
              "#fdca26"
             ],
             [
              1,
              "#f0f921"
             ]
            ],
            "type": "heatmap"
           }
          ],
          "heatmapgl": [
           {
            "colorbar": {
             "outlinewidth": 0,
             "ticks": ""
            },
            "colorscale": [
             [
              0,
              "#0d0887"
             ],
             [
              0.1111111111111111,
              "#46039f"
             ],
             [
              0.2222222222222222,
              "#7201a8"
             ],
             [
              0.3333333333333333,
              "#9c179e"
             ],
             [
              0.4444444444444444,
              "#bd3786"
             ],
             [
              0.5555555555555556,
              "#d8576b"
             ],
             [
              0.6666666666666666,
              "#ed7953"
             ],
             [
              0.7777777777777778,
              "#fb9f3a"
             ],
             [
              0.8888888888888888,
              "#fdca26"
             ],
             [
              1,
              "#f0f921"
             ]
            ],
            "type": "heatmapgl"
           }
          ],
          "histogram": [
           {
            "marker": {
             "colorbar": {
              "outlinewidth": 0,
              "ticks": ""
             }
            },
            "type": "histogram"
           }
          ],
          "histogram2d": [
           {
            "colorbar": {
             "outlinewidth": 0,
             "ticks": ""
            },
            "colorscale": [
             [
              0,
              "#0d0887"
             ],
             [
              0.1111111111111111,
              "#46039f"
             ],
             [
              0.2222222222222222,
              "#7201a8"
             ],
             [
              0.3333333333333333,
              "#9c179e"
             ],
             [
              0.4444444444444444,
              "#bd3786"
             ],
             [
              0.5555555555555556,
              "#d8576b"
             ],
             [
              0.6666666666666666,
              "#ed7953"
             ],
             [
              0.7777777777777778,
              "#fb9f3a"
             ],
             [
              0.8888888888888888,
              "#fdca26"
             ],
             [
              1,
              "#f0f921"
             ]
            ],
            "type": "histogram2d"
           }
          ],
          "histogram2dcontour": [
           {
            "colorbar": {
             "outlinewidth": 0,
             "ticks": ""
            },
            "colorscale": [
             [
              0,
              "#0d0887"
             ],
             [
              0.1111111111111111,
              "#46039f"
             ],
             [
              0.2222222222222222,
              "#7201a8"
             ],
             [
              0.3333333333333333,
              "#9c179e"
             ],
             [
              0.4444444444444444,
              "#bd3786"
             ],
             [
              0.5555555555555556,
              "#d8576b"
             ],
             [
              0.6666666666666666,
              "#ed7953"
             ],
             [
              0.7777777777777778,
              "#fb9f3a"
             ],
             [
              0.8888888888888888,
              "#fdca26"
             ],
             [
              1,
              "#f0f921"
             ]
            ],
            "type": "histogram2dcontour"
           }
          ],
          "mesh3d": [
           {
            "colorbar": {
             "outlinewidth": 0,
             "ticks": ""
            },
            "type": "mesh3d"
           }
          ],
          "parcoords": [
           {
            "line": {
             "colorbar": {
              "outlinewidth": 0,
              "ticks": ""
             }
            },
            "type": "parcoords"
           }
          ],
          "pie": [
           {
            "automargin": true,
            "type": "pie"
           }
          ],
          "scatter": [
           {
            "marker": {
             "colorbar": {
              "outlinewidth": 0,
              "ticks": ""
             }
            },
            "type": "scatter"
           }
          ],
          "scatter3d": [
           {
            "line": {
             "colorbar": {
              "outlinewidth": 0,
              "ticks": ""
             }
            },
            "marker": {
             "colorbar": {
              "outlinewidth": 0,
              "ticks": ""
             }
            },
            "type": "scatter3d"
           }
          ],
          "scattercarpet": [
           {
            "marker": {
             "colorbar": {
              "outlinewidth": 0,
              "ticks": ""
             }
            },
            "type": "scattercarpet"
           }
          ],
          "scattergeo": [
           {
            "marker": {
             "colorbar": {
              "outlinewidth": 0,
              "ticks": ""
             }
            },
            "type": "scattergeo"
           }
          ],
          "scattergl": [
           {
            "marker": {
             "colorbar": {
              "outlinewidth": 0,
              "ticks": ""
             }
            },
            "type": "scattergl"
           }
          ],
          "scattermapbox": [
           {
            "marker": {
             "colorbar": {
              "outlinewidth": 0,
              "ticks": ""
             }
            },
            "type": "scattermapbox"
           }
          ],
          "scatterpolar": [
           {
            "marker": {
             "colorbar": {
              "outlinewidth": 0,
              "ticks": ""
             }
            },
            "type": "scatterpolar"
           }
          ],
          "scatterpolargl": [
           {
            "marker": {
             "colorbar": {
              "outlinewidth": 0,
              "ticks": ""
             }
            },
            "type": "scatterpolargl"
           }
          ],
          "scatterternary": [
           {
            "marker": {
             "colorbar": {
              "outlinewidth": 0,
              "ticks": ""
             }
            },
            "type": "scatterternary"
           }
          ],
          "surface": [
           {
            "colorbar": {
             "outlinewidth": 0,
             "ticks": ""
            },
            "colorscale": [
             [
              0,
              "#0d0887"
             ],
             [
              0.1111111111111111,
              "#46039f"
             ],
             [
              0.2222222222222222,
              "#7201a8"
             ],
             [
              0.3333333333333333,
              "#9c179e"
             ],
             [
              0.4444444444444444,
              "#bd3786"
             ],
             [
              0.5555555555555556,
              "#d8576b"
             ],
             [
              0.6666666666666666,
              "#ed7953"
             ],
             [
              0.7777777777777778,
              "#fb9f3a"
             ],
             [
              0.8888888888888888,
              "#fdca26"
             ],
             [
              1,
              "#f0f921"
             ]
            ],
            "type": "surface"
           }
          ],
          "table": [
           {
            "cells": {
             "fill": {
              "color": "#EBF0F8"
             },
             "line": {
              "color": "white"
             }
            },
            "header": {
             "fill": {
              "color": "#C8D4E3"
             },
             "line": {
              "color": "white"
             }
            },
            "type": "table"
           }
          ]
         },
         "layout": {
          "annotationdefaults": {
           "arrowcolor": "#2a3f5f",
           "arrowhead": 0,
           "arrowwidth": 1
          },
          "coloraxis": {
           "colorbar": {
            "outlinewidth": 0,
            "ticks": ""
           }
          },
          "colorscale": {
           "diverging": [
            [
             0,
             "#8e0152"
            ],
            [
             0.1,
             "#c51b7d"
            ],
            [
             0.2,
             "#de77ae"
            ],
            [
             0.3,
             "#f1b6da"
            ],
            [
             0.4,
             "#fde0ef"
            ],
            [
             0.5,
             "#f7f7f7"
            ],
            [
             0.6,
             "#e6f5d0"
            ],
            [
             0.7,
             "#b8e186"
            ],
            [
             0.8,
             "#7fbc41"
            ],
            [
             0.9,
             "#4d9221"
            ],
            [
             1,
             "#276419"
            ]
           ],
           "sequential": [
            [
             0,
             "#0d0887"
            ],
            [
             0.1111111111111111,
             "#46039f"
            ],
            [
             0.2222222222222222,
             "#7201a8"
            ],
            [
             0.3333333333333333,
             "#9c179e"
            ],
            [
             0.4444444444444444,
             "#bd3786"
            ],
            [
             0.5555555555555556,
             "#d8576b"
            ],
            [
             0.6666666666666666,
             "#ed7953"
            ],
            [
             0.7777777777777778,
             "#fb9f3a"
            ],
            [
             0.8888888888888888,
             "#fdca26"
            ],
            [
             1,
             "#f0f921"
            ]
           ],
           "sequentialminus": [
            [
             0,
             "#0d0887"
            ],
            [
             0.1111111111111111,
             "#46039f"
            ],
            [
             0.2222222222222222,
             "#7201a8"
            ],
            [
             0.3333333333333333,
             "#9c179e"
            ],
            [
             0.4444444444444444,
             "#bd3786"
            ],
            [
             0.5555555555555556,
             "#d8576b"
            ],
            [
             0.6666666666666666,
             "#ed7953"
            ],
            [
             0.7777777777777778,
             "#fb9f3a"
            ],
            [
             0.8888888888888888,
             "#fdca26"
            ],
            [
             1,
             "#f0f921"
            ]
           ]
          },
          "colorway": [
           "#636efa",
           "#EF553B",
           "#00cc96",
           "#ab63fa",
           "#FFA15A",
           "#19d3f3",
           "#FF6692",
           "#B6E880",
           "#FF97FF",
           "#FECB52"
          ],
          "font": {
           "color": "#2a3f5f"
          },
          "geo": {
           "bgcolor": "white",
           "lakecolor": "white",
           "landcolor": "#E5ECF6",
           "showlakes": true,
           "showland": true,
           "subunitcolor": "white"
          },
          "hoverlabel": {
           "align": "left"
          },
          "hovermode": "closest",
          "mapbox": {
           "style": "light"
          },
          "paper_bgcolor": "white",
          "plot_bgcolor": "#E5ECF6",
          "polar": {
           "angularaxis": {
            "gridcolor": "white",
            "linecolor": "white",
            "ticks": ""
           },
           "bgcolor": "#E5ECF6",
           "radialaxis": {
            "gridcolor": "white",
            "linecolor": "white",
            "ticks": ""
           }
          },
          "scene": {
           "xaxis": {
            "backgroundcolor": "#E5ECF6",
            "gridcolor": "white",
            "gridwidth": 2,
            "linecolor": "white",
            "showbackground": true,
            "ticks": "",
            "zerolinecolor": "white"
           },
           "yaxis": {
            "backgroundcolor": "#E5ECF6",
            "gridcolor": "white",
            "gridwidth": 2,
            "linecolor": "white",
            "showbackground": true,
            "ticks": "",
            "zerolinecolor": "white"
           },
           "zaxis": {
            "backgroundcolor": "#E5ECF6",
            "gridcolor": "white",
            "gridwidth": 2,
            "linecolor": "white",
            "showbackground": true,
            "ticks": "",
            "zerolinecolor": "white"
           }
          },
          "shapedefaults": {
           "line": {
            "color": "#2a3f5f"
           }
          },
          "ternary": {
           "aaxis": {
            "gridcolor": "white",
            "linecolor": "white",
            "ticks": ""
           },
           "baxis": {
            "gridcolor": "white",
            "linecolor": "white",
            "ticks": ""
           },
           "bgcolor": "#E5ECF6",
           "caxis": {
            "gridcolor": "white",
            "linecolor": "white",
            "ticks": ""
           }
          },
          "title": {
           "x": 0.05
          },
          "xaxis": {
           "automargin": true,
           "gridcolor": "white",
           "linecolor": "white",
           "ticks": "",
           "title": {
            "standoff": 15
           },
           "zerolinecolor": "white",
           "zerolinewidth": 2
          },
          "yaxis": {
           "automargin": true,
           "gridcolor": "white",
           "linecolor": "white",
           "ticks": "",
           "title": {
            "standoff": 15
           },
           "zerolinecolor": "white",
           "zerolinewidth": 2
          }
         }
        }
       }
      },
      "text/html": [
       "<div>\n",
       "        \n",
       "        \n",
       "            <div id=\"6e88c3f2-7384-4e04-984d-2ed5cf6a0ab0\" class=\"plotly-graph-div\" style=\"height:525px; width:100%;\"></div>\n",
       "            <script type=\"text/javascript\">\n",
       "                require([\"plotly\"], function(Plotly) {\n",
       "                    window.PLOTLYENV=window.PLOTLYENV || {};\n",
       "                    \n",
       "                if (document.getElementById(\"6e88c3f2-7384-4e04-984d-2ed5cf6a0ab0\")) {\n",
       "                    Plotly.newPlot(\n",
       "                        '6e88c3f2-7384-4e04-984d-2ed5cf6a0ab0',\n",
       "                        [{\"type\": \"bar\", \"x\": [2015, 2016, 2017, 2018, 2019], \"y\": [29027939080.0, 30168292199.0, 29745029324.0, 29613320337.0, 21869483469.0]}],\n",
       "                        {\"template\": {\"data\": {\"bar\": [{\"error_x\": {\"color\": \"#2a3f5f\"}, \"error_y\": {\"color\": \"#2a3f5f\"}, \"marker\": {\"line\": {\"color\": \"#E5ECF6\", \"width\": 0.5}}, \"type\": \"bar\"}], \"barpolar\": [{\"marker\": {\"line\": {\"color\": \"#E5ECF6\", \"width\": 0.5}}, \"type\": \"barpolar\"}], \"carpet\": [{\"aaxis\": {\"endlinecolor\": \"#2a3f5f\", \"gridcolor\": \"white\", \"linecolor\": \"white\", \"minorgridcolor\": \"white\", \"startlinecolor\": \"#2a3f5f\"}, \"baxis\": {\"endlinecolor\": \"#2a3f5f\", \"gridcolor\": \"white\", \"linecolor\": \"white\", \"minorgridcolor\": \"white\", \"startlinecolor\": \"#2a3f5f\"}, \"type\": \"carpet\"}], \"choropleth\": [{\"colorbar\": {\"outlinewidth\": 0, \"ticks\": \"\"}, \"type\": \"choropleth\"}], \"contour\": [{\"colorbar\": {\"outlinewidth\": 0, \"ticks\": \"\"}, \"colorscale\": [[0.0, \"#0d0887\"], [0.1111111111111111, \"#46039f\"], [0.2222222222222222, \"#7201a8\"], [0.3333333333333333, \"#9c179e\"], [0.4444444444444444, \"#bd3786\"], [0.5555555555555556, \"#d8576b\"], [0.6666666666666666, \"#ed7953\"], [0.7777777777777778, \"#fb9f3a\"], [0.8888888888888888, \"#fdca26\"], [1.0, \"#f0f921\"]], \"type\": \"contour\"}], \"contourcarpet\": [{\"colorbar\": {\"outlinewidth\": 0, \"ticks\": \"\"}, \"type\": \"contourcarpet\"}], \"heatmap\": [{\"colorbar\": {\"outlinewidth\": 0, \"ticks\": \"\"}, \"colorscale\": [[0.0, \"#0d0887\"], [0.1111111111111111, \"#46039f\"], [0.2222222222222222, \"#7201a8\"], [0.3333333333333333, \"#9c179e\"], [0.4444444444444444, \"#bd3786\"], [0.5555555555555556, \"#d8576b\"], [0.6666666666666666, \"#ed7953\"], [0.7777777777777778, \"#fb9f3a\"], [0.8888888888888888, \"#fdca26\"], [1.0, \"#f0f921\"]], \"type\": \"heatmap\"}], \"heatmapgl\": [{\"colorbar\": {\"outlinewidth\": 0, \"ticks\": \"\"}, \"colorscale\": [[0.0, \"#0d0887\"], [0.1111111111111111, \"#46039f\"], [0.2222222222222222, \"#7201a8\"], [0.3333333333333333, \"#9c179e\"], [0.4444444444444444, \"#bd3786\"], [0.5555555555555556, \"#d8576b\"], [0.6666666666666666, \"#ed7953\"], [0.7777777777777778, \"#fb9f3a\"], [0.8888888888888888, \"#fdca26\"], [1.0, \"#f0f921\"]], \"type\": \"heatmapgl\"}], \"histogram\": [{\"marker\": {\"colorbar\": {\"outlinewidth\": 0, \"ticks\": \"\"}}, \"type\": \"histogram\"}], \"histogram2d\": [{\"colorbar\": {\"outlinewidth\": 0, \"ticks\": \"\"}, \"colorscale\": [[0.0, \"#0d0887\"], [0.1111111111111111, \"#46039f\"], [0.2222222222222222, \"#7201a8\"], [0.3333333333333333, \"#9c179e\"], [0.4444444444444444, \"#bd3786\"], [0.5555555555555556, \"#d8576b\"], [0.6666666666666666, \"#ed7953\"], [0.7777777777777778, \"#fb9f3a\"], [0.8888888888888888, \"#fdca26\"], [1.0, \"#f0f921\"]], \"type\": \"histogram2d\"}], \"histogram2dcontour\": [{\"colorbar\": {\"outlinewidth\": 0, \"ticks\": \"\"}, \"colorscale\": [[0.0, \"#0d0887\"], [0.1111111111111111, \"#46039f\"], [0.2222222222222222, \"#7201a8\"], [0.3333333333333333, \"#9c179e\"], [0.4444444444444444, \"#bd3786\"], [0.5555555555555556, \"#d8576b\"], [0.6666666666666666, \"#ed7953\"], [0.7777777777777778, \"#fb9f3a\"], [0.8888888888888888, \"#fdca26\"], [1.0, \"#f0f921\"]], \"type\": \"histogram2dcontour\"}], \"mesh3d\": [{\"colorbar\": {\"outlinewidth\": 0, \"ticks\": \"\"}, \"type\": \"mesh3d\"}], \"parcoords\": [{\"line\": {\"colorbar\": {\"outlinewidth\": 0, \"ticks\": \"\"}}, \"type\": \"parcoords\"}], \"pie\": [{\"automargin\": true, \"type\": \"pie\"}], \"scatter\": [{\"marker\": {\"colorbar\": {\"outlinewidth\": 0, \"ticks\": \"\"}}, \"type\": \"scatter\"}], \"scatter3d\": [{\"line\": {\"colorbar\": {\"outlinewidth\": 0, \"ticks\": \"\"}}, \"marker\": {\"colorbar\": {\"outlinewidth\": 0, \"ticks\": \"\"}}, \"type\": \"scatter3d\"}], \"scattercarpet\": [{\"marker\": {\"colorbar\": {\"outlinewidth\": 0, \"ticks\": \"\"}}, \"type\": \"scattercarpet\"}], \"scattergeo\": [{\"marker\": {\"colorbar\": {\"outlinewidth\": 0, \"ticks\": \"\"}}, \"type\": \"scattergeo\"}], \"scattergl\": [{\"marker\": {\"colorbar\": {\"outlinewidth\": 0, \"ticks\": \"\"}}, \"type\": \"scattergl\"}], \"scattermapbox\": [{\"marker\": {\"colorbar\": {\"outlinewidth\": 0, \"ticks\": \"\"}}, \"type\": \"scattermapbox\"}], \"scatterpolar\": [{\"marker\": {\"colorbar\": {\"outlinewidth\": 0, \"ticks\": \"\"}}, \"type\": \"scatterpolar\"}], \"scatterpolargl\": [{\"marker\": {\"colorbar\": {\"outlinewidth\": 0, \"ticks\": \"\"}}, \"type\": \"scatterpolargl\"}], \"scatterternary\": [{\"marker\": {\"colorbar\": {\"outlinewidth\": 0, \"ticks\": \"\"}}, \"type\": \"scatterternary\"}], \"surface\": [{\"colorbar\": {\"outlinewidth\": 0, \"ticks\": \"\"}, \"colorscale\": [[0.0, \"#0d0887\"], [0.1111111111111111, \"#46039f\"], [0.2222222222222222, \"#7201a8\"], [0.3333333333333333, \"#9c179e\"], [0.4444444444444444, \"#bd3786\"], [0.5555555555555556, \"#d8576b\"], [0.6666666666666666, \"#ed7953\"], [0.7777777777777778, \"#fb9f3a\"], [0.8888888888888888, \"#fdca26\"], [1.0, \"#f0f921\"]], \"type\": \"surface\"}], \"table\": [{\"cells\": {\"fill\": {\"color\": \"#EBF0F8\"}, \"line\": {\"color\": \"white\"}}, \"header\": {\"fill\": {\"color\": \"#C8D4E3\"}, \"line\": {\"color\": \"white\"}}, \"type\": \"table\"}]}, \"layout\": {\"annotationdefaults\": {\"arrowcolor\": \"#2a3f5f\", \"arrowhead\": 0, \"arrowwidth\": 1}, \"coloraxis\": {\"colorbar\": {\"outlinewidth\": 0, \"ticks\": \"\"}}, \"colorscale\": {\"diverging\": [[0, \"#8e0152\"], [0.1, \"#c51b7d\"], [0.2, \"#de77ae\"], [0.3, \"#f1b6da\"], [0.4, \"#fde0ef\"], [0.5, \"#f7f7f7\"], [0.6, \"#e6f5d0\"], [0.7, \"#b8e186\"], [0.8, \"#7fbc41\"], [0.9, \"#4d9221\"], [1, \"#276419\"]], \"sequential\": [[0.0, \"#0d0887\"], [0.1111111111111111, \"#46039f\"], [0.2222222222222222, \"#7201a8\"], [0.3333333333333333, \"#9c179e\"], [0.4444444444444444, \"#bd3786\"], [0.5555555555555556, \"#d8576b\"], [0.6666666666666666, \"#ed7953\"], [0.7777777777777778, \"#fb9f3a\"], [0.8888888888888888, \"#fdca26\"], [1.0, \"#f0f921\"]], \"sequentialminus\": [[0.0, \"#0d0887\"], [0.1111111111111111, \"#46039f\"], [0.2222222222222222, \"#7201a8\"], [0.3333333333333333, \"#9c179e\"], [0.4444444444444444, \"#bd3786\"], [0.5555555555555556, \"#d8576b\"], [0.6666666666666666, \"#ed7953\"], [0.7777777777777778, \"#fb9f3a\"], [0.8888888888888888, \"#fdca26\"], [1.0, \"#f0f921\"]]}, \"colorway\": [\"#636efa\", \"#EF553B\", \"#00cc96\", \"#ab63fa\", \"#FFA15A\", \"#19d3f3\", \"#FF6692\", \"#B6E880\", \"#FF97FF\", \"#FECB52\"], \"font\": {\"color\": \"#2a3f5f\"}, \"geo\": {\"bgcolor\": \"white\", \"lakecolor\": \"white\", \"landcolor\": \"#E5ECF6\", \"showlakes\": true, \"showland\": true, \"subunitcolor\": \"white\"}, \"hoverlabel\": {\"align\": \"left\"}, \"hovermode\": \"closest\", \"mapbox\": {\"style\": \"light\"}, \"paper_bgcolor\": \"white\", \"plot_bgcolor\": \"#E5ECF6\", \"polar\": {\"angularaxis\": {\"gridcolor\": \"white\", \"linecolor\": \"white\", \"ticks\": \"\"}, \"bgcolor\": \"#E5ECF6\", \"radialaxis\": {\"gridcolor\": \"white\", \"linecolor\": \"white\", \"ticks\": \"\"}}, \"scene\": {\"xaxis\": {\"backgroundcolor\": \"#E5ECF6\", \"gridcolor\": \"white\", \"gridwidth\": 2, \"linecolor\": \"white\", \"showbackground\": true, \"ticks\": \"\", \"zerolinecolor\": \"white\"}, \"yaxis\": {\"backgroundcolor\": \"#E5ECF6\", \"gridcolor\": \"white\", \"gridwidth\": 2, \"linecolor\": \"white\", \"showbackground\": true, \"ticks\": \"\", \"zerolinecolor\": \"white\"}, \"zaxis\": {\"backgroundcolor\": \"#E5ECF6\", \"gridcolor\": \"white\", \"gridwidth\": 2, \"linecolor\": \"white\", \"showbackground\": true, \"ticks\": \"\", \"zerolinecolor\": \"white\"}}, \"shapedefaults\": {\"line\": {\"color\": \"#2a3f5f\"}}, \"ternary\": {\"aaxis\": {\"gridcolor\": \"white\", \"linecolor\": \"white\", \"ticks\": \"\"}, \"baxis\": {\"gridcolor\": \"white\", \"linecolor\": \"white\", \"ticks\": \"\"}, \"bgcolor\": \"#E5ECF6\", \"caxis\": {\"gridcolor\": \"white\", \"linecolor\": \"white\", \"ticks\": \"\"}}, \"title\": {\"x\": 0.05}, \"xaxis\": {\"automargin\": true, \"gridcolor\": \"white\", \"linecolor\": \"white\", \"ticks\": \"\", \"title\": {\"standoff\": 15}, \"zerolinecolor\": \"white\", \"zerolinewidth\": 2}, \"yaxis\": {\"automargin\": true, \"gridcolor\": \"white\", \"linecolor\": \"white\", \"ticks\": \"\", \"title\": {\"standoff\": 15}, \"zerolinecolor\": \"white\", \"zerolinewidth\": 2}}}},\n",
       "                        {\"responsive\": true}\n",
       "                    ).then(function(){\n",
       "                            \n",
       "var gd = document.getElementById('6e88c3f2-7384-4e04-984d-2ed5cf6a0ab0');\n",
       "var x = new MutationObserver(function (mutations, observer) {{\n",
       "        var display = window.getComputedStyle(gd).display;\n",
       "        if (!display || display === 'none') {{\n",
       "            console.log([gd, 'removed!']);\n",
       "            Plotly.purge(gd);\n",
       "            observer.disconnect();\n",
       "        }}\n",
       "}});\n",
       "\n",
       "// Listen for the removal of the full notebook cells\n",
       "var notebookContainer = gd.closest('#notebook-container');\n",
       "if (notebookContainer) {{\n",
       "    x.observe(notebookContainer, {childList: true});\n",
       "}}\n",
       "\n",
       "// Listen for the clearing of the current output cell\n",
       "var outputEl = gd.closest('.output');\n",
       "if (outputEl) {{\n",
       "    x.observe(outputEl, {childList: true});\n",
       "}}\n",
       "\n",
       "                        })\n",
       "                };\n",
       "                });\n",
       "            </script>\n",
       "        </div>"
      ]
     },
     "metadata": {},
     "output_type": "display_data"
    }
   ],
   "source": [
    "\n",
    "worldwide_revenue_plot = go.Figure([go.Bar(x=x_sum, y=y_sum)])\n",
    "worldwide_revenue_plot.show()"
   ]
  },
  {
   "cell_type": "markdown",
   "metadata": {},
   "source": [
    "# Plotting the same with Domestic and Foreign Split"
   ]
  },
  {
   "cell_type": "code",
   "execution_count": 49,
   "metadata": {},
   "outputs": [],
   "source": [
    "movies_with_Domestic_and_Foreign_revenue = movie_data_df[['Year', 'Domestic', 'Foreign']]"
   ]
  },
  {
   "cell_type": "code",
   "execution_count": 50,
   "metadata": {},
   "outputs": [],
   "source": [
    "movies_with_Domestic_and_Foreign_revenue_sum = movies_with_Domestic_and_Foreign_revenue.groupby('Year').sum().reset_index()"
   ]
  },
  {
   "cell_type": "code",
   "execution_count": 51,
   "metadata": {},
   "outputs": [
    {
     "data": {
      "text/html": [
       "<div>\n",
       "<style scoped>\n",
       "    .dataframe tbody tr th:only-of-type {\n",
       "        vertical-align: middle;\n",
       "    }\n",
       "\n",
       "    .dataframe tbody tr th {\n",
       "        vertical-align: top;\n",
       "    }\n",
       "\n",
       "    .dataframe thead th {\n",
       "        text-align: right;\n",
       "    }\n",
       "</style>\n",
       "<table border=\"1\" class=\"dataframe\">\n",
       "  <thead>\n",
       "    <tr style=\"text-align: right;\">\n",
       "      <th></th>\n",
       "      <th>Year</th>\n",
       "      <th>Domestic</th>\n",
       "      <th>Foreign</th>\n",
       "    </tr>\n",
       "  </thead>\n",
       "  <tbody>\n",
       "    <tr>\n",
       "      <td>0</td>\n",
       "      <td>2015</td>\n",
       "      <td>1.021730e+10</td>\n",
       "      <td>1.881064e+10</td>\n",
       "    </tr>\n",
       "    <tr>\n",
       "      <td>1</td>\n",
       "      <td>2016</td>\n",
       "      <td>1.094795e+10</td>\n",
       "      <td>1.922034e+10</td>\n",
       "    </tr>\n",
       "    <tr>\n",
       "      <td>2</td>\n",
       "      <td>2017</td>\n",
       "      <td>9.939651e+09</td>\n",
       "      <td>1.980538e+10</td>\n",
       "    </tr>\n",
       "    <tr>\n",
       "      <td>3</td>\n",
       "      <td>2018</td>\n",
       "      <td>1.052747e+10</td>\n",
       "      <td>1.908585e+10</td>\n",
       "    </tr>\n",
       "    <tr>\n",
       "      <td>4</td>\n",
       "      <td>2019</td>\n",
       "      <td>7.566656e+09</td>\n",
       "      <td>1.430283e+10</td>\n",
       "    </tr>\n",
       "  </tbody>\n",
       "</table>\n",
       "</div>"
      ],
      "text/plain": [
       "   Year      Domestic       Foreign\n",
       "0  2015  1.021730e+10  1.881064e+10\n",
       "1  2016  1.094795e+10  1.922034e+10\n",
       "2  2017  9.939651e+09  1.980538e+10\n",
       "3  2018  1.052747e+10  1.908585e+10\n",
       "4  2019  7.566656e+09  1.430283e+10"
      ]
     },
     "execution_count": 51,
     "metadata": {},
     "output_type": "execute_result"
    }
   ],
   "source": [
    "movies_with_Domestic_and_Foreign_revenue_sum"
   ]
  },
  {
   "cell_type": "code",
   "execution_count": 52,
   "metadata": {},
   "outputs": [],
   "source": [
    "y_sum_Domestic = list(movies_with_Domestic_and_Foreign_revenue_sum['Domestic'])\n",
    "y_sum_Foreign = list(movies_with_Domestic_and_Foreign_revenue_sum['Foreign'])"
   ]
  },
  {
   "cell_type": "code",
   "execution_count": 225,
   "metadata": {},
   "outputs": [
    {
     "data": {
      "application/vnd.plotly.v1+json": {
       "config": {
        "plotlyServerURL": "https://plot.ly"
       },
       "data": [
        {
         "marker": {
          "color": "#bfa878"
         },
         "name": "Domestic",
         "type": "bar",
         "x": [
          2015,
          2016,
          2017,
          2018,
          2019
         ],
         "y": [
          10217301512,
          10947949977,
          9939651335,
          10527466527,
          7566655767
         ]
        },
        {
         "marker": {
          "color": "#d9cdb4"
         },
         "name": "Foreign",
         "type": "bar",
         "x": [
          2015,
          2016,
          2017,
          2018,
          2019
         ],
         "y": [
          18810637568,
          19220342222,
          19805377989,
          19085853810,
          14302827702
         ]
        }
       ],
       "layout": {
        "barmode": "stack",
        "font": {
         "color": "#7a4b4b",
         "family": "Calibri",
         "size": 24
        },
        "showlegend": false,
        "template": {
         "data": {
          "bar": [
           {
            "error_x": {
             "color": "rgb(51,51,51)"
            },
            "error_y": {
             "color": "rgb(51,51,51)"
            },
            "marker": {
             "line": {
              "color": "rgb(237,237,237)",
              "width": 0.5
             }
            },
            "type": "bar"
           }
          ],
          "barpolar": [
           {
            "marker": {
             "line": {
              "color": "rgb(237,237,237)",
              "width": 0.5
             }
            },
            "type": "barpolar"
           }
          ],
          "carpet": [
           {
            "aaxis": {
             "endlinecolor": "rgb(51,51,51)",
             "gridcolor": "white",
             "linecolor": "white",
             "minorgridcolor": "white",
             "startlinecolor": "rgb(51,51,51)"
            },
            "baxis": {
             "endlinecolor": "rgb(51,51,51)",
             "gridcolor": "white",
             "linecolor": "white",
             "minorgridcolor": "white",
             "startlinecolor": "rgb(51,51,51)"
            },
            "type": "carpet"
           }
          ],
          "choropleth": [
           {
            "colorbar": {
             "outlinewidth": 0,
             "tickcolor": "rgb(237,237,237)",
             "ticklen": 6,
             "ticks": "inside"
            },
            "type": "choropleth"
           }
          ],
          "contour": [
           {
            "colorbar": {
             "outlinewidth": 0,
             "tickcolor": "rgb(237,237,237)",
             "ticklen": 6,
             "ticks": "inside"
            },
            "colorscale": [
             [
              0,
              "rgb(20,44,66)"
             ],
             [
              1,
              "rgb(90,179,244)"
             ]
            ],
            "type": "contour"
           }
          ],
          "contourcarpet": [
           {
            "colorbar": {
             "outlinewidth": 0,
             "tickcolor": "rgb(237,237,237)",
             "ticklen": 6,
             "ticks": "inside"
            },
            "type": "contourcarpet"
           }
          ],
          "heatmap": [
           {
            "colorbar": {
             "outlinewidth": 0,
             "tickcolor": "rgb(237,237,237)",
             "ticklen": 6,
             "ticks": "inside"
            },
            "colorscale": [
             [
              0,
              "rgb(20,44,66)"
             ],
             [
              1,
              "rgb(90,179,244)"
             ]
            ],
            "type": "heatmap"
           }
          ],
          "heatmapgl": [
           {
            "colorbar": {
             "outlinewidth": 0,
             "tickcolor": "rgb(237,237,237)",
             "ticklen": 6,
             "ticks": "inside"
            },
            "colorscale": [
             [
              0,
              "rgb(20,44,66)"
             ],
             [
              1,
              "rgb(90,179,244)"
             ]
            ],
            "type": "heatmapgl"
           }
          ],
          "histogram": [
           {
            "marker": {
             "colorbar": {
              "outlinewidth": 0,
              "tickcolor": "rgb(237,237,237)",
              "ticklen": 6,
              "ticks": "inside"
             }
            },
            "type": "histogram"
           }
          ],
          "histogram2d": [
           {
            "colorbar": {
             "outlinewidth": 0,
             "tickcolor": "rgb(237,237,237)",
             "ticklen": 6,
             "ticks": "inside"
            },
            "colorscale": [
             [
              0,
              "rgb(20,44,66)"
             ],
             [
              1,
              "rgb(90,179,244)"
             ]
            ],
            "type": "histogram2d"
           }
          ],
          "histogram2dcontour": [
           {
            "colorbar": {
             "outlinewidth": 0,
             "tickcolor": "rgb(237,237,237)",
             "ticklen": 6,
             "ticks": "inside"
            },
            "colorscale": [
             [
              0,
              "rgb(20,44,66)"
             ],
             [
              1,
              "rgb(90,179,244)"
             ]
            ],
            "type": "histogram2dcontour"
           }
          ],
          "mesh3d": [
           {
            "colorbar": {
             "outlinewidth": 0,
             "tickcolor": "rgb(237,237,237)",
             "ticklen": 6,
             "ticks": "inside"
            },
            "type": "mesh3d"
           }
          ],
          "parcoords": [
           {
            "line": {
             "colorbar": {
              "outlinewidth": 0,
              "tickcolor": "rgb(237,237,237)",
              "ticklen": 6,
              "ticks": "inside"
             }
            },
            "type": "parcoords"
           }
          ],
          "pie": [
           {
            "automargin": true,
            "type": "pie"
           }
          ],
          "scatter": [
           {
            "marker": {
             "colorbar": {
              "outlinewidth": 0,
              "tickcolor": "rgb(237,237,237)",
              "ticklen": 6,
              "ticks": "inside"
             }
            },
            "type": "scatter"
           }
          ],
          "scatter3d": [
           {
            "line": {
             "colorbar": {
              "outlinewidth": 0,
              "tickcolor": "rgb(237,237,237)",
              "ticklen": 6,
              "ticks": "inside"
             }
            },
            "marker": {
             "colorbar": {
              "outlinewidth": 0,
              "tickcolor": "rgb(237,237,237)",
              "ticklen": 6,
              "ticks": "inside"
             }
            },
            "type": "scatter3d"
           }
          ],
          "scattercarpet": [
           {
            "marker": {
             "colorbar": {
              "outlinewidth": 0,
              "tickcolor": "rgb(237,237,237)",
              "ticklen": 6,
              "ticks": "inside"
             }
            },
            "type": "scattercarpet"
           }
          ],
          "scattergeo": [
           {
            "marker": {
             "colorbar": {
              "outlinewidth": 0,
              "tickcolor": "rgb(237,237,237)",
              "ticklen": 6,
              "ticks": "inside"
             }
            },
            "type": "scattergeo"
           }
          ],
          "scattergl": [
           {
            "marker": {
             "colorbar": {
              "outlinewidth": 0,
              "tickcolor": "rgb(237,237,237)",
              "ticklen": 6,
              "ticks": "inside"
             }
            },
            "type": "scattergl"
           }
          ],
          "scattermapbox": [
           {
            "marker": {
             "colorbar": {
              "outlinewidth": 0,
              "tickcolor": "rgb(237,237,237)",
              "ticklen": 6,
              "ticks": "inside"
             }
            },
            "type": "scattermapbox"
           }
          ],
          "scatterpolar": [
           {
            "marker": {
             "colorbar": {
              "outlinewidth": 0,
              "tickcolor": "rgb(237,237,237)",
              "ticklen": 6,
              "ticks": "inside"
             }
            },
            "type": "scatterpolar"
           }
          ],
          "scatterpolargl": [
           {
            "marker": {
             "colorbar": {
              "outlinewidth": 0,
              "tickcolor": "rgb(237,237,237)",
              "ticklen": 6,
              "ticks": "inside"
             }
            },
            "type": "scatterpolargl"
           }
          ],
          "scatterternary": [
           {
            "marker": {
             "colorbar": {
              "outlinewidth": 0,
              "tickcolor": "rgb(237,237,237)",
              "ticklen": 6,
              "ticks": "inside"
             }
            },
            "type": "scatterternary"
           }
          ],
          "surface": [
           {
            "colorbar": {
             "outlinewidth": 0,
             "tickcolor": "rgb(237,237,237)",
             "ticklen": 6,
             "ticks": "inside"
            },
            "colorscale": [
             [
              0,
              "rgb(20,44,66)"
             ],
             [
              1,
              "rgb(90,179,244)"
             ]
            ],
            "type": "surface"
           }
          ],
          "table": [
           {
            "cells": {
             "fill": {
              "color": "rgb(237,237,237)"
             },
             "line": {
              "color": "white"
             }
            },
            "header": {
             "fill": {
              "color": "rgb(217,217,217)"
             },
             "line": {
              "color": "white"
             }
            },
            "type": "table"
           }
          ]
         },
         "layout": {
          "annotationdefaults": {
           "arrowhead": 0,
           "arrowwidth": 1
          },
          "coloraxis": {
           "colorbar": {
            "outlinewidth": 0,
            "tickcolor": "rgb(237,237,237)",
            "ticklen": 6,
            "ticks": "inside"
           }
          },
          "colorscale": {
           "sequential": [
            [
             0,
             "rgb(20,44,66)"
            ],
            [
             1,
             "rgb(90,179,244)"
            ]
           ],
           "sequentialminus": [
            [
             0,
             "rgb(20,44,66)"
            ],
            [
             1,
             "rgb(90,179,244)"
            ]
           ]
          },
          "colorway": [
           "#F8766D",
           "#A3A500",
           "#00BF7D",
           "#00B0F6",
           "#E76BF3"
          ],
          "font": {
           "color": "rgb(51,51,51)"
          },
          "geo": {
           "bgcolor": "white",
           "lakecolor": "white",
           "landcolor": "rgb(237,237,237)",
           "showlakes": true,
           "showland": true,
           "subunitcolor": "white"
          },
          "hoverlabel": {
           "align": "left"
          },
          "hovermode": "closest",
          "paper_bgcolor": "white",
          "plot_bgcolor": "rgb(237,237,237)",
          "polar": {
           "angularaxis": {
            "gridcolor": "white",
            "linecolor": "white",
            "showgrid": true,
            "tickcolor": "rgb(51,51,51)",
            "ticks": "outside"
           },
           "bgcolor": "rgb(237,237,237)",
           "radialaxis": {
            "gridcolor": "white",
            "linecolor": "white",
            "showgrid": true,
            "tickcolor": "rgb(51,51,51)",
            "ticks": "outside"
           }
          },
          "scene": {
           "xaxis": {
            "backgroundcolor": "rgb(237,237,237)",
            "gridcolor": "white",
            "gridwidth": 2,
            "linecolor": "white",
            "showbackground": true,
            "showgrid": true,
            "tickcolor": "rgb(51,51,51)",
            "ticks": "outside",
            "zerolinecolor": "white"
           },
           "yaxis": {
            "backgroundcolor": "rgb(237,237,237)",
            "gridcolor": "white",
            "gridwidth": 2,
            "linecolor": "white",
            "showbackground": true,
            "showgrid": true,
            "tickcolor": "rgb(51,51,51)",
            "ticks": "outside",
            "zerolinecolor": "white"
           },
           "zaxis": {
            "backgroundcolor": "rgb(237,237,237)",
            "gridcolor": "white",
            "gridwidth": 2,
            "linecolor": "white",
            "showbackground": true,
            "showgrid": true,
            "tickcolor": "rgb(51,51,51)",
            "ticks": "outside",
            "zerolinecolor": "white"
           }
          },
          "shapedefaults": {
           "fillcolor": "black",
           "line": {
            "width": 0
           },
           "opacity": 0.3
          },
          "ternary": {
           "aaxis": {
            "gridcolor": "white",
            "linecolor": "white",
            "showgrid": true,
            "tickcolor": "rgb(51,51,51)",
            "ticks": "outside"
           },
           "baxis": {
            "gridcolor": "white",
            "linecolor": "white",
            "showgrid": true,
            "tickcolor": "rgb(51,51,51)",
            "ticks": "outside"
           },
           "bgcolor": "rgb(237,237,237)",
           "caxis": {
            "gridcolor": "white",
            "linecolor": "white",
            "showgrid": true,
            "tickcolor": "rgb(51,51,51)",
            "ticks": "outside"
           }
          },
          "xaxis": {
           "automargin": true,
           "gridcolor": "white",
           "linecolor": "white",
           "showgrid": true,
           "tickcolor": "rgb(51,51,51)",
           "ticks": "outside",
           "title": {
            "standoff": 15
           },
           "zerolinecolor": "white"
          },
          "yaxis": {
           "automargin": true,
           "gridcolor": "white",
           "linecolor": "white",
           "showgrid": true,
           "tickcolor": "rgb(51,51,51)",
           "ticks": "outside",
           "title": {
            "standoff": 15
           },
           "zerolinecolor": "white"
          }
         }
        },
        "yaxis": {
         "title": {
          "text": "Revenue (USD)"
         }
        }
       }
      },
      "text/html": [
       "<div>\n",
       "        \n",
       "        \n",
       "            <div id=\"84752607-da32-4fac-8316-8d2b60f7d8e4\" class=\"plotly-graph-div\" style=\"height:525px; width:100%;\"></div>\n",
       "            <script type=\"text/javascript\">\n",
       "                require([\"plotly\"], function(Plotly) {\n",
       "                    window.PLOTLYENV=window.PLOTLYENV || {};\n",
       "                    \n",
       "                if (document.getElementById(\"84752607-da32-4fac-8316-8d2b60f7d8e4\")) {\n",
       "                    Plotly.newPlot(\n",
       "                        '84752607-da32-4fac-8316-8d2b60f7d8e4',\n",
       "                        [{\"marker\": {\"color\": \"#bfa878\"}, \"name\": \"Domestic\", \"type\": \"bar\", \"x\": [2015, 2016, 2017, 2018, 2019], \"y\": [10217301512.0, 10947949977.0, 9939651335.0, 10527466527.0, 7566655767.0]}, {\"marker\": {\"color\": \"#d9cdb4\"}, \"name\": \"Foreign\", \"type\": \"bar\", \"x\": [2015, 2016, 2017, 2018, 2019], \"y\": [18810637568.0, 19220342222.0, 19805377989.0, 19085853810.0, 14302827702.0]}],\n",
       "                        {\"barmode\": \"stack\", \"font\": {\"color\": \"#7a4b4b\", \"family\": \"Calibri\", \"size\": 24}, \"showlegend\": false, \"template\": {\"data\": {\"bar\": [{\"error_x\": {\"color\": \"rgb(51,51,51)\"}, \"error_y\": {\"color\": \"rgb(51,51,51)\"}, \"marker\": {\"line\": {\"color\": \"rgb(237,237,237)\", \"width\": 0.5}}, \"type\": \"bar\"}], \"barpolar\": [{\"marker\": {\"line\": {\"color\": \"rgb(237,237,237)\", \"width\": 0.5}}, \"type\": \"barpolar\"}], \"carpet\": [{\"aaxis\": {\"endlinecolor\": \"rgb(51,51,51)\", \"gridcolor\": \"white\", \"linecolor\": \"white\", \"minorgridcolor\": \"white\", \"startlinecolor\": \"rgb(51,51,51)\"}, \"baxis\": {\"endlinecolor\": \"rgb(51,51,51)\", \"gridcolor\": \"white\", \"linecolor\": \"white\", \"minorgridcolor\": \"white\", \"startlinecolor\": \"rgb(51,51,51)\"}, \"type\": \"carpet\"}], \"choropleth\": [{\"colorbar\": {\"outlinewidth\": 0, \"tickcolor\": \"rgb(237,237,237)\", \"ticklen\": 6, \"ticks\": \"inside\"}, \"type\": \"choropleth\"}], \"contour\": [{\"colorbar\": {\"outlinewidth\": 0, \"tickcolor\": \"rgb(237,237,237)\", \"ticklen\": 6, \"ticks\": \"inside\"}, \"colorscale\": [[0, \"rgb(20,44,66)\"], [1, \"rgb(90,179,244)\"]], \"type\": \"contour\"}], \"contourcarpet\": [{\"colorbar\": {\"outlinewidth\": 0, \"tickcolor\": \"rgb(237,237,237)\", \"ticklen\": 6, \"ticks\": \"inside\"}, \"type\": \"contourcarpet\"}], \"heatmap\": [{\"colorbar\": {\"outlinewidth\": 0, \"tickcolor\": \"rgb(237,237,237)\", \"ticklen\": 6, \"ticks\": \"inside\"}, \"colorscale\": [[0, \"rgb(20,44,66)\"], [1, \"rgb(90,179,244)\"]], \"type\": \"heatmap\"}], \"heatmapgl\": [{\"colorbar\": {\"outlinewidth\": 0, \"tickcolor\": \"rgb(237,237,237)\", \"ticklen\": 6, \"ticks\": \"inside\"}, \"colorscale\": [[0, \"rgb(20,44,66)\"], [1, \"rgb(90,179,244)\"]], \"type\": \"heatmapgl\"}], \"histogram\": [{\"marker\": {\"colorbar\": {\"outlinewidth\": 0, \"tickcolor\": \"rgb(237,237,237)\", \"ticklen\": 6, \"ticks\": \"inside\"}}, \"type\": \"histogram\"}], \"histogram2d\": [{\"colorbar\": {\"outlinewidth\": 0, \"tickcolor\": \"rgb(237,237,237)\", \"ticklen\": 6, \"ticks\": \"inside\"}, \"colorscale\": [[0, \"rgb(20,44,66)\"], [1, \"rgb(90,179,244)\"]], \"type\": \"histogram2d\"}], \"histogram2dcontour\": [{\"colorbar\": {\"outlinewidth\": 0, \"tickcolor\": \"rgb(237,237,237)\", \"ticklen\": 6, \"ticks\": \"inside\"}, \"colorscale\": [[0, \"rgb(20,44,66)\"], [1, \"rgb(90,179,244)\"]], \"type\": \"histogram2dcontour\"}], \"mesh3d\": [{\"colorbar\": {\"outlinewidth\": 0, \"tickcolor\": \"rgb(237,237,237)\", \"ticklen\": 6, \"ticks\": \"inside\"}, \"type\": \"mesh3d\"}], \"parcoords\": [{\"line\": {\"colorbar\": {\"outlinewidth\": 0, \"tickcolor\": \"rgb(237,237,237)\", \"ticklen\": 6, \"ticks\": \"inside\"}}, \"type\": \"parcoords\"}], \"pie\": [{\"automargin\": true, \"type\": \"pie\"}], \"scatter\": [{\"marker\": {\"colorbar\": {\"outlinewidth\": 0, \"tickcolor\": \"rgb(237,237,237)\", \"ticklen\": 6, \"ticks\": \"inside\"}}, \"type\": \"scatter\"}], \"scatter3d\": [{\"line\": {\"colorbar\": {\"outlinewidth\": 0, \"tickcolor\": \"rgb(237,237,237)\", \"ticklen\": 6, \"ticks\": \"inside\"}}, \"marker\": {\"colorbar\": {\"outlinewidth\": 0, \"tickcolor\": \"rgb(237,237,237)\", \"ticklen\": 6, \"ticks\": \"inside\"}}, \"type\": \"scatter3d\"}], \"scattercarpet\": [{\"marker\": {\"colorbar\": {\"outlinewidth\": 0, \"tickcolor\": \"rgb(237,237,237)\", \"ticklen\": 6, \"ticks\": \"inside\"}}, \"type\": \"scattercarpet\"}], \"scattergeo\": [{\"marker\": {\"colorbar\": {\"outlinewidth\": 0, \"tickcolor\": \"rgb(237,237,237)\", \"ticklen\": 6, \"ticks\": \"inside\"}}, \"type\": \"scattergeo\"}], \"scattergl\": [{\"marker\": {\"colorbar\": {\"outlinewidth\": 0, \"tickcolor\": \"rgb(237,237,237)\", \"ticklen\": 6, \"ticks\": \"inside\"}}, \"type\": \"scattergl\"}], \"scattermapbox\": [{\"marker\": {\"colorbar\": {\"outlinewidth\": 0, \"tickcolor\": \"rgb(237,237,237)\", \"ticklen\": 6, \"ticks\": \"inside\"}}, \"type\": \"scattermapbox\"}], \"scatterpolar\": [{\"marker\": {\"colorbar\": {\"outlinewidth\": 0, \"tickcolor\": \"rgb(237,237,237)\", \"ticklen\": 6, \"ticks\": \"inside\"}}, \"type\": \"scatterpolar\"}], \"scatterpolargl\": [{\"marker\": {\"colorbar\": {\"outlinewidth\": 0, \"tickcolor\": \"rgb(237,237,237)\", \"ticklen\": 6, \"ticks\": \"inside\"}}, \"type\": \"scatterpolargl\"}], \"scatterternary\": [{\"marker\": {\"colorbar\": {\"outlinewidth\": 0, \"tickcolor\": \"rgb(237,237,237)\", \"ticklen\": 6, \"ticks\": \"inside\"}}, \"type\": \"scatterternary\"}], \"surface\": [{\"colorbar\": {\"outlinewidth\": 0, \"tickcolor\": \"rgb(237,237,237)\", \"ticklen\": 6, \"ticks\": \"inside\"}, \"colorscale\": [[0, \"rgb(20,44,66)\"], [1, \"rgb(90,179,244)\"]], \"type\": \"surface\"}], \"table\": [{\"cells\": {\"fill\": {\"color\": \"rgb(237,237,237)\"}, \"line\": {\"color\": \"white\"}}, \"header\": {\"fill\": {\"color\": \"rgb(217,217,217)\"}, \"line\": {\"color\": \"white\"}}, \"type\": \"table\"}]}, \"layout\": {\"annotationdefaults\": {\"arrowhead\": 0, \"arrowwidth\": 1}, \"coloraxis\": {\"colorbar\": {\"outlinewidth\": 0, \"tickcolor\": \"rgb(237,237,237)\", \"ticklen\": 6, \"ticks\": \"inside\"}}, \"colorscale\": {\"sequential\": [[0, \"rgb(20,44,66)\"], [1, \"rgb(90,179,244)\"]], \"sequentialminus\": [[0, \"rgb(20,44,66)\"], [1, \"rgb(90,179,244)\"]]}, \"colorway\": [\"#F8766D\", \"#A3A500\", \"#00BF7D\", \"#00B0F6\", \"#E76BF3\"], \"font\": {\"color\": \"rgb(51,51,51)\"}, \"geo\": {\"bgcolor\": \"white\", \"lakecolor\": \"white\", \"landcolor\": \"rgb(237,237,237)\", \"showlakes\": true, \"showland\": true, \"subunitcolor\": \"white\"}, \"hoverlabel\": {\"align\": \"left\"}, \"hovermode\": \"closest\", \"paper_bgcolor\": \"white\", \"plot_bgcolor\": \"rgb(237,237,237)\", \"polar\": {\"angularaxis\": {\"gridcolor\": \"white\", \"linecolor\": \"white\", \"showgrid\": true, \"tickcolor\": \"rgb(51,51,51)\", \"ticks\": \"outside\"}, \"bgcolor\": \"rgb(237,237,237)\", \"radialaxis\": {\"gridcolor\": \"white\", \"linecolor\": \"white\", \"showgrid\": true, \"tickcolor\": \"rgb(51,51,51)\", \"ticks\": \"outside\"}}, \"scene\": {\"xaxis\": {\"backgroundcolor\": \"rgb(237,237,237)\", \"gridcolor\": \"white\", \"gridwidth\": 2, \"linecolor\": \"white\", \"showbackground\": true, \"showgrid\": true, \"tickcolor\": \"rgb(51,51,51)\", \"ticks\": \"outside\", \"zerolinecolor\": \"white\"}, \"yaxis\": {\"backgroundcolor\": \"rgb(237,237,237)\", \"gridcolor\": \"white\", \"gridwidth\": 2, \"linecolor\": \"white\", \"showbackground\": true, \"showgrid\": true, \"tickcolor\": \"rgb(51,51,51)\", \"ticks\": \"outside\", \"zerolinecolor\": \"white\"}, \"zaxis\": {\"backgroundcolor\": \"rgb(237,237,237)\", \"gridcolor\": \"white\", \"gridwidth\": 2, \"linecolor\": \"white\", \"showbackground\": true, \"showgrid\": true, \"tickcolor\": \"rgb(51,51,51)\", \"ticks\": \"outside\", \"zerolinecolor\": \"white\"}}, \"shapedefaults\": {\"fillcolor\": \"black\", \"line\": {\"width\": 0}, \"opacity\": 0.3}, \"ternary\": {\"aaxis\": {\"gridcolor\": \"white\", \"linecolor\": \"white\", \"showgrid\": true, \"tickcolor\": \"rgb(51,51,51)\", \"ticks\": \"outside\"}, \"baxis\": {\"gridcolor\": \"white\", \"linecolor\": \"white\", \"showgrid\": true, \"tickcolor\": \"rgb(51,51,51)\", \"ticks\": \"outside\"}, \"bgcolor\": \"rgb(237,237,237)\", \"caxis\": {\"gridcolor\": \"white\", \"linecolor\": \"white\", \"showgrid\": true, \"tickcolor\": \"rgb(51,51,51)\", \"ticks\": \"outside\"}}, \"xaxis\": {\"automargin\": true, \"gridcolor\": \"white\", \"linecolor\": \"white\", \"showgrid\": true, \"tickcolor\": \"rgb(51,51,51)\", \"ticks\": \"outside\", \"title\": {\"standoff\": 15}, \"zerolinecolor\": \"white\"}, \"yaxis\": {\"automargin\": true, \"gridcolor\": \"white\", \"linecolor\": \"white\", \"showgrid\": true, \"tickcolor\": \"rgb(51,51,51)\", \"ticks\": \"outside\", \"title\": {\"standoff\": 15}, \"zerolinecolor\": \"white\"}}}, \"yaxis\": {\"title\": {\"text\": \"Revenue (USD)\"}}},\n",
       "                        {\"responsive\": true}\n",
       "                    ).then(function(){\n",
       "                            \n",
       "var gd = document.getElementById('84752607-da32-4fac-8316-8d2b60f7d8e4');\n",
       "var x = new MutationObserver(function (mutations, observer) {{\n",
       "        var display = window.getComputedStyle(gd).display;\n",
       "        if (!display || display === 'none') {{\n",
       "            console.log([gd, 'removed!']);\n",
       "            Plotly.purge(gd);\n",
       "            observer.disconnect();\n",
       "        }}\n",
       "}});\n",
       "\n",
       "// Listen for the removal of the full notebook cells\n",
       "var notebookContainer = gd.closest('#notebook-container');\n",
       "if (notebookContainer) {{\n",
       "    x.observe(notebookContainer, {childList: true});\n",
       "}}\n",
       "\n",
       "// Listen for the clearing of the current output cell\n",
       "var outputEl = gd.closest('.output');\n",
       "if (outputEl) {{\n",
       "    x.observe(outputEl, {childList: true});\n",
       "}}\n",
       "\n",
       "                        })\n",
       "                };\n",
       "                });\n",
       "            </script>\n",
       "        </div>"
      ]
     },
     "metadata": {},
     "output_type": "display_data"
    }
   ],
   "source": [
    "stacked_worldwide_revenue_plot = go.Figure(data=[\n",
    "    go.Bar(name='Domestic', x=x_sum, y=y_sum_Domestic, marker_color='#bfa878'),\n",
    "    go.Bar(name='Foreign', x=x_sum, y=y_sum_Foreign, marker_color='#d9cdb4')\n",
    "])\n",
    "\n",
    "stacked_worldwide_revenue_plot.update_layout(\n",
    "    yaxis_title=\"Revenue (USD)\",\n",
    "    template=\"ggplot2\",\n",
    "    showlegend = False,\n",
    "    font=dict(\n",
    "        family=\"Calibri\",\n",
    "        size=24,\n",
    "        color='#7a4b4b'\n",
    "    ))\n",
    "\n",
    "# Change the bar mode\n",
    "stacked_worldwide_revenue_plot.update_layout(barmode='stack')\n",
    "stacked_worldwide_revenue_plot.show()"
   ]
  },
  {
   "cell_type": "markdown",
   "metadata": {},
   "source": [
    "# Plotting Averages"
   ]
  },
  {
   "cell_type": "code",
   "execution_count": 55,
   "metadata": {},
   "outputs": [],
   "source": [
    "movies_with_worldwide_revenue_and_title  = pd.concat([movies_with_years_count, movies_with_worldwide_revenue_sum['Worldwide']], axis = 1)"
   ]
  },
  {
   "cell_type": "code",
   "execution_count": 56,
   "metadata": {},
   "outputs": [
    {
     "data": {
      "text/html": [
       "<div>\n",
       "<style scoped>\n",
       "    .dataframe tbody tr th:only-of-type {\n",
       "        vertical-align: middle;\n",
       "    }\n",
       "\n",
       "    .dataframe tbody tr th {\n",
       "        vertical-align: top;\n",
       "    }\n",
       "\n",
       "    .dataframe thead th {\n",
       "        text-align: right;\n",
       "    }\n",
       "</style>\n",
       "<table border=\"1\" class=\"dataframe\">\n",
       "  <thead>\n",
       "    <tr style=\"text-align: right;\">\n",
       "      <th></th>\n",
       "      <th>Year</th>\n",
       "      <th>Title</th>\n",
       "      <th>Worldwide</th>\n",
       "    </tr>\n",
       "  </thead>\n",
       "  <tbody>\n",
       "    <tr>\n",
       "      <td>0</td>\n",
       "      <td>2015</td>\n",
       "      <td>179</td>\n",
       "      <td>2.902794e+10</td>\n",
       "    </tr>\n",
       "    <tr>\n",
       "      <td>1</td>\n",
       "      <td>2016</td>\n",
       "      <td>203</td>\n",
       "      <td>3.016829e+10</td>\n",
       "    </tr>\n",
       "    <tr>\n",
       "      <td>2</td>\n",
       "      <td>2017</td>\n",
       "      <td>184</td>\n",
       "      <td>2.974503e+10</td>\n",
       "    </tr>\n",
       "    <tr>\n",
       "      <td>3</td>\n",
       "      <td>2018</td>\n",
       "      <td>275</td>\n",
       "      <td>2.961332e+10</td>\n",
       "    </tr>\n",
       "    <tr>\n",
       "      <td>4</td>\n",
       "      <td>2019</td>\n",
       "      <td>280</td>\n",
       "      <td>2.186948e+10</td>\n",
       "    </tr>\n",
       "  </tbody>\n",
       "</table>\n",
       "</div>"
      ],
      "text/plain": [
       "   Year  Title     Worldwide\n",
       "0  2015    179  2.902794e+10\n",
       "1  2016    203  3.016829e+10\n",
       "2  2017    184  2.974503e+10\n",
       "3  2018    275  2.961332e+10\n",
       "4  2019    280  2.186948e+10"
      ]
     },
     "execution_count": 56,
     "metadata": {},
     "output_type": "execute_result"
    }
   ],
   "source": [
    "movies_with_worldwide_revenue_and_title"
   ]
  },
  {
   "cell_type": "code",
   "execution_count": 57,
   "metadata": {},
   "outputs": [],
   "source": [
    "movies_with_worldwide_revenue_and_title['Average Revenue'] = movies_with_worldwide_revenue_and_title['Worldwide']/movies_with_worldwide_revenue_and_title['Title']"
   ]
  },
  {
   "cell_type": "code",
   "execution_count": 58,
   "metadata": {},
   "outputs": [
    {
     "data": {
      "text/html": [
       "<div>\n",
       "<style scoped>\n",
       "    .dataframe tbody tr th:only-of-type {\n",
       "        vertical-align: middle;\n",
       "    }\n",
       "\n",
       "    .dataframe tbody tr th {\n",
       "        vertical-align: top;\n",
       "    }\n",
       "\n",
       "    .dataframe thead th {\n",
       "        text-align: right;\n",
       "    }\n",
       "</style>\n",
       "<table border=\"1\" class=\"dataframe\">\n",
       "  <thead>\n",
       "    <tr style=\"text-align: right;\">\n",
       "      <th></th>\n",
       "      <th>Year</th>\n",
       "      <th>Title</th>\n",
       "      <th>Worldwide</th>\n",
       "      <th>Average Revenue</th>\n",
       "    </tr>\n",
       "  </thead>\n",
       "  <tbody>\n",
       "    <tr>\n",
       "      <td>0</td>\n",
       "      <td>2015</td>\n",
       "      <td>179</td>\n",
       "      <td>2.902794e+10</td>\n",
       "      <td>1.621673e+08</td>\n",
       "    </tr>\n",
       "    <tr>\n",
       "      <td>1</td>\n",
       "      <td>2016</td>\n",
       "      <td>203</td>\n",
       "      <td>3.016829e+10</td>\n",
       "      <td>1.486123e+08</td>\n",
       "    </tr>\n",
       "    <tr>\n",
       "      <td>2</td>\n",
       "      <td>2017</td>\n",
       "      <td>184</td>\n",
       "      <td>2.974503e+10</td>\n",
       "      <td>1.616578e+08</td>\n",
       "    </tr>\n",
       "    <tr>\n",
       "      <td>3</td>\n",
       "      <td>2018</td>\n",
       "      <td>275</td>\n",
       "      <td>2.961332e+10</td>\n",
       "      <td>1.076848e+08</td>\n",
       "    </tr>\n",
       "    <tr>\n",
       "      <td>4</td>\n",
       "      <td>2019</td>\n",
       "      <td>280</td>\n",
       "      <td>2.186948e+10</td>\n",
       "      <td>7.810530e+07</td>\n",
       "    </tr>\n",
       "  </tbody>\n",
       "</table>\n",
       "</div>"
      ],
      "text/plain": [
       "   Year  Title     Worldwide  Average Revenue\n",
       "0  2015    179  2.902794e+10     1.621673e+08\n",
       "1  2016    203  3.016829e+10     1.486123e+08\n",
       "2  2017    184  2.974503e+10     1.616578e+08\n",
       "3  2018    275  2.961332e+10     1.076848e+08\n",
       "4  2019    280  2.186948e+10     7.810530e+07"
      ]
     },
     "execution_count": 58,
     "metadata": {},
     "output_type": "execute_result"
    }
   ],
   "source": [
    "movies_with_worldwide_revenue_and_title"
   ]
  },
  {
   "cell_type": "code",
   "execution_count": 59,
   "metadata": {},
   "outputs": [],
   "source": [
    "idx_2015 = movie_data_df['Year'] == 2015\n",
    "idx_2016 = movie_data_df['Year'] == 2016\n",
    "idx_2017 = movie_data_df['Year'] == 2017\n",
    "idx_2018 = movie_data_df['Year'] == 2018\n",
    "idx_2019 = movie_data_df['Year'] == 2019"
   ]
  },
  {
   "cell_type": "code",
   "execution_count": 60,
   "metadata": {},
   "outputs": [],
   "source": [
    "movie_data_2015 = movie_data_df[idx_2015]\n",
    "movie_data_2016 = movie_data_df[idx_2016]\n",
    "movie_data_2017 = movie_data_df[idx_2017]\n",
    "movie_data_2018 = movie_data_df[idx_2018]\n",
    "movie_data_2019 = movie_data_df[idx_2019]"
   ]
  },
  {
   "cell_type": "code",
   "execution_count": 61,
   "metadata": {},
   "outputs": [],
   "source": [
    "movie_data_2015_revenue = movie_data_2015.filter(['Title','Worldwide','Domestic', 'Foreign'])\n",
    "movie_data_2016_revenue = movie_data_2016.filter(['Title','Worldwide','Domestic', 'Foreign'])\n",
    "movie_data_2017_revenue = movie_data_2017.filter(['Title','Worldwide','Domestic', 'Foreign'])\n",
    "movie_data_2018_revenue = movie_data_2018.filter(['Title','Worldwide','Domestic', 'Foreign'])\n",
    "movie_data_2019_revenue = movie_data_2019.filter(['Title','Worldwide','Domestic', 'Foreign'])"
   ]
  },
  {
   "cell_type": "code",
   "execution_count": 62,
   "metadata": {},
   "outputs": [
    {
     "data": {
      "text/html": [
       "<div>\n",
       "<style scoped>\n",
       "    .dataframe tbody tr th:only-of-type {\n",
       "        vertical-align: middle;\n",
       "    }\n",
       "\n",
       "    .dataframe tbody tr th {\n",
       "        vertical-align: top;\n",
       "    }\n",
       "\n",
       "    .dataframe thead th {\n",
       "        text-align: right;\n",
       "    }\n",
       "</style>\n",
       "<table border=\"1\" class=\"dataframe\">\n",
       "  <thead>\n",
       "    <tr style=\"text-align: right;\">\n",
       "      <th></th>\n",
       "      <th>Title</th>\n",
       "      <th>Worldwide</th>\n",
       "      <th>Domestic</th>\n",
       "      <th>Foreign</th>\n",
       "    </tr>\n",
       "  </thead>\n",
       "  <tbody>\n",
       "    <tr>\n",
       "      <td>0</td>\n",
       "      <td>Star Wars: Episode VII - The Force Awakens</td>\n",
       "      <td>2.068224e+09</td>\n",
       "      <td>936662225.0</td>\n",
       "      <td>1.131561e+09</td>\n",
       "    </tr>\n",
       "    <tr>\n",
       "      <td>4</td>\n",
       "      <td>Jurassic World</td>\n",
       "      <td>1.670401e+09</td>\n",
       "      <td>652270625.0</td>\n",
       "      <td>1.018130e+09</td>\n",
       "    </tr>\n",
       "    <tr>\n",
       "      <td>7</td>\n",
       "      <td>Avengers: Age of Ultron</td>\n",
       "      <td>1.402806e+09</td>\n",
       "      <td>459005868.0</td>\n",
       "      <td>9.438000e+08</td>\n",
       "    </tr>\n",
       "    <tr>\n",
       "      <td>19</td>\n",
       "      <td>Furious 7</td>\n",
       "      <td>1.515048e+09</td>\n",
       "      <td>353007020.0</td>\n",
       "      <td>1.162041e+09</td>\n",
       "    </tr>\n",
       "    <tr>\n",
       "      <td>22</td>\n",
       "      <td>Minions</td>\n",
       "      <td>1.159398e+09</td>\n",
       "      <td>336045770.0</td>\n",
       "      <td>8.233526e+08</td>\n",
       "    </tr>\n",
       "    <tr>\n",
       "      <td>...</td>\n",
       "      <td>...</td>\n",
       "      <td>...</td>\n",
       "      <td>...</td>\n",
       "      <td>...</td>\n",
       "    </tr>\n",
       "    <tr>\n",
       "      <td>1196</td>\n",
       "      <td>Twenty</td>\n",
       "      <td>2.227186e+07</td>\n",
       "      <td>136125.0</td>\n",
       "      <td>2.213574e+07</td>\n",
       "    </tr>\n",
       "    <tr>\n",
       "      <td>1200</td>\n",
       "      <td>Unfinished Business</td>\n",
       "      <td>1.443125e+07</td>\n",
       "      <td>10219501.0</td>\n",
       "      <td>4.211752e+06</td>\n",
       "    </tr>\n",
       "    <tr>\n",
       "      <td>1212</td>\n",
       "      <td>Victor Frankenstein</td>\n",
       "      <td>3.422730e+07</td>\n",
       "      <td>5775076.0</td>\n",
       "      <td>2.845222e+07</td>\n",
       "    </tr>\n",
       "    <tr>\n",
       "      <td>1232</td>\n",
       "      <td>Wolf Totem</td>\n",
       "      <td>1.257990e+08</td>\n",
       "      <td>210591.0</td>\n",
       "      <td>1.255884e+08</td>\n",
       "    </tr>\n",
       "    <tr>\n",
       "      <td>1233</td>\n",
       "      <td>Woman in Gold</td>\n",
       "      <td>6.161977e+07</td>\n",
       "      <td>33307793.0</td>\n",
       "      <td>2.831198e+07</td>\n",
       "    </tr>\n",
       "  </tbody>\n",
       "</table>\n",
       "<p>179 rows × 4 columns</p>\n",
       "</div>"
      ],
      "text/plain": [
       "                                           Title     Worldwide     Domestic  \\\n",
       "0     Star Wars: Episode VII - The Force Awakens  2.068224e+09  936662225.0   \n",
       "4                                 Jurassic World  1.670401e+09  652270625.0   \n",
       "7                        Avengers: Age of Ultron  1.402806e+09  459005868.0   \n",
       "19                                     Furious 7  1.515048e+09  353007020.0   \n",
       "22                                       Minions  1.159398e+09  336045770.0   \n",
       "...                                          ...           ...          ...   \n",
       "1196                                      Twenty  2.227186e+07     136125.0   \n",
       "1200                         Unfinished Business  1.443125e+07   10219501.0   \n",
       "1212                         Victor Frankenstein  3.422730e+07    5775076.0   \n",
       "1232                                  Wolf Totem  1.257990e+08     210591.0   \n",
       "1233                               Woman in Gold  6.161977e+07   33307793.0   \n",
       "\n",
       "           Foreign  \n",
       "0     1.131561e+09  \n",
       "4     1.018130e+09  \n",
       "7     9.438000e+08  \n",
       "19    1.162041e+09  \n",
       "22    8.233526e+08  \n",
       "...            ...  \n",
       "1196  2.213574e+07  \n",
       "1200  4.211752e+06  \n",
       "1212  2.845222e+07  \n",
       "1232  1.255884e+08  \n",
       "1233  2.831198e+07  \n",
       "\n",
       "[179 rows x 4 columns]"
      ]
     },
     "execution_count": 62,
     "metadata": {},
     "output_type": "execute_result"
    }
   ],
   "source": [
    "movie_data_2015_revenue"
   ]
  },
  {
   "cell_type": "code",
   "execution_count": 63,
   "metadata": {},
   "outputs": [
    {
     "data": {
      "text/plain": [
       "29792590.0"
      ]
     },
     "execution_count": 63,
     "metadata": {},
     "output_type": "execute_result"
    }
   ],
   "source": [
    "movie_data_2015_revenue['Worldwide'].quantile(0.25)"
   ]
  },
  {
   "cell_type": "code",
   "execution_count": 64,
   "metadata": {},
   "outputs": [
    {
     "data": {
      "text/plain": [
       "61548707.0"
      ]
     },
     "execution_count": 64,
     "metadata": {},
     "output_type": "execute_result"
    }
   ],
   "source": [
    "movie_data_2015_revenue['Worldwide'].median()"
   ]
  },
  {
   "cell_type": "code",
   "execution_count": 65,
   "metadata": {},
   "outputs": [
    {
     "data": {
      "text/plain": [
       "289967631.5712909"
      ]
     },
     "execution_count": 65,
     "metadata": {},
     "output_type": "execute_result"
    }
   ],
   "source": [
    "movie_data_2015_revenue['Worldwide'].std()"
   ]
  },
  {
   "cell_type": "code",
   "execution_count": 66,
   "metadata": {},
   "outputs": [],
   "source": [
    "trace_2015_worldwide = list(movie_data_2015_revenue['Worldwide'])\n",
    "trace_2016_worldwide = list(movie_data_2016_revenue['Worldwide'])\n",
    "trace_2017_worldwide = list(movie_data_2017_revenue['Worldwide'])\n",
    "trace_2018_worldwide = list(movie_data_2018_revenue['Worldwide'])\n",
    "trace_2019_worldwide = list(movie_data_2019_revenue['Worldwide'])"
   ]
  },
  {
   "cell_type": "code",
   "execution_count": 213,
   "metadata": {},
   "outputs": [
    {
     "data": {
      "application/vnd.plotly.v1+json": {
       "config": {
        "plotlyServerURL": "https://plot.ly"
       },
       "data": [
        {
         "name": "2015",
         "type": "box",
         "x": [
          2068223624,
          1670400637,
          1402805868,
          1515047671,
          1159398397,
          857611174,
          653428261,
          880674609,
          630161890,
          569651467,
          542351353,
          287144079,
          386041607,
          682714267,
          519311965,
          374736354,
          201634991,
          473990832,
          332207671,
          297002527,
          246233113,
          235666219,
          173567581,
          158260952,
          440603537,
          209035668,
          73256266,
          105011053,
          234798636,
          244874809,
          215863606,
          194564672,
          98450062,
          155760117,
          158762963,
          99775678,
          203427584,
          60273173,
          183887723,
          101134059,
          91970827,
          104884188,
          85978266,
          107045109,
          128388320,
          58978653,
          52395996,
          43528634,
          62076141,
          54418872,
          51380201,
          43967255,
          48623572,
          46152800,
          40423945,
          37461274,
          93920758,
          35259653,
          26250020,
          35401758,
          14659448,
          14401617,
          29355203,
          42972994,
          34441873,
          17986781,
          16661077,
          24902723,
          40272135,
          24177137,
          23706049,
          16002420,
          47275695,
          19652057,
          17572289,
          16137046,
          52556824,
          14430249,
          30691696,
          23762417,
          96119773,
          23459358,
          227091290,
          16322067,
          21775694,
          259368448,
          256283912,
          94393020,
          15407615,
          45972724,
          125842935,
          22354572,
          228122928,
          40034677,
          21786639,
          34930177,
          64325947,
          15709652,
          31222161,
          20224851,
          121545703,
          385284817,
          24817852,
          125348,
          45737711,
          27139524,
          15186410,
          75547184,
          38362448,
          165478348,
          36606743,
          24604331,
          102069268,
          15460494,
          242786137,
          27387870,
          98599942,
          31994323,
          30229977,
          16191434,
          111711453,
          16810562,
          99503,
          82347656,
          474800000,
          25892561,
          12050,
          112983889,
          156844753,
          27391084,
          1818,
          61548707,
          21292009,
          42426912,
          3956978,
          117813057,
          312296056,
          45710059,
          139191345,
          85512300,
          78903124,
          107588225,
          33213241,
          17671101,
          41325328,
          71561644,
          34854990,
          30523226,
          106209378,
          84872444,
          52882018,
          98275238,
          49567466,
          15159762,
          65663276,
          133440870,
          52425855,
          49714378,
          106057,
          20381995,
          64191523,
          42964410,
          50539997,
          41387687,
          146936910,
          38356892,
          97571250,
          62944815,
          36577134,
          532950503,
          325186032,
          72629670,
          79799880,
          140795793,
          22271862,
          14431253,
          34227298,
          125799039,
          61619773
         ]
        },
        {
         "name": "2016",
         "type": "box",
         "x": [
          1056057273,
          1028570889,
          1153296293,
          875457937,
          966550600,
          1023784195,
          782612155,
          746846894,
          873634919,
          634151679,
          643331111,
          814037575,
          677718395,
          235956898,
          415484914,
          343471816,
          346864462,
          446092357,
          278454358,
          543934105,
          521170825,
          216972543,
          356700357,
          240797623,
          183936074,
          352333929,
          389681935,
          320392818,
          203388186,
          303144152,
          140705322,
          162360636,
          157100845,
          296482446,
          155160045,
          245623848,
          299457024,
          143695338,
          173185859,
          121790373,
          183388953,
          148868835,
          175302354,
          334897606,
          408579038,
          110216998,
          162146076,
          64414761,
          208314186,
          183288689,
          119100758,
          114501299,
          240697856,
          78844582,
          55030051,
          88923251,
          140312928,
          69929545,
          78988148,
          164989338,
          77068246,
          334933831,
          86234523,
          42580920,
          119520023,
          85251425,
          69411370,
          94073028,
          220021259,
          64493915,
          62788218,
          50549909,
          150680864,
          88528280,
          81093313,
          64188367,
          56722693,
          30658387,
          48782670,
          63647656,
          65046687,
          48902953,
          37879877,
          312242626,
          211952420,
          37608299,
          84197417,
          37279439,
          125729635,
          45173154,
          52099090,
          23316139,
          57814445,
          24972139,
          24079268,
          29674699,
          21011110,
          23064015,
          29918745,
          25070261,
          18803648,
          21401949,
          24270399,
          25081168,
          13099931,
          24121245,
          25975621,
          302895451,
          30734502,
          23540937,
          43763247,
          30311857,
          22678555,
          11084630,
          16405171,
          19263938,
          12448676,
          26620002,
          39543581,
          12957265,
          25488406,
          14880939,
          23737523,
          13082071,
          9733932,
          22787101,
          13203541,
          87280000,
          22867989,
          37915971,
          357986087,
          28360590,
          13819139,
          47309313,
          12597262,
          13624522,
          12283800,
          28240000,
          12748594,
          15396447,
          87547518,
          37692886,
          77947607,
          27755817,
          30930984,
          22468044,
          17618280,
          173128787,
          49851770,
          58106427,
          119107580,
          103197501,
          54491162,
          70826207,
          25537759,
          15793051,
          18345372,
          114679097,
          48980792,
          20490872,
          14714624,
          14857808,
          13526843,
          179246868,
          38803993,
          38659039,
          22227514,
          25035950,
          24487848,
          112343513,
          19496308,
          15130912,
          2104,
          20651333,
          58089494,
          43498766,
          205754447,
          48165531,
          51624799,
          73883359,
          115766,
          155732,
          93282604,
          19162324,
          108007109,
          66207073,
          22351401,
          102205175,
          124605297,
          46069568,
          23157646,
          14777982,
          23857217,
          2465,
          109906372,
          25182929,
          193677158,
          14332467,
          118587880,
          24643054,
          23119442,
          52444295,
          12107
         ]
        },
        {
         "name": "2017",
         "type": "box",
         "x": [
          1332539889,
          821847012,
          962077546,
          863756051,
          880166924,
          700381748,
          853977126,
          1034799409,
          657924295,
          619021436,
          1236005118,
          807082196,
          525245546,
          311950384,
          255407969,
          527965936,
          794861794,
          566652812,
          434993183,
          383930656,
          490719763,
          305937718,
          605425157,
          140552359,
          381545846,
          226945087,
          185400345,
          180613180,
          306515884,
          352789811,
          410902662,
          171539887,
          259239658,
          217776646,
          142337240,
          179769457,
          176586701,
          240891763,
          125427681,
          130560428,
          296069199,
          205035819,
          123081555,
          177856751,
          195243464,
          96942115,
          125479266,
          100014025,
          134866593,
          113231078,
          78965611,
          48333932,
          60845711,
          197183546,
          55668698,
          346118277,
          62187529,
          56411585,
          169801921,
          62812974,
          225874228,
          148675066,
          102952888,
          67234188,
          61621140,
          145374099,
          43980821,
          221600160,
          41087017,
          61881372,
          34814102,
          100541806,
          62832209,
          35669017,
          53939297,
          59284015,
          65146020,
          150847207,
          83080890,
          48453605,
          37270721,
          34184504,
          43046590,
          55003890,
          26667197,
          47347283,
          60330833,
          65421267,
          32917353,
          40140972,
          40656399,
          56996304,
          254158390,
          26800152,
          26127965,
          44516999,
          22088533,
          23355100,
          25601244,
          17644496,
          23468586,
          14510490,
          18598607,
          16373843,
          13025860,
          27397655,
          9995692,
          14793385,
          43084060,
          42187665,
          87320000,
          10971298,
          870325439,
          41681746,
          22974019,
          81674009,
          46141474,
          47756590,
          246620398,
          12899968,
          59035664,
          43892362,
          55972241,
          151092784,
          87965942,
          30996615,
          109593721,
          36796816,
          21205329,
          19015346,
          10898998,
          11625884,
          2697,
          25192691,
          41887595,
          17986671,
          13610252,
          11712496,
          22757764,
          18307490,
          17422935,
          15845593,
          10433259,
          84918541,
          57628292,
          45696,
          24024444,
          254212245,
          17274695,
          1187280,
          17535962,
          11151,
          10116816,
          41978431,
          26441892,
          35342550,
          27590180,
          13392049,
          9650552,
          227331938,
          37552144,
          121956937,
          58815633,
          84997,
          260234,
          12751667,
          34156960,
          12055868,
          407454130,
          17696794,
          10822649,
          24646055,
          29820616,
          28645448,
          11383493,
          10472180,
          8850,
          29721916,
          13395005,
          46263237,
          125852517,
          3624,
          18205312,
          15889124
         ]
        },
        {
         "name": "2018",
         "type": "box",
         "x": [
          2048359754,
          1346913161,
          371985018,
          351266433,
          288175335,
          80509622,
          119942387,
          57076286,
          117679066,
          167885588,
          44019588,
          43070915,
          151572634,
          16376066,
          49562710,
          579220560,
          12214889,
          67450815,
          72968,
          118153135,
          9212,
          340939361,
          97644617,
          434888866,
          121772,
          132675864,
          59945012,
          18491089,
          3019143,
          98203196,
          245416,
          32427,
          49391206,
          40124,
          622674139,
          303904,
          1148161807,
          405050,
          626871,
          46153570,
          31210089,
          31882724,
          122909,
          17877506,
          67343,
          39047153,
          7301,
          590671,
          93400823,
          94017294,
          903655259,
          104438188,
          51411620,
          4376819,
          12201,
          467989645,
          20347513,
          156432,
          7689745,
          251917,
          64398132,
          44253,
          98240,
          197744377,
          14273033,
          14242,
          238532921,
          214115889,
          5982358,
          734546611,
          27709716,
          32016,
          544061916,
          90040771,
          18603476,
          336166,
          26284,
          114102821,
          54622814,
          3355324,
          14347433,
          1404646,
          17997350,
          653755901,
          777518,
          76916,
          105697415,
          29318861,
          15152,
          20046,
          7850,
          181507,
          11145006,
          47279677,
          21041950,
          93320380,
          321752656,
          18640313,
          18159691,
          260481,
          79336821,
          204709,
          40466970,
          13313581,
          20296746,
          528583774,
          101879,
          82881319,
          31672678,
          86022265,
          94539426,
          33748006,
          7692,
          20572691,
          11255,
          1242805359,
          120556201,
          64241499,
          151331,
          158970776,
          1308467944,
          33901,
          65859911,
          171912,
          365353,
          35613,
          30418,
          66316289,
          3482861,
          395044706,
          91002,
          349537494,
          46672564,
          301937,
          35487190,
          27365467,
          66308758,
          27526961,
          791115104,
          178027,
          22381583,
          361682618,
          83672673,
          21022724,
          103105878,
          297718711,
          38673750,
          19129015,
          17612099,
          229405,
          36240,
          242847,
          41657844,
          290930148,
          22991060,
          94321,
          23039243,
          53918723,
          149211,
          23740788,
          21753365,
          14441292,
          181316,
          529323962,
          428028233,
          12359573,
          582890172,
          6133,
          3383,
          6424420,
          96212,
          71535130,
          13967,
          75462037,
          72282227,
          91708374,
          90345871,
          67998954,
          39156854,
          75836683,
          112833,
          304868961,
          51738549,
          40513,
          214040103,
          392924807,
          18170707,
          375540831,
          24420923,
          15849,
          4282,
          692514,
          31626386,
          20780685,
          78130625,
          12908032,
          1548893,
          24243825,
          24554,
          5047078,
          28698,
          164531,
          420177,
          1589212,
          41142379,
          8320,
          3326364,
          190400157,
          95918706,
          82959,
          137056262,
          897992,
          35164920,
          20039,
          41509280,
          27506452,
          34934009,
          131457147,
          899037,
          32517248,
          204881,
          28118,
          530243742,
          5553,
          115084576,
          174504407,
          15229193,
          767064,
          365550119,
          173961069,
          17860397,
          135191,
          43016528,
          160542134,
          641835,
          13747547,
          47269,
          485049,
          13143056,
          38844509,
          75320680,
          31039126,
          302159,
          386166,
          7622595,
          13520,
          13688,
          13448497,
          14341431,
          4332,
          184495,
          274650803,
          148504,
          15636462,
          46664414,
          6291,
          16024987,
          41656,
          14293601,
          14377130,
          856085151,
          76073488,
          16118,
          793068,
          13061491,
          2943,
          25957482,
          21600,
          75984700,
          519487,
          7123449,
          185912,
          26597,
          318885,
          32087
         ]
        },
        {
         "name": "2019",
         "type": "box",
         "x": [
          5152,
          32413,
          22328874,
          2289265,
          1724565,
          39910516,
          35065648,
          1671969,
          71746590,
          76087556,
          74747725,
          175485270,
          127158591,
          69497587,
          404852543,
          17691872,
          133365452,
          30918726,
          228552591,
          12119692,
          6616905,
          79854,
          314938,
          119894,
          2797800564,
          34024386,
          3590894,
          1264337,
          1056416,
          875191,
          7762483,
          22366810,
          18019198,
          5123,
          24843990,
          50444358,
          32893421,
          11393886,
          7440228,
          1128274794,
          8771532,
          24057,
          45733356,
          3307350,
          5200,
          459462,
          17076,
          300842,
          50400,
          1009888,
          104965,
          76419755,
          90510445,
          765363,
          252442974,
          731557,
          1473116,
          2617806,
          67128244,
          5288011,
          118914774,
          86858,
          3307565,
          1101470,
          155712077,
          119932733,
          1265949,
          210091,
          758910100,
          2672316,
          549386,
          39058886,
          91522071,
          660381,
          144532846,
          145625,
          49693,
          3000137,
          745248362,
          5717640,
          172568418,
          614049,
          246985576,
          385900138,
          110883070,
          71838,
          24971631,
          161675,
          64503067,
          39777540,
          1536804,
          725974,
          4579675,
          519896648,
          150517444,
          252293,
          6179954,
          235351,
          48791187,
          470289082,
          2801841,
          1082075,
          7430723,
          326685953,
          21027057,
          1049054740,
          808831,
          37181723,
          545887,
          359377,
          16130339,
          208907,
          358352,
          1188936,
          72622256,
          68135600,
          22386466,
          463859,
          4207563,
          99482027,
          107466,
          16358581,
          53445558,
          90679,
          75308,
          2260316,
          319976,
          1923586,
          60582764,
          480631454,
          4898,
          2622548,
          1604378,
          7435496,
          37272,
          253890701,
          4697364,
          2705442,
          40103,
          41084036,
          281245,
          896528,
          226421,
          12147170,
          26249469,
          5667057,
          130897,
          1328447,
          33823,
          11590698,
          80657,
          779773,
          6020353,
          700547754,
          56166,
          16610713,
          22594,
          6549612,
          271841,
          80438653,
          265279,
          36900279,
          117991727,
          117247124,
          17373124,
          7699452,
          18653040,
          550508,
          2285086,
          45551350,
          12457067,
          431705346,
          2493569,
          16418218,
          2936245,
          97204,
          8554650,
          65188,
          693723,
          87041796,
          13294,
          57437450,
          195179299,
          1294480,
          688719,
          20941,
          4405,
          5708522,
          104545505,
          129916,
          364571656,
          38901,
          7228,
          135413,
          1131927996,
          2530728,
          32390945,
          1635907,
          3953337,
          322421,
          553324,
          250463963,
          2156698,
          9215591,
          146583749,
          33766787,
          2414269,
          7693800,
          4553909,
          10209813,
          238007250,
          154262846,
          591904,
          122133739,
          514073,
          13963605,
          36856,
          11799556,
          19602064,
          922656,
          25775371,
          604147,
          9832621,
          21932365,
          29251,
          3373474,
          95017038,
          36599361,
          32140970,
          15880032,
          4607017,
          695164,
          191306508,
          10902916,
          88336,
          6405816,
          3538550,
          1807216,
          20753681,
          7768,
          21150265,
          5737400,
          429434163,
          1088641,
          2881,
          21994,
          1719157,
          519525,
          6650029,
          354103,
          7829089,
          248514,
          790,
          699760773,
          109557,
          188092373,
          289631,
          166262,
          9667157,
          7776413,
          903018,
          25031267,
          1073392661,
          345900,
          32450241,
          19320481,
          255105930,
          100372,
          86630,
          10771,
          576174,
          3079996,
          72216294,
          10093124,
          61618539,
          119559110,
          14938,
          151286650,
          14879,
          117744336
         ]
        }
       ],
       "layout": {
        "font": {
         "color": "#7a4b4b",
         "family": "Calibri",
         "size": 24
        },
        "showlegend": false,
        "template": {
         "data": {
          "bar": [
           {
            "error_x": {
             "color": "rgb(51,51,51)"
            },
            "error_y": {
             "color": "rgb(51,51,51)"
            },
            "marker": {
             "line": {
              "color": "rgb(237,237,237)",
              "width": 0.5
             }
            },
            "type": "bar"
           }
          ],
          "barpolar": [
           {
            "marker": {
             "line": {
              "color": "rgb(237,237,237)",
              "width": 0.5
             }
            },
            "type": "barpolar"
           }
          ],
          "carpet": [
           {
            "aaxis": {
             "endlinecolor": "rgb(51,51,51)",
             "gridcolor": "white",
             "linecolor": "white",
             "minorgridcolor": "white",
             "startlinecolor": "rgb(51,51,51)"
            },
            "baxis": {
             "endlinecolor": "rgb(51,51,51)",
             "gridcolor": "white",
             "linecolor": "white",
             "minorgridcolor": "white",
             "startlinecolor": "rgb(51,51,51)"
            },
            "type": "carpet"
           }
          ],
          "choropleth": [
           {
            "colorbar": {
             "outlinewidth": 0,
             "tickcolor": "rgb(237,237,237)",
             "ticklen": 6,
             "ticks": "inside"
            },
            "type": "choropleth"
           }
          ],
          "contour": [
           {
            "colorbar": {
             "outlinewidth": 0,
             "tickcolor": "rgb(237,237,237)",
             "ticklen": 6,
             "ticks": "inside"
            },
            "colorscale": [
             [
              0,
              "rgb(20,44,66)"
             ],
             [
              1,
              "rgb(90,179,244)"
             ]
            ],
            "type": "contour"
           }
          ],
          "contourcarpet": [
           {
            "colorbar": {
             "outlinewidth": 0,
             "tickcolor": "rgb(237,237,237)",
             "ticklen": 6,
             "ticks": "inside"
            },
            "type": "contourcarpet"
           }
          ],
          "heatmap": [
           {
            "colorbar": {
             "outlinewidth": 0,
             "tickcolor": "rgb(237,237,237)",
             "ticklen": 6,
             "ticks": "inside"
            },
            "colorscale": [
             [
              0,
              "rgb(20,44,66)"
             ],
             [
              1,
              "rgb(90,179,244)"
             ]
            ],
            "type": "heatmap"
           }
          ],
          "heatmapgl": [
           {
            "colorbar": {
             "outlinewidth": 0,
             "tickcolor": "rgb(237,237,237)",
             "ticklen": 6,
             "ticks": "inside"
            },
            "colorscale": [
             [
              0,
              "rgb(20,44,66)"
             ],
             [
              1,
              "rgb(90,179,244)"
             ]
            ],
            "type": "heatmapgl"
           }
          ],
          "histogram": [
           {
            "marker": {
             "colorbar": {
              "outlinewidth": 0,
              "tickcolor": "rgb(237,237,237)",
              "ticklen": 6,
              "ticks": "inside"
             }
            },
            "type": "histogram"
           }
          ],
          "histogram2d": [
           {
            "colorbar": {
             "outlinewidth": 0,
             "tickcolor": "rgb(237,237,237)",
             "ticklen": 6,
             "ticks": "inside"
            },
            "colorscale": [
             [
              0,
              "rgb(20,44,66)"
             ],
             [
              1,
              "rgb(90,179,244)"
             ]
            ],
            "type": "histogram2d"
           }
          ],
          "histogram2dcontour": [
           {
            "colorbar": {
             "outlinewidth": 0,
             "tickcolor": "rgb(237,237,237)",
             "ticklen": 6,
             "ticks": "inside"
            },
            "colorscale": [
             [
              0,
              "rgb(20,44,66)"
             ],
             [
              1,
              "rgb(90,179,244)"
             ]
            ],
            "type": "histogram2dcontour"
           }
          ],
          "mesh3d": [
           {
            "colorbar": {
             "outlinewidth": 0,
             "tickcolor": "rgb(237,237,237)",
             "ticklen": 6,
             "ticks": "inside"
            },
            "type": "mesh3d"
           }
          ],
          "parcoords": [
           {
            "line": {
             "colorbar": {
              "outlinewidth": 0,
              "tickcolor": "rgb(237,237,237)",
              "ticklen": 6,
              "ticks": "inside"
             }
            },
            "type": "parcoords"
           }
          ],
          "pie": [
           {
            "automargin": true,
            "type": "pie"
           }
          ],
          "scatter": [
           {
            "marker": {
             "colorbar": {
              "outlinewidth": 0,
              "tickcolor": "rgb(237,237,237)",
              "ticklen": 6,
              "ticks": "inside"
             }
            },
            "type": "scatter"
           }
          ],
          "scatter3d": [
           {
            "line": {
             "colorbar": {
              "outlinewidth": 0,
              "tickcolor": "rgb(237,237,237)",
              "ticklen": 6,
              "ticks": "inside"
             }
            },
            "marker": {
             "colorbar": {
              "outlinewidth": 0,
              "tickcolor": "rgb(237,237,237)",
              "ticklen": 6,
              "ticks": "inside"
             }
            },
            "type": "scatter3d"
           }
          ],
          "scattercarpet": [
           {
            "marker": {
             "colorbar": {
              "outlinewidth": 0,
              "tickcolor": "rgb(237,237,237)",
              "ticklen": 6,
              "ticks": "inside"
             }
            },
            "type": "scattercarpet"
           }
          ],
          "scattergeo": [
           {
            "marker": {
             "colorbar": {
              "outlinewidth": 0,
              "tickcolor": "rgb(237,237,237)",
              "ticklen": 6,
              "ticks": "inside"
             }
            },
            "type": "scattergeo"
           }
          ],
          "scattergl": [
           {
            "marker": {
             "colorbar": {
              "outlinewidth": 0,
              "tickcolor": "rgb(237,237,237)",
              "ticklen": 6,
              "ticks": "inside"
             }
            },
            "type": "scattergl"
           }
          ],
          "scattermapbox": [
           {
            "marker": {
             "colorbar": {
              "outlinewidth": 0,
              "tickcolor": "rgb(237,237,237)",
              "ticklen": 6,
              "ticks": "inside"
             }
            },
            "type": "scattermapbox"
           }
          ],
          "scatterpolar": [
           {
            "marker": {
             "colorbar": {
              "outlinewidth": 0,
              "tickcolor": "rgb(237,237,237)",
              "ticklen": 6,
              "ticks": "inside"
             }
            },
            "type": "scatterpolar"
           }
          ],
          "scatterpolargl": [
           {
            "marker": {
             "colorbar": {
              "outlinewidth": 0,
              "tickcolor": "rgb(237,237,237)",
              "ticklen": 6,
              "ticks": "inside"
             }
            },
            "type": "scatterpolargl"
           }
          ],
          "scatterternary": [
           {
            "marker": {
             "colorbar": {
              "outlinewidth": 0,
              "tickcolor": "rgb(237,237,237)",
              "ticklen": 6,
              "ticks": "inside"
             }
            },
            "type": "scatterternary"
           }
          ],
          "surface": [
           {
            "colorbar": {
             "outlinewidth": 0,
             "tickcolor": "rgb(237,237,237)",
             "ticklen": 6,
             "ticks": "inside"
            },
            "colorscale": [
             [
              0,
              "rgb(20,44,66)"
             ],
             [
              1,
              "rgb(90,179,244)"
             ]
            ],
            "type": "surface"
           }
          ],
          "table": [
           {
            "cells": {
             "fill": {
              "color": "rgb(237,237,237)"
             },
             "line": {
              "color": "white"
             }
            },
            "header": {
             "fill": {
              "color": "rgb(217,217,217)"
             },
             "line": {
              "color": "white"
             }
            },
            "type": "table"
           }
          ]
         },
         "layout": {
          "annotationdefaults": {
           "arrowhead": 0,
           "arrowwidth": 1
          },
          "coloraxis": {
           "colorbar": {
            "outlinewidth": 0,
            "tickcolor": "rgb(237,237,237)",
            "ticklen": 6,
            "ticks": "inside"
           }
          },
          "colorscale": {
           "sequential": [
            [
             0,
             "rgb(20,44,66)"
            ],
            [
             1,
             "rgb(90,179,244)"
            ]
           ],
           "sequentialminus": [
            [
             0,
             "rgb(20,44,66)"
            ],
            [
             1,
             "rgb(90,179,244)"
            ]
           ]
          },
          "colorway": [
           "#F8766D",
           "#A3A500",
           "#00BF7D",
           "#00B0F6",
           "#E76BF3"
          ],
          "font": {
           "color": "rgb(51,51,51)"
          },
          "geo": {
           "bgcolor": "white",
           "lakecolor": "white",
           "landcolor": "rgb(237,237,237)",
           "showlakes": true,
           "showland": true,
           "subunitcolor": "white"
          },
          "hoverlabel": {
           "align": "left"
          },
          "hovermode": "closest",
          "paper_bgcolor": "white",
          "plot_bgcolor": "rgb(237,237,237)",
          "polar": {
           "angularaxis": {
            "gridcolor": "white",
            "linecolor": "white",
            "showgrid": true,
            "tickcolor": "rgb(51,51,51)",
            "ticks": "outside"
           },
           "bgcolor": "rgb(237,237,237)",
           "radialaxis": {
            "gridcolor": "white",
            "linecolor": "white",
            "showgrid": true,
            "tickcolor": "rgb(51,51,51)",
            "ticks": "outside"
           }
          },
          "scene": {
           "xaxis": {
            "backgroundcolor": "rgb(237,237,237)",
            "gridcolor": "white",
            "gridwidth": 2,
            "linecolor": "white",
            "showbackground": true,
            "showgrid": true,
            "tickcolor": "rgb(51,51,51)",
            "ticks": "outside",
            "zerolinecolor": "white"
           },
           "yaxis": {
            "backgroundcolor": "rgb(237,237,237)",
            "gridcolor": "white",
            "gridwidth": 2,
            "linecolor": "white",
            "showbackground": true,
            "showgrid": true,
            "tickcolor": "rgb(51,51,51)",
            "ticks": "outside",
            "zerolinecolor": "white"
           },
           "zaxis": {
            "backgroundcolor": "rgb(237,237,237)",
            "gridcolor": "white",
            "gridwidth": 2,
            "linecolor": "white",
            "showbackground": true,
            "showgrid": true,
            "tickcolor": "rgb(51,51,51)",
            "ticks": "outside",
            "zerolinecolor": "white"
           }
          },
          "shapedefaults": {
           "fillcolor": "black",
           "line": {
            "width": 0
           },
           "opacity": 0.3
          },
          "ternary": {
           "aaxis": {
            "gridcolor": "white",
            "linecolor": "white",
            "showgrid": true,
            "tickcolor": "rgb(51,51,51)",
            "ticks": "outside"
           },
           "baxis": {
            "gridcolor": "white",
            "linecolor": "white",
            "showgrid": true,
            "tickcolor": "rgb(51,51,51)",
            "ticks": "outside"
           },
           "bgcolor": "rgb(237,237,237)",
           "caxis": {
            "gridcolor": "white",
            "linecolor": "white",
            "showgrid": true,
            "tickcolor": "rgb(51,51,51)",
            "ticks": "outside"
           }
          },
          "xaxis": {
           "automargin": true,
           "gridcolor": "white",
           "linecolor": "white",
           "showgrid": true,
           "tickcolor": "rgb(51,51,51)",
           "ticks": "outside",
           "title": {
            "standoff": 15
           },
           "zerolinecolor": "white"
          },
          "yaxis": {
           "automargin": true,
           "gridcolor": "white",
           "linecolor": "white",
           "showgrid": true,
           "tickcolor": "rgb(51,51,51)",
           "ticks": "outside",
           "title": {
            "standoff": 15
           },
           "zerolinecolor": "white"
          }
         }
        },
        "xaxis": {
         "title": {
          "text": "Revenue (USD)"
         }
        }
       }
      },
      "text/html": [
       "<div>\n",
       "        \n",
       "        \n",
       "            <div id=\"b5085dca-ff66-4183-88e4-1c526d5575d5\" class=\"plotly-graph-div\" style=\"height:525px; width:100%;\"></div>\n",
       "            <script type=\"text/javascript\">\n",
       "                require([\"plotly\"], function(Plotly) {\n",
       "                    window.PLOTLYENV=window.PLOTLYENV || {};\n",
       "                    \n",
       "                if (document.getElementById(\"b5085dca-ff66-4183-88e4-1c526d5575d5\")) {\n",
       "                    Plotly.newPlot(\n",
       "                        'b5085dca-ff66-4183-88e4-1c526d5575d5',\n",
       "                        [{\"name\": \"2015\", \"type\": \"box\", \"x\": [2068223624.0, 1670400637.0, 1402805868.0, 1515047671.0, 1159398397.0, 857611174.0, 653428261.0, 880674609.0, 630161890.0, 569651467.0, 542351353.0, 287144079.0, 386041607.0, 682714267.0, 519311965.0, 374736354.0, 201634991.0, 473990832.0, 332207671.0, 297002527.0, 246233113.0, 235666219.0, 173567581.0, 158260952.0, 440603537.0, 209035668.0, 73256266.0, 105011053.0, 234798636.0, 244874809.0, 215863606.0, 194564672.0, 98450062.0, 155760117.0, 158762963.0, 99775678.0, 203427584.0, 60273173.0, 183887723.0, 101134059.0, 91970827.0, 104884188.0, 85978266.0, 107045109.0, 128388320.0, 58978653.0, 52395996.0, 43528634.0, 62076141.0, 54418872.0, 51380201.0, 43967255.0, 48623572.0, 46152800.0, 40423945.0, 37461274.0, 93920758.0, 35259653.0, 26250020.0, 35401758.0, 14659448.0, 14401617.0, 29355203.0, 42972994.0, 34441873.0, 17986781.0, 16661077.0, 24902723.0, 40272135.0, 24177137.0, 23706049.0, 16002420.0, 47275695.0, 19652057.0, 17572289.0, 16137046.0, 52556824.0, 14430249.0, 30691696.0, 23762417.0, 96119773.0, 23459358.0, 227091290.0, 16322067.0, 21775694.0, 259368448.0, 256283912.0, 94393020.0, 15407615.0, 45972724.0, 125842935.0, 22354572.0, 228122928.0, 40034677.0, 21786639.0, 34930177.0, 64325947.0, 15709652.0, 31222161.0, 20224851.0, 121545703.0, 385284817.0, 24817852.0, 125348.0, 45737711.0, 27139524.0, 15186410.0, 75547184.0, 38362448.0, 165478348.0, 36606743.0, 24604331.0, 102069268.0, 15460494.0, 242786137.0, 27387870.0, 98599942.0, 31994323.0, 30229977.0, 16191434.0, 111711453.0, 16810562.0, 99503.0, 82347656.0, 474800000.0, 25892561.0, 12050.0, 112983889.0, 156844753.0, 27391084.0, 1818.0, 61548707.0, 21292009.0, 42426912.0, 3956978.0, 117813057.0, 312296056.0, 45710059.0, 139191345.0, 85512300.0, 78903124.0, 107588225.0, 33213241.0, 17671101.0, 41325328.0, 71561644.0, 34854990.0, 30523226.0, 106209378.0, 84872444.0, 52882018.0, 98275238.0, 49567466.0, 15159762.0, 65663276.0, 133440870.0, 52425855.0, 49714378.0, 106057.0, 20381995.0, 64191523.0, 42964410.0, 50539997.0, 41387687.0, 146936910.0, 38356892.0, 97571250.0, 62944815.0, 36577134.0, 532950503.0, 325186032.0, 72629670.0, 79799880.0, 140795793.0, 22271862.0, 14431253.0, 34227298.0, 125799039.0, 61619773.0]}, {\"name\": \"2016\", \"type\": \"box\", \"x\": [1056057273.0, 1028570889.0, 1153296293.0, 875457937.0, 966550600.0, 1023784195.0, 782612155.0, 746846894.0, 873634919.0, 634151679.0, 643331111.0, 814037575.0, 677718395.0, 235956898.0, 415484914.0, 343471816.0, 346864462.0, 446092357.0, 278454358.0, 543934105.0, 521170825.0, 216972543.0, 356700357.0, 240797623.0, 183936074.0, 352333929.0, 389681935.0, 320392818.0, 203388186.0, 303144152.0, 140705322.0, 162360636.0, 157100845.0, 296482446.0, 155160045.0, 245623848.0, 299457024.0, 143695338.0, 173185859.0, 121790373.0, 183388953.0, 148868835.0, 175302354.0, 334897606.0, 408579038.0, 110216998.0, 162146076.0, 64414761.0, 208314186.0, 183288689.0, 119100758.0, 114501299.0, 240697856.0, 78844582.0, 55030051.0, 88923251.0, 140312928.0, 69929545.0, 78988148.0, 164989338.0, 77068246.0, 334933831.0, 86234523.0, 42580920.0, 119520023.0, 85251425.0, 69411370.0, 94073028.0, 220021259.0, 64493915.0, 62788218.0, 50549909.0, 150680864.0, 88528280.0, 81093313.0, 64188367.0, 56722693.0, 30658387.0, 48782670.0, 63647656.0, 65046687.0, 48902953.0, 37879877.0, 312242626.0, 211952420.0, 37608299.0, 84197417.0, 37279439.0, 125729635.0, 45173154.0, 52099090.0, 23316139.0, 57814445.0, 24972139.0, 24079268.0, 29674699.0, 21011110.0, 23064015.0, 29918745.0, 25070261.0, 18803648.0, 21401949.0, 24270399.0, 25081168.0, 13099931.0, 24121245.0, 25975621.0, 302895451.0, 30734502.0, 23540937.0, 43763247.0, 30311857.0, 22678555.0, 11084630.0, 16405171.0, 19263938.0, 12448676.0, 26620002.0, 39543581.0, 12957265.0, 25488406.0, 14880939.0, 23737523.0, 13082071.0, 9733932.0, 22787101.0, 13203541.0, 87280000.0, 22867989.0, 37915971.0, 357986087.0, 28360590.0, 13819139.0, 47309313.0, 12597262.0, 13624522.0, 12283800.0, 28240000.0, 12748594.0, 15396447.0, 87547518.0, 37692886.0, 77947607.0, 27755817.0, 30930984.0, 22468044.0, 17618280.0, 173128787.0, 49851770.0, 58106427.0, 119107580.0, 103197501.0, 54491162.0, 70826207.0, 25537759.0, 15793051.0, 18345372.0, 114679097.0, 48980792.0, 20490872.0, 14714624.0, 14857808.0, 13526843.0, 179246868.0, 38803993.0, 38659039.0, 22227514.0, 25035950.0, 24487848.0, 112343513.0, 19496308.0, 15130912.0, 2104.0, 20651333.0, 58089494.0, 43498766.0, 205754447.0, 48165531.0, 51624799.0, 73883359.0, 115766.0, 155732.0, 93282604.0, 19162324.0, 108007109.0, 66207073.0, 22351401.0, 102205175.0, 124605297.0, 46069568.0, 23157646.0, 14777982.0, 23857217.0, 2465.0, 109906372.0, 25182929.0, 193677158.0, 14332467.0, 118587880.0, 24643054.0, 23119442.0, 52444295.0, 12107.0]}, {\"name\": \"2017\", \"type\": \"box\", \"x\": [1332539889.0, 821847012.0, 962077546.0, 863756051.0, 880166924.0, 700381748.0, 853977126.0, 1034799409.0, 657924295.0, 619021436.0, 1236005118.0, 807082196.0, 525245546.0, 311950384.0, 255407969.0, 527965936.0, 794861794.0, 566652812.0, 434993183.0, 383930656.0, 490719763.0, 305937718.0, 605425157.0, 140552359.0, 381545846.0, 226945087.0, 185400345.0, 180613180.0, 306515884.0, 352789811.0, 410902662.0, 171539887.0, 259239658.0, 217776646.0, 142337240.0, 179769457.0, 176586701.0, 240891763.0, 125427681.0, 130560428.0, 296069199.0, 205035819.0, 123081555.0, 177856751.0, 195243464.0, 96942115.0, 125479266.0, 100014025.0, 134866593.0, 113231078.0, 78965611.0, 48333932.0, 60845711.0, 197183546.0, 55668698.0, 346118277.0, 62187529.0, 56411585.0, 169801921.0, 62812974.0, 225874228.0, 148675066.0, 102952888.0, 67234188.0, 61621140.0, 145374099.0, 43980821.0, 221600160.0, 41087017.0, 61881372.0, 34814102.0, 100541806.0, 62832209.0, 35669017.0, 53939297.0, 59284015.0, 65146020.0, 150847207.0, 83080890.0, 48453605.0, 37270721.0, 34184504.0, 43046590.0, 55003890.0, 26667197.0, 47347283.0, 60330833.0, 65421267.0, 32917353.0, 40140972.0, 40656399.0, 56996304.0, 254158390.0, 26800152.0, 26127965.0, 44516999.0, 22088533.0, 23355100.0, 25601244.0, 17644496.0, 23468586.0, 14510490.0, 18598607.0, 16373843.0, 13025860.0, 27397655.0, 9995692.0, 14793385.0, 43084060.0, 42187665.0, 87320000.0, 10971298.0, 870325439.0, 41681746.0, 22974019.0, 81674009.0, 46141474.0, 47756590.0, 246620398.0, 12899968.0, 59035664.0, 43892362.0, 55972241.0, 151092784.0, 87965942.0, 30996615.0, 109593721.0, 36796816.0, 21205329.0, 19015346.0, 10898998.0, 11625884.0, 2697.0, 25192691.0, 41887595.0, 17986671.0, 13610252.0, 11712496.0, 22757764.0, 18307490.0, 17422935.0, 15845593.0, 10433259.0, 84918541.0, 57628292.0, 45696.0, 24024444.0, 254212245.0, 17274695.0, 1187280.0, 17535962.0, 11151.0, 10116816.0, 41978431.0, 26441892.0, 35342550.0, 27590180.0, 13392049.0, 9650552.0, 227331938.0, 37552144.0, 121956937.0, 58815633.0, 84997.0, 260234.0, 12751667.0, 34156960.0, 12055868.0, 407454130.0, 17696794.0, 10822649.0, 24646055.0, 29820616.0, 28645448.0, 11383493.0, 10472180.0, 8850.0, 29721916.0, 13395005.0, 46263237.0, 125852517.0, 3624.0, 18205312.0, 15889124.0]}, {\"name\": \"2018\", \"type\": \"box\", \"x\": [2048359754.0, 1346913161.0, 371985018.0, 351266433.0, 288175335.0, 80509622.0, 119942387.0, 57076286.0, 117679066.0, 167885588.0, 44019588.0, 43070915.0, 151572634.0, 16376066.0, 49562710.0, 579220560.0, 12214889.0, 67450815.0, 72968.0, 118153135.0, 9212.0, 340939361.0, 97644617.0, 434888866.0, 121772.0, 132675864.0, 59945012.0, 18491089.0, 3019143.0, 98203196.0, 245416.0, 32427.0, 49391206.0, 40124.0, 622674139.0, 303904.0, 1148161807.0, 405050.0, 626871.0, 46153570.0, 31210089.0, 31882724.0, 122909.0, 17877506.0, 67343.0, 39047153.0, 7301.0, 590671.0, 93400823.0, 94017294.0, 903655259.0, 104438188.0, 51411620.0, 4376819.0, 12201.0, 467989645.0, 20347513.0, 156432.0, 7689745.0, 251917.0, 64398132.0, 44253.0, 98240.0, 197744377.0, 14273033.0, 14242.0, 238532921.0, 214115889.0, 5982358.0, 734546611.0, 27709716.0, 32016.0, 544061916.0, 90040771.0, 18603476.0, 336166.0, 26284.0, 114102821.0, 54622814.0, 3355324.0, 14347433.0, 1404646.0, 17997350.0, 653755901.0, 777518.0, 76916.0, 105697415.0, 29318861.0, 15152.0, 20046.0, 7850.0, 181507.0, 11145006.0, 47279677.0, 21041950.0, 93320380.0, 321752656.0, 18640313.0, 18159691.0, 260481.0, 79336821.0, 204709.0, 40466970.0, 13313581.0, 20296746.0, 528583774.0, 101879.0, 82881319.0, 31672678.0, 86022265.0, 94539426.0, 33748006.0, 7692.0, 20572691.0, 11255.0, 1242805359.0, 120556201.0, 64241499.0, 151331.0, 158970776.0, 1308467944.0, 33901.0, 65859911.0, 171912.0, 365353.0, 35613.0, 30418.0, 66316289.0, 3482861.0, 395044706.0, 91002.0, 349537494.0, 46672564.0, 301937.0, 35487190.0, 27365467.0, 66308758.0, 27526961.0, 791115104.0, 178027.0, 22381583.0, 361682618.0, 83672673.0, 21022724.0, 103105878.0, 297718711.0, 38673750.0, 19129015.0, 17612099.0, 229405.0, 36240.0, 242847.0, 41657844.0, 290930148.0, 22991060.0, 94321.0, 23039243.0, 53918723.0, 149211.0, 23740788.0, 21753365.0, 14441292.0, 181316.0, 529323962.0, 428028233.0, 12359573.0, 582890172.0, 6133.0, 3383.0, 6424420.0, 96212.0, 71535130.0, 13967.0, 75462037.0, 72282227.0, 91708374.0, 90345871.0, 67998954.0, 39156854.0, 75836683.0, 112833.0, 304868961.0, 51738549.0, 40513.0, 214040103.0, 392924807.0, 18170707.0, 375540831.0, 24420923.0, 15849.0, 4282.0, 692514.0, 31626386.0, 20780685.0, 78130625.0, 12908032.0, 1548893.0, 24243825.0, 24554.0, 5047078.0, 28698.0, 164531.0, 420177.0, 1589212.0, 41142379.0, 8320.0, 3326364.0, 190400157.0, 95918706.0, 82959.0, 137056262.0, 897992.0, 35164920.0, 20039.0, 41509280.0, 27506452.0, 34934009.0, 131457147.0, 899037.0, 32517248.0, 204881.0, 28118.0, 530243742.0, 5553.0, 115084576.0, 174504407.0, 15229193.0, 767064.0, 365550119.0, 173961069.0, 17860397.0, 135191.0, 43016528.0, 160542134.0, 641835.0, 13747547.0, 47269.0, 485049.0, 13143056.0, 38844509.0, 75320680.0, 31039126.0, 302159.0, 386166.0, 7622595.0, 13520.0, 13688.0, 13448497.0, 14341431.0, 4332.0, 184495.0, 274650803.0, 148504.0, 15636462.0, 46664414.0, 6291.0, 16024987.0, 41656.0, 14293601.0, 14377130.0, 856085151.0, 76073488.0, 16118.0, 793068.0, 13061491.0, 2943.0, 25957482.0, 21600.0, 75984700.0, 519487.0, 7123449.0, 185912.0, 26597.0, 318885.0, 32087.0]}, {\"name\": \"2019\", \"type\": \"box\", \"x\": [5152.0, 32413.0, 22328874.0, 2289265.0, 1724565.0, 39910516.0, 35065648.0, 1671969.0, 71746590.0, 76087556.0, 74747725.0, 175485270.0, 127158591.0, 69497587.0, 404852543.0, 17691872.0, 133365452.0, 30918726.0, 228552591.0, 12119692.0, 6616905.0, 79854.0, 314938.0, 119894.0, 2797800564.0, 34024386.0, 3590894.0, 1264337.0, 1056416.0, 875191.0, 7762483.0, 22366810.0, 18019198.0, 5123.0, 24843990.0, 50444358.0, 32893421.0, 11393886.0, 7440228.0, 1128274794.0, 8771532.0, 24057.0, 45733356.0, 3307350.0, 5200.0, 459462.0, 17076.0, 300842.0, 50400.0, 1009888.0, 104965.0, 76419755.0, 90510445.0, 765363.0, 252442974.0, 731557.0, 1473116.0, 2617806.0, 67128244.0, 5288011.0, 118914774.0, 86858.0, 3307565.0, 1101470.0, 155712077.0, 119932733.0, 1265949.0, 210091.0, 758910100.0, 2672316.0, 549386.0, 39058886.0, 91522071.0, 660381.0, 144532846.0, 145625.0, 49693.0, 3000137.0, 745248362.0, 5717640.0, 172568418.0, 614049.0, 246985576.0, 385900138.0, 110883070.0, 71838.0, 24971631.0, 161675.0, 64503067.0, 39777540.0, 1536804.0, 725974.0, 4579675.0, 519896648.0, 150517444.0, 252293.0, 6179954.0, 235351.0, 48791187.0, 470289082.0, 2801841.0, 1082075.0, 7430723.0, 326685953.0, 21027057.0, 1049054740.0, 808831.0, 37181723.0, 545887.0, 359377.0, 16130339.0, 208907.0, 358352.0, 1188936.0, 72622256.0, 68135600.0, 22386466.0, 463859.0, 4207563.0, 99482027.0, 107466.0, 16358581.0, 53445558.0, 90679.0, 75308.0, 2260316.0, 319976.0, 1923586.0, 60582764.0, 480631454.0, 4898.0, 2622548.0, 1604378.0, 7435496.0, 37272.0, 253890701.0, 4697364.0, 2705442.0, 40103.0, 41084036.0, 281245.0, 896528.0, 226421.0, 12147170.0, 26249469.0, 5667057.0, 130897.0, 1328447.0, 33823.0, 11590698.0, 80657.0, 779773.0, 6020353.0, 700547754.0, 56166.0, 16610713.0, 22594.0, 6549612.0, 271841.0, 80438653.0, 265279.0, 36900279.0, 117991727.0, 117247124.0, 17373124.0, 7699452.0, 18653040.0, 550508.0, 2285086.0, 45551350.0, 12457067.0, 431705346.0, 2493569.0, 16418218.0, 2936245.0, 97204.0, 8554650.0, 65188.0, 693723.0, 87041796.0, 13294.0, 57437450.0, 195179299.0, 1294480.0, 688719.0, 20941.0, 4405.0, 5708522.0, 104545505.0, 129916.0, 364571656.0, 38901.0, 7228.0, 135413.0, 1131927996.0, 2530728.0, 32390945.0, 1635907.0, 3953337.0, 322421.0, 553324.0, 250463963.0, 2156698.0, 9215591.0, 146583749.0, 33766787.0, 2414269.0, 7693800.0, 4553909.0, 10209813.0, 238007250.0, 154262846.0, 591904.0, 122133739.0, 514073.0, 13963605.0, 36856.0, 11799556.0, 19602064.0, 922656.0, 25775371.0, 604147.0, 9832621.0, 21932365.0, 29251.0, 3373474.0, 95017038.0, 36599361.0, 32140970.0, 15880032.0, 4607017.0, 695164.0, 191306508.0, 10902916.0, 88336.0, 6405816.0, 3538550.0, 1807216.0, 20753681.0, 7768.0, 21150265.0, 5737400.0, 429434163.0, 1088641.0, 2881.0, 21994.0, 1719157.0, 519525.0, 6650029.0, 354103.0, 7829089.0, 248514.0, 790.0, 699760773.0, 109557.0, 188092373.0, 289631.0, 166262.0, 9667157.0, 7776413.0, 903018.0, 25031267.0, 1073392661.0, 345900.0, 32450241.0, 19320481.0, 255105930.0, 100372.0, 86630.0, 10771.0, 576174.0, 3079996.0, 72216294.0, 10093124.0, 61618539.0, 119559110.0, 14938.0, 151286650.0, 14879.0, 117744336.0]}],\n",
       "                        {\"font\": {\"color\": \"#7a4b4b\", \"family\": \"Calibri\", \"size\": 24}, \"showlegend\": false, \"template\": {\"data\": {\"bar\": [{\"error_x\": {\"color\": \"rgb(51,51,51)\"}, \"error_y\": {\"color\": \"rgb(51,51,51)\"}, \"marker\": {\"line\": {\"color\": \"rgb(237,237,237)\", \"width\": 0.5}}, \"type\": \"bar\"}], \"barpolar\": [{\"marker\": {\"line\": {\"color\": \"rgb(237,237,237)\", \"width\": 0.5}}, \"type\": \"barpolar\"}], \"carpet\": [{\"aaxis\": {\"endlinecolor\": \"rgb(51,51,51)\", \"gridcolor\": \"white\", \"linecolor\": \"white\", \"minorgridcolor\": \"white\", \"startlinecolor\": \"rgb(51,51,51)\"}, \"baxis\": {\"endlinecolor\": \"rgb(51,51,51)\", \"gridcolor\": \"white\", \"linecolor\": \"white\", \"minorgridcolor\": \"white\", \"startlinecolor\": \"rgb(51,51,51)\"}, \"type\": \"carpet\"}], \"choropleth\": [{\"colorbar\": {\"outlinewidth\": 0, \"tickcolor\": \"rgb(237,237,237)\", \"ticklen\": 6, \"ticks\": \"inside\"}, \"type\": \"choropleth\"}], \"contour\": [{\"colorbar\": {\"outlinewidth\": 0, \"tickcolor\": \"rgb(237,237,237)\", \"ticklen\": 6, \"ticks\": \"inside\"}, \"colorscale\": [[0, \"rgb(20,44,66)\"], [1, \"rgb(90,179,244)\"]], \"type\": \"contour\"}], \"contourcarpet\": [{\"colorbar\": {\"outlinewidth\": 0, \"tickcolor\": \"rgb(237,237,237)\", \"ticklen\": 6, \"ticks\": \"inside\"}, \"type\": \"contourcarpet\"}], \"heatmap\": [{\"colorbar\": {\"outlinewidth\": 0, \"tickcolor\": \"rgb(237,237,237)\", \"ticklen\": 6, \"ticks\": \"inside\"}, \"colorscale\": [[0, \"rgb(20,44,66)\"], [1, \"rgb(90,179,244)\"]], \"type\": \"heatmap\"}], \"heatmapgl\": [{\"colorbar\": {\"outlinewidth\": 0, \"tickcolor\": \"rgb(237,237,237)\", \"ticklen\": 6, \"ticks\": \"inside\"}, \"colorscale\": [[0, \"rgb(20,44,66)\"], [1, \"rgb(90,179,244)\"]], \"type\": \"heatmapgl\"}], \"histogram\": [{\"marker\": {\"colorbar\": {\"outlinewidth\": 0, \"tickcolor\": \"rgb(237,237,237)\", \"ticklen\": 6, \"ticks\": \"inside\"}}, \"type\": \"histogram\"}], \"histogram2d\": [{\"colorbar\": {\"outlinewidth\": 0, \"tickcolor\": \"rgb(237,237,237)\", \"ticklen\": 6, \"ticks\": \"inside\"}, \"colorscale\": [[0, \"rgb(20,44,66)\"], [1, \"rgb(90,179,244)\"]], \"type\": \"histogram2d\"}], \"histogram2dcontour\": [{\"colorbar\": {\"outlinewidth\": 0, \"tickcolor\": \"rgb(237,237,237)\", \"ticklen\": 6, \"ticks\": \"inside\"}, \"colorscale\": [[0, \"rgb(20,44,66)\"], [1, \"rgb(90,179,244)\"]], \"type\": \"histogram2dcontour\"}], \"mesh3d\": [{\"colorbar\": {\"outlinewidth\": 0, \"tickcolor\": \"rgb(237,237,237)\", \"ticklen\": 6, \"ticks\": \"inside\"}, \"type\": \"mesh3d\"}], \"parcoords\": [{\"line\": {\"colorbar\": {\"outlinewidth\": 0, \"tickcolor\": \"rgb(237,237,237)\", \"ticklen\": 6, \"ticks\": \"inside\"}}, \"type\": \"parcoords\"}], \"pie\": [{\"automargin\": true, \"type\": \"pie\"}], \"scatter\": [{\"marker\": {\"colorbar\": {\"outlinewidth\": 0, \"tickcolor\": \"rgb(237,237,237)\", \"ticklen\": 6, \"ticks\": \"inside\"}}, \"type\": \"scatter\"}], \"scatter3d\": [{\"line\": {\"colorbar\": {\"outlinewidth\": 0, \"tickcolor\": \"rgb(237,237,237)\", \"ticklen\": 6, \"ticks\": \"inside\"}}, \"marker\": {\"colorbar\": {\"outlinewidth\": 0, \"tickcolor\": \"rgb(237,237,237)\", \"ticklen\": 6, \"ticks\": \"inside\"}}, \"type\": \"scatter3d\"}], \"scattercarpet\": [{\"marker\": {\"colorbar\": {\"outlinewidth\": 0, \"tickcolor\": \"rgb(237,237,237)\", \"ticklen\": 6, \"ticks\": \"inside\"}}, \"type\": \"scattercarpet\"}], \"scattergeo\": [{\"marker\": {\"colorbar\": {\"outlinewidth\": 0, \"tickcolor\": \"rgb(237,237,237)\", \"ticklen\": 6, \"ticks\": \"inside\"}}, \"type\": \"scattergeo\"}], \"scattergl\": [{\"marker\": {\"colorbar\": {\"outlinewidth\": 0, \"tickcolor\": \"rgb(237,237,237)\", \"ticklen\": 6, \"ticks\": \"inside\"}}, \"type\": \"scattergl\"}], \"scattermapbox\": [{\"marker\": {\"colorbar\": {\"outlinewidth\": 0, \"tickcolor\": \"rgb(237,237,237)\", \"ticklen\": 6, \"ticks\": \"inside\"}}, \"type\": \"scattermapbox\"}], \"scatterpolar\": [{\"marker\": {\"colorbar\": {\"outlinewidth\": 0, \"tickcolor\": \"rgb(237,237,237)\", \"ticklen\": 6, \"ticks\": \"inside\"}}, \"type\": \"scatterpolar\"}], \"scatterpolargl\": [{\"marker\": {\"colorbar\": {\"outlinewidth\": 0, \"tickcolor\": \"rgb(237,237,237)\", \"ticklen\": 6, \"ticks\": \"inside\"}}, \"type\": \"scatterpolargl\"}], \"scatterternary\": [{\"marker\": {\"colorbar\": {\"outlinewidth\": 0, \"tickcolor\": \"rgb(237,237,237)\", \"ticklen\": 6, \"ticks\": \"inside\"}}, \"type\": \"scatterternary\"}], \"surface\": [{\"colorbar\": {\"outlinewidth\": 0, \"tickcolor\": \"rgb(237,237,237)\", \"ticklen\": 6, \"ticks\": \"inside\"}, \"colorscale\": [[0, \"rgb(20,44,66)\"], [1, \"rgb(90,179,244)\"]], \"type\": \"surface\"}], \"table\": [{\"cells\": {\"fill\": {\"color\": \"rgb(237,237,237)\"}, \"line\": {\"color\": \"white\"}}, \"header\": {\"fill\": {\"color\": \"rgb(217,217,217)\"}, \"line\": {\"color\": \"white\"}}, \"type\": \"table\"}]}, \"layout\": {\"annotationdefaults\": {\"arrowhead\": 0, \"arrowwidth\": 1}, \"coloraxis\": {\"colorbar\": {\"outlinewidth\": 0, \"tickcolor\": \"rgb(237,237,237)\", \"ticklen\": 6, \"ticks\": \"inside\"}}, \"colorscale\": {\"sequential\": [[0, \"rgb(20,44,66)\"], [1, \"rgb(90,179,244)\"]], \"sequentialminus\": [[0, \"rgb(20,44,66)\"], [1, \"rgb(90,179,244)\"]]}, \"colorway\": [\"#F8766D\", \"#A3A500\", \"#00BF7D\", \"#00B0F6\", \"#E76BF3\"], \"font\": {\"color\": \"rgb(51,51,51)\"}, \"geo\": {\"bgcolor\": \"white\", \"lakecolor\": \"white\", \"landcolor\": \"rgb(237,237,237)\", \"showlakes\": true, \"showland\": true, \"subunitcolor\": \"white\"}, \"hoverlabel\": {\"align\": \"left\"}, \"hovermode\": \"closest\", \"paper_bgcolor\": \"white\", \"plot_bgcolor\": \"rgb(237,237,237)\", \"polar\": {\"angularaxis\": {\"gridcolor\": \"white\", \"linecolor\": \"white\", \"showgrid\": true, \"tickcolor\": \"rgb(51,51,51)\", \"ticks\": \"outside\"}, \"bgcolor\": \"rgb(237,237,237)\", \"radialaxis\": {\"gridcolor\": \"white\", \"linecolor\": \"white\", \"showgrid\": true, \"tickcolor\": \"rgb(51,51,51)\", \"ticks\": \"outside\"}}, \"scene\": {\"xaxis\": {\"backgroundcolor\": \"rgb(237,237,237)\", \"gridcolor\": \"white\", \"gridwidth\": 2, \"linecolor\": \"white\", \"showbackground\": true, \"showgrid\": true, \"tickcolor\": \"rgb(51,51,51)\", \"ticks\": \"outside\", \"zerolinecolor\": \"white\"}, \"yaxis\": {\"backgroundcolor\": \"rgb(237,237,237)\", \"gridcolor\": \"white\", \"gridwidth\": 2, \"linecolor\": \"white\", \"showbackground\": true, \"showgrid\": true, \"tickcolor\": \"rgb(51,51,51)\", \"ticks\": \"outside\", \"zerolinecolor\": \"white\"}, \"zaxis\": {\"backgroundcolor\": \"rgb(237,237,237)\", \"gridcolor\": \"white\", \"gridwidth\": 2, \"linecolor\": \"white\", \"showbackground\": true, \"showgrid\": true, \"tickcolor\": \"rgb(51,51,51)\", \"ticks\": \"outside\", \"zerolinecolor\": \"white\"}}, \"shapedefaults\": {\"fillcolor\": \"black\", \"line\": {\"width\": 0}, \"opacity\": 0.3}, \"ternary\": {\"aaxis\": {\"gridcolor\": \"white\", \"linecolor\": \"white\", \"showgrid\": true, \"tickcolor\": \"rgb(51,51,51)\", \"ticks\": \"outside\"}, \"baxis\": {\"gridcolor\": \"white\", \"linecolor\": \"white\", \"showgrid\": true, \"tickcolor\": \"rgb(51,51,51)\", \"ticks\": \"outside\"}, \"bgcolor\": \"rgb(237,237,237)\", \"caxis\": {\"gridcolor\": \"white\", \"linecolor\": \"white\", \"showgrid\": true, \"tickcolor\": \"rgb(51,51,51)\", \"ticks\": \"outside\"}}, \"xaxis\": {\"automargin\": true, \"gridcolor\": \"white\", \"linecolor\": \"white\", \"showgrid\": true, \"tickcolor\": \"rgb(51,51,51)\", \"ticks\": \"outside\", \"title\": {\"standoff\": 15}, \"zerolinecolor\": \"white\"}, \"yaxis\": {\"automargin\": true, \"gridcolor\": \"white\", \"linecolor\": \"white\", \"showgrid\": true, \"tickcolor\": \"rgb(51,51,51)\", \"ticks\": \"outside\", \"title\": {\"standoff\": 15}, \"zerolinecolor\": \"white\"}}}, \"xaxis\": {\"title\": {\"text\": \"Revenue (USD)\"}}},\n",
       "                        {\"responsive\": true}\n",
       "                    ).then(function(){\n",
       "                            \n",
       "var gd = document.getElementById('b5085dca-ff66-4183-88e4-1c526d5575d5');\n",
       "var x = new MutationObserver(function (mutations, observer) {{\n",
       "        var display = window.getComputedStyle(gd).display;\n",
       "        if (!display || display === 'none') {{\n",
       "            console.log([gd, 'removed!']);\n",
       "            Plotly.purge(gd);\n",
       "            observer.disconnect();\n",
       "        }}\n",
       "}});\n",
       "\n",
       "// Listen for the removal of the full notebook cells\n",
       "var notebookContainer = gd.closest('#notebook-container');\n",
       "if (notebookContainer) {{\n",
       "    x.observe(notebookContainer, {childList: true});\n",
       "}}\n",
       "\n",
       "// Listen for the clearing of the current output cell\n",
       "var outputEl = gd.closest('.output');\n",
       "if (outputEl) {{\n",
       "    x.observe(outputEl, {childList: true});\n",
       "}}\n",
       "\n",
       "                        })\n",
       "                };\n",
       "                });\n",
       "            </script>\n",
       "        </div>"
      ]
     },
     "metadata": {},
     "output_type": "display_data"
    }
   ],
   "source": [
    "rev_plot_worldwide = go.Figure()\n",
    "rev_plot_worldwide.add_trace(go.Box(x=trace_2015_worldwide, name = '2015'))\n",
    "rev_plot_worldwide.add_trace(go.Box(x=trace_2016_worldwide, name = '2016'))\n",
    "rev_plot_worldwide.add_trace(go.Box(x=trace_2017_worldwide, name = '2017'))\n",
    "rev_plot_worldwide.add_trace(go.Box(x=trace_2018_worldwide, name = '2018'))\n",
    "rev_plot_worldwide.add_trace(go.Box(x=trace_2019_worldwide, name = '2019'))\n",
    "rev_plot_worldwide.update_layout(\n",
    "    xaxis_title=\"Revenue (USD)\",\n",
    "    template=\"ggplot2\",\n",
    "    showlegend = False,\n",
    "    font=dict(\n",
    "        family=\"Calibri\",\n",
    "        size=24,\n",
    "        color='#7a4b4b'\n",
    "    ))\n",
    "\n",
    "rev_plot_worldwide.show()"
   ]
  },
  {
   "cell_type": "code",
   "execution_count": 71,
   "metadata": {},
   "outputs": [],
   "source": [
    "def calculate_stats(dataframe, column = 'Worldwide'):\n",
    "    mean = dataframe[column].mean()\n",
    "    std = dataframe[column].std()\n",
    "    std_x_1_upper = mean + std\n",
    "    std_x_1_lower = mean - std\n",
    "    std_x_2_upper = mean + 2*std\n",
    "    std_x_2_lower = mean - 2*std\n",
    "    return {'mean': mean, 'std_x_1_lower': std_x_1_lower, 'std_x_1_upper': std_x_1_upper,'std_x_2_upper': std_x_2_upper, 'std_x_2_lower':std_x_2_lower }"
   ]
  },
  {
   "cell_type": "code",
   "execution_count": 72,
   "metadata": {},
   "outputs": [
    {
     "data": {
      "text/plain": [
       "162167257.4301676"
      ]
     },
     "execution_count": 72,
     "metadata": {},
     "output_type": "execute_result"
    }
   ],
   "source": [
    "movie_data_2015_revenue['Worldwide'].mean()"
   ]
  },
  {
   "cell_type": "code",
   "execution_count": 73,
   "metadata": {},
   "outputs": [],
   "source": [
    "year_dataframe_list = [movie_data_2015_revenue, movie_data_2016_revenue, movie_data_2017_revenue, movie_data_2018_revenue, movie_data_2019_revenue]"
   ]
  },
  {
   "cell_type": "code",
   "execution_count": 74,
   "metadata": {},
   "outputs": [],
   "source": [
    "Worldwide_line_plot_values = []\n",
    "for dataframe in year_dataframe_list:\n",
    "    Worldwide_line_plot_values.append(calculate_stats(dataframe))"
   ]
  },
  {
   "cell_type": "code",
   "execution_count": 75,
   "metadata": {
    "scrolled": false
   },
   "outputs": [
    {
     "data": {
      "text/plain": [
       "[{'mean': 162167257.4301676,\n",
       "  'std_x_1_lower': -127800374.14112332,\n",
       "  'std_x_1_upper': 452134889.0014585,\n",
       "  'std_x_2_upper': 742102520.5727494,\n",
       "  'std_x_2_lower': -417768005.71241426},\n",
       " {'mean': 148612276.84236452,\n",
       "  'std_x_1_lower': -71876114.72415924,\n",
       "  'std_x_1_upper': 369100668.4088883,\n",
       "  'std_x_2_upper': 589589059.975412,\n",
       "  'std_x_2_lower': -292364506.29068303},\n",
       " {'mean': 161657768.0652174,\n",
       "  'std_x_1_lower': -85059346.1892133,\n",
       "  'std_x_1_upper': 408374882.31964815,\n",
       "  'std_x_2_upper': 655091996.5740788,\n",
       "  'std_x_2_lower': -331776460.44364405},\n",
       " {'mean': 107684801.22545454,\n",
       "  'std_x_1_lower': -133262626.07675695,\n",
       "  'std_x_1_upper': 348632228.52766603,\n",
       "  'std_x_2_upper': 589579655.8298775,\n",
       "  'std_x_2_lower': -374210053.3789685},\n",
       " {'mean': 78105298.10357143,\n",
       "  'std_x_1_lower': -159326155.4430415,\n",
       "  'std_x_1_upper': 315536751.65018433,\n",
       "  'std_x_2_upper': 552968205.1967973,\n",
       "  'std_x_2_lower': -396757608.9896544}]"
      ]
     },
     "execution_count": 75,
     "metadata": {},
     "output_type": "execute_result"
    }
   ],
   "source": [
    "Worldwide_line_plot_values"
   ]
  },
  {
   "cell_type": "code",
   "execution_count": 76,
   "metadata": {},
   "outputs": [],
   "source": [
    "mean_values_worldwide = [x['mean'] for x in Worldwide_line_plot_values ]\n",
    "std_x_1_lower_values_worldwide = [x['std_x_1_lower'] for x in Worldwide_line_plot_values ]\n",
    "std_x_1_upper_values_worldwide = [x['std_x_1_upper'] for x in Worldwide_line_plot_values ]\n",
    "std_x_2_upper_values_worldwide = [x['std_x_2_upper'] for x in Worldwide_line_plot_values ]\n",
    "std_x_2_lower_values_worldwide = [x['std_x_2_upper'] for x in Worldwide_line_plot_values ]"
   ]
  },
  {
   "cell_type": "code",
   "execution_count": 77,
   "metadata": {},
   "outputs": [],
   "source": [
    "years = ['2015', '2016', '2017', '2018', '2019']"
   ]
  },
  {
   "cell_type": "code",
   "execution_count": 78,
   "metadata": {},
   "outputs": [
    {
     "data": {
      "text/plain": [
       "[162167257.4301676,\n",
       " 148612276.84236452,\n",
       " 161657768.0652174,\n",
       " 107684801.22545454,\n",
       " 78105298.10357143]"
      ]
     },
     "execution_count": 78,
     "metadata": {},
     "output_type": "execute_result"
    }
   ],
   "source": [
    "mean_values_worldwide"
   ]
  },
  {
   "cell_type": "code",
   "execution_count": 79,
   "metadata": {},
   "outputs": [],
   "source": [
    "from plotly.subplots import make_subplots"
   ]
  },
  {
   "cell_type": "code",
   "execution_count": 224,
   "metadata": {},
   "outputs": [
    {
     "data": {
      "application/vnd.plotly.v1+json": {
       "config": {
        "plotlyServerURL": "https://plot.ly"
       },
       "data": [
        {
         "line": {
          "color": "#7a4b4b",
          "width": 4
         },
         "marker": {
          "color": "#7a4b4b",
          "size": 10
         },
         "name": "Mean",
         "type": "scatter",
         "x": [
          2015,
          2016,
          2017,
          2018,
          2019
         ],
         "xaxis": "x",
         "y": [
          162167257.4301676,
          148612276.84236452,
          161657768.0652174,
          107684801.22545454,
          78105298.10357143
         ],
         "yaxis": "y2"
        },
        {
         "line": {
          "color": "#7a4b4b",
          "dash": "dash",
          "width": 4
         },
         "marker": {
          "color": "#7a4b4b",
          "size": 10
         },
         "name": "1xSTD up",
         "type": "scatter",
         "x": [
          2015,
          2016,
          2017,
          2018,
          2019
         ],
         "xaxis": "x",
         "y": [
          452134889.0014585,
          369100668.4088883,
          408374882.31964815,
          348632228.52766603,
          315536751.65018433
         ],
         "yaxis": "y2"
        },
        {
         "line": {
          "color": "#7a4b4b",
          "dash": "dash",
          "width": 4
         },
         "marker": {
          "color": "#7a4b4b",
          "size": 10
         },
         "name": "1xSTD down",
         "type": "scatter",
         "x": [
          2015,
          2016,
          2017,
          2018,
          2019
         ],
         "xaxis": "x",
         "y": [
          -127800374.14112332,
          -71876114.72415924,
          -85059346.1892133,
          -133262626.07675695,
          -159326155.4430415
         ],
         "yaxis": "y2"
        },
        {
         "marker": {
          "color": "#bfa878"
         },
         "name": "Domestic",
         "type": "bar",
         "x": [
          2015,
          2016,
          2017,
          2018,
          2019
         ],
         "y": [
          10217301512,
          10947949977,
          9939651335,
          10527466527,
          7566655767
         ]
        },
        {
         "marker": {
          "color": "#d9cdb4"
         },
         "name": "Foreign",
         "type": "bar",
         "x": [
          2015,
          2016,
          2017,
          2018,
          2019
         ],
         "y": [
          18810637568,
          19220342222,
          19805377989,
          19085853810,
          14302827702
         ]
        }
       ],
       "layout": {
        "barmode": "stack",
        "font": {
         "color": "#7a4b4b",
         "family": "Calibri",
         "size": 24
        },
        "showlegend": false,
        "template": {
         "data": {
          "bar": [
           {
            "error_x": {
             "color": "rgb(51,51,51)"
            },
            "error_y": {
             "color": "rgb(51,51,51)"
            },
            "marker": {
             "line": {
              "color": "rgb(237,237,237)",
              "width": 0.5
             }
            },
            "type": "bar"
           }
          ],
          "barpolar": [
           {
            "marker": {
             "line": {
              "color": "rgb(237,237,237)",
              "width": 0.5
             }
            },
            "type": "barpolar"
           }
          ],
          "carpet": [
           {
            "aaxis": {
             "endlinecolor": "rgb(51,51,51)",
             "gridcolor": "white",
             "linecolor": "white",
             "minorgridcolor": "white",
             "startlinecolor": "rgb(51,51,51)"
            },
            "baxis": {
             "endlinecolor": "rgb(51,51,51)",
             "gridcolor": "white",
             "linecolor": "white",
             "minorgridcolor": "white",
             "startlinecolor": "rgb(51,51,51)"
            },
            "type": "carpet"
           }
          ],
          "choropleth": [
           {
            "colorbar": {
             "outlinewidth": 0,
             "tickcolor": "rgb(237,237,237)",
             "ticklen": 6,
             "ticks": "inside"
            },
            "type": "choropleth"
           }
          ],
          "contour": [
           {
            "colorbar": {
             "outlinewidth": 0,
             "tickcolor": "rgb(237,237,237)",
             "ticklen": 6,
             "ticks": "inside"
            },
            "colorscale": [
             [
              0,
              "rgb(20,44,66)"
             ],
             [
              1,
              "rgb(90,179,244)"
             ]
            ],
            "type": "contour"
           }
          ],
          "contourcarpet": [
           {
            "colorbar": {
             "outlinewidth": 0,
             "tickcolor": "rgb(237,237,237)",
             "ticklen": 6,
             "ticks": "inside"
            },
            "type": "contourcarpet"
           }
          ],
          "heatmap": [
           {
            "colorbar": {
             "outlinewidth": 0,
             "tickcolor": "rgb(237,237,237)",
             "ticklen": 6,
             "ticks": "inside"
            },
            "colorscale": [
             [
              0,
              "rgb(20,44,66)"
             ],
             [
              1,
              "rgb(90,179,244)"
             ]
            ],
            "type": "heatmap"
           }
          ],
          "heatmapgl": [
           {
            "colorbar": {
             "outlinewidth": 0,
             "tickcolor": "rgb(237,237,237)",
             "ticklen": 6,
             "ticks": "inside"
            },
            "colorscale": [
             [
              0,
              "rgb(20,44,66)"
             ],
             [
              1,
              "rgb(90,179,244)"
             ]
            ],
            "type": "heatmapgl"
           }
          ],
          "histogram": [
           {
            "marker": {
             "colorbar": {
              "outlinewidth": 0,
              "tickcolor": "rgb(237,237,237)",
              "ticklen": 6,
              "ticks": "inside"
             }
            },
            "type": "histogram"
           }
          ],
          "histogram2d": [
           {
            "colorbar": {
             "outlinewidth": 0,
             "tickcolor": "rgb(237,237,237)",
             "ticklen": 6,
             "ticks": "inside"
            },
            "colorscale": [
             [
              0,
              "rgb(20,44,66)"
             ],
             [
              1,
              "rgb(90,179,244)"
             ]
            ],
            "type": "histogram2d"
           }
          ],
          "histogram2dcontour": [
           {
            "colorbar": {
             "outlinewidth": 0,
             "tickcolor": "rgb(237,237,237)",
             "ticklen": 6,
             "ticks": "inside"
            },
            "colorscale": [
             [
              0,
              "rgb(20,44,66)"
             ],
             [
              1,
              "rgb(90,179,244)"
             ]
            ],
            "type": "histogram2dcontour"
           }
          ],
          "mesh3d": [
           {
            "colorbar": {
             "outlinewidth": 0,
             "tickcolor": "rgb(237,237,237)",
             "ticklen": 6,
             "ticks": "inside"
            },
            "type": "mesh3d"
           }
          ],
          "parcoords": [
           {
            "line": {
             "colorbar": {
              "outlinewidth": 0,
              "tickcolor": "rgb(237,237,237)",
              "ticklen": 6,
              "ticks": "inside"
             }
            },
            "type": "parcoords"
           }
          ],
          "pie": [
           {
            "automargin": true,
            "type": "pie"
           }
          ],
          "scatter": [
           {
            "marker": {
             "colorbar": {
              "outlinewidth": 0,
              "tickcolor": "rgb(237,237,237)",
              "ticklen": 6,
              "ticks": "inside"
             }
            },
            "type": "scatter"
           }
          ],
          "scatter3d": [
           {
            "line": {
             "colorbar": {
              "outlinewidth": 0,
              "tickcolor": "rgb(237,237,237)",
              "ticklen": 6,
              "ticks": "inside"
             }
            },
            "marker": {
             "colorbar": {
              "outlinewidth": 0,
              "tickcolor": "rgb(237,237,237)",
              "ticklen": 6,
              "ticks": "inside"
             }
            },
            "type": "scatter3d"
           }
          ],
          "scattercarpet": [
           {
            "marker": {
             "colorbar": {
              "outlinewidth": 0,
              "tickcolor": "rgb(237,237,237)",
              "ticklen": 6,
              "ticks": "inside"
             }
            },
            "type": "scattercarpet"
           }
          ],
          "scattergeo": [
           {
            "marker": {
             "colorbar": {
              "outlinewidth": 0,
              "tickcolor": "rgb(237,237,237)",
              "ticklen": 6,
              "ticks": "inside"
             }
            },
            "type": "scattergeo"
           }
          ],
          "scattergl": [
           {
            "marker": {
             "colorbar": {
              "outlinewidth": 0,
              "tickcolor": "rgb(237,237,237)",
              "ticklen": 6,
              "ticks": "inside"
             }
            },
            "type": "scattergl"
           }
          ],
          "scattermapbox": [
           {
            "marker": {
             "colorbar": {
              "outlinewidth": 0,
              "tickcolor": "rgb(237,237,237)",
              "ticklen": 6,
              "ticks": "inside"
             }
            },
            "type": "scattermapbox"
           }
          ],
          "scatterpolar": [
           {
            "marker": {
             "colorbar": {
              "outlinewidth": 0,
              "tickcolor": "rgb(237,237,237)",
              "ticklen": 6,
              "ticks": "inside"
             }
            },
            "type": "scatterpolar"
           }
          ],
          "scatterpolargl": [
           {
            "marker": {
             "colorbar": {
              "outlinewidth": 0,
              "tickcolor": "rgb(237,237,237)",
              "ticklen": 6,
              "ticks": "inside"
             }
            },
            "type": "scatterpolargl"
           }
          ],
          "scatterternary": [
           {
            "marker": {
             "colorbar": {
              "outlinewidth": 0,
              "tickcolor": "rgb(237,237,237)",
              "ticklen": 6,
              "ticks": "inside"
             }
            },
            "type": "scatterternary"
           }
          ],
          "surface": [
           {
            "colorbar": {
             "outlinewidth": 0,
             "tickcolor": "rgb(237,237,237)",
             "ticklen": 6,
             "ticks": "inside"
            },
            "colorscale": [
             [
              0,
              "rgb(20,44,66)"
             ],
             [
              1,
              "rgb(90,179,244)"
             ]
            ],
            "type": "surface"
           }
          ],
          "table": [
           {
            "cells": {
             "fill": {
              "color": "rgb(237,237,237)"
             },
             "line": {
              "color": "white"
             }
            },
            "header": {
             "fill": {
              "color": "rgb(217,217,217)"
             },
             "line": {
              "color": "white"
             }
            },
            "type": "table"
           }
          ]
         },
         "layout": {
          "annotationdefaults": {
           "arrowhead": 0,
           "arrowwidth": 1
          },
          "coloraxis": {
           "colorbar": {
            "outlinewidth": 0,
            "tickcolor": "rgb(237,237,237)",
            "ticklen": 6,
            "ticks": "inside"
           }
          },
          "colorscale": {
           "sequential": [
            [
             0,
             "rgb(20,44,66)"
            ],
            [
             1,
             "rgb(90,179,244)"
            ]
           ],
           "sequentialminus": [
            [
             0,
             "rgb(20,44,66)"
            ],
            [
             1,
             "rgb(90,179,244)"
            ]
           ]
          },
          "colorway": [
           "#F8766D",
           "#A3A500",
           "#00BF7D",
           "#00B0F6",
           "#E76BF3"
          ],
          "font": {
           "color": "rgb(51,51,51)"
          },
          "geo": {
           "bgcolor": "white",
           "lakecolor": "white",
           "landcolor": "rgb(237,237,237)",
           "showlakes": true,
           "showland": true,
           "subunitcolor": "white"
          },
          "hoverlabel": {
           "align": "left"
          },
          "hovermode": "closest",
          "paper_bgcolor": "white",
          "plot_bgcolor": "rgb(237,237,237)",
          "polar": {
           "angularaxis": {
            "gridcolor": "white",
            "linecolor": "white",
            "showgrid": true,
            "tickcolor": "rgb(51,51,51)",
            "ticks": "outside"
           },
           "bgcolor": "rgb(237,237,237)",
           "radialaxis": {
            "gridcolor": "white",
            "linecolor": "white",
            "showgrid": true,
            "tickcolor": "rgb(51,51,51)",
            "ticks": "outside"
           }
          },
          "scene": {
           "xaxis": {
            "backgroundcolor": "rgb(237,237,237)",
            "gridcolor": "white",
            "gridwidth": 2,
            "linecolor": "white",
            "showbackground": true,
            "showgrid": true,
            "tickcolor": "rgb(51,51,51)",
            "ticks": "outside",
            "zerolinecolor": "white"
           },
           "yaxis": {
            "backgroundcolor": "rgb(237,237,237)",
            "gridcolor": "white",
            "gridwidth": 2,
            "linecolor": "white",
            "showbackground": true,
            "showgrid": true,
            "tickcolor": "rgb(51,51,51)",
            "ticks": "outside",
            "zerolinecolor": "white"
           },
           "zaxis": {
            "backgroundcolor": "rgb(237,237,237)",
            "gridcolor": "white",
            "gridwidth": 2,
            "linecolor": "white",
            "showbackground": true,
            "showgrid": true,
            "tickcolor": "rgb(51,51,51)",
            "ticks": "outside",
            "zerolinecolor": "white"
           }
          },
          "shapedefaults": {
           "fillcolor": "black",
           "line": {
            "width": 0
           },
           "opacity": 0.3
          },
          "ternary": {
           "aaxis": {
            "gridcolor": "white",
            "linecolor": "white",
            "showgrid": true,
            "tickcolor": "rgb(51,51,51)",
            "ticks": "outside"
           },
           "baxis": {
            "gridcolor": "white",
            "linecolor": "white",
            "showgrid": true,
            "tickcolor": "rgb(51,51,51)",
            "ticks": "outside"
           },
           "bgcolor": "rgb(237,237,237)",
           "caxis": {
            "gridcolor": "white",
            "linecolor": "white",
            "showgrid": true,
            "tickcolor": "rgb(51,51,51)",
            "ticks": "outside"
           }
          },
          "xaxis": {
           "automargin": true,
           "gridcolor": "white",
           "linecolor": "white",
           "showgrid": true,
           "tickcolor": "rgb(51,51,51)",
           "ticks": "outside",
           "title": {
            "standoff": 15
           },
           "zerolinecolor": "white"
          },
          "yaxis": {
           "automargin": true,
           "gridcolor": "white",
           "linecolor": "white",
           "showgrid": true,
           "tickcolor": "rgb(51,51,51)",
           "ticks": "outside",
           "title": {
            "standoff": 15
           },
           "zerolinecolor": "white"
          }
         }
        },
        "xaxis": {
         "anchor": "y",
         "domain": [
          0,
          0.94
         ]
        },
        "yaxis": {
         "anchor": "x",
         "domain": [
          0,
          1
         ],
         "title": {
          "text": "Revenue (USD)"
         }
        },
        "yaxis2": {
         "anchor": "x",
         "overlaying": "y",
         "side": "right",
         "title": {
          "text": "Avg Revenue (USD)"
         }
        }
       }
      },
      "text/html": [
       "<div>\n",
       "        \n",
       "        \n",
       "            <div id=\"be9f2a7c-9f1b-407a-b8ce-f32446232957\" class=\"plotly-graph-div\" style=\"height:525px; width:100%;\"></div>\n",
       "            <script type=\"text/javascript\">\n",
       "                require([\"plotly\"], function(Plotly) {\n",
       "                    window.PLOTLYENV=window.PLOTLYENV || {};\n",
       "                    \n",
       "                if (document.getElementById(\"be9f2a7c-9f1b-407a-b8ce-f32446232957\")) {\n",
       "                    Plotly.newPlot(\n",
       "                        'be9f2a7c-9f1b-407a-b8ce-f32446232957',\n",
       "                        [{\"line\": {\"color\": \"#7a4b4b\", \"width\": 4}, \"marker\": {\"color\": \"#7a4b4b\", \"size\": 10}, \"name\": \"Mean\", \"type\": \"scatter\", \"x\": [2015, 2016, 2017, 2018, 2019], \"xaxis\": \"x\", \"y\": [162167257.4301676, 148612276.84236452, 161657768.0652174, 107684801.22545454, 78105298.10357143], \"yaxis\": \"y2\"}, {\"line\": {\"color\": \"#7a4b4b\", \"dash\": \"dash\", \"width\": 4}, \"marker\": {\"color\": \"#7a4b4b\", \"size\": 10}, \"name\": \"1xSTD up\", \"type\": \"scatter\", \"x\": [2015, 2016, 2017, 2018, 2019], \"xaxis\": \"x\", \"y\": [452134889.0014585, 369100668.4088883, 408374882.31964815, 348632228.52766603, 315536751.65018433], \"yaxis\": \"y2\"}, {\"line\": {\"color\": \"#7a4b4b\", \"dash\": \"dash\", \"width\": 4}, \"marker\": {\"color\": \"#7a4b4b\", \"size\": 10}, \"name\": \"1xSTD down\", \"type\": \"scatter\", \"x\": [2015, 2016, 2017, 2018, 2019], \"xaxis\": \"x\", \"y\": [-127800374.14112332, -71876114.72415924, -85059346.1892133, -133262626.07675695, -159326155.4430415], \"yaxis\": \"y2\"}, {\"marker\": {\"color\": \"#bfa878\"}, \"name\": \"Domestic\", \"type\": \"bar\", \"x\": [2015, 2016, 2017, 2018, 2019], \"y\": [10217301512.0, 10947949977.0, 9939651335.0, 10527466527.0, 7566655767.0]}, {\"marker\": {\"color\": \"#d9cdb4\"}, \"name\": \"Foreign\", \"type\": \"bar\", \"x\": [2015, 2016, 2017, 2018, 2019], \"y\": [18810637568.0, 19220342222.0, 19805377989.0, 19085853810.0, 14302827702.0]}],\n",
       "                        {\"barmode\": \"stack\", \"font\": {\"color\": \"#7a4b4b\", \"family\": \"Calibri\", \"size\": 24}, \"showlegend\": false, \"template\": {\"data\": {\"bar\": [{\"error_x\": {\"color\": \"rgb(51,51,51)\"}, \"error_y\": {\"color\": \"rgb(51,51,51)\"}, \"marker\": {\"line\": {\"color\": \"rgb(237,237,237)\", \"width\": 0.5}}, \"type\": \"bar\"}], \"barpolar\": [{\"marker\": {\"line\": {\"color\": \"rgb(237,237,237)\", \"width\": 0.5}}, \"type\": \"barpolar\"}], \"carpet\": [{\"aaxis\": {\"endlinecolor\": \"rgb(51,51,51)\", \"gridcolor\": \"white\", \"linecolor\": \"white\", \"minorgridcolor\": \"white\", \"startlinecolor\": \"rgb(51,51,51)\"}, \"baxis\": {\"endlinecolor\": \"rgb(51,51,51)\", \"gridcolor\": \"white\", \"linecolor\": \"white\", \"minorgridcolor\": \"white\", \"startlinecolor\": \"rgb(51,51,51)\"}, \"type\": \"carpet\"}], \"choropleth\": [{\"colorbar\": {\"outlinewidth\": 0, \"tickcolor\": \"rgb(237,237,237)\", \"ticklen\": 6, \"ticks\": \"inside\"}, \"type\": \"choropleth\"}], \"contour\": [{\"colorbar\": {\"outlinewidth\": 0, \"tickcolor\": \"rgb(237,237,237)\", \"ticklen\": 6, \"ticks\": \"inside\"}, \"colorscale\": [[0, \"rgb(20,44,66)\"], [1, \"rgb(90,179,244)\"]], \"type\": \"contour\"}], \"contourcarpet\": [{\"colorbar\": {\"outlinewidth\": 0, \"tickcolor\": \"rgb(237,237,237)\", \"ticklen\": 6, \"ticks\": \"inside\"}, \"type\": \"contourcarpet\"}], \"heatmap\": [{\"colorbar\": {\"outlinewidth\": 0, \"tickcolor\": \"rgb(237,237,237)\", \"ticklen\": 6, \"ticks\": \"inside\"}, \"colorscale\": [[0, \"rgb(20,44,66)\"], [1, \"rgb(90,179,244)\"]], \"type\": \"heatmap\"}], \"heatmapgl\": [{\"colorbar\": {\"outlinewidth\": 0, \"tickcolor\": \"rgb(237,237,237)\", \"ticklen\": 6, \"ticks\": \"inside\"}, \"colorscale\": [[0, \"rgb(20,44,66)\"], [1, \"rgb(90,179,244)\"]], \"type\": \"heatmapgl\"}], \"histogram\": [{\"marker\": {\"colorbar\": {\"outlinewidth\": 0, \"tickcolor\": \"rgb(237,237,237)\", \"ticklen\": 6, \"ticks\": \"inside\"}}, \"type\": \"histogram\"}], \"histogram2d\": [{\"colorbar\": {\"outlinewidth\": 0, \"tickcolor\": \"rgb(237,237,237)\", \"ticklen\": 6, \"ticks\": \"inside\"}, \"colorscale\": [[0, \"rgb(20,44,66)\"], [1, \"rgb(90,179,244)\"]], \"type\": \"histogram2d\"}], \"histogram2dcontour\": [{\"colorbar\": {\"outlinewidth\": 0, \"tickcolor\": \"rgb(237,237,237)\", \"ticklen\": 6, \"ticks\": \"inside\"}, \"colorscale\": [[0, \"rgb(20,44,66)\"], [1, \"rgb(90,179,244)\"]], \"type\": \"histogram2dcontour\"}], \"mesh3d\": [{\"colorbar\": {\"outlinewidth\": 0, \"tickcolor\": \"rgb(237,237,237)\", \"ticklen\": 6, \"ticks\": \"inside\"}, \"type\": \"mesh3d\"}], \"parcoords\": [{\"line\": {\"colorbar\": {\"outlinewidth\": 0, \"tickcolor\": \"rgb(237,237,237)\", \"ticklen\": 6, \"ticks\": \"inside\"}}, \"type\": \"parcoords\"}], \"pie\": [{\"automargin\": true, \"type\": \"pie\"}], \"scatter\": [{\"marker\": {\"colorbar\": {\"outlinewidth\": 0, \"tickcolor\": \"rgb(237,237,237)\", \"ticklen\": 6, \"ticks\": \"inside\"}}, \"type\": \"scatter\"}], \"scatter3d\": [{\"line\": {\"colorbar\": {\"outlinewidth\": 0, \"tickcolor\": \"rgb(237,237,237)\", \"ticklen\": 6, \"ticks\": \"inside\"}}, \"marker\": {\"colorbar\": {\"outlinewidth\": 0, \"tickcolor\": \"rgb(237,237,237)\", \"ticklen\": 6, \"ticks\": \"inside\"}}, \"type\": \"scatter3d\"}], \"scattercarpet\": [{\"marker\": {\"colorbar\": {\"outlinewidth\": 0, \"tickcolor\": \"rgb(237,237,237)\", \"ticklen\": 6, \"ticks\": \"inside\"}}, \"type\": \"scattercarpet\"}], \"scattergeo\": [{\"marker\": {\"colorbar\": {\"outlinewidth\": 0, \"tickcolor\": \"rgb(237,237,237)\", \"ticklen\": 6, \"ticks\": \"inside\"}}, \"type\": \"scattergeo\"}], \"scattergl\": [{\"marker\": {\"colorbar\": {\"outlinewidth\": 0, \"tickcolor\": \"rgb(237,237,237)\", \"ticklen\": 6, \"ticks\": \"inside\"}}, \"type\": \"scattergl\"}], \"scattermapbox\": [{\"marker\": {\"colorbar\": {\"outlinewidth\": 0, \"tickcolor\": \"rgb(237,237,237)\", \"ticklen\": 6, \"ticks\": \"inside\"}}, \"type\": \"scattermapbox\"}], \"scatterpolar\": [{\"marker\": {\"colorbar\": {\"outlinewidth\": 0, \"tickcolor\": \"rgb(237,237,237)\", \"ticklen\": 6, \"ticks\": \"inside\"}}, \"type\": \"scatterpolar\"}], \"scatterpolargl\": [{\"marker\": {\"colorbar\": {\"outlinewidth\": 0, \"tickcolor\": \"rgb(237,237,237)\", \"ticklen\": 6, \"ticks\": \"inside\"}}, \"type\": \"scatterpolargl\"}], \"scatterternary\": [{\"marker\": {\"colorbar\": {\"outlinewidth\": 0, \"tickcolor\": \"rgb(237,237,237)\", \"ticklen\": 6, \"ticks\": \"inside\"}}, \"type\": \"scatterternary\"}], \"surface\": [{\"colorbar\": {\"outlinewidth\": 0, \"tickcolor\": \"rgb(237,237,237)\", \"ticklen\": 6, \"ticks\": \"inside\"}, \"colorscale\": [[0, \"rgb(20,44,66)\"], [1, \"rgb(90,179,244)\"]], \"type\": \"surface\"}], \"table\": [{\"cells\": {\"fill\": {\"color\": \"rgb(237,237,237)\"}, \"line\": {\"color\": \"white\"}}, \"header\": {\"fill\": {\"color\": \"rgb(217,217,217)\"}, \"line\": {\"color\": \"white\"}}, \"type\": \"table\"}]}, \"layout\": {\"annotationdefaults\": {\"arrowhead\": 0, \"arrowwidth\": 1}, \"coloraxis\": {\"colorbar\": {\"outlinewidth\": 0, \"tickcolor\": \"rgb(237,237,237)\", \"ticklen\": 6, \"ticks\": \"inside\"}}, \"colorscale\": {\"sequential\": [[0, \"rgb(20,44,66)\"], [1, \"rgb(90,179,244)\"]], \"sequentialminus\": [[0, \"rgb(20,44,66)\"], [1, \"rgb(90,179,244)\"]]}, \"colorway\": [\"#F8766D\", \"#A3A500\", \"#00BF7D\", \"#00B0F6\", \"#E76BF3\"], \"font\": {\"color\": \"rgb(51,51,51)\"}, \"geo\": {\"bgcolor\": \"white\", \"lakecolor\": \"white\", \"landcolor\": \"rgb(237,237,237)\", \"showlakes\": true, \"showland\": true, \"subunitcolor\": \"white\"}, \"hoverlabel\": {\"align\": \"left\"}, \"hovermode\": \"closest\", \"paper_bgcolor\": \"white\", \"plot_bgcolor\": \"rgb(237,237,237)\", \"polar\": {\"angularaxis\": {\"gridcolor\": \"white\", \"linecolor\": \"white\", \"showgrid\": true, \"tickcolor\": \"rgb(51,51,51)\", \"ticks\": \"outside\"}, \"bgcolor\": \"rgb(237,237,237)\", \"radialaxis\": {\"gridcolor\": \"white\", \"linecolor\": \"white\", \"showgrid\": true, \"tickcolor\": \"rgb(51,51,51)\", \"ticks\": \"outside\"}}, \"scene\": {\"xaxis\": {\"backgroundcolor\": \"rgb(237,237,237)\", \"gridcolor\": \"white\", \"gridwidth\": 2, \"linecolor\": \"white\", \"showbackground\": true, \"showgrid\": true, \"tickcolor\": \"rgb(51,51,51)\", \"ticks\": \"outside\", \"zerolinecolor\": \"white\"}, \"yaxis\": {\"backgroundcolor\": \"rgb(237,237,237)\", \"gridcolor\": \"white\", \"gridwidth\": 2, \"linecolor\": \"white\", \"showbackground\": true, \"showgrid\": true, \"tickcolor\": \"rgb(51,51,51)\", \"ticks\": \"outside\", \"zerolinecolor\": \"white\"}, \"zaxis\": {\"backgroundcolor\": \"rgb(237,237,237)\", \"gridcolor\": \"white\", \"gridwidth\": 2, \"linecolor\": \"white\", \"showbackground\": true, \"showgrid\": true, \"tickcolor\": \"rgb(51,51,51)\", \"ticks\": \"outside\", \"zerolinecolor\": \"white\"}}, \"shapedefaults\": {\"fillcolor\": \"black\", \"line\": {\"width\": 0}, \"opacity\": 0.3}, \"ternary\": {\"aaxis\": {\"gridcolor\": \"white\", \"linecolor\": \"white\", \"showgrid\": true, \"tickcolor\": \"rgb(51,51,51)\", \"ticks\": \"outside\"}, \"baxis\": {\"gridcolor\": \"white\", \"linecolor\": \"white\", \"showgrid\": true, \"tickcolor\": \"rgb(51,51,51)\", \"ticks\": \"outside\"}, \"bgcolor\": \"rgb(237,237,237)\", \"caxis\": {\"gridcolor\": \"white\", \"linecolor\": \"white\", \"showgrid\": true, \"tickcolor\": \"rgb(51,51,51)\", \"ticks\": \"outside\"}}, \"xaxis\": {\"automargin\": true, \"gridcolor\": \"white\", \"linecolor\": \"white\", \"showgrid\": true, \"tickcolor\": \"rgb(51,51,51)\", \"ticks\": \"outside\", \"title\": {\"standoff\": 15}, \"zerolinecolor\": \"white\"}, \"yaxis\": {\"automargin\": true, \"gridcolor\": \"white\", \"linecolor\": \"white\", \"showgrid\": true, \"tickcolor\": \"rgb(51,51,51)\", \"ticks\": \"outside\", \"title\": {\"standoff\": 15}, \"zerolinecolor\": \"white\"}}}, \"xaxis\": {\"anchor\": \"y\", \"domain\": [0.0, 0.94]}, \"yaxis\": {\"anchor\": \"x\", \"domain\": [0.0, 1.0], \"title\": {\"text\": \"Revenue (USD)\"}}, \"yaxis2\": {\"anchor\": \"x\", \"overlaying\": \"y\", \"side\": \"right\", \"title\": {\"text\": \"Avg Revenue (USD)\"}}},\n",
       "                        {\"responsive\": true}\n",
       "                    ).then(function(){\n",
       "                            \n",
       "var gd = document.getElementById('be9f2a7c-9f1b-407a-b8ce-f32446232957');\n",
       "var x = new MutationObserver(function (mutations, observer) {{\n",
       "        var display = window.getComputedStyle(gd).display;\n",
       "        if (!display || display === 'none') {{\n",
       "            console.log([gd, 'removed!']);\n",
       "            Plotly.purge(gd);\n",
       "            observer.disconnect();\n",
       "        }}\n",
       "}});\n",
       "\n",
       "// Listen for the removal of the full notebook cells\n",
       "var notebookContainer = gd.closest('#notebook-container');\n",
       "if (notebookContainer) {{\n",
       "    x.observe(notebookContainer, {childList: true});\n",
       "}}\n",
       "\n",
       "// Listen for the clearing of the current output cell\n",
       "var outputEl = gd.closest('.output');\n",
       "if (outputEl) {{\n",
       "    x.observe(outputEl, {childList: true});\n",
       "}}\n",
       "\n",
       "                        })\n",
       "                };\n",
       "                });\n",
       "            </script>\n",
       "        </div>"
      ]
     },
     "metadata": {},
     "output_type": "display_data"
    }
   ],
   "source": [
    "\n",
    "revenue_bar_with_lines = make_subplots(specs=[[{\"secondary_y\": True}]])\n",
    "\n",
    "revenue_bar_with_lines.add_trace(go.Scatter(x=x, y=mean_values_worldwide, name='Mean', line = dict(color='#7a4b4b', width=4), marker = dict(color='#7a4b4b', size=10)), secondary_y=True)\n",
    "revenue_bar_with_lines.add_trace(go.Scatter(x=x, y=std_x_1_upper_values_worldwide, name='1xSTD up', line = dict(color='#7a4b4b', width=4, dash='dash'), marker = dict(color='#7a4b4b', size=10)), secondary_y=True)\n",
    "revenue_bar_with_lines.add_trace(go.Scatter(x=x, y=std_x_1_lower_values_worldwide, name='1xSTD down', line = dict(color='#7a4b4b', width=4, dash='dash'), marker = dict(color='#7a4b4b', size=10)), secondary_y=True)\n",
    "# revenue_bar_with_lines.add_trace(go.Scatter(x=x, y=std_x_2_lower_values_worldwide, mode='lines', name='2xSTD up'), secondary_y=True)\n",
    "# revenue_bar_with_lines.add_trace(go.Scatter(x=x, y=std_x_2_lower_values_worldwide, mode='lines', name='2xSTD down'), secondary_y=True)\n",
    "\n",
    "# add_trace(go.Scatter(x=top_actors, y=top_avg), secondary_y=True)\n",
    "\n",
    "revenue_bar_with_lines.add_trace(go.Bar(name='Domestic', x=x_sum, y=y_sum_Domestic, marker_color='#bfa878'))\n",
    "revenue_bar_with_lines.add_trace(go.Bar(name='Foreign', x=x_sum, y=y_sum_Foreign, marker_color='#d9cdb4'))\n",
    "\n",
    "revenue_bar_with_lines.update_layout(\n",
    "    yaxis_title=\"Revenue (USD)\",\n",
    "    template=\"ggplot2\",\n",
    "    font=dict(\n",
    "        family=\"Calibri\",\n",
    "        size=24,\n",
    "        color='#7a4b4b'\n",
    "    ))\n",
    "revenue_bar_with_lines.update_yaxes(title_text=\"Avg Revenue (USD)\", secondary_y=True)\n",
    "\n",
    "revenue_bar_with_lines.update_layout(barmode='stack', showlegend = False)\n",
    "\n",
    "\n",
    "revenue_bar_with_lines.show()"
   ]
  },
  {
   "cell_type": "code",
   "execution_count": null,
   "metadata": {},
   "outputs": [],
   "source": []
  },
  {
   "cell_type": "markdown",
   "metadata": {},
   "source": [
    "# Plot by Runtime"
   ]
  },
  {
   "cell_type": "code",
   "execution_count": null,
   "metadata": {},
   "outputs": [],
   "source": [
    "import matplotlib.pyplot as plt\n",
    "%matplotlib inline\n",
    "import statistics as stat"
   ]
  },
  {
   "cell_type": "code",
   "execution_count": null,
   "metadata": {},
   "outputs": [],
   "source": [
    "movies_with_Title_Worldwide_and_Runtime = movie_data_df[['Title', 'Worldwide', 'Runtime']]"
   ]
  },
  {
   "cell_type": "code",
   "execution_count": null,
   "metadata": {},
   "outputs": [],
   "source": [
    "movies_with_Title_Worldwide_and_Runtime.head()"
   ]
  },
  {
   "cell_type": "code",
   "execution_count": null,
   "metadata": {},
   "outputs": [],
   "source": []
  },
  {
   "cell_type": "code",
   "execution_count": null,
   "metadata": {},
   "outputs": [],
   "source": []
  },
  {
   "cell_type": "code",
   "execution_count": null,
   "metadata": {},
   "outputs": [],
   "source": []
  },
  {
   "cell_type": "code",
   "execution_count": null,
   "metadata": {},
   "outputs": [],
   "source": [
    "plt.hist(x = list(movie_data_df['Runtime']), bins = 5)"
   ]
  },
  {
   "cell_type": "code",
   "execution_count": null,
   "metadata": {},
   "outputs": [],
   "source": []
  },
  {
   "cell_type": "markdown",
   "metadata": {},
   "source": [
    "# Plot by Metascore"
   ]
  },
  {
   "cell_type": "code",
   "execution_count": null,
   "metadata": {},
   "outputs": [],
   "source": []
  },
  {
   "cell_type": "code",
   "execution_count": null,
   "metadata": {},
   "outputs": [],
   "source": []
  },
  {
   "cell_type": "code",
   "execution_count": null,
   "metadata": {},
   "outputs": [],
   "source": []
  },
  {
   "cell_type": "code",
   "execution_count": null,
   "metadata": {},
   "outputs": [],
   "source": []
  },
  {
   "cell_type": "markdown",
   "metadata": {},
   "source": [
    "# Bar Chart by Genre"
   ]
  },
  {
   "cell_type": "code",
   "execution_count": 106,
   "metadata": {},
   "outputs": [],
   "source": [
    "genre_action = movie_data_df[ movie_data_df['Genre_Action'] == 1]"
   ]
  },
  {
   "cell_type": "code",
   "execution_count": 107,
   "metadata": {},
   "outputs": [
    {
     "data": {
      "text/html": [
       "<div>\n",
       "<style scoped>\n",
       "    .dataframe tbody tr th:only-of-type {\n",
       "        vertical-align: middle;\n",
       "    }\n",
       "\n",
       "    .dataframe tbody tr th {\n",
       "        vertical-align: top;\n",
       "    }\n",
       "\n",
       "    .dataframe thead th {\n",
       "        text-align: right;\n",
       "    }\n",
       "</style>\n",
       "<table border=\"1\" class=\"dataframe\">\n",
       "  <thead>\n",
       "    <tr style=\"text-align: right;\">\n",
       "      <th></th>\n",
       "      <th>Worldwide</th>\n",
       "    </tr>\n",
       "    <tr>\n",
       "      <th>Year</th>\n",
       "      <th></th>\n",
       "    </tr>\n",
       "  </thead>\n",
       "  <tbody>\n",
       "    <tr>\n",
       "      <td>2015</td>\n",
       "      <td>1.616175e+10</td>\n",
       "    </tr>\n",
       "    <tr>\n",
       "      <td>2016</td>\n",
       "      <td>1.411207e+10</td>\n",
       "    </tr>\n",
       "    <tr>\n",
       "      <td>2017</td>\n",
       "      <td>1.743108e+10</td>\n",
       "    </tr>\n",
       "    <tr>\n",
       "      <td>2018</td>\n",
       "      <td>1.816058e+10</td>\n",
       "    </tr>\n",
       "    <tr>\n",
       "      <td>2019</td>\n",
       "      <td>1.225208e+10</td>\n",
       "    </tr>\n",
       "  </tbody>\n",
       "</table>\n",
       "</div>"
      ],
      "text/plain": [
       "         Worldwide\n",
       "Year              \n",
       "2015  1.616175e+10\n",
       "2016  1.411207e+10\n",
       "2017  1.743108e+10\n",
       "2018  1.816058e+10\n",
       "2019  1.225208e+10"
      ]
     },
     "execution_count": 107,
     "metadata": {},
     "output_type": "execute_result"
    }
   ],
   "source": [
    "genre_action[['Year', 'Worldwide']].groupby(['Year']).agg('sum')"
   ]
  },
  {
   "cell_type": "code",
   "execution_count": 108,
   "metadata": {},
   "outputs": [
    {
     "data": {
      "text/plain": [
       "78117550560.0"
      ]
     },
     "execution_count": 108,
     "metadata": {},
     "output_type": "execute_result"
    }
   ],
   "source": [
    "sum(genre_action[['Year', 'Worldwide']].groupby(['Year']).agg('sum')['Worldwide'])"
   ]
  },
  {
   "cell_type": "markdown",
   "metadata": {},
   "source": [
    "Now that we know how to do it for one genre, build a function that we can call for each movie genre. It returns total and count, so that the client can calculate average."
   ]
  },
  {
   "cell_type": "code",
   "execution_count": 109,
   "metadata": {},
   "outputs": [],
   "source": [
    "def group_by_genre(genre):\n",
    "    genre_cat = movie_data_df[ movie_data_df[genre] == 1]\n",
    "    total = sum(genre_cat[['Year', 'Worldwide']].groupby(['Year']).agg('sum')['Worldwide'])\n",
    "    count = sum(genre_cat[['Year', 'Worldwide']].groupby(['Year']).size()) \n",
    "    return total, count\n",
    "    "
   ]
  },
  {
   "cell_type": "markdown",
   "metadata": {},
   "source": [
    "Test it for Action genre and make sure we get the same answer."
   ]
  },
  {
   "cell_type": "code",
   "execution_count": 110,
   "metadata": {},
   "outputs": [
    {
     "data": {
      "text/plain": [
       "(78117550560.0, 321)"
      ]
     },
     "execution_count": 110,
     "metadata": {},
     "output_type": "execute_result"
    }
   ],
   "source": [
    "group_by_genre(\"Genre_Action\")"
   ]
  },
  {
   "cell_type": "markdown",
   "metadata": {},
   "source": [
    "Now build a loop that for each Genre adds total, average, and gebnre name to separate lists."
   ]
  },
  {
   "cell_type": "code",
   "execution_count": 111,
   "metadata": {},
   "outputs": [],
   "source": [
    "total_list = []\n",
    "avg_list = []\n",
    "genre_list = []"
   ]
  },
  {
   "cell_type": "code",
   "execution_count": 112,
   "metadata": {},
   "outputs": [
    {
     "name": "stdout",
     "output_type": "stream",
     "text": [
      "78117550560.0 321\n",
      "29759467609.0 114\n",
      "11782311124.0 162\n",
      "84140916917.0 247\n",
      "12253460814.0 123\n",
      "23838880421.0 93\n",
      "10617033645.0 137\n",
      "8051549911.0 133\n",
      "44119887542.0 559\n",
      "4682133125.0 43\n",
      "4935315411.0 19\n",
      "37316730468.0 161\n",
      "46808535740.0 355\n",
      "1079547421.0 11\n",
      "35710963506.0 273\n",
      "4574086187.0 75\n",
      "10238278428.0 117\n",
      "312525355.0 93\n",
      "2036669688.0 39\n",
      "53102075391.0 129\n",
      "5548985017.0 55\n",
      "[78117550560.0, 29759467609.0, 11782311124.0, 84140916917.0, 12253460814.0, 23838880421.0, 10617033645.0, 8051549911.0, 44119887542.0, 4682133125.0, 4935315411.0, 37316730468.0, 46808535740.0, 1079547421.0, 35710963506.0, 4574086187.0, 10238278428.0, 312525355.0, 2036669688.0, 53102075391.0, 5548985017.0]\n",
      "[243356855, 261047961, 72730315, 340651485, 99621632, 256332047, 77496595, 60537969, 78926453, 108886816, 259753442, 231780934, 131855030, 98140674, 130809390, 60987815, 87506653, 3360487, 52222299, 411643995, 100890636]\n",
      "['Action', 'Family', 'Crime', 'Adventure', 'Mystery', 'Animation', 'Romance', 'Biography', 'Drama', 'War', 'Musical', 'Fantasy', 'Comedy', 'Western', 'Thriller', 'History', 'Horror', 'Documentary', 'Sport', 'Sci-Fi', 'Music']\n"
     ]
    }
   ],
   "source": [
    "for col in movie_data_df.columns:\n",
    "    if \"Genre_\" in col:\n",
    "        total, count = group_by_genre(col)\n",
    "        if total > 0:\n",
    "           print(total, count)\n",
    "           total_list.append(total)\n",
    "           avg_list.append(int(total/count))\n",
    "           genre_list.append(col[6:])\n",
    "\n",
    "print(total_list)\n",
    "print(avg_list)\n",
    "print(genre_list)"
   ]
  },
  {
   "cell_type": "markdown",
   "metadata": {},
   "source": [
    "Now determine the top x. This starts by creating a sorted list in descending order (large to small). top is the number of elements to show. "
   ]
  },
  {
   "cell_type": "code",
   "execution_count": 113,
   "metadata": {},
   "outputs": [
    {
     "data": {
      "text/plain": [
       "[84140916917.0,\n",
       " 78117550560.0,\n",
       " 53102075391.0,\n",
       " 46808535740.0,\n",
       " 44119887542.0,\n",
       " 37316730468.0,\n",
       " 35710963506.0,\n",
       " 29759467609.0,\n",
       " 23838880421.0,\n",
       " 12253460814.0,\n",
       " 11782311124.0,\n",
       " 10617033645.0,\n",
       " 10238278428.0,\n",
       " 8051549911.0,\n",
       " 5548985017.0,\n",
       " 4935315411.0,\n",
       " 4682133125.0,\n",
       " 4574086187.0,\n",
       " 2036669688.0,\n",
       " 1079547421.0,\n",
       " 312525355.0]"
      ]
     },
     "execution_count": 113,
     "metadata": {},
     "output_type": "execute_result"
    }
   ],
   "source": [
    "top = 10\n",
    "total_sorted = sorted(total_list, reverse=True)\n",
    "total_sorted"
   ]
  },
  {
   "cell_type": "markdown",
   "metadata": {},
   "source": [
    "Create empty top lists for total, average, and genre."
   ]
  },
  {
   "cell_type": "code",
   "execution_count": 114,
   "metadata": {},
   "outputs": [],
   "source": [
    "top_total = []\n",
    "top_genres = []\n",
    "top_avg = []"
   ]
  },
  {
   "cell_type": "markdown",
   "metadata": {},
   "source": [
    "The loop below selects each top x totals. Determines the index for the total in the original lists, and then uses that to append to the top_xxx lists."
   ]
  },
  {
   "cell_type": "code",
   "execution_count": 115,
   "metadata": {},
   "outputs": [
    {
     "name": "stdout",
     "output_type": "stream",
     "text": [
      "84140916917.0 340651485 Adventure\n",
      "78117550560.0 243356855 Action\n",
      "53102075391.0 411643995 Sci-Fi\n",
      "46808535740.0 131855030 Comedy\n",
      "44119887542.0 78926453 Drama\n",
      "37316730468.0 231780934 Fantasy\n",
      "35710963506.0 130809390 Thriller\n",
      "29759467609.0 261047961 Family\n",
      "23838880421.0 256332047 Animation\n",
      "12253460814.0 99621632 Mystery\n"
     ]
    }
   ],
   "source": [
    "for i in range(top):\n",
    "    for j, total in enumerate(total_list):\n",
    "#        print(i, j)\n",
    "        category = genre_list[j]\n",
    "        if total_sorted[i] == total and category not in top_genres: \n",
    "           top_total.append(total)\n",
    "           top_avg.append(avg_list[j])\n",
    "           top_genres.append(genre_list[j])\n",
    "            \n",
    "           print(total, avg_list[j], genre_list[j])\n",
    "           break"
   ]
  },
  {
   "cell_type": "code",
   "execution_count": 116,
   "metadata": {},
   "outputs": [
    {
     "data": {
      "text/plain": [
       "[84140916917.0,\n",
       " 78117550560.0,\n",
       " 53102075391.0,\n",
       " 46808535740.0,\n",
       " 44119887542.0,\n",
       " 37316730468.0,\n",
       " 35710963506.0,\n",
       " 29759467609.0,\n",
       " 23838880421.0,\n",
       " 12253460814.0]"
      ]
     },
     "execution_count": 116,
     "metadata": {},
     "output_type": "execute_result"
    }
   ],
   "source": [
    "top_total"
   ]
  },
  {
   "cell_type": "code",
   "execution_count": 117,
   "metadata": {},
   "outputs": [
    {
     "data": {
      "text/plain": [
       "[340651485,\n",
       " 243356855,\n",
       " 411643995,\n",
       " 131855030,\n",
       " 78926453,\n",
       " 231780934,\n",
       " 130809390,\n",
       " 261047961,\n",
       " 256332047,\n",
       " 99621632]"
      ]
     },
     "execution_count": 117,
     "metadata": {},
     "output_type": "execute_result"
    }
   ],
   "source": [
    "top_avg"
   ]
  },
  {
   "cell_type": "code",
   "execution_count": 118,
   "metadata": {
    "scrolled": true
   },
   "outputs": [
    {
     "data": {
      "text/plain": [
       "['Adventure',\n",
       " 'Action',\n",
       " 'Sci-Fi',\n",
       " 'Comedy',\n",
       " 'Drama',\n",
       " 'Fantasy',\n",
       " 'Thriller',\n",
       " 'Family',\n",
       " 'Animation',\n",
       " 'Mystery']"
      ]
     },
     "execution_count": 118,
     "metadata": {},
     "output_type": "execute_result"
    }
   ],
   "source": [
    "top_genres"
   ]
  },
  {
   "cell_type": "code",
   "execution_count": 119,
   "metadata": {},
   "outputs": [
    {
     "data": {
      "application/vnd.plotly.v1+json": {
       "config": {
        "plotlyServerURL": "https://plot.ly"
       },
       "data": [
        {
         "type": "bar",
         "x": [
          "Adventure",
          "Action",
          "Sci-Fi",
          "Comedy",
          "Drama",
          "Fantasy",
          "Thriller",
          "Family",
          "Animation",
          "Mystery"
         ],
         "y": [
          84140916917,
          78117550560,
          53102075391,
          46808535740,
          44119887542,
          37316730468,
          35710963506,
          29759467609,
          23838880421,
          12253460814
         ]
        }
       ],
       "layout": {
        "template": {
         "data": {
          "bar": [
           {
            "error_x": {
             "color": "#2a3f5f"
            },
            "error_y": {
             "color": "#2a3f5f"
            },
            "marker": {
             "line": {
              "color": "#E5ECF6",
              "width": 0.5
             }
            },
            "type": "bar"
           }
          ],
          "barpolar": [
           {
            "marker": {
             "line": {
              "color": "#E5ECF6",
              "width": 0.5
             }
            },
            "type": "barpolar"
           }
          ],
          "carpet": [
           {
            "aaxis": {
             "endlinecolor": "#2a3f5f",
             "gridcolor": "white",
             "linecolor": "white",
             "minorgridcolor": "white",
             "startlinecolor": "#2a3f5f"
            },
            "baxis": {
             "endlinecolor": "#2a3f5f",
             "gridcolor": "white",
             "linecolor": "white",
             "minorgridcolor": "white",
             "startlinecolor": "#2a3f5f"
            },
            "type": "carpet"
           }
          ],
          "choropleth": [
           {
            "colorbar": {
             "outlinewidth": 0,
             "ticks": ""
            },
            "type": "choropleth"
           }
          ],
          "contour": [
           {
            "colorbar": {
             "outlinewidth": 0,
             "ticks": ""
            },
            "colorscale": [
             [
              0,
              "#0d0887"
             ],
             [
              0.1111111111111111,
              "#46039f"
             ],
             [
              0.2222222222222222,
              "#7201a8"
             ],
             [
              0.3333333333333333,
              "#9c179e"
             ],
             [
              0.4444444444444444,
              "#bd3786"
             ],
             [
              0.5555555555555556,
              "#d8576b"
             ],
             [
              0.6666666666666666,
              "#ed7953"
             ],
             [
              0.7777777777777778,
              "#fb9f3a"
             ],
             [
              0.8888888888888888,
              "#fdca26"
             ],
             [
              1,
              "#f0f921"
             ]
            ],
            "type": "contour"
           }
          ],
          "contourcarpet": [
           {
            "colorbar": {
             "outlinewidth": 0,
             "ticks": ""
            },
            "type": "contourcarpet"
           }
          ],
          "heatmap": [
           {
            "colorbar": {
             "outlinewidth": 0,
             "ticks": ""
            },
            "colorscale": [
             [
              0,
              "#0d0887"
             ],
             [
              0.1111111111111111,
              "#46039f"
             ],
             [
              0.2222222222222222,
              "#7201a8"
             ],
             [
              0.3333333333333333,
              "#9c179e"
             ],
             [
              0.4444444444444444,
              "#bd3786"
             ],
             [
              0.5555555555555556,
              "#d8576b"
             ],
             [
              0.6666666666666666,
              "#ed7953"
             ],
             [
              0.7777777777777778,
              "#fb9f3a"
             ],
             [
              0.8888888888888888,
              "#fdca26"
             ],
             [
              1,
              "#f0f921"
             ]
            ],
            "type": "heatmap"
           }
          ],
          "heatmapgl": [
           {
            "colorbar": {
             "outlinewidth": 0,
             "ticks": ""
            },
            "colorscale": [
             [
              0,
              "#0d0887"
             ],
             [
              0.1111111111111111,
              "#46039f"
             ],
             [
              0.2222222222222222,
              "#7201a8"
             ],
             [
              0.3333333333333333,
              "#9c179e"
             ],
             [
              0.4444444444444444,
              "#bd3786"
             ],
             [
              0.5555555555555556,
              "#d8576b"
             ],
             [
              0.6666666666666666,
              "#ed7953"
             ],
             [
              0.7777777777777778,
              "#fb9f3a"
             ],
             [
              0.8888888888888888,
              "#fdca26"
             ],
             [
              1,
              "#f0f921"
             ]
            ],
            "type": "heatmapgl"
           }
          ],
          "histogram": [
           {
            "marker": {
             "colorbar": {
              "outlinewidth": 0,
              "ticks": ""
             }
            },
            "type": "histogram"
           }
          ],
          "histogram2d": [
           {
            "colorbar": {
             "outlinewidth": 0,
             "ticks": ""
            },
            "colorscale": [
             [
              0,
              "#0d0887"
             ],
             [
              0.1111111111111111,
              "#46039f"
             ],
             [
              0.2222222222222222,
              "#7201a8"
             ],
             [
              0.3333333333333333,
              "#9c179e"
             ],
             [
              0.4444444444444444,
              "#bd3786"
             ],
             [
              0.5555555555555556,
              "#d8576b"
             ],
             [
              0.6666666666666666,
              "#ed7953"
             ],
             [
              0.7777777777777778,
              "#fb9f3a"
             ],
             [
              0.8888888888888888,
              "#fdca26"
             ],
             [
              1,
              "#f0f921"
             ]
            ],
            "type": "histogram2d"
           }
          ],
          "histogram2dcontour": [
           {
            "colorbar": {
             "outlinewidth": 0,
             "ticks": ""
            },
            "colorscale": [
             [
              0,
              "#0d0887"
             ],
             [
              0.1111111111111111,
              "#46039f"
             ],
             [
              0.2222222222222222,
              "#7201a8"
             ],
             [
              0.3333333333333333,
              "#9c179e"
             ],
             [
              0.4444444444444444,
              "#bd3786"
             ],
             [
              0.5555555555555556,
              "#d8576b"
             ],
             [
              0.6666666666666666,
              "#ed7953"
             ],
             [
              0.7777777777777778,
              "#fb9f3a"
             ],
             [
              0.8888888888888888,
              "#fdca26"
             ],
             [
              1,
              "#f0f921"
             ]
            ],
            "type": "histogram2dcontour"
           }
          ],
          "mesh3d": [
           {
            "colorbar": {
             "outlinewidth": 0,
             "ticks": ""
            },
            "type": "mesh3d"
           }
          ],
          "parcoords": [
           {
            "line": {
             "colorbar": {
              "outlinewidth": 0,
              "ticks": ""
             }
            },
            "type": "parcoords"
           }
          ],
          "pie": [
           {
            "automargin": true,
            "type": "pie"
           }
          ],
          "scatter": [
           {
            "marker": {
             "colorbar": {
              "outlinewidth": 0,
              "ticks": ""
             }
            },
            "type": "scatter"
           }
          ],
          "scatter3d": [
           {
            "line": {
             "colorbar": {
              "outlinewidth": 0,
              "ticks": ""
             }
            },
            "marker": {
             "colorbar": {
              "outlinewidth": 0,
              "ticks": ""
             }
            },
            "type": "scatter3d"
           }
          ],
          "scattercarpet": [
           {
            "marker": {
             "colorbar": {
              "outlinewidth": 0,
              "ticks": ""
             }
            },
            "type": "scattercarpet"
           }
          ],
          "scattergeo": [
           {
            "marker": {
             "colorbar": {
              "outlinewidth": 0,
              "ticks": ""
             }
            },
            "type": "scattergeo"
           }
          ],
          "scattergl": [
           {
            "marker": {
             "colorbar": {
              "outlinewidth": 0,
              "ticks": ""
             }
            },
            "type": "scattergl"
           }
          ],
          "scattermapbox": [
           {
            "marker": {
             "colorbar": {
              "outlinewidth": 0,
              "ticks": ""
             }
            },
            "type": "scattermapbox"
           }
          ],
          "scatterpolar": [
           {
            "marker": {
             "colorbar": {
              "outlinewidth": 0,
              "ticks": ""
             }
            },
            "type": "scatterpolar"
           }
          ],
          "scatterpolargl": [
           {
            "marker": {
             "colorbar": {
              "outlinewidth": 0,
              "ticks": ""
             }
            },
            "type": "scatterpolargl"
           }
          ],
          "scatterternary": [
           {
            "marker": {
             "colorbar": {
              "outlinewidth": 0,
              "ticks": ""
             }
            },
            "type": "scatterternary"
           }
          ],
          "surface": [
           {
            "colorbar": {
             "outlinewidth": 0,
             "ticks": ""
            },
            "colorscale": [
             [
              0,
              "#0d0887"
             ],
             [
              0.1111111111111111,
              "#46039f"
             ],
             [
              0.2222222222222222,
              "#7201a8"
             ],
             [
              0.3333333333333333,
              "#9c179e"
             ],
             [
              0.4444444444444444,
              "#bd3786"
             ],
             [
              0.5555555555555556,
              "#d8576b"
             ],
             [
              0.6666666666666666,
              "#ed7953"
             ],
             [
              0.7777777777777778,
              "#fb9f3a"
             ],
             [
              0.8888888888888888,
              "#fdca26"
             ],
             [
              1,
              "#f0f921"
             ]
            ],
            "type": "surface"
           }
          ],
          "table": [
           {
            "cells": {
             "fill": {
              "color": "#EBF0F8"
             },
             "line": {
              "color": "white"
             }
            },
            "header": {
             "fill": {
              "color": "#C8D4E3"
             },
             "line": {
              "color": "white"
             }
            },
            "type": "table"
           }
          ]
         },
         "layout": {
          "annotationdefaults": {
           "arrowcolor": "#2a3f5f",
           "arrowhead": 0,
           "arrowwidth": 1
          },
          "coloraxis": {
           "colorbar": {
            "outlinewidth": 0,
            "ticks": ""
           }
          },
          "colorscale": {
           "diverging": [
            [
             0,
             "#8e0152"
            ],
            [
             0.1,
             "#c51b7d"
            ],
            [
             0.2,
             "#de77ae"
            ],
            [
             0.3,
             "#f1b6da"
            ],
            [
             0.4,
             "#fde0ef"
            ],
            [
             0.5,
             "#f7f7f7"
            ],
            [
             0.6,
             "#e6f5d0"
            ],
            [
             0.7,
             "#b8e186"
            ],
            [
             0.8,
             "#7fbc41"
            ],
            [
             0.9,
             "#4d9221"
            ],
            [
             1,
             "#276419"
            ]
           ],
           "sequential": [
            [
             0,
             "#0d0887"
            ],
            [
             0.1111111111111111,
             "#46039f"
            ],
            [
             0.2222222222222222,
             "#7201a8"
            ],
            [
             0.3333333333333333,
             "#9c179e"
            ],
            [
             0.4444444444444444,
             "#bd3786"
            ],
            [
             0.5555555555555556,
             "#d8576b"
            ],
            [
             0.6666666666666666,
             "#ed7953"
            ],
            [
             0.7777777777777778,
             "#fb9f3a"
            ],
            [
             0.8888888888888888,
             "#fdca26"
            ],
            [
             1,
             "#f0f921"
            ]
           ],
           "sequentialminus": [
            [
             0,
             "#0d0887"
            ],
            [
             0.1111111111111111,
             "#46039f"
            ],
            [
             0.2222222222222222,
             "#7201a8"
            ],
            [
             0.3333333333333333,
             "#9c179e"
            ],
            [
             0.4444444444444444,
             "#bd3786"
            ],
            [
             0.5555555555555556,
             "#d8576b"
            ],
            [
             0.6666666666666666,
             "#ed7953"
            ],
            [
             0.7777777777777778,
             "#fb9f3a"
            ],
            [
             0.8888888888888888,
             "#fdca26"
            ],
            [
             1,
             "#f0f921"
            ]
           ]
          },
          "colorway": [
           "#636efa",
           "#EF553B",
           "#00cc96",
           "#ab63fa",
           "#FFA15A",
           "#19d3f3",
           "#FF6692",
           "#B6E880",
           "#FF97FF",
           "#FECB52"
          ],
          "font": {
           "color": "#2a3f5f"
          },
          "geo": {
           "bgcolor": "white",
           "lakecolor": "white",
           "landcolor": "#E5ECF6",
           "showlakes": true,
           "showland": true,
           "subunitcolor": "white"
          },
          "hoverlabel": {
           "align": "left"
          },
          "hovermode": "closest",
          "mapbox": {
           "style": "light"
          },
          "paper_bgcolor": "white",
          "plot_bgcolor": "#E5ECF6",
          "polar": {
           "angularaxis": {
            "gridcolor": "white",
            "linecolor": "white",
            "ticks": ""
           },
           "bgcolor": "#E5ECF6",
           "radialaxis": {
            "gridcolor": "white",
            "linecolor": "white",
            "ticks": ""
           }
          },
          "scene": {
           "xaxis": {
            "backgroundcolor": "#E5ECF6",
            "gridcolor": "white",
            "gridwidth": 2,
            "linecolor": "white",
            "showbackground": true,
            "ticks": "",
            "zerolinecolor": "white"
           },
           "yaxis": {
            "backgroundcolor": "#E5ECF6",
            "gridcolor": "white",
            "gridwidth": 2,
            "linecolor": "white",
            "showbackground": true,
            "ticks": "",
            "zerolinecolor": "white"
           },
           "zaxis": {
            "backgroundcolor": "#E5ECF6",
            "gridcolor": "white",
            "gridwidth": 2,
            "linecolor": "white",
            "showbackground": true,
            "ticks": "",
            "zerolinecolor": "white"
           }
          },
          "shapedefaults": {
           "line": {
            "color": "#2a3f5f"
           }
          },
          "ternary": {
           "aaxis": {
            "gridcolor": "white",
            "linecolor": "white",
            "ticks": ""
           },
           "baxis": {
            "gridcolor": "white",
            "linecolor": "white",
            "ticks": ""
           },
           "bgcolor": "#E5ECF6",
           "caxis": {
            "gridcolor": "white",
            "linecolor": "white",
            "ticks": ""
           }
          },
          "title": {
           "x": 0.05
          },
          "xaxis": {
           "automargin": true,
           "gridcolor": "white",
           "linecolor": "white",
           "ticks": "",
           "title": {
            "standoff": 15
           },
           "zerolinecolor": "white",
           "zerolinewidth": 2
          },
          "yaxis": {
           "automargin": true,
           "gridcolor": "white",
           "linecolor": "white",
           "ticks": "",
           "title": {
            "standoff": 15
           },
           "zerolinecolor": "white",
           "zerolinewidth": 2
          }
         }
        }
       }
      },
      "text/html": [
       "<div>\n",
       "        \n",
       "        \n",
       "            <div id=\"d1d3b216-a160-42f6-9418-46486af39308\" class=\"plotly-graph-div\" style=\"height:525px; width:100%;\"></div>\n",
       "            <script type=\"text/javascript\">\n",
       "                require([\"plotly\"], function(Plotly) {\n",
       "                    window.PLOTLYENV=window.PLOTLYENV || {};\n",
       "                    \n",
       "                if (document.getElementById(\"d1d3b216-a160-42f6-9418-46486af39308\")) {\n",
       "                    Plotly.newPlot(\n",
       "                        'd1d3b216-a160-42f6-9418-46486af39308',\n",
       "                        [{\"type\": \"bar\", \"x\": [\"Adventure\", \"Action\", \"Sci-Fi\", \"Comedy\", \"Drama\", \"Fantasy\", \"Thriller\", \"Family\", \"Animation\", \"Mystery\"], \"y\": [84140916917.0, 78117550560.0, 53102075391.0, 46808535740.0, 44119887542.0, 37316730468.0, 35710963506.0, 29759467609.0, 23838880421.0, 12253460814.0]}],\n",
       "                        {\"template\": {\"data\": {\"bar\": [{\"error_x\": {\"color\": \"#2a3f5f\"}, \"error_y\": {\"color\": \"#2a3f5f\"}, \"marker\": {\"line\": {\"color\": \"#E5ECF6\", \"width\": 0.5}}, \"type\": \"bar\"}], \"barpolar\": [{\"marker\": {\"line\": {\"color\": \"#E5ECF6\", \"width\": 0.5}}, \"type\": \"barpolar\"}], \"carpet\": [{\"aaxis\": {\"endlinecolor\": \"#2a3f5f\", \"gridcolor\": \"white\", \"linecolor\": \"white\", \"minorgridcolor\": \"white\", \"startlinecolor\": \"#2a3f5f\"}, \"baxis\": {\"endlinecolor\": \"#2a3f5f\", \"gridcolor\": \"white\", \"linecolor\": \"white\", \"minorgridcolor\": \"white\", \"startlinecolor\": \"#2a3f5f\"}, \"type\": \"carpet\"}], \"choropleth\": [{\"colorbar\": {\"outlinewidth\": 0, \"ticks\": \"\"}, \"type\": \"choropleth\"}], \"contour\": [{\"colorbar\": {\"outlinewidth\": 0, \"ticks\": \"\"}, \"colorscale\": [[0.0, \"#0d0887\"], [0.1111111111111111, \"#46039f\"], [0.2222222222222222, \"#7201a8\"], [0.3333333333333333, \"#9c179e\"], [0.4444444444444444, \"#bd3786\"], [0.5555555555555556, \"#d8576b\"], [0.6666666666666666, \"#ed7953\"], [0.7777777777777778, \"#fb9f3a\"], [0.8888888888888888, \"#fdca26\"], [1.0, \"#f0f921\"]], \"type\": \"contour\"}], \"contourcarpet\": [{\"colorbar\": {\"outlinewidth\": 0, \"ticks\": \"\"}, \"type\": \"contourcarpet\"}], \"heatmap\": [{\"colorbar\": {\"outlinewidth\": 0, \"ticks\": \"\"}, \"colorscale\": [[0.0, \"#0d0887\"], [0.1111111111111111, \"#46039f\"], [0.2222222222222222, \"#7201a8\"], [0.3333333333333333, \"#9c179e\"], [0.4444444444444444, \"#bd3786\"], [0.5555555555555556, \"#d8576b\"], [0.6666666666666666, \"#ed7953\"], [0.7777777777777778, \"#fb9f3a\"], [0.8888888888888888, \"#fdca26\"], [1.0, \"#f0f921\"]], \"type\": \"heatmap\"}], \"heatmapgl\": [{\"colorbar\": {\"outlinewidth\": 0, \"ticks\": \"\"}, \"colorscale\": [[0.0, \"#0d0887\"], [0.1111111111111111, \"#46039f\"], [0.2222222222222222, \"#7201a8\"], [0.3333333333333333, \"#9c179e\"], [0.4444444444444444, \"#bd3786\"], [0.5555555555555556, \"#d8576b\"], [0.6666666666666666, \"#ed7953\"], [0.7777777777777778, \"#fb9f3a\"], [0.8888888888888888, \"#fdca26\"], [1.0, \"#f0f921\"]], \"type\": \"heatmapgl\"}], \"histogram\": [{\"marker\": {\"colorbar\": {\"outlinewidth\": 0, \"ticks\": \"\"}}, \"type\": \"histogram\"}], \"histogram2d\": [{\"colorbar\": {\"outlinewidth\": 0, \"ticks\": \"\"}, \"colorscale\": [[0.0, \"#0d0887\"], [0.1111111111111111, \"#46039f\"], [0.2222222222222222, \"#7201a8\"], [0.3333333333333333, \"#9c179e\"], [0.4444444444444444, \"#bd3786\"], [0.5555555555555556, \"#d8576b\"], [0.6666666666666666, \"#ed7953\"], [0.7777777777777778, \"#fb9f3a\"], [0.8888888888888888, \"#fdca26\"], [1.0, \"#f0f921\"]], \"type\": \"histogram2d\"}], \"histogram2dcontour\": [{\"colorbar\": {\"outlinewidth\": 0, \"ticks\": \"\"}, \"colorscale\": [[0.0, \"#0d0887\"], [0.1111111111111111, \"#46039f\"], [0.2222222222222222, \"#7201a8\"], [0.3333333333333333, \"#9c179e\"], [0.4444444444444444, \"#bd3786\"], [0.5555555555555556, \"#d8576b\"], [0.6666666666666666, \"#ed7953\"], [0.7777777777777778, \"#fb9f3a\"], [0.8888888888888888, \"#fdca26\"], [1.0, \"#f0f921\"]], \"type\": \"histogram2dcontour\"}], \"mesh3d\": [{\"colorbar\": {\"outlinewidth\": 0, \"ticks\": \"\"}, \"type\": \"mesh3d\"}], \"parcoords\": [{\"line\": {\"colorbar\": {\"outlinewidth\": 0, \"ticks\": \"\"}}, \"type\": \"parcoords\"}], \"pie\": [{\"automargin\": true, \"type\": \"pie\"}], \"scatter\": [{\"marker\": {\"colorbar\": {\"outlinewidth\": 0, \"ticks\": \"\"}}, \"type\": \"scatter\"}], \"scatter3d\": [{\"line\": {\"colorbar\": {\"outlinewidth\": 0, \"ticks\": \"\"}}, \"marker\": {\"colorbar\": {\"outlinewidth\": 0, \"ticks\": \"\"}}, \"type\": \"scatter3d\"}], \"scattercarpet\": [{\"marker\": {\"colorbar\": {\"outlinewidth\": 0, \"ticks\": \"\"}}, \"type\": \"scattercarpet\"}], \"scattergeo\": [{\"marker\": {\"colorbar\": {\"outlinewidth\": 0, \"ticks\": \"\"}}, \"type\": \"scattergeo\"}], \"scattergl\": [{\"marker\": {\"colorbar\": {\"outlinewidth\": 0, \"ticks\": \"\"}}, \"type\": \"scattergl\"}], \"scattermapbox\": [{\"marker\": {\"colorbar\": {\"outlinewidth\": 0, \"ticks\": \"\"}}, \"type\": \"scattermapbox\"}], \"scatterpolar\": [{\"marker\": {\"colorbar\": {\"outlinewidth\": 0, \"ticks\": \"\"}}, \"type\": \"scatterpolar\"}], \"scatterpolargl\": [{\"marker\": {\"colorbar\": {\"outlinewidth\": 0, \"ticks\": \"\"}}, \"type\": \"scatterpolargl\"}], \"scatterternary\": [{\"marker\": {\"colorbar\": {\"outlinewidth\": 0, \"ticks\": \"\"}}, \"type\": \"scatterternary\"}], \"surface\": [{\"colorbar\": {\"outlinewidth\": 0, \"ticks\": \"\"}, \"colorscale\": [[0.0, \"#0d0887\"], [0.1111111111111111, \"#46039f\"], [0.2222222222222222, \"#7201a8\"], [0.3333333333333333, \"#9c179e\"], [0.4444444444444444, \"#bd3786\"], [0.5555555555555556, \"#d8576b\"], [0.6666666666666666, \"#ed7953\"], [0.7777777777777778, \"#fb9f3a\"], [0.8888888888888888, \"#fdca26\"], [1.0, \"#f0f921\"]], \"type\": \"surface\"}], \"table\": [{\"cells\": {\"fill\": {\"color\": \"#EBF0F8\"}, \"line\": {\"color\": \"white\"}}, \"header\": {\"fill\": {\"color\": \"#C8D4E3\"}, \"line\": {\"color\": \"white\"}}, \"type\": \"table\"}]}, \"layout\": {\"annotationdefaults\": {\"arrowcolor\": \"#2a3f5f\", \"arrowhead\": 0, \"arrowwidth\": 1}, \"coloraxis\": {\"colorbar\": {\"outlinewidth\": 0, \"ticks\": \"\"}}, \"colorscale\": {\"diverging\": [[0, \"#8e0152\"], [0.1, \"#c51b7d\"], [0.2, \"#de77ae\"], [0.3, \"#f1b6da\"], [0.4, \"#fde0ef\"], [0.5, \"#f7f7f7\"], [0.6, \"#e6f5d0\"], [0.7, \"#b8e186\"], [0.8, \"#7fbc41\"], [0.9, \"#4d9221\"], [1, \"#276419\"]], \"sequential\": [[0.0, \"#0d0887\"], [0.1111111111111111, \"#46039f\"], [0.2222222222222222, \"#7201a8\"], [0.3333333333333333, \"#9c179e\"], [0.4444444444444444, \"#bd3786\"], [0.5555555555555556, \"#d8576b\"], [0.6666666666666666, \"#ed7953\"], [0.7777777777777778, \"#fb9f3a\"], [0.8888888888888888, \"#fdca26\"], [1.0, \"#f0f921\"]], \"sequentialminus\": [[0.0, \"#0d0887\"], [0.1111111111111111, \"#46039f\"], [0.2222222222222222, \"#7201a8\"], [0.3333333333333333, \"#9c179e\"], [0.4444444444444444, \"#bd3786\"], [0.5555555555555556, \"#d8576b\"], [0.6666666666666666, \"#ed7953\"], [0.7777777777777778, \"#fb9f3a\"], [0.8888888888888888, \"#fdca26\"], [1.0, \"#f0f921\"]]}, \"colorway\": [\"#636efa\", \"#EF553B\", \"#00cc96\", \"#ab63fa\", \"#FFA15A\", \"#19d3f3\", \"#FF6692\", \"#B6E880\", \"#FF97FF\", \"#FECB52\"], \"font\": {\"color\": \"#2a3f5f\"}, \"geo\": {\"bgcolor\": \"white\", \"lakecolor\": \"white\", \"landcolor\": \"#E5ECF6\", \"showlakes\": true, \"showland\": true, \"subunitcolor\": \"white\"}, \"hoverlabel\": {\"align\": \"left\"}, \"hovermode\": \"closest\", \"mapbox\": {\"style\": \"light\"}, \"paper_bgcolor\": \"white\", \"plot_bgcolor\": \"#E5ECF6\", \"polar\": {\"angularaxis\": {\"gridcolor\": \"white\", \"linecolor\": \"white\", \"ticks\": \"\"}, \"bgcolor\": \"#E5ECF6\", \"radialaxis\": {\"gridcolor\": \"white\", \"linecolor\": \"white\", \"ticks\": \"\"}}, \"scene\": {\"xaxis\": {\"backgroundcolor\": \"#E5ECF6\", \"gridcolor\": \"white\", \"gridwidth\": 2, \"linecolor\": \"white\", \"showbackground\": true, \"ticks\": \"\", \"zerolinecolor\": \"white\"}, \"yaxis\": {\"backgroundcolor\": \"#E5ECF6\", \"gridcolor\": \"white\", \"gridwidth\": 2, \"linecolor\": \"white\", \"showbackground\": true, \"ticks\": \"\", \"zerolinecolor\": \"white\"}, \"zaxis\": {\"backgroundcolor\": \"#E5ECF6\", \"gridcolor\": \"white\", \"gridwidth\": 2, \"linecolor\": \"white\", \"showbackground\": true, \"ticks\": \"\", \"zerolinecolor\": \"white\"}}, \"shapedefaults\": {\"line\": {\"color\": \"#2a3f5f\"}}, \"ternary\": {\"aaxis\": {\"gridcolor\": \"white\", \"linecolor\": \"white\", \"ticks\": \"\"}, \"baxis\": {\"gridcolor\": \"white\", \"linecolor\": \"white\", \"ticks\": \"\"}, \"bgcolor\": \"#E5ECF6\", \"caxis\": {\"gridcolor\": \"white\", \"linecolor\": \"white\", \"ticks\": \"\"}}, \"title\": {\"x\": 0.05}, \"xaxis\": {\"automargin\": true, \"gridcolor\": \"white\", \"linecolor\": \"white\", \"ticks\": \"\", \"title\": {\"standoff\": 15}, \"zerolinecolor\": \"white\", \"zerolinewidth\": 2}, \"yaxis\": {\"automargin\": true, \"gridcolor\": \"white\", \"linecolor\": \"white\", \"ticks\": \"\", \"title\": {\"standoff\": 15}, \"zerolinecolor\": \"white\", \"zerolinewidth\": 2}}}},\n",
       "                        {\"responsive\": true}\n",
       "                    ).then(function(){\n",
       "                            \n",
       "var gd = document.getElementById('d1d3b216-a160-42f6-9418-46486af39308');\n",
       "var x = new MutationObserver(function (mutations, observer) {{\n",
       "        var display = window.getComputedStyle(gd).display;\n",
       "        if (!display || display === 'none') {{\n",
       "            console.log([gd, 'removed!']);\n",
       "            Plotly.purge(gd);\n",
       "            observer.disconnect();\n",
       "        }}\n",
       "}});\n",
       "\n",
       "// Listen for the removal of the full notebook cells\n",
       "var notebookContainer = gd.closest('#notebook-container');\n",
       "if (notebookContainer) {{\n",
       "    x.observe(notebookContainer, {childList: true});\n",
       "}}\n",
       "\n",
       "// Listen for the clearing of the current output cell\n",
       "var outputEl = gd.closest('.output');\n",
       "if (outputEl) {{\n",
       "    x.observe(outputEl, {childList: true});\n",
       "}}\n",
       "\n",
       "                        })\n",
       "                };\n",
       "                });\n",
       "            </script>\n",
       "        </div>"
      ]
     },
     "metadata": {},
     "output_type": "display_data"
    }
   ],
   "source": [
    "#plt.bar(top_genres, top_total)\n",
    "\n",
    "plot_top_genres_total = go.Figure()\n",
    "plot_top_genres_total = go.Figure([go.Bar(x=top_genres, y=top_total)])\n",
    "plot_top_genres_total.show()"
   ]
  },
  {
   "cell_type": "code",
   "execution_count": 120,
   "metadata": {},
   "outputs": [
    {
     "data": {
      "application/vnd.plotly.v1+json": {
       "config": {
        "plotlyServerURL": "https://plot.ly"
       },
       "data": [
        {
         "type": "scatter",
         "x": [
          "Adventure",
          "Action",
          "Sci-Fi",
          "Comedy",
          "Drama",
          "Fantasy",
          "Thriller",
          "Family",
          "Animation",
          "Mystery"
         ],
         "y": [
          340651485,
          243356855,
          411643995,
          131855030,
          78926453,
          231780934,
          130809390,
          261047961,
          256332047,
          99621632
         ]
        }
       ],
       "layout": {
        "template": {
         "data": {
          "bar": [
           {
            "error_x": {
             "color": "#2a3f5f"
            },
            "error_y": {
             "color": "#2a3f5f"
            },
            "marker": {
             "line": {
              "color": "#E5ECF6",
              "width": 0.5
             }
            },
            "type": "bar"
           }
          ],
          "barpolar": [
           {
            "marker": {
             "line": {
              "color": "#E5ECF6",
              "width": 0.5
             }
            },
            "type": "barpolar"
           }
          ],
          "carpet": [
           {
            "aaxis": {
             "endlinecolor": "#2a3f5f",
             "gridcolor": "white",
             "linecolor": "white",
             "minorgridcolor": "white",
             "startlinecolor": "#2a3f5f"
            },
            "baxis": {
             "endlinecolor": "#2a3f5f",
             "gridcolor": "white",
             "linecolor": "white",
             "minorgridcolor": "white",
             "startlinecolor": "#2a3f5f"
            },
            "type": "carpet"
           }
          ],
          "choropleth": [
           {
            "colorbar": {
             "outlinewidth": 0,
             "ticks": ""
            },
            "type": "choropleth"
           }
          ],
          "contour": [
           {
            "colorbar": {
             "outlinewidth": 0,
             "ticks": ""
            },
            "colorscale": [
             [
              0,
              "#0d0887"
             ],
             [
              0.1111111111111111,
              "#46039f"
             ],
             [
              0.2222222222222222,
              "#7201a8"
             ],
             [
              0.3333333333333333,
              "#9c179e"
             ],
             [
              0.4444444444444444,
              "#bd3786"
             ],
             [
              0.5555555555555556,
              "#d8576b"
             ],
             [
              0.6666666666666666,
              "#ed7953"
             ],
             [
              0.7777777777777778,
              "#fb9f3a"
             ],
             [
              0.8888888888888888,
              "#fdca26"
             ],
             [
              1,
              "#f0f921"
             ]
            ],
            "type": "contour"
           }
          ],
          "contourcarpet": [
           {
            "colorbar": {
             "outlinewidth": 0,
             "ticks": ""
            },
            "type": "contourcarpet"
           }
          ],
          "heatmap": [
           {
            "colorbar": {
             "outlinewidth": 0,
             "ticks": ""
            },
            "colorscale": [
             [
              0,
              "#0d0887"
             ],
             [
              0.1111111111111111,
              "#46039f"
             ],
             [
              0.2222222222222222,
              "#7201a8"
             ],
             [
              0.3333333333333333,
              "#9c179e"
             ],
             [
              0.4444444444444444,
              "#bd3786"
             ],
             [
              0.5555555555555556,
              "#d8576b"
             ],
             [
              0.6666666666666666,
              "#ed7953"
             ],
             [
              0.7777777777777778,
              "#fb9f3a"
             ],
             [
              0.8888888888888888,
              "#fdca26"
             ],
             [
              1,
              "#f0f921"
             ]
            ],
            "type": "heatmap"
           }
          ],
          "heatmapgl": [
           {
            "colorbar": {
             "outlinewidth": 0,
             "ticks": ""
            },
            "colorscale": [
             [
              0,
              "#0d0887"
             ],
             [
              0.1111111111111111,
              "#46039f"
             ],
             [
              0.2222222222222222,
              "#7201a8"
             ],
             [
              0.3333333333333333,
              "#9c179e"
             ],
             [
              0.4444444444444444,
              "#bd3786"
             ],
             [
              0.5555555555555556,
              "#d8576b"
             ],
             [
              0.6666666666666666,
              "#ed7953"
             ],
             [
              0.7777777777777778,
              "#fb9f3a"
             ],
             [
              0.8888888888888888,
              "#fdca26"
             ],
             [
              1,
              "#f0f921"
             ]
            ],
            "type": "heatmapgl"
           }
          ],
          "histogram": [
           {
            "marker": {
             "colorbar": {
              "outlinewidth": 0,
              "ticks": ""
             }
            },
            "type": "histogram"
           }
          ],
          "histogram2d": [
           {
            "colorbar": {
             "outlinewidth": 0,
             "ticks": ""
            },
            "colorscale": [
             [
              0,
              "#0d0887"
             ],
             [
              0.1111111111111111,
              "#46039f"
             ],
             [
              0.2222222222222222,
              "#7201a8"
             ],
             [
              0.3333333333333333,
              "#9c179e"
             ],
             [
              0.4444444444444444,
              "#bd3786"
             ],
             [
              0.5555555555555556,
              "#d8576b"
             ],
             [
              0.6666666666666666,
              "#ed7953"
             ],
             [
              0.7777777777777778,
              "#fb9f3a"
             ],
             [
              0.8888888888888888,
              "#fdca26"
             ],
             [
              1,
              "#f0f921"
             ]
            ],
            "type": "histogram2d"
           }
          ],
          "histogram2dcontour": [
           {
            "colorbar": {
             "outlinewidth": 0,
             "ticks": ""
            },
            "colorscale": [
             [
              0,
              "#0d0887"
             ],
             [
              0.1111111111111111,
              "#46039f"
             ],
             [
              0.2222222222222222,
              "#7201a8"
             ],
             [
              0.3333333333333333,
              "#9c179e"
             ],
             [
              0.4444444444444444,
              "#bd3786"
             ],
             [
              0.5555555555555556,
              "#d8576b"
             ],
             [
              0.6666666666666666,
              "#ed7953"
             ],
             [
              0.7777777777777778,
              "#fb9f3a"
             ],
             [
              0.8888888888888888,
              "#fdca26"
             ],
             [
              1,
              "#f0f921"
             ]
            ],
            "type": "histogram2dcontour"
           }
          ],
          "mesh3d": [
           {
            "colorbar": {
             "outlinewidth": 0,
             "ticks": ""
            },
            "type": "mesh3d"
           }
          ],
          "parcoords": [
           {
            "line": {
             "colorbar": {
              "outlinewidth": 0,
              "ticks": ""
             }
            },
            "type": "parcoords"
           }
          ],
          "pie": [
           {
            "automargin": true,
            "type": "pie"
           }
          ],
          "scatter": [
           {
            "marker": {
             "colorbar": {
              "outlinewidth": 0,
              "ticks": ""
             }
            },
            "type": "scatter"
           }
          ],
          "scatter3d": [
           {
            "line": {
             "colorbar": {
              "outlinewidth": 0,
              "ticks": ""
             }
            },
            "marker": {
             "colorbar": {
              "outlinewidth": 0,
              "ticks": ""
             }
            },
            "type": "scatter3d"
           }
          ],
          "scattercarpet": [
           {
            "marker": {
             "colorbar": {
              "outlinewidth": 0,
              "ticks": ""
             }
            },
            "type": "scattercarpet"
           }
          ],
          "scattergeo": [
           {
            "marker": {
             "colorbar": {
              "outlinewidth": 0,
              "ticks": ""
             }
            },
            "type": "scattergeo"
           }
          ],
          "scattergl": [
           {
            "marker": {
             "colorbar": {
              "outlinewidth": 0,
              "ticks": ""
             }
            },
            "type": "scattergl"
           }
          ],
          "scattermapbox": [
           {
            "marker": {
             "colorbar": {
              "outlinewidth": 0,
              "ticks": ""
             }
            },
            "type": "scattermapbox"
           }
          ],
          "scatterpolar": [
           {
            "marker": {
             "colorbar": {
              "outlinewidth": 0,
              "ticks": ""
             }
            },
            "type": "scatterpolar"
           }
          ],
          "scatterpolargl": [
           {
            "marker": {
             "colorbar": {
              "outlinewidth": 0,
              "ticks": ""
             }
            },
            "type": "scatterpolargl"
           }
          ],
          "scatterternary": [
           {
            "marker": {
             "colorbar": {
              "outlinewidth": 0,
              "ticks": ""
             }
            },
            "type": "scatterternary"
           }
          ],
          "surface": [
           {
            "colorbar": {
             "outlinewidth": 0,
             "ticks": ""
            },
            "colorscale": [
             [
              0,
              "#0d0887"
             ],
             [
              0.1111111111111111,
              "#46039f"
             ],
             [
              0.2222222222222222,
              "#7201a8"
             ],
             [
              0.3333333333333333,
              "#9c179e"
             ],
             [
              0.4444444444444444,
              "#bd3786"
             ],
             [
              0.5555555555555556,
              "#d8576b"
             ],
             [
              0.6666666666666666,
              "#ed7953"
             ],
             [
              0.7777777777777778,
              "#fb9f3a"
             ],
             [
              0.8888888888888888,
              "#fdca26"
             ],
             [
              1,
              "#f0f921"
             ]
            ],
            "type": "surface"
           }
          ],
          "table": [
           {
            "cells": {
             "fill": {
              "color": "#EBF0F8"
             },
             "line": {
              "color": "white"
             }
            },
            "header": {
             "fill": {
              "color": "#C8D4E3"
             },
             "line": {
              "color": "white"
             }
            },
            "type": "table"
           }
          ]
         },
         "layout": {
          "annotationdefaults": {
           "arrowcolor": "#2a3f5f",
           "arrowhead": 0,
           "arrowwidth": 1
          },
          "coloraxis": {
           "colorbar": {
            "outlinewidth": 0,
            "ticks": ""
           }
          },
          "colorscale": {
           "diverging": [
            [
             0,
             "#8e0152"
            ],
            [
             0.1,
             "#c51b7d"
            ],
            [
             0.2,
             "#de77ae"
            ],
            [
             0.3,
             "#f1b6da"
            ],
            [
             0.4,
             "#fde0ef"
            ],
            [
             0.5,
             "#f7f7f7"
            ],
            [
             0.6,
             "#e6f5d0"
            ],
            [
             0.7,
             "#b8e186"
            ],
            [
             0.8,
             "#7fbc41"
            ],
            [
             0.9,
             "#4d9221"
            ],
            [
             1,
             "#276419"
            ]
           ],
           "sequential": [
            [
             0,
             "#0d0887"
            ],
            [
             0.1111111111111111,
             "#46039f"
            ],
            [
             0.2222222222222222,
             "#7201a8"
            ],
            [
             0.3333333333333333,
             "#9c179e"
            ],
            [
             0.4444444444444444,
             "#bd3786"
            ],
            [
             0.5555555555555556,
             "#d8576b"
            ],
            [
             0.6666666666666666,
             "#ed7953"
            ],
            [
             0.7777777777777778,
             "#fb9f3a"
            ],
            [
             0.8888888888888888,
             "#fdca26"
            ],
            [
             1,
             "#f0f921"
            ]
           ],
           "sequentialminus": [
            [
             0,
             "#0d0887"
            ],
            [
             0.1111111111111111,
             "#46039f"
            ],
            [
             0.2222222222222222,
             "#7201a8"
            ],
            [
             0.3333333333333333,
             "#9c179e"
            ],
            [
             0.4444444444444444,
             "#bd3786"
            ],
            [
             0.5555555555555556,
             "#d8576b"
            ],
            [
             0.6666666666666666,
             "#ed7953"
            ],
            [
             0.7777777777777778,
             "#fb9f3a"
            ],
            [
             0.8888888888888888,
             "#fdca26"
            ],
            [
             1,
             "#f0f921"
            ]
           ]
          },
          "colorway": [
           "#636efa",
           "#EF553B",
           "#00cc96",
           "#ab63fa",
           "#FFA15A",
           "#19d3f3",
           "#FF6692",
           "#B6E880",
           "#FF97FF",
           "#FECB52"
          ],
          "font": {
           "color": "#2a3f5f"
          },
          "geo": {
           "bgcolor": "white",
           "lakecolor": "white",
           "landcolor": "#E5ECF6",
           "showlakes": true,
           "showland": true,
           "subunitcolor": "white"
          },
          "hoverlabel": {
           "align": "left"
          },
          "hovermode": "closest",
          "mapbox": {
           "style": "light"
          },
          "paper_bgcolor": "white",
          "plot_bgcolor": "#E5ECF6",
          "polar": {
           "angularaxis": {
            "gridcolor": "white",
            "linecolor": "white",
            "ticks": ""
           },
           "bgcolor": "#E5ECF6",
           "radialaxis": {
            "gridcolor": "white",
            "linecolor": "white",
            "ticks": ""
           }
          },
          "scene": {
           "xaxis": {
            "backgroundcolor": "#E5ECF6",
            "gridcolor": "white",
            "gridwidth": 2,
            "linecolor": "white",
            "showbackground": true,
            "ticks": "",
            "zerolinecolor": "white"
           },
           "yaxis": {
            "backgroundcolor": "#E5ECF6",
            "gridcolor": "white",
            "gridwidth": 2,
            "linecolor": "white",
            "showbackground": true,
            "ticks": "",
            "zerolinecolor": "white"
           },
           "zaxis": {
            "backgroundcolor": "#E5ECF6",
            "gridcolor": "white",
            "gridwidth": 2,
            "linecolor": "white",
            "showbackground": true,
            "ticks": "",
            "zerolinecolor": "white"
           }
          },
          "shapedefaults": {
           "line": {
            "color": "#2a3f5f"
           }
          },
          "ternary": {
           "aaxis": {
            "gridcolor": "white",
            "linecolor": "white",
            "ticks": ""
           },
           "baxis": {
            "gridcolor": "white",
            "linecolor": "white",
            "ticks": ""
           },
           "bgcolor": "#E5ECF6",
           "caxis": {
            "gridcolor": "white",
            "linecolor": "white",
            "ticks": ""
           }
          },
          "title": {
           "x": 0.05
          },
          "xaxis": {
           "automargin": true,
           "gridcolor": "white",
           "linecolor": "white",
           "ticks": "",
           "title": {
            "standoff": 15
           },
           "zerolinecolor": "white",
           "zerolinewidth": 2
          },
          "yaxis": {
           "automargin": true,
           "gridcolor": "white",
           "linecolor": "white",
           "ticks": "",
           "title": {
            "standoff": 15
           },
           "zerolinecolor": "white",
           "zerolinewidth": 2
          }
         }
        }
       }
      },
      "text/html": [
       "<div>\n",
       "        \n",
       "        \n",
       "            <div id=\"115dbdb1-2204-4660-baf0-ba1e74d3d303\" class=\"plotly-graph-div\" style=\"height:525px; width:100%;\"></div>\n",
       "            <script type=\"text/javascript\">\n",
       "                require([\"plotly\"], function(Plotly) {\n",
       "                    window.PLOTLYENV=window.PLOTLYENV || {};\n",
       "                    \n",
       "                if (document.getElementById(\"115dbdb1-2204-4660-baf0-ba1e74d3d303\")) {\n",
       "                    Plotly.newPlot(\n",
       "                        '115dbdb1-2204-4660-baf0-ba1e74d3d303',\n",
       "                        [{\"type\": \"scatter\", \"x\": [\"Adventure\", \"Action\", \"Sci-Fi\", \"Comedy\", \"Drama\", \"Fantasy\", \"Thriller\", \"Family\", \"Animation\", \"Mystery\"], \"y\": [340651485, 243356855, 411643995, 131855030, 78926453, 231780934, 130809390, 261047961, 256332047, 99621632]}],\n",
       "                        {\"template\": {\"data\": {\"bar\": [{\"error_x\": {\"color\": \"#2a3f5f\"}, \"error_y\": {\"color\": \"#2a3f5f\"}, \"marker\": {\"line\": {\"color\": \"#E5ECF6\", \"width\": 0.5}}, \"type\": \"bar\"}], \"barpolar\": [{\"marker\": {\"line\": {\"color\": \"#E5ECF6\", \"width\": 0.5}}, \"type\": \"barpolar\"}], \"carpet\": [{\"aaxis\": {\"endlinecolor\": \"#2a3f5f\", \"gridcolor\": \"white\", \"linecolor\": \"white\", \"minorgridcolor\": \"white\", \"startlinecolor\": \"#2a3f5f\"}, \"baxis\": {\"endlinecolor\": \"#2a3f5f\", \"gridcolor\": \"white\", \"linecolor\": \"white\", \"minorgridcolor\": \"white\", \"startlinecolor\": \"#2a3f5f\"}, \"type\": \"carpet\"}], \"choropleth\": [{\"colorbar\": {\"outlinewidth\": 0, \"ticks\": \"\"}, \"type\": \"choropleth\"}], \"contour\": [{\"colorbar\": {\"outlinewidth\": 0, \"ticks\": \"\"}, \"colorscale\": [[0.0, \"#0d0887\"], [0.1111111111111111, \"#46039f\"], [0.2222222222222222, \"#7201a8\"], [0.3333333333333333, \"#9c179e\"], [0.4444444444444444, \"#bd3786\"], [0.5555555555555556, \"#d8576b\"], [0.6666666666666666, \"#ed7953\"], [0.7777777777777778, \"#fb9f3a\"], [0.8888888888888888, \"#fdca26\"], [1.0, \"#f0f921\"]], \"type\": \"contour\"}], \"contourcarpet\": [{\"colorbar\": {\"outlinewidth\": 0, \"ticks\": \"\"}, \"type\": \"contourcarpet\"}], \"heatmap\": [{\"colorbar\": {\"outlinewidth\": 0, \"ticks\": \"\"}, \"colorscale\": [[0.0, \"#0d0887\"], [0.1111111111111111, \"#46039f\"], [0.2222222222222222, \"#7201a8\"], [0.3333333333333333, \"#9c179e\"], [0.4444444444444444, \"#bd3786\"], [0.5555555555555556, \"#d8576b\"], [0.6666666666666666, \"#ed7953\"], [0.7777777777777778, \"#fb9f3a\"], [0.8888888888888888, \"#fdca26\"], [1.0, \"#f0f921\"]], \"type\": \"heatmap\"}], \"heatmapgl\": [{\"colorbar\": {\"outlinewidth\": 0, \"ticks\": \"\"}, \"colorscale\": [[0.0, \"#0d0887\"], [0.1111111111111111, \"#46039f\"], [0.2222222222222222, \"#7201a8\"], [0.3333333333333333, \"#9c179e\"], [0.4444444444444444, \"#bd3786\"], [0.5555555555555556, \"#d8576b\"], [0.6666666666666666, \"#ed7953\"], [0.7777777777777778, \"#fb9f3a\"], [0.8888888888888888, \"#fdca26\"], [1.0, \"#f0f921\"]], \"type\": \"heatmapgl\"}], \"histogram\": [{\"marker\": {\"colorbar\": {\"outlinewidth\": 0, \"ticks\": \"\"}}, \"type\": \"histogram\"}], \"histogram2d\": [{\"colorbar\": {\"outlinewidth\": 0, \"ticks\": \"\"}, \"colorscale\": [[0.0, \"#0d0887\"], [0.1111111111111111, \"#46039f\"], [0.2222222222222222, \"#7201a8\"], [0.3333333333333333, \"#9c179e\"], [0.4444444444444444, \"#bd3786\"], [0.5555555555555556, \"#d8576b\"], [0.6666666666666666, \"#ed7953\"], [0.7777777777777778, \"#fb9f3a\"], [0.8888888888888888, \"#fdca26\"], [1.0, \"#f0f921\"]], \"type\": \"histogram2d\"}], \"histogram2dcontour\": [{\"colorbar\": {\"outlinewidth\": 0, \"ticks\": \"\"}, \"colorscale\": [[0.0, \"#0d0887\"], [0.1111111111111111, \"#46039f\"], [0.2222222222222222, \"#7201a8\"], [0.3333333333333333, \"#9c179e\"], [0.4444444444444444, \"#bd3786\"], [0.5555555555555556, \"#d8576b\"], [0.6666666666666666, \"#ed7953\"], [0.7777777777777778, \"#fb9f3a\"], [0.8888888888888888, \"#fdca26\"], [1.0, \"#f0f921\"]], \"type\": \"histogram2dcontour\"}], \"mesh3d\": [{\"colorbar\": {\"outlinewidth\": 0, \"ticks\": \"\"}, \"type\": \"mesh3d\"}], \"parcoords\": [{\"line\": {\"colorbar\": {\"outlinewidth\": 0, \"ticks\": \"\"}}, \"type\": \"parcoords\"}], \"pie\": [{\"automargin\": true, \"type\": \"pie\"}], \"scatter\": [{\"marker\": {\"colorbar\": {\"outlinewidth\": 0, \"ticks\": \"\"}}, \"type\": \"scatter\"}], \"scatter3d\": [{\"line\": {\"colorbar\": {\"outlinewidth\": 0, \"ticks\": \"\"}}, \"marker\": {\"colorbar\": {\"outlinewidth\": 0, \"ticks\": \"\"}}, \"type\": \"scatter3d\"}], \"scattercarpet\": [{\"marker\": {\"colorbar\": {\"outlinewidth\": 0, \"ticks\": \"\"}}, \"type\": \"scattercarpet\"}], \"scattergeo\": [{\"marker\": {\"colorbar\": {\"outlinewidth\": 0, \"ticks\": \"\"}}, \"type\": \"scattergeo\"}], \"scattergl\": [{\"marker\": {\"colorbar\": {\"outlinewidth\": 0, \"ticks\": \"\"}}, \"type\": \"scattergl\"}], \"scattermapbox\": [{\"marker\": {\"colorbar\": {\"outlinewidth\": 0, \"ticks\": \"\"}}, \"type\": \"scattermapbox\"}], \"scatterpolar\": [{\"marker\": {\"colorbar\": {\"outlinewidth\": 0, \"ticks\": \"\"}}, \"type\": \"scatterpolar\"}], \"scatterpolargl\": [{\"marker\": {\"colorbar\": {\"outlinewidth\": 0, \"ticks\": \"\"}}, \"type\": \"scatterpolargl\"}], \"scatterternary\": [{\"marker\": {\"colorbar\": {\"outlinewidth\": 0, \"ticks\": \"\"}}, \"type\": \"scatterternary\"}], \"surface\": [{\"colorbar\": {\"outlinewidth\": 0, \"ticks\": \"\"}, \"colorscale\": [[0.0, \"#0d0887\"], [0.1111111111111111, \"#46039f\"], [0.2222222222222222, \"#7201a8\"], [0.3333333333333333, \"#9c179e\"], [0.4444444444444444, \"#bd3786\"], [0.5555555555555556, \"#d8576b\"], [0.6666666666666666, \"#ed7953\"], [0.7777777777777778, \"#fb9f3a\"], [0.8888888888888888, \"#fdca26\"], [1.0, \"#f0f921\"]], \"type\": \"surface\"}], \"table\": [{\"cells\": {\"fill\": {\"color\": \"#EBF0F8\"}, \"line\": {\"color\": \"white\"}}, \"header\": {\"fill\": {\"color\": \"#C8D4E3\"}, \"line\": {\"color\": \"white\"}}, \"type\": \"table\"}]}, \"layout\": {\"annotationdefaults\": {\"arrowcolor\": \"#2a3f5f\", \"arrowhead\": 0, \"arrowwidth\": 1}, \"coloraxis\": {\"colorbar\": {\"outlinewidth\": 0, \"ticks\": \"\"}}, \"colorscale\": {\"diverging\": [[0, \"#8e0152\"], [0.1, \"#c51b7d\"], [0.2, \"#de77ae\"], [0.3, \"#f1b6da\"], [0.4, \"#fde0ef\"], [0.5, \"#f7f7f7\"], [0.6, \"#e6f5d0\"], [0.7, \"#b8e186\"], [0.8, \"#7fbc41\"], [0.9, \"#4d9221\"], [1, \"#276419\"]], \"sequential\": [[0.0, \"#0d0887\"], [0.1111111111111111, \"#46039f\"], [0.2222222222222222, \"#7201a8\"], [0.3333333333333333, \"#9c179e\"], [0.4444444444444444, \"#bd3786\"], [0.5555555555555556, \"#d8576b\"], [0.6666666666666666, \"#ed7953\"], [0.7777777777777778, \"#fb9f3a\"], [0.8888888888888888, \"#fdca26\"], [1.0, \"#f0f921\"]], \"sequentialminus\": [[0.0, \"#0d0887\"], [0.1111111111111111, \"#46039f\"], [0.2222222222222222, \"#7201a8\"], [0.3333333333333333, \"#9c179e\"], [0.4444444444444444, \"#bd3786\"], [0.5555555555555556, \"#d8576b\"], [0.6666666666666666, \"#ed7953\"], [0.7777777777777778, \"#fb9f3a\"], [0.8888888888888888, \"#fdca26\"], [1.0, \"#f0f921\"]]}, \"colorway\": [\"#636efa\", \"#EF553B\", \"#00cc96\", \"#ab63fa\", \"#FFA15A\", \"#19d3f3\", \"#FF6692\", \"#B6E880\", \"#FF97FF\", \"#FECB52\"], \"font\": {\"color\": \"#2a3f5f\"}, \"geo\": {\"bgcolor\": \"white\", \"lakecolor\": \"white\", \"landcolor\": \"#E5ECF6\", \"showlakes\": true, \"showland\": true, \"subunitcolor\": \"white\"}, \"hoverlabel\": {\"align\": \"left\"}, \"hovermode\": \"closest\", \"mapbox\": {\"style\": \"light\"}, \"paper_bgcolor\": \"white\", \"plot_bgcolor\": \"#E5ECF6\", \"polar\": {\"angularaxis\": {\"gridcolor\": \"white\", \"linecolor\": \"white\", \"ticks\": \"\"}, \"bgcolor\": \"#E5ECF6\", \"radialaxis\": {\"gridcolor\": \"white\", \"linecolor\": \"white\", \"ticks\": \"\"}}, \"scene\": {\"xaxis\": {\"backgroundcolor\": \"#E5ECF6\", \"gridcolor\": \"white\", \"gridwidth\": 2, \"linecolor\": \"white\", \"showbackground\": true, \"ticks\": \"\", \"zerolinecolor\": \"white\"}, \"yaxis\": {\"backgroundcolor\": \"#E5ECF6\", \"gridcolor\": \"white\", \"gridwidth\": 2, \"linecolor\": \"white\", \"showbackground\": true, \"ticks\": \"\", \"zerolinecolor\": \"white\"}, \"zaxis\": {\"backgroundcolor\": \"#E5ECF6\", \"gridcolor\": \"white\", \"gridwidth\": 2, \"linecolor\": \"white\", \"showbackground\": true, \"ticks\": \"\", \"zerolinecolor\": \"white\"}}, \"shapedefaults\": {\"line\": {\"color\": \"#2a3f5f\"}}, \"ternary\": {\"aaxis\": {\"gridcolor\": \"white\", \"linecolor\": \"white\", \"ticks\": \"\"}, \"baxis\": {\"gridcolor\": \"white\", \"linecolor\": \"white\", \"ticks\": \"\"}, \"bgcolor\": \"#E5ECF6\", \"caxis\": {\"gridcolor\": \"white\", \"linecolor\": \"white\", \"ticks\": \"\"}}, \"title\": {\"x\": 0.05}, \"xaxis\": {\"automargin\": true, \"gridcolor\": \"white\", \"linecolor\": \"white\", \"ticks\": \"\", \"title\": {\"standoff\": 15}, \"zerolinecolor\": \"white\", \"zerolinewidth\": 2}, \"yaxis\": {\"automargin\": true, \"gridcolor\": \"white\", \"linecolor\": \"white\", \"ticks\": \"\", \"title\": {\"standoff\": 15}, \"zerolinecolor\": \"white\", \"zerolinewidth\": 2}}}},\n",
       "                        {\"responsive\": true}\n",
       "                    ).then(function(){\n",
       "                            \n",
       "var gd = document.getElementById('115dbdb1-2204-4660-baf0-ba1e74d3d303');\n",
       "var x = new MutationObserver(function (mutations, observer) {{\n",
       "        var display = window.getComputedStyle(gd).display;\n",
       "        if (!display || display === 'none') {{\n",
       "            console.log([gd, 'removed!']);\n",
       "            Plotly.purge(gd);\n",
       "            observer.disconnect();\n",
       "        }}\n",
       "}});\n",
       "\n",
       "// Listen for the removal of the full notebook cells\n",
       "var notebookContainer = gd.closest('#notebook-container');\n",
       "if (notebookContainer) {{\n",
       "    x.observe(notebookContainer, {childList: true});\n",
       "}}\n",
       "\n",
       "// Listen for the clearing of the current output cell\n",
       "var outputEl = gd.closest('.output');\n",
       "if (outputEl) {{\n",
       "    x.observe(outputEl, {childList: true});\n",
       "}}\n",
       "\n",
       "                        })\n",
       "                };\n",
       "                });\n",
       "            </script>\n",
       "        </div>"
      ]
     },
     "metadata": {},
     "output_type": "display_data"
    }
   ],
   "source": [
    "#plt.plot(top_genres, top_avg)\n",
    "\n",
    "plot_top_genres_avg = go.Figure()\n",
    "plot_top_genres_avg = go.Figure([go.Scatter(x=top_genres, y=top_avg)])\n",
    "plot_top_genres_avg.show()"
   ]
  },
  {
   "cell_type": "code",
   "execution_count": 223,
   "metadata": {},
   "outputs": [
    {
     "data": {
      "application/vnd.plotly.v1+json": {
       "config": {
        "plotlyServerURL": "https://plot.ly"
       },
       "data": [
        {
         "marker": {
          "color": "#bfa878"
         },
         "name": "Total Revenue",
         "type": "bar",
         "x": [
          "Adventure",
          "Action",
          "Sci-Fi",
          "Comedy",
          "Drama",
          "Fantasy",
          "Thriller",
          "Family",
          "Animation",
          "Mystery"
         ],
         "y": [
          84140916917,
          78117550560,
          53102075391,
          46808535740,
          44119887542,
          37316730468,
          35710963506,
          29759467609,
          23838880421,
          12253460814
         ]
        },
        {
         "marker": {
          "color": "#7a4b4b"
         },
         "name": "Avg Revenue",
         "type": "scatter",
         "x": [
          "Adventure",
          "Action",
          "Sci-Fi",
          "Comedy",
          "Drama",
          "Fantasy",
          "Thriller",
          "Family",
          "Animation",
          "Mystery"
         ],
         "xaxis": "x",
         "y": [
          340651485,
          243356855,
          411643995,
          131855030,
          78926453,
          231780934,
          130809390,
          261047961,
          256332047,
          99621632
         ],
         "yaxis": "y2"
        }
       ],
       "layout": {
        "font": {
         "color": "#7a4b4b",
         "family": "Calibri",
         "size": 24
        },
        "showlegend": false,
        "template": {
         "data": {
          "bar": [
           {
            "error_x": {
             "color": "rgb(51,51,51)"
            },
            "error_y": {
             "color": "rgb(51,51,51)"
            },
            "marker": {
             "line": {
              "color": "rgb(237,237,237)",
              "width": 0.5
             }
            },
            "type": "bar"
           }
          ],
          "barpolar": [
           {
            "marker": {
             "line": {
              "color": "rgb(237,237,237)",
              "width": 0.5
             }
            },
            "type": "barpolar"
           }
          ],
          "carpet": [
           {
            "aaxis": {
             "endlinecolor": "rgb(51,51,51)",
             "gridcolor": "white",
             "linecolor": "white",
             "minorgridcolor": "white",
             "startlinecolor": "rgb(51,51,51)"
            },
            "baxis": {
             "endlinecolor": "rgb(51,51,51)",
             "gridcolor": "white",
             "linecolor": "white",
             "minorgridcolor": "white",
             "startlinecolor": "rgb(51,51,51)"
            },
            "type": "carpet"
           }
          ],
          "choropleth": [
           {
            "colorbar": {
             "outlinewidth": 0,
             "tickcolor": "rgb(237,237,237)",
             "ticklen": 6,
             "ticks": "inside"
            },
            "type": "choropleth"
           }
          ],
          "contour": [
           {
            "colorbar": {
             "outlinewidth": 0,
             "tickcolor": "rgb(237,237,237)",
             "ticklen": 6,
             "ticks": "inside"
            },
            "colorscale": [
             [
              0,
              "rgb(20,44,66)"
             ],
             [
              1,
              "rgb(90,179,244)"
             ]
            ],
            "type": "contour"
           }
          ],
          "contourcarpet": [
           {
            "colorbar": {
             "outlinewidth": 0,
             "tickcolor": "rgb(237,237,237)",
             "ticklen": 6,
             "ticks": "inside"
            },
            "type": "contourcarpet"
           }
          ],
          "heatmap": [
           {
            "colorbar": {
             "outlinewidth": 0,
             "tickcolor": "rgb(237,237,237)",
             "ticklen": 6,
             "ticks": "inside"
            },
            "colorscale": [
             [
              0,
              "rgb(20,44,66)"
             ],
             [
              1,
              "rgb(90,179,244)"
             ]
            ],
            "type": "heatmap"
           }
          ],
          "heatmapgl": [
           {
            "colorbar": {
             "outlinewidth": 0,
             "tickcolor": "rgb(237,237,237)",
             "ticklen": 6,
             "ticks": "inside"
            },
            "colorscale": [
             [
              0,
              "rgb(20,44,66)"
             ],
             [
              1,
              "rgb(90,179,244)"
             ]
            ],
            "type": "heatmapgl"
           }
          ],
          "histogram": [
           {
            "marker": {
             "colorbar": {
              "outlinewidth": 0,
              "tickcolor": "rgb(237,237,237)",
              "ticklen": 6,
              "ticks": "inside"
             }
            },
            "type": "histogram"
           }
          ],
          "histogram2d": [
           {
            "colorbar": {
             "outlinewidth": 0,
             "tickcolor": "rgb(237,237,237)",
             "ticklen": 6,
             "ticks": "inside"
            },
            "colorscale": [
             [
              0,
              "rgb(20,44,66)"
             ],
             [
              1,
              "rgb(90,179,244)"
             ]
            ],
            "type": "histogram2d"
           }
          ],
          "histogram2dcontour": [
           {
            "colorbar": {
             "outlinewidth": 0,
             "tickcolor": "rgb(237,237,237)",
             "ticklen": 6,
             "ticks": "inside"
            },
            "colorscale": [
             [
              0,
              "rgb(20,44,66)"
             ],
             [
              1,
              "rgb(90,179,244)"
             ]
            ],
            "type": "histogram2dcontour"
           }
          ],
          "mesh3d": [
           {
            "colorbar": {
             "outlinewidth": 0,
             "tickcolor": "rgb(237,237,237)",
             "ticklen": 6,
             "ticks": "inside"
            },
            "type": "mesh3d"
           }
          ],
          "parcoords": [
           {
            "line": {
             "colorbar": {
              "outlinewidth": 0,
              "tickcolor": "rgb(237,237,237)",
              "ticklen": 6,
              "ticks": "inside"
             }
            },
            "type": "parcoords"
           }
          ],
          "pie": [
           {
            "automargin": true,
            "type": "pie"
           }
          ],
          "scatter": [
           {
            "marker": {
             "colorbar": {
              "outlinewidth": 0,
              "tickcolor": "rgb(237,237,237)",
              "ticklen": 6,
              "ticks": "inside"
             }
            },
            "type": "scatter"
           }
          ],
          "scatter3d": [
           {
            "line": {
             "colorbar": {
              "outlinewidth": 0,
              "tickcolor": "rgb(237,237,237)",
              "ticklen": 6,
              "ticks": "inside"
             }
            },
            "marker": {
             "colorbar": {
              "outlinewidth": 0,
              "tickcolor": "rgb(237,237,237)",
              "ticklen": 6,
              "ticks": "inside"
             }
            },
            "type": "scatter3d"
           }
          ],
          "scattercarpet": [
           {
            "marker": {
             "colorbar": {
              "outlinewidth": 0,
              "tickcolor": "rgb(237,237,237)",
              "ticklen": 6,
              "ticks": "inside"
             }
            },
            "type": "scattercarpet"
           }
          ],
          "scattergeo": [
           {
            "marker": {
             "colorbar": {
              "outlinewidth": 0,
              "tickcolor": "rgb(237,237,237)",
              "ticklen": 6,
              "ticks": "inside"
             }
            },
            "type": "scattergeo"
           }
          ],
          "scattergl": [
           {
            "marker": {
             "colorbar": {
              "outlinewidth": 0,
              "tickcolor": "rgb(237,237,237)",
              "ticklen": 6,
              "ticks": "inside"
             }
            },
            "type": "scattergl"
           }
          ],
          "scattermapbox": [
           {
            "marker": {
             "colorbar": {
              "outlinewidth": 0,
              "tickcolor": "rgb(237,237,237)",
              "ticklen": 6,
              "ticks": "inside"
             }
            },
            "type": "scattermapbox"
           }
          ],
          "scatterpolar": [
           {
            "marker": {
             "colorbar": {
              "outlinewidth": 0,
              "tickcolor": "rgb(237,237,237)",
              "ticklen": 6,
              "ticks": "inside"
             }
            },
            "type": "scatterpolar"
           }
          ],
          "scatterpolargl": [
           {
            "marker": {
             "colorbar": {
              "outlinewidth": 0,
              "tickcolor": "rgb(237,237,237)",
              "ticklen": 6,
              "ticks": "inside"
             }
            },
            "type": "scatterpolargl"
           }
          ],
          "scatterternary": [
           {
            "marker": {
             "colorbar": {
              "outlinewidth": 0,
              "tickcolor": "rgb(237,237,237)",
              "ticklen": 6,
              "ticks": "inside"
             }
            },
            "type": "scatterternary"
           }
          ],
          "surface": [
           {
            "colorbar": {
             "outlinewidth": 0,
             "tickcolor": "rgb(237,237,237)",
             "ticklen": 6,
             "ticks": "inside"
            },
            "colorscale": [
             [
              0,
              "rgb(20,44,66)"
             ],
             [
              1,
              "rgb(90,179,244)"
             ]
            ],
            "type": "surface"
           }
          ],
          "table": [
           {
            "cells": {
             "fill": {
              "color": "rgb(237,237,237)"
             },
             "line": {
              "color": "white"
             }
            },
            "header": {
             "fill": {
              "color": "rgb(217,217,217)"
             },
             "line": {
              "color": "white"
             }
            },
            "type": "table"
           }
          ]
         },
         "layout": {
          "annotationdefaults": {
           "arrowhead": 0,
           "arrowwidth": 1
          },
          "coloraxis": {
           "colorbar": {
            "outlinewidth": 0,
            "tickcolor": "rgb(237,237,237)",
            "ticklen": 6,
            "ticks": "inside"
           }
          },
          "colorscale": {
           "sequential": [
            [
             0,
             "rgb(20,44,66)"
            ],
            [
             1,
             "rgb(90,179,244)"
            ]
           ],
           "sequentialminus": [
            [
             0,
             "rgb(20,44,66)"
            ],
            [
             1,
             "rgb(90,179,244)"
            ]
           ]
          },
          "colorway": [
           "#F8766D",
           "#A3A500",
           "#00BF7D",
           "#00B0F6",
           "#E76BF3"
          ],
          "font": {
           "color": "rgb(51,51,51)"
          },
          "geo": {
           "bgcolor": "white",
           "lakecolor": "white",
           "landcolor": "rgb(237,237,237)",
           "showlakes": true,
           "showland": true,
           "subunitcolor": "white"
          },
          "hoverlabel": {
           "align": "left"
          },
          "hovermode": "closest",
          "paper_bgcolor": "white",
          "plot_bgcolor": "rgb(237,237,237)",
          "polar": {
           "angularaxis": {
            "gridcolor": "white",
            "linecolor": "white",
            "showgrid": true,
            "tickcolor": "rgb(51,51,51)",
            "ticks": "outside"
           },
           "bgcolor": "rgb(237,237,237)",
           "radialaxis": {
            "gridcolor": "white",
            "linecolor": "white",
            "showgrid": true,
            "tickcolor": "rgb(51,51,51)",
            "ticks": "outside"
           }
          },
          "scene": {
           "xaxis": {
            "backgroundcolor": "rgb(237,237,237)",
            "gridcolor": "white",
            "gridwidth": 2,
            "linecolor": "white",
            "showbackground": true,
            "showgrid": true,
            "tickcolor": "rgb(51,51,51)",
            "ticks": "outside",
            "zerolinecolor": "white"
           },
           "yaxis": {
            "backgroundcolor": "rgb(237,237,237)",
            "gridcolor": "white",
            "gridwidth": 2,
            "linecolor": "white",
            "showbackground": true,
            "showgrid": true,
            "tickcolor": "rgb(51,51,51)",
            "ticks": "outside",
            "zerolinecolor": "white"
           },
           "zaxis": {
            "backgroundcolor": "rgb(237,237,237)",
            "gridcolor": "white",
            "gridwidth": 2,
            "linecolor": "white",
            "showbackground": true,
            "showgrid": true,
            "tickcolor": "rgb(51,51,51)",
            "ticks": "outside",
            "zerolinecolor": "white"
           }
          },
          "shapedefaults": {
           "fillcolor": "black",
           "line": {
            "width": 0
           },
           "opacity": 0.3
          },
          "ternary": {
           "aaxis": {
            "gridcolor": "white",
            "linecolor": "white",
            "showgrid": true,
            "tickcolor": "rgb(51,51,51)",
            "ticks": "outside"
           },
           "baxis": {
            "gridcolor": "white",
            "linecolor": "white",
            "showgrid": true,
            "tickcolor": "rgb(51,51,51)",
            "ticks": "outside"
           },
           "bgcolor": "rgb(237,237,237)",
           "caxis": {
            "gridcolor": "white",
            "linecolor": "white",
            "showgrid": true,
            "tickcolor": "rgb(51,51,51)",
            "ticks": "outside"
           }
          },
          "xaxis": {
           "automargin": true,
           "gridcolor": "white",
           "linecolor": "white",
           "showgrid": true,
           "tickcolor": "rgb(51,51,51)",
           "ticks": "outside",
           "title": {
            "standoff": 15
           },
           "zerolinecolor": "white"
          },
          "yaxis": {
           "automargin": true,
           "gridcolor": "white",
           "linecolor": "white",
           "showgrid": true,
           "tickcolor": "rgb(51,51,51)",
           "ticks": "outside",
           "title": {
            "standoff": 15
           },
           "zerolinecolor": "white"
          }
         }
        },
        "xaxis": {
         "anchor": "y",
         "domain": [
          0,
          0.94
         ]
        },
        "yaxis": {
         "anchor": "x",
         "domain": [
          0,
          1
         ],
         "title": {
          "text": "Revenue (USD)"
         }
        },
        "yaxis2": {
         "anchor": "x",
         "overlaying": "y",
         "side": "right",
         "title": {
          "text": "Avg Revenue (USD)"
         }
        }
       }
      },
      "text/html": [
       "<div>\n",
       "        \n",
       "        \n",
       "            <div id=\"0b4b02eb-2ada-4b8e-bac6-dd4a48e387da\" class=\"plotly-graph-div\" style=\"height:525px; width:100%;\"></div>\n",
       "            <script type=\"text/javascript\">\n",
       "                require([\"plotly\"], function(Plotly) {\n",
       "                    window.PLOTLYENV=window.PLOTLYENV || {};\n",
       "                    \n",
       "                if (document.getElementById(\"0b4b02eb-2ada-4b8e-bac6-dd4a48e387da\")) {\n",
       "                    Plotly.newPlot(\n",
       "                        '0b4b02eb-2ada-4b8e-bac6-dd4a48e387da',\n",
       "                        [{\"marker\": {\"color\": \"#bfa878\"}, \"name\": \"Total Revenue\", \"type\": \"bar\", \"x\": [\"Adventure\", \"Action\", \"Sci-Fi\", \"Comedy\", \"Drama\", \"Fantasy\", \"Thriller\", \"Family\", \"Animation\", \"Mystery\"], \"y\": [84140916917.0, 78117550560.0, 53102075391.0, 46808535740.0, 44119887542.0, 37316730468.0, 35710963506.0, 29759467609.0, 23838880421.0, 12253460814.0]}, {\"marker\": {\"color\": \"#7a4b4b\"}, \"name\": \"Avg Revenue\", \"type\": \"scatter\", \"x\": [\"Adventure\", \"Action\", \"Sci-Fi\", \"Comedy\", \"Drama\", \"Fantasy\", \"Thriller\", \"Family\", \"Animation\", \"Mystery\"], \"xaxis\": \"x\", \"y\": [340651485, 243356855, 411643995, 131855030, 78926453, 231780934, 130809390, 261047961, 256332047, 99621632], \"yaxis\": \"y2\"}],\n",
       "                        {\"font\": {\"color\": \"#7a4b4b\", \"family\": \"Calibri\", \"size\": 24}, \"showlegend\": false, \"template\": {\"data\": {\"bar\": [{\"error_x\": {\"color\": \"rgb(51,51,51)\"}, \"error_y\": {\"color\": \"rgb(51,51,51)\"}, \"marker\": {\"line\": {\"color\": \"rgb(237,237,237)\", \"width\": 0.5}}, \"type\": \"bar\"}], \"barpolar\": [{\"marker\": {\"line\": {\"color\": \"rgb(237,237,237)\", \"width\": 0.5}}, \"type\": \"barpolar\"}], \"carpet\": [{\"aaxis\": {\"endlinecolor\": \"rgb(51,51,51)\", \"gridcolor\": \"white\", \"linecolor\": \"white\", \"minorgridcolor\": \"white\", \"startlinecolor\": \"rgb(51,51,51)\"}, \"baxis\": {\"endlinecolor\": \"rgb(51,51,51)\", \"gridcolor\": \"white\", \"linecolor\": \"white\", \"minorgridcolor\": \"white\", \"startlinecolor\": \"rgb(51,51,51)\"}, \"type\": \"carpet\"}], \"choropleth\": [{\"colorbar\": {\"outlinewidth\": 0, \"tickcolor\": \"rgb(237,237,237)\", \"ticklen\": 6, \"ticks\": \"inside\"}, \"type\": \"choropleth\"}], \"contour\": [{\"colorbar\": {\"outlinewidth\": 0, \"tickcolor\": \"rgb(237,237,237)\", \"ticklen\": 6, \"ticks\": \"inside\"}, \"colorscale\": [[0, \"rgb(20,44,66)\"], [1, \"rgb(90,179,244)\"]], \"type\": \"contour\"}], \"contourcarpet\": [{\"colorbar\": {\"outlinewidth\": 0, \"tickcolor\": \"rgb(237,237,237)\", \"ticklen\": 6, \"ticks\": \"inside\"}, \"type\": \"contourcarpet\"}], \"heatmap\": [{\"colorbar\": {\"outlinewidth\": 0, \"tickcolor\": \"rgb(237,237,237)\", \"ticklen\": 6, \"ticks\": \"inside\"}, \"colorscale\": [[0, \"rgb(20,44,66)\"], [1, \"rgb(90,179,244)\"]], \"type\": \"heatmap\"}], \"heatmapgl\": [{\"colorbar\": {\"outlinewidth\": 0, \"tickcolor\": \"rgb(237,237,237)\", \"ticklen\": 6, \"ticks\": \"inside\"}, \"colorscale\": [[0, \"rgb(20,44,66)\"], [1, \"rgb(90,179,244)\"]], \"type\": \"heatmapgl\"}], \"histogram\": [{\"marker\": {\"colorbar\": {\"outlinewidth\": 0, \"tickcolor\": \"rgb(237,237,237)\", \"ticklen\": 6, \"ticks\": \"inside\"}}, \"type\": \"histogram\"}], \"histogram2d\": [{\"colorbar\": {\"outlinewidth\": 0, \"tickcolor\": \"rgb(237,237,237)\", \"ticklen\": 6, \"ticks\": \"inside\"}, \"colorscale\": [[0, \"rgb(20,44,66)\"], [1, \"rgb(90,179,244)\"]], \"type\": \"histogram2d\"}], \"histogram2dcontour\": [{\"colorbar\": {\"outlinewidth\": 0, \"tickcolor\": \"rgb(237,237,237)\", \"ticklen\": 6, \"ticks\": \"inside\"}, \"colorscale\": [[0, \"rgb(20,44,66)\"], [1, \"rgb(90,179,244)\"]], \"type\": \"histogram2dcontour\"}], \"mesh3d\": [{\"colorbar\": {\"outlinewidth\": 0, \"tickcolor\": \"rgb(237,237,237)\", \"ticklen\": 6, \"ticks\": \"inside\"}, \"type\": \"mesh3d\"}], \"parcoords\": [{\"line\": {\"colorbar\": {\"outlinewidth\": 0, \"tickcolor\": \"rgb(237,237,237)\", \"ticklen\": 6, \"ticks\": \"inside\"}}, \"type\": \"parcoords\"}], \"pie\": [{\"automargin\": true, \"type\": \"pie\"}], \"scatter\": [{\"marker\": {\"colorbar\": {\"outlinewidth\": 0, \"tickcolor\": \"rgb(237,237,237)\", \"ticklen\": 6, \"ticks\": \"inside\"}}, \"type\": \"scatter\"}], \"scatter3d\": [{\"line\": {\"colorbar\": {\"outlinewidth\": 0, \"tickcolor\": \"rgb(237,237,237)\", \"ticklen\": 6, \"ticks\": \"inside\"}}, \"marker\": {\"colorbar\": {\"outlinewidth\": 0, \"tickcolor\": \"rgb(237,237,237)\", \"ticklen\": 6, \"ticks\": \"inside\"}}, \"type\": \"scatter3d\"}], \"scattercarpet\": [{\"marker\": {\"colorbar\": {\"outlinewidth\": 0, \"tickcolor\": \"rgb(237,237,237)\", \"ticklen\": 6, \"ticks\": \"inside\"}}, \"type\": \"scattercarpet\"}], \"scattergeo\": [{\"marker\": {\"colorbar\": {\"outlinewidth\": 0, \"tickcolor\": \"rgb(237,237,237)\", \"ticklen\": 6, \"ticks\": \"inside\"}}, \"type\": \"scattergeo\"}], \"scattergl\": [{\"marker\": {\"colorbar\": {\"outlinewidth\": 0, \"tickcolor\": \"rgb(237,237,237)\", \"ticklen\": 6, \"ticks\": \"inside\"}}, \"type\": \"scattergl\"}], \"scattermapbox\": [{\"marker\": {\"colorbar\": {\"outlinewidth\": 0, \"tickcolor\": \"rgb(237,237,237)\", \"ticklen\": 6, \"ticks\": \"inside\"}}, \"type\": \"scattermapbox\"}], \"scatterpolar\": [{\"marker\": {\"colorbar\": {\"outlinewidth\": 0, \"tickcolor\": \"rgb(237,237,237)\", \"ticklen\": 6, \"ticks\": \"inside\"}}, \"type\": \"scatterpolar\"}], \"scatterpolargl\": [{\"marker\": {\"colorbar\": {\"outlinewidth\": 0, \"tickcolor\": \"rgb(237,237,237)\", \"ticklen\": 6, \"ticks\": \"inside\"}}, \"type\": \"scatterpolargl\"}], \"scatterternary\": [{\"marker\": {\"colorbar\": {\"outlinewidth\": 0, \"tickcolor\": \"rgb(237,237,237)\", \"ticklen\": 6, \"ticks\": \"inside\"}}, \"type\": \"scatterternary\"}], \"surface\": [{\"colorbar\": {\"outlinewidth\": 0, \"tickcolor\": \"rgb(237,237,237)\", \"ticklen\": 6, \"ticks\": \"inside\"}, \"colorscale\": [[0, \"rgb(20,44,66)\"], [1, \"rgb(90,179,244)\"]], \"type\": \"surface\"}], \"table\": [{\"cells\": {\"fill\": {\"color\": \"rgb(237,237,237)\"}, \"line\": {\"color\": \"white\"}}, \"header\": {\"fill\": {\"color\": \"rgb(217,217,217)\"}, \"line\": {\"color\": \"white\"}}, \"type\": \"table\"}]}, \"layout\": {\"annotationdefaults\": {\"arrowhead\": 0, \"arrowwidth\": 1}, \"coloraxis\": {\"colorbar\": {\"outlinewidth\": 0, \"tickcolor\": \"rgb(237,237,237)\", \"ticklen\": 6, \"ticks\": \"inside\"}}, \"colorscale\": {\"sequential\": [[0, \"rgb(20,44,66)\"], [1, \"rgb(90,179,244)\"]], \"sequentialminus\": [[0, \"rgb(20,44,66)\"], [1, \"rgb(90,179,244)\"]]}, \"colorway\": [\"#F8766D\", \"#A3A500\", \"#00BF7D\", \"#00B0F6\", \"#E76BF3\"], \"font\": {\"color\": \"rgb(51,51,51)\"}, \"geo\": {\"bgcolor\": \"white\", \"lakecolor\": \"white\", \"landcolor\": \"rgb(237,237,237)\", \"showlakes\": true, \"showland\": true, \"subunitcolor\": \"white\"}, \"hoverlabel\": {\"align\": \"left\"}, \"hovermode\": \"closest\", \"paper_bgcolor\": \"white\", \"plot_bgcolor\": \"rgb(237,237,237)\", \"polar\": {\"angularaxis\": {\"gridcolor\": \"white\", \"linecolor\": \"white\", \"showgrid\": true, \"tickcolor\": \"rgb(51,51,51)\", \"ticks\": \"outside\"}, \"bgcolor\": \"rgb(237,237,237)\", \"radialaxis\": {\"gridcolor\": \"white\", \"linecolor\": \"white\", \"showgrid\": true, \"tickcolor\": \"rgb(51,51,51)\", \"ticks\": \"outside\"}}, \"scene\": {\"xaxis\": {\"backgroundcolor\": \"rgb(237,237,237)\", \"gridcolor\": \"white\", \"gridwidth\": 2, \"linecolor\": \"white\", \"showbackground\": true, \"showgrid\": true, \"tickcolor\": \"rgb(51,51,51)\", \"ticks\": \"outside\", \"zerolinecolor\": \"white\"}, \"yaxis\": {\"backgroundcolor\": \"rgb(237,237,237)\", \"gridcolor\": \"white\", \"gridwidth\": 2, \"linecolor\": \"white\", \"showbackground\": true, \"showgrid\": true, \"tickcolor\": \"rgb(51,51,51)\", \"ticks\": \"outside\", \"zerolinecolor\": \"white\"}, \"zaxis\": {\"backgroundcolor\": \"rgb(237,237,237)\", \"gridcolor\": \"white\", \"gridwidth\": 2, \"linecolor\": \"white\", \"showbackground\": true, \"showgrid\": true, \"tickcolor\": \"rgb(51,51,51)\", \"ticks\": \"outside\", \"zerolinecolor\": \"white\"}}, \"shapedefaults\": {\"fillcolor\": \"black\", \"line\": {\"width\": 0}, \"opacity\": 0.3}, \"ternary\": {\"aaxis\": {\"gridcolor\": \"white\", \"linecolor\": \"white\", \"showgrid\": true, \"tickcolor\": \"rgb(51,51,51)\", \"ticks\": \"outside\"}, \"baxis\": {\"gridcolor\": \"white\", \"linecolor\": \"white\", \"showgrid\": true, \"tickcolor\": \"rgb(51,51,51)\", \"ticks\": \"outside\"}, \"bgcolor\": \"rgb(237,237,237)\", \"caxis\": {\"gridcolor\": \"white\", \"linecolor\": \"white\", \"showgrid\": true, \"tickcolor\": \"rgb(51,51,51)\", \"ticks\": \"outside\"}}, \"xaxis\": {\"automargin\": true, \"gridcolor\": \"white\", \"linecolor\": \"white\", \"showgrid\": true, \"tickcolor\": \"rgb(51,51,51)\", \"ticks\": \"outside\", \"title\": {\"standoff\": 15}, \"zerolinecolor\": \"white\"}, \"yaxis\": {\"automargin\": true, \"gridcolor\": \"white\", \"linecolor\": \"white\", \"showgrid\": true, \"tickcolor\": \"rgb(51,51,51)\", \"ticks\": \"outside\", \"title\": {\"standoff\": 15}, \"zerolinecolor\": \"white\"}}}, \"xaxis\": {\"anchor\": \"y\", \"domain\": [0.0, 0.94]}, \"yaxis\": {\"anchor\": \"x\", \"domain\": [0.0, 1.0], \"title\": {\"text\": \"Revenue (USD)\"}}, \"yaxis2\": {\"anchor\": \"x\", \"overlaying\": \"y\", \"side\": \"right\", \"title\": {\"text\": \"Avg Revenue (USD)\"}}},\n",
       "                        {\"responsive\": true}\n",
       "                    ).then(function(){\n",
       "                            \n",
       "var gd = document.getElementById('0b4b02eb-2ada-4b8e-bac6-dd4a48e387da');\n",
       "var x = new MutationObserver(function (mutations, observer) {{\n",
       "        var display = window.getComputedStyle(gd).display;\n",
       "        if (!display || display === 'none') {{\n",
       "            console.log([gd, 'removed!']);\n",
       "            Plotly.purge(gd);\n",
       "            observer.disconnect();\n",
       "        }}\n",
       "}});\n",
       "\n",
       "// Listen for the removal of the full notebook cells\n",
       "var notebookContainer = gd.closest('#notebook-container');\n",
       "if (notebookContainer) {{\n",
       "    x.observe(notebookContainer, {childList: true});\n",
       "}}\n",
       "\n",
       "// Listen for the clearing of the current output cell\n",
       "var outputEl = gd.closest('.output');\n",
       "if (outputEl) {{\n",
       "    x.observe(outputEl, {childList: true});\n",
       "}}\n",
       "\n",
       "                        })\n",
       "                };\n",
       "                });\n",
       "            </script>\n",
       "        </div>"
      ]
     },
     "metadata": {},
     "output_type": "display_data"
    }
   ],
   "source": [
    "# Combining the above two plots\n",
    "plot_top_genres_total_and_avg = make_subplots(specs=[[{\"secondary_y\": True}]])\n",
    "\n",
    "plot_top_genres_total_and_avg.add_trace(go.Bar(x=top_genres, y=top_total, name = 'Total Revenue', marker_color='#bfa878'))\n",
    "plot_top_genres_total_and_avg.add_trace(go.Scatter(x=top_genres, y=top_avg, name = 'Avg Revenue', marker_color='#7a4b4b'), secondary_y=True)\n",
    "plot_top_genres_total_and_avg.update_layout(\n",
    "    yaxis_title=\"Revenue (USD)\", showlegend = False,\n",
    "    template=\"ggplot2\",\n",
    "    font=dict(\n",
    "        family=\"Calibri\",\n",
    "        size=24,\n",
    "        color='#7a4b4b'\n",
    "    ))\n",
    "plot_top_genres_total_and_avg.update_yaxes(title_text=\"Avg Revenue (USD)\", secondary_y=True)\n",
    "\n",
    "\n",
    "plot_top_genres_total_and_avg.show()"
   ]
  },
  {
   "cell_type": "code",
   "execution_count": null,
   "metadata": {},
   "outputs": [],
   "source": []
  },
  {
   "cell_type": "code",
   "execution_count": null,
   "metadata": {},
   "outputs": [],
   "source": []
  },
  {
   "cell_type": "code",
   "execution_count": null,
   "metadata": {},
   "outputs": [],
   "source": []
  },
  {
   "cell_type": "code",
   "execution_count": null,
   "metadata": {},
   "outputs": [],
   "source": []
  },
  {
   "cell_type": "markdown",
   "metadata": {},
   "source": [
    "## Chart Top Actors\n",
    "\n",
    "Similar to genre categories, now determine the top x actors."
   ]
  },
  {
   "cell_type": "code",
   "execution_count": 123,
   "metadata": {},
   "outputs": [
    {
     "name": "stdout",
     "output_type": "stream",
     "text": [
      "Actor_Diane_Keaton 3\n",
      "Actor_Will_Arnett 5\n",
      "Actor_Varun_Dhawan 3\n",
      "Actor_Sam_Claflin 4\n",
      "Actor_Tom_Holland 4\n",
      "Actor_Liya_Tong 3\n",
      "Actor_Will_Smith 5\n",
      "Actor_Morena_Baccarin 3\n",
      "Actor_Jessica_Rothe 3\n"
     ]
    }
   ],
   "source": [
    "count = 0\n",
    "for col in movie_data_df.columns:\n",
    "    if \"Actor_\" in col:\n",
    "        actor = movie_data_df[ movie_data_df[col] == 1]\n",
    "        if len(actor) > 2 and count<100:\n",
    "           print(col, len(actor))\n",
    "        count += 1\n",
    "        "
   ]
  },
  {
   "cell_type": "markdown",
   "metadata": {},
   "source": [
    "We will try to work with one actor first to ensure we get the logic to work properly. We will use Actor_Tom_Holland."
   ]
  },
  {
   "cell_type": "code",
   "execution_count": 124,
   "metadata": {},
   "outputs": [],
   "source": [
    "actor = movie_data_df[ movie_data_df['Actor_Tom_Holland'] == 1]"
   ]
  },
  {
   "cell_type": "code",
   "execution_count": 125,
   "metadata": {},
   "outputs": [
    {
     "data": {
      "text/html": [
       "<div>\n",
       "<style scoped>\n",
       "    .dataframe tbody tr th:only-of-type {\n",
       "        vertical-align: middle;\n",
       "    }\n",
       "\n",
       "    .dataframe tbody tr th {\n",
       "        vertical-align: top;\n",
       "    }\n",
       "\n",
       "    .dataframe thead th {\n",
       "        text-align: right;\n",
       "    }\n",
       "</style>\n",
       "<table border=\"1\" class=\"dataframe\">\n",
       "  <thead>\n",
       "    <tr style=\"text-align: right;\">\n",
       "      <th></th>\n",
       "      <th>Title</th>\n",
       "      <th>Awards</th>\n",
       "      <th>Country</th>\n",
       "      <th>Director</th>\n",
       "      <th>Language</th>\n",
       "      <th>Metascore</th>\n",
       "      <th>Released</th>\n",
       "      <th>Runtime</th>\n",
       "      <th>Year</th>\n",
       "      <th>imdbID</th>\n",
       "      <th>...</th>\n",
       "      <th>Actor_Jack_Kilmer</th>\n",
       "      <th>Actor_J._Michael_Finley</th>\n",
       "      <th>Actor_Zoe_Kazan</th>\n",
       "      <th>Actor_Dong-hoon_Ha</th>\n",
       "      <th>Actor_Aparshakti_Khurana</th>\n",
       "      <th>Worldwide</th>\n",
       "      <th>Domestic</th>\n",
       "      <th>% Domestic</th>\n",
       "      <th>Foreign</th>\n",
       "      <th>% Foreign</th>\n",
       "    </tr>\n",
       "  </thead>\n",
       "  <tbody>\n",
       "    <tr>\n",
       "      <td>15</td>\n",
       "      <td>Spider-Man: Homecoming</td>\n",
       "      <td>4 wins &amp; 9 nominations.</td>\n",
       "      <td>USA</td>\n",
       "      <td>Jon Watts</td>\n",
       "      <td>English, Spanish</td>\n",
       "      <td>73.0</td>\n",
       "      <td>7-Jul-17</td>\n",
       "      <td>133</td>\n",
       "      <td>2017</td>\n",
       "      <td>tt2250912</td>\n",
       "      <td>...</td>\n",
       "      <td>0</td>\n",
       "      <td>0</td>\n",
       "      <td>0</td>\n",
       "      <td>0</td>\n",
       "      <td>0</td>\n",
       "      <td>8.801669e+08</td>\n",
       "      <td>334201140.0</td>\n",
       "      <td>38.0</td>\n",
       "      <td>545965784.0</td>\n",
       "      <td>62.0</td>\n",
       "    </tr>\n",
       "    <tr>\n",
       "      <td>325</td>\n",
       "      <td>The Lost City of Z</td>\n",
       "      <td>5 wins &amp; 28 nominations.</td>\n",
       "      <td>USA</td>\n",
       "      <td>James Gray</td>\n",
       "      <td>English, Portuguese, Tupi, Spanish, German</td>\n",
       "      <td>78.0</td>\n",
       "      <td>21-Apr-17</td>\n",
       "      <td>141</td>\n",
       "      <td>2016</td>\n",
       "      <td>tt1212428</td>\n",
       "      <td>...</td>\n",
       "      <td>0</td>\n",
       "      <td>0</td>\n",
       "      <td>0</td>\n",
       "      <td>0</td>\n",
       "      <td>0</td>\n",
       "      <td>1.926394e+07</td>\n",
       "      <td>8580410.0</td>\n",
       "      <td>44.5</td>\n",
       "      <td>10683528.0</td>\n",
       "      <td>55.5</td>\n",
       "    </tr>\n",
       "    <tr>\n",
       "      <td>981</td>\n",
       "      <td>Spider-Man: Far from Home</td>\n",
       "      <td>NaN</td>\n",
       "      <td>USA</td>\n",
       "      <td>Jon Watts</td>\n",
       "      <td>Italian, Czech, English</td>\n",
       "      <td>69.0</td>\n",
       "      <td>2-Jul-19</td>\n",
       "      <td>129</td>\n",
       "      <td>2019</td>\n",
       "      <td>tt6320628</td>\n",
       "      <td>...</td>\n",
       "      <td>0</td>\n",
       "      <td>0</td>\n",
       "      <td>0</td>\n",
       "      <td>0</td>\n",
       "      <td>0</td>\n",
       "      <td>1.131928e+09</td>\n",
       "      <td>390532085.0</td>\n",
       "      <td>34.5</td>\n",
       "      <td>741395911.0</td>\n",
       "      <td>65.5</td>\n",
       "    </tr>\n",
       "    <tr>\n",
       "      <td>1048</td>\n",
       "      <td>The Current War: Director's Cut</td>\n",
       "      <td>NaN</td>\n",
       "      <td>USA</td>\n",
       "      <td>Alfonso Gomez-Rejon</td>\n",
       "      <td>English</td>\n",
       "      <td>55.0</td>\n",
       "      <td>25-Oct-19</td>\n",
       "      <td>102</td>\n",
       "      <td>2017</td>\n",
       "      <td>tt2140507</td>\n",
       "      <td>...</td>\n",
       "      <td>0</td>\n",
       "      <td>0</td>\n",
       "      <td>0</td>\n",
       "      <td>0</td>\n",
       "      <td>0</td>\n",
       "      <td>1.082265e+07</td>\n",
       "      <td>5946532.0</td>\n",
       "      <td>54.9</td>\n",
       "      <td>4876117.0</td>\n",
       "      <td>45.1</td>\n",
       "    </tr>\n",
       "  </tbody>\n",
       "</table>\n",
       "<p>4 rows × 3771 columns</p>\n",
       "</div>"
      ],
      "text/plain": [
       "                                Title                    Awards Country  \\\n",
       "15             Spider-Man: Homecoming   4 wins & 9 nominations.     USA   \n",
       "325                The Lost City of Z  5 wins & 28 nominations.     USA   \n",
       "981         Spider-Man: Far from Home                       NaN     USA   \n",
       "1048  The Current War: Director's Cut                       NaN     USA   \n",
       "\n",
       "                 Director                                    Language  \\\n",
       "15              Jon Watts                            English, Spanish   \n",
       "325            James Gray  English, Portuguese, Tupi, Spanish, German   \n",
       "981             Jon Watts                     Italian, Czech, English   \n",
       "1048  Alfonso Gomez-Rejon                                     English   \n",
       "\n",
       "      Metascore   Released  Runtime  Year     imdbID  ...  Actor_Jack_Kilmer  \\\n",
       "15         73.0   7-Jul-17      133  2017  tt2250912  ...                  0   \n",
       "325        78.0  21-Apr-17      141  2016  tt1212428  ...                  0   \n",
       "981        69.0   2-Jul-19      129  2019  tt6320628  ...                  0   \n",
       "1048       55.0  25-Oct-19      102  2017  tt2140507  ...                  0   \n",
       "\n",
       "     Actor_J._Michael_Finley  Actor_Zoe_Kazan  Actor_Dong-hoon_Ha  \\\n",
       "15                         0                0                   0   \n",
       "325                        0                0                   0   \n",
       "981                        0                0                   0   \n",
       "1048                       0                0                   0   \n",
       "\n",
       "      Actor_Aparshakti_Khurana     Worldwide     Domestic  % Domestic  \\\n",
       "15                           0  8.801669e+08  334201140.0        38.0   \n",
       "325                          0  1.926394e+07    8580410.0        44.5   \n",
       "981                          0  1.131928e+09  390532085.0        34.5   \n",
       "1048                         0  1.082265e+07    5946532.0        54.9   \n",
       "\n",
       "          Foreign  % Foreign  \n",
       "15    545965784.0       62.0  \n",
       "325    10683528.0       55.5  \n",
       "981   741395911.0       65.5  \n",
       "1048    4876117.0       45.1  \n",
       "\n",
       "[4 rows x 3771 columns]"
      ]
     },
     "execution_count": 125,
     "metadata": {},
     "output_type": "execute_result"
    }
   ],
   "source": [
    "actor"
   ]
  },
  {
   "cell_type": "code",
   "execution_count": 126,
   "metadata": {},
   "outputs": [
    {
     "data": {
      "text/html": [
       "<div>\n",
       "<style scoped>\n",
       "    .dataframe tbody tr th:only-of-type {\n",
       "        vertical-align: middle;\n",
       "    }\n",
       "\n",
       "    .dataframe tbody tr th {\n",
       "        vertical-align: top;\n",
       "    }\n",
       "\n",
       "    .dataframe thead th {\n",
       "        text-align: right;\n",
       "    }\n",
       "</style>\n",
       "<table border=\"1\" class=\"dataframe\">\n",
       "  <thead>\n",
       "    <tr style=\"text-align: right;\">\n",
       "      <th></th>\n",
       "      <th>Worldwide</th>\n",
       "    </tr>\n",
       "    <tr>\n",
       "      <th>Year</th>\n",
       "      <th></th>\n",
       "    </tr>\n",
       "  </thead>\n",
       "  <tbody>\n",
       "    <tr>\n",
       "      <td>2016</td>\n",
       "      <td>1.926394e+07</td>\n",
       "    </tr>\n",
       "    <tr>\n",
       "      <td>2017</td>\n",
       "      <td>8.909896e+08</td>\n",
       "    </tr>\n",
       "    <tr>\n",
       "      <td>2019</td>\n",
       "      <td>1.131928e+09</td>\n",
       "    </tr>\n",
       "  </tbody>\n",
       "</table>\n",
       "</div>"
      ],
      "text/plain": [
       "         Worldwide\n",
       "Year              \n",
       "2016  1.926394e+07\n",
       "2017  8.909896e+08\n",
       "2019  1.131928e+09"
      ]
     },
     "execution_count": 126,
     "metadata": {},
     "output_type": "execute_result"
    }
   ],
   "source": [
    "actor[['Year', 'Worldwide']].groupby(['Year']).agg('sum')"
   ]
  },
  {
   "cell_type": "code",
   "execution_count": 127,
   "metadata": {},
   "outputs": [
    {
     "data": {
      "text/plain": [
       "2042181507.0"
      ]
     },
     "execution_count": 127,
     "metadata": {},
     "output_type": "execute_result"
    }
   ],
   "source": [
    "sum(actor[['Year', 'Worldwide']].groupby(['Year']).agg('sum')['Worldwide'])"
   ]
  },
  {
   "cell_type": "code",
   "execution_count": 128,
   "metadata": {},
   "outputs": [],
   "source": [
    "def group_by_actor(actor):\n",
    "    actor_df = movie_data_df[ movie_data_df[actor] == 1]\n",
    "    total = sum(actor_df[['Year', 'Worldwide']].groupby(['Year']).agg('sum')['Worldwide'])\n",
    "    count = sum(actor_df[['Year', 'Worldwide']].groupby(['Year']).size()) \n",
    "    return total, count"
   ]
  },
  {
   "cell_type": "code",
   "execution_count": 129,
   "metadata": {},
   "outputs": [
    {
     "data": {
      "text/plain": [
       "(2042181507.0, 4)"
      ]
     },
     "execution_count": 129,
     "metadata": {},
     "output_type": "execute_result"
    }
   ],
   "source": [
    "group_by_actor('Actor_Tom_Holland')"
   ]
  },
  {
   "cell_type": "code",
   "execution_count": 166,
   "metadata": {},
   "outputs": [],
   "source": [
    "total_list = []\n",
    "avg_list = []\n",
    "actor_list = []"
   ]
  },
  {
   "cell_type": "code",
   "execution_count": 167,
   "metadata": {},
   "outputs": [
    {
     "name": "stdout",
     "output_type": "stream",
     "text": [
      "[40103.0, 4207563.0, 1807160.0, 122909.0, 42964410.0, 179769457.0, 549386.0, 38356892.0, 210017552.0, 1009888.0, 97885.0, 102205175.0, 45972724.0, 21022724.0, 111912394.0, 69497587.0, 163283318.0, 86055182.0, 80438653.0, 183887723.0, 853183614.0, 78965611.0, 44148762.0, 582890172.0, 31672678.0, 47269.0, 98240.0, 102304791.0, 73317353.0, 281623524.0, 407454130.0, 119100758.0, 54708558.0, 214136315.0, 57076286.0, 16002420.0, 265279.0, 28645448.0, 2936245.0, 37620104.0, 158260952.0, 48453605.0, 14714624.0, 49391206.0, 2042181507.0, 233542106.0, 188092373.0, 8850.0, 12201.0, 41387687.0, 18159691.0, 10771.0, 361593362.0, 14938.0, 12107.0, 217776646.0, 875191.0, 897992.0, 23540937.0, 18159691.0, 13526843.0, 5982358.0, 75984700.0, 64398132.0, 119932733.0, 61618539.0, 30691696.0, 700547754.0, 1215330127.0, 140885528.0, 271980483.0, 1899242132.0, 31672678.0, 45551350.0, 734714830.0, 6405816.0, 47275695.0, 206358399.0, 16418218.0, 40423945.0, 12119692.0, 1712199655.0, 1724565.0, 22757764.0, 54418872.0, 99503.0, 65810048.0, 117813057.0, 183288689.0, 1536804.0, 129916.0, 598879688.0, 16322067.0, 2285086.0, 45696.0, 41656.0, 65667558.0, 582559499.0, 106057.0, 2697.0, 35487190.0, 24643054.0, 22227514.0, 48165531.0, 78988148.0, 10898998.0, 14293601.0, 1265949.0, 23355100.0, 183388953.0, 1604378.0, 63109383.0, 891998317.0, 811602570.0, 143690894.0, 34156960.0, 17877506.0, 205754447.0, 21011110.0, 68135600.0, 197744377.0, 19162324.0, 26597.0, 14714624.0, 23740788.0, 17986781.0, 14857808.0, 47756590.0, 26127965.0, 27365467.0, 22678555.0, 14377130.0, 1294480.0, 7228.0, 37879877.0, 1589212.0, 67998954.0, 60845711.0, 24971631.0, 44253.0, 109593721.0, 23740788.0, 76419755.0, 1671969.0, 922656.0, 36240.0, 52882018.0, 855241825.0, 35259653.0, 862961166.0, 24024444.0, 36599361.0, 216972543.0, 53099289.0, 13082071.0, 346672922.0, 463859.0, 527965936.0, 153443348.0, 12055868.0, 9650552.0, 4376819.0, 44253.0, 122133739.0, 363525515.0, 627779729.0, 33901.0, 365550119.0, 332277945.0, 114102821.0, 58089494.0, 626871.0, 64188367.0, 29721916.0, 33213241.0, 532950503.0, 1041842530.0, 11625884.0, 130497125.0, 60273173.0, 4607017.0, 39058886.0, 22351401.0, 402156773.0, 86630.0, 72654683.0, 693723.0, 777518.0, 24270399.0, 788316722.0, 303445959.0, 1806745002.0, 12748594.0, 7301.0, 1101470.0, 545887.0, 46263237.0, 361682618.0, 7705648822.0, 21041950.0, 361500055.0, 90679.0, 33901.0, 446092357.0, 13624522.0, 9995692.0, 30996615.0, 157100845.0, 32893421.0, 118153135.0, 137963875.0, 40513.0, 71535130.0, 1208652408.0, 30229977.0, 18019198.0, 61621140.0, 725974.0, 175485270.0, 3019143.0, 161240839.0, 156844753.0, 16418218.0, 700381748.0, 18019198.0, 82272808.0, 4898.0, 35065648.0, 790.0, 181507.0, 104965.0, 1354516812.0, 625846751.0, 20941.0, 42972994.0, 31198580.0, 2356939611.0, 321752656.0, 148675066.0, 151286650.0, 30038236.0, 357986087.0, 31210089.0, 203427584.0, 325186032.0, 185912.0, 600471391.0, 783083182.0, 80438653.0, 208733451.0, 48980792.0, 3956978.0, 351375793.0, 37396763.0, 33766787.0, 204709.0, 1438826499.0, 150680864.0, 36599361.0, 41509280.0, 691965492.0, 591904.0, 83518279.0, 53445558.0, 1719157.0, 24079268.0, 4607017.0, 173961069.0, 90510445.0, 280869477.0, 476117335.0, 1404646.0, 27755817.0, 41978431.0, 34024386.0, 175302354.0, 470289082.0, 140312928.0, 79336821.0, 18640313.0, 1148161807.0, 15407615.0, 20347513.0, 14659448.0, 22787101.0, 41656.0, 115766.0, 40656399.0, 1213337694.0, 32112438.0, 582890172.0, 1141986104.0, 13610252.0, 2075661590.0, 1404646.0, 21932365.0, 281245.0, 115640590.0, 246233113.0, 23762417.0, 2414269.0, 46232397.0, 24420923.0, 75462037.0, 354103.0, 1404646.0, 90679.0, 4332.0, 13747547.0, 183288689.0, 33901.0, 700381748.0, 1332769294.0, 49693.0, 936700179.0, 314496502.0, 16610713.0, 86234523.0, 22468044.0, 184495.0, 57437450.0, 242847.0, 100372.0, 301937.0, 61881372.0, 126972584.0, 86283301.0, 22351401.0, 252293.0, 1355846808.0, 1118896333.0, 18653040.0, 17671101.0, 336691647.0, 532950503.0, 14793385.0, 402921595.0, 1660889625.0, 32016.0, 13520.0, 12597262.0, 665088812.0, 102069268.0, 228122928.0, 32087.0, 57437450.0, 521773833.0, 112833.0, 21150265.0, 8850.0, 59593444.0, 13025860.0, 46152800.0, 40656399.0, 527965936.0, 1515047671.0, 259368448.0, 16137046.0, 131443157.0, 41084036.0, 536194407.0, 15709652.0, 65421267.0, 1265949.0, 88923251.0, 26249469.0, 255236827.0, 67234188.0, 11255.0, 75308.0, 10971298.0, 45972724.0, 8850.0, 12899968.0, 19107150.0, 23728750.0, 82347656.0, 3326364.0, 695164.0, 17076.0, 3400763513.0, 1138589446.0, 1773072527.0, 67234188.0, 6650029.0, 1265949.0, 240797623.0, 24643054.0, 278111152.0, 45696.0, 99456956.0, 100933115.0, 65518471.0, 232007371.0, 24604331.0, 855478465.0, 381800822.0, 50539997.0, 20224851.0, 2705442.0, 31672678.0, 125427681.0, 26597.0, 72216294.0, 119559110.0, 53335627.0, 251917.0, 52099090.0, 1248258583.0, 82881319.0, 41887595.0, 1512616079.0, 606081961.0, 23039243.0, 88581794.0, 27526961.0, 279623901.0, 14938.0, 188433700.0, 69929545.0, 296437442.0, 312242626.0, 25081168.0, 386166.0, 22468044.0, 253317648.0, 61621140.0, 194704644.0, 3307565.0, 508130617.0, 62812974.0, 40513.0, 18307490.0, 174504407.0, 36599361.0, 155732.0, 14347433.0, 140795793.0, 341716104.0, 6650029.0, 119559110.0, 58106427.0, 21775694.0, 41681746.0, 16610713.0, 255407969.0, 2289265.0, 242847.0, 772756933.0, 519487.0, 389050365.0, 13203541.0, 34024386.0, 20347513.0, 37595443.0, 64188367.0, 32140970.0, 382449162.0, 161675.0, 20381995.0, 17535962.0, 75836683.0, 4165936266.0, 14879.0, 97644617.0, 175485270.0, 41161606.0, 98203196.0, 59945012.0, 1526595554.0, 145374099.0, 178027.0, 47279677.0, 173128787.0, 790.0, 15849.0, 26597.0, 119559110.0, 3326364.0, 1473116.0, 5200.0, 16024987.0, 10822649.0, 133365452.0, 18653040.0, 14401617.0, 254158390.0, 10771.0, 19602064.0, 24057.0, 34156960.0, 30734502.0, 165478348.0, 246678614.0, 130897.0, 92256005.0, 899089242.0, 354103.0, 875191.0, 22594.0, 116078643.0, 43498766.0, 1028570889.0, 256283912.0, 346864462.0, 58761291.0, 25892561.0, 245416.0, 104965.0, 25892561.0, 564194488.0, 24243825.0, 97644617.0, 135191.0, 342476165.0, 80657.0, 251917.0, 31626386.0, 86022265.0, 60441317.0, 25601244.0, 19652057.0, 72282227.0, 11383493.0, 49693.0, 140312928.0, 779773.0, 3019143.0, 15130912.0, 51380201.0, 18345372.0, 1187280.0, 456640373.0, 172414467.0, 525148453.0, 24243825.0, 364571656.0, 24121245.0, 72629670.0, 51380201.0, 13392049.0, 61881372.0, 2672316.0, 69583282.0, 121772.0, 134331154.0, 48782670.0, 776166832.0, 22271862.0, 29251.0, 28698.0, 41325328.0, 591904.0, 666781761.0, 324221571.0, 114102821.0, 896528.0, 155732.0, 15396447.0, 693723.0, 3373474.0, 57076286.0, 19320481.0, 16418218.0, 519487.0, 328712.0, 125799039.0, 35065648.0, 18170707.0, 765363.0, 32016.0, 193677158.0, 356700357.0, 735692827.0, 245275781.0, 1719157.0, 962077546.0, 320392818.0, 117991727.0, 238007250.0, 38362448.0, 26284.0, 4579675.0, 49567466.0, 903655259.0, 25192691.0, 29355203.0, 660381.0, 186435334.0, 29251.0, 78988148.0, 121956937.0, 82347656.0, 21027057.0, 318885.0, 26284.0, 21027057.0, 80657.0, 67343.0, 19496308.0, 345900.0, 302159.0, 22381583.0, 793068.0, 790.0, 49693.0, 142337240.0, 35669017.0, 93320380.0, 110446871.0, 553324.0, 86858.0, 12908032.0, 18603476.0, 12199546.0, 519525.0, 26620002.0, 227331938.0, 104545505.0, 142337240.0, 1014685925.0, 19320481.0, 30166854.0, 731557.0, 127937429.0, 594569689.0, 931687493.0, 35342550.0, 48936707.0, 35259653.0, 1953056.0, 204881.0, 296548286.0, 70708524.0, 23039243.0, 129897009.0, 29251.0, 14879.0, 60582764.0, 176586701.0, 32016.0, 103329908.0, 200646565.0, 140115856.0, 614905081.0, 30356362.0, 550508.0, 102205175.0, 46153570.0, 86630.0, 24646055.0, 40124.0, 24079268.0, 55267744.0, 25957482.0, 11393886.0, 21600.0, 357986087.0, 50400.0, 3956978.0, 4898.0, 296180930.0, 13448497.0, 280869477.0, 5982358.0, 10472180.0, 17076.0, 1028570889.0, 344539757.0, 17612099.0, 25601244.0, 199164986.0, 40124.0, 21205329.0, 40513.0, 29721916.0, 128388320.0, 1178889846.0, 1155386654.0, 106072605.0, 435475234.0, 118914774.0, 14431253.0, 903655259.0, 98599942.0, 11799556.0, 181316.0, 27391084.0, 59035664.0, 13061491.0, 35164920.0, 336166.0, 98450062.0, 96230215.0, 348767037.0, 19320481.0, 1818.0, 27709716.0, 50549909.0, 45710059.0, 541869194.0, 6650029.0, 17696794.0, 84918541.0, 58106427.0, 271532319.0, 21205329.0, 474725266.0, 75547184.0, 30229977.0, 411959235.0, 398674932.0, 101879.0, 85251425.0, 189996421.0, 814037575.0, 14510490.0, 626871.0, 13520.0, 176742981.0, 26620002.0, 8554650.0, 22227514.0, 47269.0, 235666165.0, 37608299.0, 7689745.0, 21401949.0, 349537494.0, 15460494.0, 752388460.0, 14401617.0, 55003890.0, 300842.0, 395044706.0, 485049.0, 527965936.0, 17691872.0, 184495.0, 216972543.0, 140795793.0, 485049.0, 122909.0, 392924807.0, 102069268.0, 407454130.0, 300842.0, 118879830.0, 301937.0, 359377.0, 117744336.0, 866080843.0, 31626386.0, 875457937.0, 7768.0, 1719157.0, 73883359.0, 745248362.0, 204709.0, 25601244.0, 115766.0, 158970776.0, 312242626.0, 20572691.0, 163675436.0, 62812974.0, 124354481.0, 107466.0, 28360590.0, 277888374.0, 17877506.0, 135413.0, 40124.0, 523084727.0, 30996615.0, 265434.0, 122909.0, 297718711.0, 2697.0, 81691108.0, 148868835.0, 13963605.0, 7689745.0, 70987654.0, 109906372.0, 102952888.0, 104884188.0, 50549909.0, 76087556.0, 125479266.0, 25892561.0, 922656.0, 37794765.0, 101879.0, 26284.0, 11084630.0, 42187665.0, 1364218293.0, 85512300.0, 7850.0, 1818.0, 55668698.0, 34814102.0, 490073174.0, 1589212.0, 30147214.0, 8554650.0, 10898998.0, 7768.0, 302895451.0, 365550119.0, 41084036.0, 24177137.0, 3355324.0, 163725083.0, 936160458.0, 16405171.0, 61292932.0, 87280000.0, 220021259.0, 19073759.0, 114102821.0, 11151.0, 1294480.0, 388780077.0, 9667157.0, 342040292.0, 1188936.0, 246233113.0, 48453605.0, 115584548.0, 777518.0, 67998954.0, 14273033.0, 15849.0, 383930656.0, 78965611.0, 23706049.0, 249134143.0, 255407969.0, 62832209.0, 293010418.0, 49851770.0, 41657844.0, 238532921.0, 19162324.0, 4607017.0, 471496110.0, 576174.0, 38901.0, 66308758.0, 20296746.0, 159161187.0, 14401617.0, 17671101.0, 21600.0, 21753365.0, 903018.0, 148592945.0, 142337240.0, 90040771.0, 123045578.0, 140705322.0, 79799880.0, 23706049.0, 346864462.0, 15152.0, 2285086.0, 37272.0, 2617806.0, 199171689.0, 96084968.0, 1992205025.0, 71746590.0, 72968.0, 50539997.0, 181316.0, 133440870.0, 1610865145.0, 52201379.0, 5047078.0, 61618539.0, 2530728.0, 731557.0, 10971298.0, 21205329.0, 57076286.0, 732275951.0, 1101470.0, 434888866.0, 41087017.0, 310466491.0, 156432.0, 11799556.0, 49488156.0, 129916.0, 896528.0, 660381.0, 2801841.0, 3482861.0, 62788218.0, 50323659.0, 21022724.0, 83672673.0, 599027218.0, 746846894.0, 33766787.0, 25975621.0, 98450062.0, 525722640.0, 161675.0, 271599181.0, 604147.0, 21150265.0, 78903124.0, 44019588.0, 745248362.0, 3590894.0, 226421.0, 54418872.0, 38901.0, 1186772727.0, 312242626.0, 109423914.0, 51738549.0, 60273173.0, 116984773.0, 14659448.0, 514073.0, 88923251.0, 57814445.0, 48980792.0, 53685146.0, 1548893.0, 782612155.0, 8554650.0, 46153570.0, 7692.0, 7693800.0, 24843990.0, 529323962.0, 161675.0, 42964410.0, 210091.0, 3332624157.0, 121545703.0, 13294.0, 22757764.0, 12050.0, 12748594.0, 205754447.0, 174504407.0, 1604378.0, 52882018.0, 10898998.0, 39910516.0, 37608299.0, 14441292.0, 43763247.0, 649033286.0, 1314943213.0, 57437450.0, 50400.0, 40103.0, 98450062.0, 142038680.0, 51738549.0, 39058886.0, 14777982.0, 98275238.0, 579220560.0, 24487848.0, 56166.0, 22386466.0, 3590894.0, 240797623.0, 767064.0, 474111196.0, 3624.0, 1604378.0, 56166.0, 149211.0, 84872444.0, 306515884.0, 84197417.0, 14332467.0, 30918726.0, 318885.0, 386166.0, 195318416.0, 24817852.0, 430201414.0, 33748006.0, 15793051.0, 408579038.0, 21011110.0, 699760773.0, 385900138.0, 210091.0, 66102616.0, 10771.0, 1242805359.0, 66207073.0, 22974019.0, 101343079.0, 37552144.0, 77583882.0, 281245.0, 2530728.0, 20651333.0, 51439072.0, 300842.0, 30923008.0, 104884188.0, 53761564.0, 28240000.0, 2530728.0, 576174.0, 36577134.0, 410902662.0, 14293601.0, 320392818.0, 548831929.0, 49851770.0, 95017038.0, 227331938.0, 15229193.0, 1825685590.0, 265279.0, 604147.0, 106209378.0, 39910516.0, 11151.0, 47756590.0, 365550119.0, 109557.0, 884738017.0, 17986781.0, 60330833.0, 1582919212.0, 1602019091.0, 1807216.0, 12748594.0, 304868961.0, 16191434.0, 14510490.0, 2881.0, 215863606.0, 875191.0, 75320680.0, 22381583.0, 399964518.0, 34024386.0, 1724349058.0, 37072838.0, 104965.0, 15793051.0, 40656399.0, 30691696.0, 90345871.0, 181507.0, 150680864.0, 660381.0, 84918541.0, 149211.0, 6494445.0, 140312928.0, 352789811.0, 155712077.0, 70826207.0, 12283800.0, 228821492.0, 13392049.0, 73883359.0, 351266433.0, 43528634.0, 332207671.0, 235666219.0, 41681746.0, 121545703.0, 767064.0, 1034799409.0, 37279439.0, 34184504.0, 158855130.0, 133365452.0, 29318861.0, 86858.0, 14332467.0, 13392049.0, 13967.0, 168660455.0, 39543581.0, 335590171.0, 92850518.0, 700547754.0, 32845996.0, 35164920.0, 12147170.0, 150847207.0, 17572289.0, 22271862.0, 777518.0, 3355324.0, 1056416.0, 364571656.0, 101879.0, 23355100.0, 31626386.0, 246620398.0, 21041950.0, 10433259.0, 7689745.0, 11151.0, 93431108.0, 1807216.0, 314938.0, 117247124.0, 9212.0, 782612155.0, 53445602.0, 71838.0, 302159.0, 104438188.0, 96942115.0, 17422935.0, 718889788.0, 39777540.0, 96942115.0, 2617806.0, 723705.0, 153527959.0, 813279015.0, 122909.0, 43016528.0, 11799556.0, 519525.0, 72282227.0, 253340107.0, 61548707.0, 53918723.0, 235351.0, 62882539.0, 55972241.0, 4405.0, 165478348.0, 209035668.0, 133440870.0, 42972994.0, 185912.0, 164531.0, 99503.0, 41084036.0, 56411585.0, 22373101.0, 6682139030.0, 34472654.0, 692514.0, 21022724.0, 190458183.0, 64188367.0, 25070261.0, 22381583.0, 13610252.0, 21041950.0, 47279677.0, 96119773.0, 12957265.0, 893357728.0, 55581263.0, 23039243.0, 3624.0, 28118.0, 299606235.0, 2493569.0, 178027.0, 1242805359.0, 54306711.0, 653755901.0, 8320.0, 234798636.0, 146644269.0, 492308975.0, 375540831.0, 11145006.0, 32087.0, 1697231399.0, 12107.0, 155062330.0, 105751425.0, 725974.0, 119894.0, 116014998.0, 243954732.0, 897992.0, 169801921.0, 52882018.0, 725974.0, 48165531.0, 19320481.0, 26800152.0, 127365953.0, 13392049.0, 550508.0, 90345871.0, 118587880.0, 66207073.0, 157110319.0, 254158390.0, 1817049603.0, 60582764.0, 32893421.0, 357297169.0, 463859.0, 21022724.0, 13624522.0, 32450241.0, 205035819.0, 47756590.0, 21994.0, 118914774.0, 6424420.0, 4697364.0, 13082071.0, 21150265.0, 1255297795.0, 95918706.0, 75836683.0, 39910516.0, 40034677.0, 58978653.0, 125799039.0, 296165264.0, 36900279.0, 47309313.0, 73772300.0, 692514.0, 90345871.0, 3438464641.0, 312242626.0, 16024987.0, 27391084.0, 641835.0, 814037575.0, 123081657.0, 25182929.0, 15130912.0, 238007250.0, 32413.0, 1149478203.0, 420177.0, 107588225.0, 1397790319.0, 75320680.0, 87041796.0, 76087556.0, 524601544.0, 304868961.0, 145374099.0, 17373124.0, 12495945.0, 149211.0, 11383493.0, 156432.0, 134866593.0, 336166.0, 29690983.0, 1635907.0, 24646055.0, 1548893.0, 234798636.0, 49391206.0, 121772.0, 420177.0, 12050.0, 6424420.0, 36240.0, 20490872.0, 767774100.0, 62788218.0, 380751255.0, 6616905.0, 17274695.0, 289631.0, 24079268.0, 1379358851.0, 16130339.0, 1548893.0, 56722693.0, 21775694.0, 175302354.0, 109557.0, 1734596631.0, 195243464.0, 1187280.0, 700547754.0, 2289265.0, 5708522.0, 474495716.0, 62812974.0, 137056262.0, 653755901.0, 808831.0, 130897.0, 178027.0, 16118.0, 80657.0, 1187280.0, 160542134.0, 250550648.0, 12751667.0, 36900279.0, 21027057.0, 2672316.0, 3373474.0, 1923586.0, 53061894.0, 614049.0, 21292009.0, 39910516.0, 282785416.0, 240797623.0, 243177531.0, 15407615.0, 19602064.0, 24392487.0, 619021436.0, 150680864.0, 372444975.0, 109557.0, 151286650.0, 653428261.0, 78903124.0, 1073392661.0, 352789811.0, 75207135.0, 10116816.0, 38356892.0, 167968547.0, 109906372.0, 693723.0, 10093124.0, 74525650.0, 146781575.0, 5123.0, 181316.0, 210091.0, 32450241.0, 5123.0, 1009888.0, 1188936.0, 42187665.0, 281245.0, 7440228.0, 15159762.0, 365353.0, 4376819.0, 13520.0, 428468519.0, 123081555.0, 51713033.0, 43084060.0, 472544424.0, 357599394.0, 1323182331.0, 297002527.0, 389681935.0, 13819139.0, 46672564.0, 18205312.0, 3482861.0, 1101470.0, 252293.0, 321872971.0, 102952888.0, 34184504.0, 175485270.0, 43528634.0, 56996304.0, 69497587.0, 30311857.0, 727427288.0, 1299216944.0, 46672564.0, 47279677.0, 307963780.0, 33213241.0, 26127965.0, 22328874.0, 9215591.0, 306515884.0, 593225692.0, 1056416.0, 211459765.0, 562553005.0, 60524626.0, 162146076.0, 85978266.0, 34227298.0, 121772.0, 35613.0, 643331111.0, 81093313.0, 158260952.0, 55030051.0, 56722693.0, 119894.0, 41325328.0, 37915971.0, 231592478.0, 304868961.0, 591904.0, 24604331.0, 12751667.0, 20224851.0, 354103.0, 10472180.0, 14430249.0, 118914774.0, 119932733.0, 302159.0, 157836947.0, 133365452.0, 737606064.0, 23857217.0, 26504383.0, 808831.0, 43016528.0, 7435496.0, 611915835.0, 125799039.0, 52556824.0, 40103.0, 12214889.0, 104545505.0, 111711453.0, 245623848.0, 375540831.0, 67998954.0, 52444295.0, 43980821.0, 41387687.0, 2429719427.0, 304650910.0, 31222161.0, 591904.0, 2617806.0, 46069568.0, 98240.0, 332207671.0, 96942115.0, 14659448.0, 49851770.0, 1056416.0, 109400246.0, 364922856.0, 7301.0, 57437450.0, 1077194461.0, 165478348.0, 64241499.0, 16358581.0, 44080803.0, 119100758.0, 251718694.0, 20753681.0, 88201933.0, 35669017.0, 7768.0, 519896648.0, 59100655.0, 235351.0, 15229193.0, 64503067.0, 98599942.0, 296069199.0, 314938.0, 71632334.0, 256283912.0, 12055868.0, 9215591.0, 28118.0, 166522895.0, 121956937.0, 73256266.0, 211952420.0, 290930148.0, 602622678.0, 76916.0, 731557.0, 61548707.0, 13135319.0, 42964410.0, 1356729691.0, 2622548.0, 1049374716.0, 190366240.0, 125842935.0, 314938.0, 473990832.0, 32917353.0, 296069199.0, 41087017.0, 19015346.0, 27365467.0, 31388907.0, 30801538.0, 88336.0, 17618280.0, 15709652.0, 140552359.0, 5217674.0, 17691872.0, 181507.0, 48782670.0, 11084630.0, 290930148.0, 38362448.0, 71838.0, 110449447.0, 79799880.0, 18205312.0, 3953337.0, 2697.0, 2156698.0, 1082075.0, 674911598.0, 322421.0, 323284230.0, 288820262.0, 1089588880.0, 1724565.0, 98203196.0, 3373474.0, 73896661.0, 15152.0, 140312928.0, 117089444.0, 553324.0, 314938.0, 669904851.0, 408579038.0, 18803648.0, 870325439.0, 2705442.0, 358352.0, 626871.0, 661267133.0, 113282923.0, 38673750.0, 48980792.0, 197183546.0, 124795039.0, 69497587.0, 7692.0, 279770770.0, 1003383774.0, 54622814.0, 191296530.0, 155155936.0, 106057.0, 52556824.0, 175302354.0, 114102821.0, 88336.0, 197937783.0, 13747547.0, 107466.0, 14879.0, 42964410.0, 807082196.0, 18598607.0, 485049.0, 50539997.0, 1056057273.0, 60118112.0, 40103.0, 35613.0, 37915971.0, 46141474.0, 514073.0, 118587880.0, 92558469.0, 4697364.0, 226945087.0, 46664414.0, 93400823.0, 1367895542.0, 20296746.0, 2672316.0, 107838177.0, 23857217.0, 296482446.0, 2465.0, 903655259.0, 17709684.0, 590671.0, 10898998.0, 18603476.0, 69929545.0, 205754447.0, 260234.0, 29914537.0, 286753392.0, 71838.0, 45173154.0, 208907.0, 41509280.0, 2622548.0, 525245546.0, 24487848.0, 62778087.0, 22974019.0, 439193819.0, 21292009.0, 21753365.0, 1028570889.0, 7689745.0, 45737711.0, 26667197.0, 36240.0, 29674699.0, 13520.0, 162807769.0, 125729635.0, 13963605.0, 4553909.0, 190400157.0, 17618280.0, 6133.0, 102952888.0, 188222966.0, 185400345.0, 18019198.0, 112833.0, 20941.0, 55972241.0, 345900.0, 176586701.0, 141349106.0, 3326364.0, 1082075.0, 10209813.0, 340939361.0, 15407615.0, 2672316.0, 700547754.0, 43980821.0, 15849.0, 23355100.0, 808831.0, 11145006.0, 256283912.0, 260481.0, 16810562.0, 782642092.0, 13203541.0, 53918723.0, 15636462.0, 139191345.0, 553324.0, 119894.0, 39777540.0, 576976898.0, 183388953.0, 24121245.0, 84918541.0, 78903124.0, 23857217.0, 140552359.0, 13388889.0, 186350580.0, 274775001.0, 121790373.0, 61881372.0, 208314186.0, 26249469.0, 102988998.0, 3956978.0, 29318861.0, 1548893.0, 82881319.0, 110883070.0, 5047078.0, 12050.0, 84918541.0, 51327858.0, 240697856.0, 323719391.0, 22787101.0, 83080890.0, 117247124.0, 312320132.0, 38844509.0, 20572691.0, 35065648.0, 5667057.0, 311647009.0, 17422935.0, 24057.0, 302895451.0, 158970776.0, 28240000.0, 47279677.0, 16610713.0, 604147.0, 80502415.0, 18653040.0, 13294.0, 777518.0, 23355100.0, 7435496.0, 14938.0, 52425855.0, 1493998554.0, 226421.0, 117679066.0, 15793051.0, 22867989.0, 94539426.0, 72968.0, 519896648.0, 260234.0, 18345372.0, 37272.0, 2493569.0, 352789811.0, 14441292.0, 37181723.0, 1404646.0, 242847.0, 181316.0, 86234523.0, 175485270.0, 522456430.0, 9015872.0, 76097692.0, 82347656.0, 3383.0, 22366810.0, 216907193.0, 21994.0, 519487.0, 40466970.0, 607558289.0, 171539887.0, 7301.0, 725974.0, 49777372.0, 46263237.0, 41325328.0, 120556201.0, 22227514.0, 47962691.0, 235666219.0, 359377.0, 189982333.0, 428028233.0, 38714944.0, 26597.0, 271710302.0, 778751282.0, 47275695.0, 21600.0, 8554650.0, 48333932.0, 39156854.0, 146936910.0, 6179954.0, 16373843.0, 1328447.0, 13967.0, 14347433.0, 3526148929.0, 807082196.0, 42989.0, 84197417.0, 236777708.0, 34854990.0, 10771.0, 12283800.0, 13203541.0, 1174007723.0, 46664414.0, 254158390.0, 1101470.0, 434888866.0, 120135561.0, 2705442.0, 7440228.0, 15460494.0, 3307350.0, 80438653.0, 35613.0, 26667197.0, 15889124.0, 141041752.0, 93400823.0, 228122928.0, 13099931.0, 27590180.0, 3383.0, 146936910.0, 365353.0, 68135600.0, 542942340.0, 385284817.0, 1294480.0, 251706381.0, 145625.0, 16376066.0, 318885.0, 467989645.0, 10971298.0, 87547518.0, 38497584.0, 107466.0, 134761409.0, 1141986104.0, 23540937.0, 118153135.0, 590671.0, 160051518.0, 114679097.0, 171141274.0, 15460494.0, 1192228667.0, 93400823.0, 194564672.0, 659916790.0, 28698.0, 5982358.0, 57076286.0, 404852543.0, 16137046.0, 2025624233.0, 19496308.0, 87280000.0, 65663276.0, 45696.0, 140795793.0, 545887.0, 38356892.0, 73256266.0, 641835.0, 56722693.0, 44253.0, 32087.0, 130560428.0, 805453386.0, 80509622.0, 140705322.0, 259239658.0, 11625884.0, 38362448.0, 41681746.0, 228122928.0, 55363810.0, 130897.0, 130471345.0, 76916.0, 386041607.0, 25182929.0, 96872534.0, 3373474.0, 19496308.0, 88336.0, 2622548.0, 1841332745.0, 102952888.0, 57814445.0, 115766.0, 7829089.0, 190400157.0, 494021696.0, 125348.0, 23468586.0, 205035819.0, 1109464796.0, 702188935.0, 1862012173.0, 155004360.0, 172608218.0, 109906372.0, 204881.0, 56853648.0, 37461274.0, 145374099.0, 76736718.0, 490719763.0, 13448497.0, 18307490.0, 91002.0, 24646055.0, 54418872.0, 767064.0, 4207563.0, 49693.0, 25537759.0, 1056057273.0, 1088641.0, 24643054.0, 59035664.0, 117813057.0, 90679.0, 65500778.0, 144532846.0, 17373124.0, 353830062.0, 357986087.0, 10433259.0, 76568259.0, 35259653.0, 967224286.0, 10971298.0, 197744377.0, 251917.0, 352789811.0, 271841.0, 582720955.0, 204977396.0, 157100845.0, 22974019.0, 117813057.0, 158970776.0, 43980821.0, 459462.0, 24487848.0, 17986781.0, 40069289.0, 671741446.0, 34814102.0, 1001802279.0, 3482861.0, 246233113.0, 62187529.0, 43070915.0, 24554.0, 1671969.0, 83672673.0, 65046687.0, 2530728.0, 306515884.0, 42972994.0, 46664414.0, 64325947.0, 194564672.0, 158762963.0, 271841.0, 112343513.0, 50444358.0, 9667157.0, 58327500.0, 185912.0, 94321.0, 54491162.0, 12751667.0, 119894.0, 14441292.0, 157785775.0, 29820616.0, 24843990.0, 402995516.0, 91799198.0, 1308467944.0, 102495262.0, 1082075.0, 16358581.0, 14777982.0, 234798636.0, 45710059.0, 46153570.0, 62187529.0, 49567466.0, 32427.0, 221600160.0, 185912.0, 119932733.0, 15849.0, 59945012.0, 296069199.0, 20381995.0, 13448497.0, 46672564.0, 242847.0, 82959.0, 205754447.0, 20941.0, 187606454.0, 11255.0, 246614017.0, 24646055.0, 609762244.0, 6424420.0, 434075312.0, 98450062.0, 50400.0, 197183546.0, 14347433.0, 5200.0, 1264337.0, 2936245.0, 15186410.0, 21792100.0, 88336.0, 25182929.0, 204222285.0, 137056262.0, 14441292.0, 9733932.0, 1926347418.0, 15396447.0, 1923586.0, 2493569.0, 6291.0, 17422935.0, 22468044.0, 13395005.0, 34934009.0, 383930656.0, 25081168.0, 7776413.0, 1006854904.0, 14793385.0, 12201.0, 40034677.0, 21600.0, 220722365.0, 996806731.0, 226421.0, 14273033.0, 238532921.0, 851125214.0, 30691696.0, 1256106999.0, 2289265.0, 15152.0, 18175112.0, 644675099.0, 70894101.0, 20572691.0, 407454130.0, 11084630.0, 46672564.0, 188092373.0, 15889124.0, 42187665.0, 201634991.0, 106209378.0, 18159691.0, 50549909.0, 2285086.0, 275255286.0, 2012094920.0, 688719.0, 79854.0, 753879091.0, 3079996.0, 553324.0, 91522071.0, 587482455.0, 119520023.0, 869228207.0, 459462.0, 71561644.0, 14377130.0, 253412295.0, 1073392661.0, 251917.0, 85251425.0, 67343.0, 367646009.0, 1685645284.0, 302159.0, 814037575.0, 37186520.0, 423757196.0, 12199546.0, 757414600.0, 86858.0, 56166.0, 12751667.0, 1770842040.0, 106209378.0, 24554.0, 16376066.0, 72968.0, 47347283.0, 389681935.0, 42580920.0, 47756590.0, 52444295.0, 43498766.0, 3307565.0, 27397655.0, 549386.0, 5152.0, 120721162.0, 27387870.0, 35487190.0, 145625.0, 10902916.0, 120556201.0, 122102736.0, 21786639.0, 77947607.0, 857611174.0, 13378549.0, 1011280129.0, 297718711.0, 67283394.0, 75308.0, 197744377.0, 15709652.0, 313178151.0, 32517248.0, 16373843.0, 667705579.0, 18803648.0, 49562710.0, 72968.0, 65188.0, 415484914.0, 456572463.0, 20296746.0, 37270721.0, 407454130.0, 37279439.0, 6133.0, 30930984.0, 167885588.0, 79336821.0, 265279.0, 11393886.0, 133578882.0, 817811037.0, 62780409.0, 174504407.0, 14659448.0, 549386.0, 200280455.0, 250550648.0, 28698.0, 38356892.0, 1148161807.0, 104965.0, 64191523.0, 18307490.0, 446092357.0, 11393886.0, 156844753.0, 7622595.0, 65866202.0, 117247124.0, 9212.0, 525245546.0, 64493915.0, 16002420.0, 146936910.0, 37272.0, 250463963.0, 21786639.0, 233055010.0, 67450815.0, 40140972.0, 13061491.0, 2334961.0, 21041950.0, 46141474.0, 13610252.0, 19602064.0, 1088641.0, 27709716.0, 89630073.0, 7430723.0, 145372048.0, 1328447.0, 1895126092.0, 15407615.0, 87320000.0, 47309313.0, 14332467.0, 359377.0, 19015346.0, 896528.0, 43016528.0, 18159691.0, 7622595.0, 545887.0, 204444585.0, 31672678.0, 47269.0, 77259852.0, 125427681.0, 2697.0, 18640313.0, 66207073.0, 221594760.0, 25010252.0, 140705322.0, 623939977.0, 5982358.0, 1818.0, 94539426.0, 93414701.0, 22351401.0, 16024987.0, 1807216.0, 281245.0, 10433259.0, 1081086670.0, 55668698.0, 15709652.0, 115084576.0, 87547518.0, 16358581.0, 210729505.0, 45173154.0, 246233113.0, 65046687.0, 141708909.0, 17644496.0, 361682618.0, 166002883.0, 99482027.0, 155732.0, 31626386.0, 109593721.0, 23857217.0, 4898.0, 14347433.0, 15793051.0, 1759733012.0, 44014181.0, 39047153.0, 33901.0, 420177.0, 431652695.0, 13448497.0, 435431899.0, 18205312.0, 24643054.0, 579220560.0, 614049.0, 945875241.0, 49562710.0, 9212.0, 334933831.0, 1635907.0, 498225840.0, 2836490.0, 15152.0, 11799556.0, 46684365.0, 135413.0, 322421.0, 5717640.0, 1724565.0, 7850.0, 238007250.0, 72216294.0, 125479266.0, 246620398.0, 99503.0, 48165531.0, 96119773.0, 958903394.0, 15186410.0, 32390945.0, 35401758.0, 52425855.0, 12147170.0, 184495.0, 14879.0, 280204801.0, 56166.0, 20347513.0, 643331111.0, 945542658.0, 26667197.0, 40423945.0, 72562507.0, 7829089.0, 97204.0, 1402581859.0, 64414761.0, 250550648.0, 5717640.0, 122930535.0, 40140972.0, 103197501.0, 14777982.0, 1807216.0, 6179954.0, 47347283.0, 199039877.0, 23316139.0, 343471816.0, 1457117108.0, 2705442.0, 7693800.0, 17644496.0, 24291525.0, 3953337.0, 12214889.0, 15636462.0, 137056262.0, 188208427.0, 234798636.0, 23316139.0, 86630.0, 50989552.0, 4499435928.0, 1369447890.0, 15229193.0, 27506452.0, 420177.0, 259866912.0, 6133.0, 14293601.0, 65146020.0, 773961945.0, 351266433.0, 534192904.0, 23157646.0, 176586701.0, 32497161.0, 93134017.0, 300842.0, 23039243.0, 14431253.0, 62187529.0, 173128787.0, 123081657.0, 25070261.0, 521170825.0, 83672673.0, 4207563.0, 365550119.0, 150517444.0, 897992.0, 119100758.0, 2285086.0, 91522071.0, 265279.0, 23468586.0, 20296746.0, 37692886.0, 60582764.0, 43757037.0, 41978431.0, 90931560.0, 125348.0, 58626805.0, 43967255.0, 51411620.0, 498225840.0, 95918706.0, 4332.0, 11255.0, 81674009.0, 174504407.0, 22991060.0, 6179954.0, 793068.0, 20651333.0, 46152800.0, 21292009.0, 2617806.0, 356700357.0, 12957265.0, 2034922748.0, 875191.0, 27139524.0, 266100425.0, 151092784.0, 295359013.0, 65046687.0, 24554.0, 410890299.0, 385900138.0, 24243825.0, 60845711.0, 27139524.0, 114679097.0, 1749046648.0, 14793385.0, 3355324.0, 22867989.0, 13061491.0, 65222582.0, 26667197.0, 17618280.0, 66654658.0, 56996304.0, 20039.0, 114501299.0, 135191.0, 133440870.0, 98240.0, 37552144.0, 52882018.0, 1009888.0, 2414269.0, 519487.0, 287180289.0, 86234523.0, 255105930.0, 81093313.0, 15186410.0, 4405.0, 340414873.0, 190057805.0, 13099931.0, 2936245.0, 112833.0, 99482027.0, 1187280.0, 66316289.0, 55030051.0, 41828355.0, 25035950.0, 197183546.0, 50444358.0, 6424420.0, 129341590.0, 30691696.0, 30996615.0, 109557.0, 129916.0, 46152800.0, 1207235590.0, 25957482.0, 666199100.0, 41657844.0, 14332467.0, 695164.0, 90040771.0, 821847012.0, 14777982.0, 643441554.0, 69497587.0, 271841.0, 30734502.0, 62076141.0, 82959.0, 271841.0, 41978431.0, 43763247.0, 8320.0, 37879877.0, 325186032.0, 20941.0, 19129015.0, 51380201.0, 808831.0, 92876224.0, 24177137.0, 155712077.0, 48902953.0, 7768.0, 161325902.0, 1034799409.0, 37552144.0, 753530864.0, 2622548.0, 22351401.0, 1149795867.0, 887651874.0, 137697528.0, 32917353.0, 58815633.0, 13395005.0, 114679097.0, 13294.0, 39543581.0, 841808377.0, 23706049.0, 43498766.0, 16191434.0, 123081657.0, 99503.0, 14341431.0, 156432.0, 27306484.0, 30060775.0, 245416.0, 88923251.0, 5241100081.0, 27590180.0, 89675435.0, 46141474.0, 221600160.0, 33748006.0, 124637724.0, 573704905.0, 12899968.0, 65859911.0, 459462.0, 580457.0, 308350069.0, 260234.0, 183288689.0, 16024987.0, 870325439.0, 66650126.0, 945968081.0, 413521752.0, 6020353.0, 880674609.0, 38844509.0, 11151.0, 48902953.0, 67998954.0, 24554.0, 36856.0, 12201.0, 50400.0, 148504.0, 41509280.0, 74240159.0, 2161961804.0, 142337240.0, 35669017.0, 25537759.0, 115055482.0, 6738854.0, 69929545.0, 8850.0, 32087.0, 5123.0, 25192691.0, 38901.0, 3383.0, 261429467.0, 350088755.0, 124839484.0, 7123449.0, 23740788.0, 51411620.0, 22757764.0, 12201.0, 32450241.0, 21994.0, 60330833.0, 519311965.0, 11393886.0, 984521293.0, 75308.0, 133764265.0, 60845711.0, 40034677.0, 794861794.0, 9995692.0, 42187665.0, 18019198.0, 166262.0, 13747547.0, 38659039.0, 16405171.0, 95017038.0, 274979051.0, 181782787.0, 45710059.0, 30734502.0, 12283800.0, 64398132.0, 5667057.0, 278454358.0, 172530936.0, 953296865.0, 362804674.0, 5717640.0, 164531.0, 193677158.0, 43046590.0, 43763247.0, 103197501.0, 3624.0, 358352.0, 28118.0, 590671.0, 89978967.0, 1587937927.0, 707177133.0, 37915971.0, 1442614064.0, 14430249.0, 209035668.0, 514073.0, 578320946.0, 210091.0, 3355324.0, 119932733.0, 850015285.0, 604147.0, 38901.0, 374736354.0, 590671.0, 459462.0, 1604378.0, 17997350.0, 11625884.0, 76087556.0, 161675.0, 33213241.0, 11145006.0, 119107580.0, 791115104.0, 793473823.0, 13390330.0, 18205312.0, 31994323.0, 64398132.0, 24817852.0, 106209378.0, 32150182.0, 39543581.0, 29251.0, 1049054740.0, 261174806.0, 60669190.0, 17860397.0, 903018.0, 24243825.0, 17644496.0, 7622595.0, 77947607.0, 125852517.0, 19162324.0, 41887595.0, 7829089.0, 1473116.0, 305937718.0, 46153570.0, 12050.0, 6369333.0, 254212245.0, 255407969.0, 110156545.0, 173961069.0, 29318861.0, 20381995.0, 78130625.0, 15130912.0, 39156854.0, 13967.0, 159319304.0, 190308316.0, 79826561.0, 490719763.0, 2751052789.0, 24604331.0, 107588225.0, 5152.0, 56625004.0, 626871.0, 44305172.0, 12359573.0, 5200.0, 28698.0, 277550490.0, 85327136.0, 1188936.0, 175220351.0, 387683470.0, 311950384.0, 32413.0, 158762963.0, 23430397.0, 7123449.0, 14938.0, 16002420.0, 306515884.0, 24024444.0, 112983889.0, 17076.0, 14510490.0, 64191523.0, 61619773.0, 922656.0, 5717640.0, 33213241.0, 23157646.0, 58089494.0, 9650552.0, 362753586.0, 297718711.0, 384269099.0, 35487190.0, 13395005.0, 22381583.0, 3400763513.0, 150517444.0, 22991060.0, 903655259.0, 371491926.0, 24057.0, 57628292.0, 695164.0, 36240.0, 37608299.0, 903018.0, 1475252752.0, 62944815.0, 13967.0, 24024444.0, 252293.0, 87041796.0, 29610942.0, 525245546.0, 6179954.0, 72629670.0, 269997738.0, 869460332.0, 460508680.0, 3953337.0, 9733932.0, 64503067.0, 162146076.0, 857611174.0, 14377130.0, 14377130.0, 71660264.0, 28118.0, 27526961.0, 250463963.0, 150027049.0, 7692.0, 118153135.0, 78903124.0, 41656.0, 1207227867.0, 20780685.0, 39047153.0, 3154444895.0, 23316139.0, 359377.0, 121545703.0, 896528.0, 3383.0, 12597262.0, 46152800.0, 13610252.0, 13747547.0, 17373124.0, 545887.0, 1116022152.0, 36437521.0, 336166.0, 28240000.0, 33748006.0, 40513.0, 146583749.0, 104545505.0, 67234188.0, 75462037.0, 82959.0, 25537759.0, 4332.0, 42580920.0, 13313581.0, 1204173748.0, 382206440.0, 91002.0, 43084060.0, 408579038.0, 64398132.0, 184495.0, 156288251.0, 345900.0, 17572289.0, 7517931325.0, 450395043.0, 206360807.0, 731557.0, 204709.0, 96212.0, 204881.0, 33748006.0, 31039126.0, 62944815.0, 5047078.0, 204709.0, 72372026.0, 72941193.0, 807082196.0, 15159762.0, 7762483.0, 75462037.0, 14430249.0, 2098047533.0, 64493915.0, 434888866.0, 1752417897.0, 63014494.0, 43345699.0, 31039126.0, 51624799.0, 110883070.0, 1473829371.0, 690981836.0, 45642952.0, 2039014014.0, 899037.0, 1890421896.0, 77947607.0, 1073392661.0, 1724565.0, 16322067.0, 66207073.0, 201634991.0, 8282429403.0, 17373124.0, 23706049.0, 4405.0, 49714378.0, 820950386.0, 7829089.0, 87965942.0, 37272.0, 11625884.0, 171932850.0, 3853427131.0, 301937.0, 21011110.0, 24057.0, 12283800.0, 45173154.0, 235956898.0, 922656.0, 203353749.0, 636076404.0, 473990832.0, 19162324.0, 45173154.0, 35018983.0, 2936245.0, 107435090.0, 122133739.0, 318885.0, 129916.0, 22271862.0, 24487848.0, 17691872.0, 252293.0, 32140970.0, 80657.0, 29721916.0, 4898.0, 220041592.0, 211952420.0, 17274695.0, 68135600.0, 167939004.0, 315361797.0, 693723.0, 72629670.0, 1007258518.0, 122133739.0, 25775371.0, 7440228.0, 36796816.0, 296482446.0, 119520023.0, 31345502.0, 16191434.0, 60234323.0, 17076.0, 4332.0, 2414269.0, 22290485.0, 44019588.0, 1034963561.0, 156432.0, 1323182331.0, 79336821.0, 141899462.0, 2465.0, 9257951.0, 13294.0, 30930984.0, 779498572.0, 35401758.0, 131457147.0, 4207563.0, 12147170.0, 67128244.0, 80438653.0, 20381995.0, 3482861.0, 87078681.0, 1053251321.0, 15130912.0, 48453605.0, 1304892100.0, 24420923.0, 38362448.0, 236553794.0, 62076141.0, 39543581.0, 17997350.0, 62076141.0, 64241499.0, 465774786.0, 289557791.0, 549386.0, 71838.0, 1023784195.0, 49714378.0, 137630771.0, 32427.0, 1818.0, 289631.0, 123875891.0, 1474484005.0, 37181723.0, 73256266.0, 290930148.0, 12524410.0, 728536902.0, 1265949.0, 93992540.0, 135191.0, 98203196.0, 793702128.0, 1063559466.0, 45972724.0, 7776413.0, 87041796.0, 365965928.0, 12119692.0, 235994033.0, 119942387.0, 17572289.0, 614049.0, 134866593.0, 226421.0, 5152.0, 178027.0, 3624.0, 27387870.0, 40124.0, 13099931.0, 619021436.0, 16610713.0, 85399929.0, 55668698.0, 1350852290.0, 148675066.0, 3307350.0, 70468407.0, 1294480.0, 171912.0, 1264201200.0, 33208094.0, 27590180.0, 14401617.0, 49714378.0, 19602064.0, 7692.0, 301937.0, 383930656.0, 450382805.0, 4107864027.0, 227736579.0, 14714624.0, 3956978.0, 614049.0, 332207671.0, 966550600.0, 91002.0, 519896648.0, 184764034.0, 129453974.0, 235351.0, 13099931.0, 629830105.0, 95017038.0, 46069568.0, 16118.0, 1719157.0, 27590180.0, 83080890.0, 1635907.0, 7123449.0, 67343.0, 32450241.0, 8320.0, 40140972.0, 358760.0, 115766.0, 35342550.0, 1270444856.0, 26249469.0, 28645448.0, 131457147.0, 8320.0, 710793777.0, 289631.0, 164360477.0, 13624522.0, 164531.0, 10209813.0, 4697364.0, 24994733.0, 24420923.0, 5152.0, 60330833.0, 7776413.0, 24024444.0, 17986781.0, 254212245.0, 21401949.0, 4376819.0, 136382275.0, 203427584.0, 117991727.0, 16118.0, 429434163.0, 12147170.0, 72282227.0, 29318861.0, 94159.0, 24902723.0, 32016.0, 20753681.0, 36856.0, 208182243.0, 325186032.0, 2563400917.0, 76419755.0, 27755817.0, 20224851.0, 296550348.0, 24902723.0, 94321.0, 42082895.0, 32413.0, 44253.0, 296069199.0, 16118.0, 22227514.0, 5123.0, 605425157.0, 20347513.0, 97644617.0, 1188936.0, 260340181.0, 75547184.0, 78512.0, 790.0, 10433259.0, 700381748.0, 32413.0, 121772.0, 19496308.0, 20490872.0, 365353.0, 86022265.0, 56411585.0, 1923586.0]\n",
      "[40103, 4207563, 903580, 122909, 42964410, 179769457, 549386, 38356892, 105008776, 1009888, 48942, 102205175, 45972724, 21022724, 55956197, 69497587, 54427772, 43027591, 80438653, 183887723, 170636722, 78965611, 22074381, 582890172, 31672678, 47269, 98240, 51152395, 24439117, 70405881, 407454130, 119100758, 27354279, 107068157, 57076286, 16002420, 265279, 28645448, 2936245, 18810052, 158260952, 48453605, 14714624, 49391206, 510545376, 77847368, 188092373, 8850, 12201, 41387687, 18159691, 10771, 180796681, 14938, 12107, 217776646, 875191, 897992, 23540937, 18159691, 13526843, 5982358, 75984700, 64398132, 119932733, 61618539, 30691696, 700547754, 243066025, 70442764, 135990241, 949621066, 31672678, 45551350, 244904943, 6405816, 47275695, 68786133, 16418218, 40423945, 12119692, 342439931, 1724565, 22757764, 54418872, 99503, 32905024, 117813057, 183288689, 1536804, 129916, 149719922, 16322067, 2285086, 45696, 41656, 32833779, 291279749, 106057, 2697, 35487190, 24643054, 22227514, 48165531, 78988148, 10898998, 14293601, 1265949, 23355100, 183388953, 1604378, 31554691, 178399663, 202900642, 71845447, 34156960, 17877506, 205754447, 21011110, 68135600, 197744377, 19162324, 26597, 14714624, 23740788, 17986781, 14857808, 47756590, 26127965, 27365467, 22678555, 14377130, 1294480, 7228, 37879877, 1589212, 67998954, 60845711, 24971631, 44253, 109593721, 23740788, 76419755, 1671969, 922656, 36240, 52882018, 427620912, 35259653, 287653722, 24024444, 36599361, 216972543, 26549644, 13082071, 115557640, 463859, 527965936, 76721674, 12055868, 9650552, 4376819, 44253, 122133739, 121175171, 313889864, 33901, 365550119, 166138972, 114102821, 58089494, 626871, 64188367, 29721916, 33213241, 532950503, 347280843, 11625884, 65248562, 60273173, 4607017, 39058886, 22351401, 57450967, 86630, 36327341, 693723, 777518, 24270399, 262772240, 151722979, 451686250, 12748594, 7301, 1101470, 545887, 46263237, 361682618, 770564882, 21041950, 180750027, 90679, 33901, 446092357, 13624522, 9995692, 30996615, 157100845, 32893421, 118153135, 68981937, 40513, 71535130, 302163102, 30229977, 18019198, 61621140, 725974, 175485270, 3019143, 80620419, 156844753, 16418218, 700381748, 18019198, 41136404, 4898, 35065648, 790, 181507, 104965, 677258406, 125169350, 20941, 42972994, 10399526, 294617451, 321752656, 148675066, 151286650, 10012745, 357986087, 31210089, 203427584, 325186032, 185912, 300235695, 261027727, 80438653, 69577817, 48980792, 3956978, 117125264, 18698381, 33766787, 204709, 359706624, 150680864, 36599361, 41509280, 230655164, 591904, 41759139, 53445558, 1719157, 24079268, 4607017, 173961069, 90510445, 140434738, 95223467, 1404646, 27755817, 41978431, 34024386, 175302354, 470289082, 140312928, 79336821, 18640313, 1148161807, 15407615, 20347513, 14659448, 22787101, 41656, 115766, 40656399, 606668847, 16056219, 582890172, 570993052, 13610252, 259457698, 1404646, 21932365, 281245, 57820295, 246233113, 23762417, 2414269, 23116198, 24420923, 75462037, 354103, 1404646, 90679, 4332, 13747547, 183288689, 33901, 700381748, 666384647, 49693, 234175044, 157248251, 16610713, 86234523, 22468044, 184495, 57437450, 242847, 100372, 301937, 61881372, 42324194, 43141650, 22351401, 252293, 338961702, 223779266, 18653040, 17671101, 112230549, 532950503, 14793385, 134307198, 184543291, 32016, 13520, 12597262, 221696270, 102069268, 228122928, 32087, 57437450, 260886916, 112833, 21150265, 8850, 29796722, 13025860, 46152800, 40656399, 527965936, 1515047671, 259368448, 16137046, 65721578, 41084036, 178731469, 15709652, 65421267, 1265949, 88923251, 26249469, 127618413, 67234188, 11255, 75308, 10971298, 45972724, 8850, 12899968, 9553575, 7909583, 82347656, 3326364, 695164, 17076, 1700381756, 284647361, 354614505, 67234188, 6650029, 1265949, 240797623, 24643054, 55622230, 45696, 49728478, 50466557, 32759235, 116003685, 24604331, 213869616, 127266940, 50539997, 20224851, 2705442, 31672678, 125427681, 26597, 72216294, 119559110, 26667813, 251917, 52099090, 416086194, 82881319, 41887595, 504205359, 303040980, 23039243, 29527264, 27526961, 93207967, 14938, 62811233, 69929545, 148218721, 312242626, 25081168, 386166, 22468044, 126658824, 61621140, 97352322, 3307565, 254065308, 62812974, 40513, 18307490, 174504407, 36599361, 155732, 14347433, 140795793, 170858052, 6650029, 119559110, 58106427, 21775694, 41681746, 16610713, 255407969, 2289265, 242847, 110393847, 519487, 194525182, 13203541, 34024386, 20347513, 18797721, 64188367, 32140970, 191224581, 161675, 20381995, 17535962, 75836683, 833187253, 14879, 97644617, 175485270, 20580803, 98203196, 59945012, 254432592, 145374099, 178027, 47279677, 173128787, 790, 15849, 26597, 119559110, 3326364, 1473116, 5200, 16024987, 10822649, 133365452, 18653040, 14401617, 254158390, 10771, 19602064, 24057, 34156960, 30734502, 165478348, 123339307, 130897, 30752001, 179817848, 354103, 875191, 22594, 58039321, 43498766, 1028570889, 256283912, 346864462, 29380645, 25892561, 245416, 104965, 25892561, 141048622, 24243825, 97644617, 135191, 171238082, 80657, 251917, 31626386, 86022265, 30220658, 25601244, 19652057, 72282227, 11383493, 49693, 140312928, 779773, 3019143, 15130912, 51380201, 18345372, 1187280, 228320186, 57471489, 262574226, 24243825, 364571656, 24121245, 72629670, 51380201, 13392049, 61881372, 2672316, 34791641, 121772, 67165577, 48782670, 258722277, 22271862, 29251, 28698, 41325328, 591904, 333390880, 162110785, 114102821, 896528, 155732, 15396447, 693723, 3373474, 57076286, 19320481, 16418218, 519487, 164356, 125799039, 35065648, 18170707, 765363, 32016, 193677158, 356700357, 245230942, 122637890, 1719157, 962077546, 320392818, 117991727, 238007250, 38362448, 26284, 4579675, 49567466, 903655259, 25192691, 29355203, 660381, 93217667, 29251, 78988148, 121956937, 82347656, 21027057, 318885, 26284, 21027057, 80657, 67343, 19496308, 345900, 302159, 22381583, 793068, 790, 49693, 142337240, 35669017, 93320380, 55223435, 553324, 86858, 12908032, 18603476, 6099773, 519525, 26620002, 227331938, 104545505, 142337240, 338228641, 19320481, 15083427, 731557, 63968714, 297284844, 465843746, 35342550, 24468353, 35259653, 976528, 204881, 148274143, 35354262, 23039243, 64948504, 29251, 14879, 60582764, 176586701, 32016, 51664954, 66882188, 70057928, 153726270, 10118787, 550508, 102205175, 46153570, 86630, 24646055, 40124, 24079268, 27633872, 25957482, 11393886, 21600, 357986087, 50400, 3956978, 4898, 98726976, 13448497, 140434738, 5982358, 10472180, 17076, 1028570889, 172269878, 17612099, 25601244, 49791246, 40124, 21205329, 40513, 29721916, 128388320, 294722461, 385128884, 53036302, 145158411, 118914774, 14431253, 903655259, 98599942, 11799556, 181316, 27391084, 59035664, 13061491, 35164920, 336166, 98450062, 48115107, 174383518, 19320481, 1818, 27709716, 50549909, 45710059, 135467298, 6650029, 17696794, 84918541, 58106427, 135766159, 21205329, 158241755, 75547184, 30229977, 137319745, 99668733, 101879, 85251425, 94998210, 814037575, 14510490, 626871, 13520, 88371490, 26620002, 8554650, 22227514, 47269, 117833082, 37608299, 7689745, 21401949, 349537494, 15460494, 250796153, 14401617, 55003890, 300842, 395044706, 485049, 527965936, 17691872, 184495, 216972543, 140795793, 485049, 122909, 392924807, 102069268, 407454130, 300842, 59439915, 301937, 359377, 117744336, 433040421, 31626386, 875457937, 7768, 1719157, 73883359, 745248362, 204709, 25601244, 115766, 158970776, 312242626, 20572691, 81837718, 62812974, 41451493, 107466, 28360590, 92629458, 17877506, 135413, 40124, 130771181, 30996615, 132717, 122909, 297718711, 2697, 20422777, 148868835, 13963605, 7689745, 17746913, 109906372, 102952888, 104884188, 50549909, 76087556, 125479266, 25892561, 922656, 18897382, 101879, 26284, 11084630, 42187665, 272843658, 85512300, 7850, 1818, 55668698, 34814102, 163357724, 1589212, 10049071, 8554650, 10898998, 7768, 302895451, 365550119, 41084036, 24177137, 3355324, 81862541, 234040114, 16405171, 30646466, 87280000, 220021259, 6357919, 114102821, 11151, 1294480, 129593359, 9667157, 171020146, 1188936, 246233113, 48453605, 38528182, 777518, 67998954, 14273033, 15849, 383930656, 78965611, 23706049, 124567071, 255407969, 62832209, 73252604, 49851770, 41657844, 238532921, 19162324, 4607017, 94299222, 576174, 38901, 66308758, 20296746, 79580593, 14401617, 17671101, 21600, 21753365, 903018, 29718589, 142337240, 90040771, 61522789, 140705322, 79799880, 23706049, 346864462, 15152, 2285086, 37272, 2617806, 99585844, 48042484, 398441005, 71746590, 72968, 50539997, 181316, 133440870, 230123592, 26100689, 5047078, 61618539, 2530728, 731557, 10971298, 21205329, 57076286, 183068987, 1101470, 434888866, 41087017, 62093298, 156432, 11799556, 24744078, 129916, 896528, 660381, 2801841, 3482861, 62788218, 25161829, 21022724, 83672673, 299513609, 746846894, 33766787, 25975621, 98450062, 262861320, 161675, 135799590, 604147, 21150265, 78903124, 44019588, 745248362, 3590894, 226421, 54418872, 38901, 395590909, 312242626, 36474638, 51738549, 60273173, 58492386, 14659448, 514073, 88923251, 57814445, 48980792, 17895048, 1548893, 782612155, 8554650, 46153570, 7692, 7693800, 24843990, 529323962, 161675, 42964410, 210091, 666524831, 121545703, 13294, 22757764, 12050, 12748594, 205754447, 174504407, 1604378, 52882018, 10898998, 39910516, 37608299, 14441292, 43763247, 324516643, 328735803, 57437450, 50400, 40103, 98450062, 71019340, 51738549, 39058886, 14777982, 98275238, 579220560, 24487848, 56166, 22386466, 3590894, 240797623, 767064, 118527799, 3624, 1604378, 56166, 149211, 84872444, 306515884, 84197417, 14332467, 30918726, 318885, 386166, 65106138, 24817852, 107550353, 33748006, 15793051, 408579038, 21011110, 699760773, 385900138, 210091, 33051308, 10771, 1242805359, 66207073, 22974019, 50671539, 37552144, 38791941, 281245, 2530728, 20651333, 25719536, 300842, 15461504, 104884188, 26880782, 28240000, 2530728, 576174, 36577134, 410902662, 14293601, 320392818, 137207982, 49851770, 95017038, 227331938, 15229193, 608561863, 265279, 604147, 106209378, 39910516, 11151, 47756590, 365550119, 109557, 147456336, 17986781, 60330833, 263819868, 801009545, 1807216, 12748594, 304868961, 16191434, 14510490, 2881, 215863606, 875191, 75320680, 22381583, 199982259, 34024386, 574783019, 18536419, 104965, 15793051, 40656399, 30691696, 90345871, 181507, 150680864, 660381, 84918541, 149211, 2164815, 140312928, 352789811, 155712077, 70826207, 12283800, 76273830, 13392049, 73883359, 351266433, 43528634, 332207671, 235666219, 41681746, 121545703, 767064, 1034799409, 37279439, 34184504, 79427565, 133365452, 29318861, 86858, 14332467, 13392049, 13967, 84330227, 39543581, 111863390, 46425259, 700547754, 16422998, 35164920, 12147170, 150847207, 17572289, 22271862, 777518, 3355324, 1056416, 364571656, 101879, 23355100, 31626386, 246620398, 21041950, 10433259, 7689745, 11151, 46715554, 1807216, 314938, 117247124, 9212, 782612155, 13361400, 71838, 302159, 104438188, 96942115, 17422935, 359444894, 39777540, 96942115, 2617806, 361852, 76763979, 116182716, 122909, 43016528, 11799556, 519525, 72282227, 126670053, 61548707, 53918723, 235351, 31441269, 55972241, 4405, 165478348, 209035668, 133440870, 42972994, 185912, 164531, 99503, 41084036, 56411585, 11186550, 1336427806, 17236327, 692514, 21022724, 47614545, 64188367, 25070261, 22381583, 13610252, 21041950, 47279677, 96119773, 12957265, 297785909, 27790631, 23039243, 3624, 28118, 149803117, 2493569, 178027, 1242805359, 18102237, 653755901, 8320, 234798636, 48881423, 246154487, 375540831, 11145006, 32087, 424307849, 12107, 77531165, 52875712, 725974, 119894, 58007499, 121977366, 897992, 169801921, 52882018, 725974, 48165531, 19320481, 26800152, 63682976, 13392049, 550508, 90345871, 118587880, 66207073, 78555159, 254158390, 454262400, 60582764, 32893421, 119099056, 463859, 21022724, 13624522, 32450241, 205035819, 47756590, 21994, 118914774, 6424420, 4697364, 13082071, 21150265, 313824448, 95918706, 75836683, 39910516, 40034677, 58978653, 125799039, 148082632, 36900279, 47309313, 18443075, 692514, 90345871, 859616160, 312242626, 16024987, 27391084, 641835, 814037575, 61540828, 25182929, 15130912, 238007250, 32413, 287369550, 420177, 107588225, 174723789, 75320680, 87041796, 76087556, 131150386, 304868961, 145374099, 17373124, 6247972, 149211, 11383493, 156432, 134866593, 336166, 14845491, 1635907, 24646055, 1548893, 234798636, 49391206, 121772, 420177, 12050, 6424420, 36240, 20490872, 153554820, 62788218, 190375627, 6616905, 17274695, 289631, 24079268, 459786283, 16130339, 1548893, 56722693, 21775694, 175302354, 109557, 578198877, 195243464, 1187280, 700547754, 2289265, 5708522, 158165238, 62812974, 137056262, 653755901, 808831, 130897, 178027, 16118, 80657, 1187280, 160542134, 125275324, 12751667, 36900279, 21027057, 2672316, 3373474, 1923586, 26530947, 614049, 21292009, 39910516, 141392708, 240797623, 121588765, 15407615, 19602064, 12196243, 619021436, 150680864, 93111243, 109557, 151286650, 653428261, 78903124, 1073392661, 352789811, 37603567, 10116816, 38356892, 83984273, 109906372, 693723, 10093124, 37262825, 73390787, 5123, 181316, 210091, 32450241, 5123, 1009888, 1188936, 42187665, 281245, 7440228, 15159762, 365353, 4376819, 13520, 214234259, 123081555, 25856516, 43084060, 236272212, 178799697, 441060777, 297002527, 389681935, 13819139, 46672564, 18205312, 3482861, 1101470, 252293, 160936485, 102952888, 34184504, 175485270, 43528634, 56996304, 69497587, 30311857, 363713644, 649608472, 46672564, 47279677, 51327296, 33213241, 26127965, 22328874, 9215591, 306515884, 296612846, 1056416, 105729882, 281276502, 30262313, 162146076, 85978266, 34227298, 121772, 35613, 643331111, 81093313, 158260952, 55030051, 56722693, 119894, 41325328, 37915971, 115796239, 304868961, 591904, 24604331, 12751667, 20224851, 354103, 10472180, 14430249, 118914774, 119932733, 302159, 78918473, 133365452, 368803032, 23857217, 13252191, 808831, 43016528, 7435496, 305957917, 125799039, 52556824, 40103, 12214889, 104545505, 111711453, 245623848, 375540831, 67998954, 52444295, 43980821, 41387687, 607429856, 60930182, 31222161, 591904, 2617806, 46069568, 98240, 332207671, 96942115, 14659448, 49851770, 1056416, 54700123, 121640952, 7301, 57437450, 538597230, 165478348, 64241499, 16358581, 22040401, 119100758, 83906231, 20753681, 44100966, 35669017, 7768, 519896648, 19700218, 235351, 15229193, 64503067, 98599942, 296069199, 314938, 35816167, 256283912, 12055868, 9215591, 28118, 83261447, 121956937, 73256266, 211952420, 290930148, 150655669, 76916, 731557, 61548707, 6567659, 42964410, 226121615, 2622548, 524687358, 95183120, 125842935, 314938, 473990832, 32917353, 296069199, 41087017, 19015346, 27365467, 15694453, 15400769, 88336, 17618280, 15709652, 140552359, 2608837, 17691872, 181507, 48782670, 11084630, 290930148, 38362448, 71838, 36816482, 79799880, 18205312, 3953337, 2697, 2156698, 1082075, 224970532, 322421, 80821057, 144410131, 363196293, 1724565, 98203196, 3373474, 36948330, 15152, 140312928, 58544722, 553324, 314938, 334952425, 408579038, 18803648, 870325439, 2705442, 358352, 626871, 165316783, 28320730, 38673750, 48980792, 197183546, 62397519, 69497587, 7692, 55954154, 501691887, 54622814, 47824132, 51718645, 106057, 52556824, 175302354, 114102821, 88336, 49484445, 13747547, 107466, 14879, 42964410, 807082196, 18598607, 485049, 50539997, 1056057273, 20039370, 40103, 35613, 37915971, 46141474, 514073, 118587880, 46279234, 4697364, 226945087, 46664414, 93400823, 273579108, 20296746, 2672316, 53919088, 23857217, 296482446, 2465, 903655259, 8854842, 590671, 10898998, 18603476, 69929545, 205754447, 260234, 14957268, 143376696, 71838, 45173154, 208907, 41509280, 2622548, 525245546, 24487848, 20926029, 22974019, 146397939, 21292009, 21753365, 1028570889, 7689745, 45737711, 26667197, 36240, 29674699, 13520, 40701942, 125729635, 13963605, 4553909, 190400157, 17618280, 6133, 102952888, 62740988, 185400345, 18019198, 112833, 20941, 55972241, 345900, 176586701, 70674553, 3326364, 1082075, 10209813, 340939361, 15407615, 2672316, 700547754, 43980821, 15849, 23355100, 808831, 11145006, 256283912, 260481, 16810562, 391321046, 13203541, 53918723, 15636462, 139191345, 553324, 119894, 39777540, 192325632, 183388953, 24121245, 84918541, 78903124, 23857217, 140552359, 6694444, 93175290, 137387500, 121790373, 61881372, 208314186, 26249469, 51494499, 3956978, 29318861, 1548893, 82881319, 110883070, 5047078, 12050, 84918541, 25663929, 240697856, 161859695, 22787101, 83080890, 117247124, 156160066, 38844509, 20572691, 35065648, 5667057, 103882336, 17422935, 24057, 302895451, 158970776, 28240000, 47279677, 16610713, 604147, 40251207, 18653040, 13294, 777518, 23355100, 7435496, 14938, 52425855, 497999518, 226421, 117679066, 15793051, 22867989, 94539426, 72968, 519896648, 260234, 18345372, 37272, 2493569, 352789811, 14441292, 37181723, 1404646, 242847, 181316, 86234523, 175485270, 87076071, 4507936, 38048846, 82347656, 3383, 22366810, 43381438, 21994, 519487, 40466970, 202519429, 171539887, 7301, 725974, 24888686, 46263237, 41325328, 120556201, 22227514, 23981345, 235666219, 359377, 94991166, 428028233, 19357472, 26597, 67927575, 129791880, 47275695, 21600, 8554650, 48333932, 39156854, 146936910, 6179954, 16373843, 1328447, 13967, 14347433, 503735561, 807082196, 21494, 84197417, 118388854, 34854990, 10771, 12283800, 13203541, 234801544, 46664414, 254158390, 1101470, 434888866, 60067780, 2705442, 7440228, 15460494, 3307350, 80438653, 35613, 26667197, 15889124, 70520876, 93400823, 228122928, 13099931, 27590180, 3383, 146936910, 365353, 68135600, 271471170, 385284817, 1294480, 83902127, 145625, 16376066, 318885, 467989645, 10971298, 87547518, 12832528, 107466, 44920469, 570993052, 23540937, 118153135, 590671, 53350506, 114679097, 85570637, 15460494, 238445733, 93400823, 194564672, 131983358, 28698, 5982358, 57076286, 404852543, 16137046, 405124846, 19496308, 87280000, 65663276, 45696, 140795793, 545887, 38356892, 73256266, 641835, 56722693, 44253, 32087, 130560428, 201363346, 80509622, 140705322, 259239658, 11625884, 38362448, 41681746, 228122928, 18454603, 130897, 65235672, 76916, 386041607, 25182929, 48436267, 3373474, 19496308, 88336, 2622548, 368266549, 102952888, 57814445, 115766, 7829089, 190400157, 247010848, 125348, 23468586, 205035819, 184910799, 87773616, 620670724, 77502180, 86304109, 109906372, 204881, 28426824, 37461274, 145374099, 38368359, 490719763, 13448497, 18307490, 91002, 24646055, 54418872, 767064, 4207563, 49693, 25537759, 1056057273, 1088641, 24643054, 59035664, 117813057, 90679, 32750389, 144532846, 17373124, 88457515, 357986087, 10433259, 38284129, 35259653, 483612143, 10971298, 197744377, 251917, 352789811, 271841, 291360477, 102488698, 157100845, 22974019, 117813057, 158970776, 43980821, 459462, 24487848, 17986781, 20034644, 335870723, 34814102, 500901139, 3482861, 246233113, 62187529, 43070915, 24554, 1671969, 83672673, 65046687, 2530728, 306515884, 42972994, 46664414, 64325947, 194564672, 158762963, 271841, 112343513, 50444358, 9667157, 29163750, 185912, 94321, 54491162, 12751667, 119894, 14441292, 52595258, 29820616, 24843990, 201497758, 45899599, 1308467944, 51247631, 1082075, 16358581, 14777982, 234798636, 45710059, 46153570, 62187529, 49567466, 32427, 221600160, 185912, 119932733, 15849, 59945012, 296069199, 20381995, 13448497, 46672564, 242847, 82959, 205754447, 20941, 62535484, 11255, 123307008, 24646055, 121952448, 6424420, 144691770, 98450062, 50400, 197183546, 14347433, 5200, 1264337, 2936245, 15186410, 10896050, 88336, 25182929, 34037047, 137056262, 14441292, 9733932, 275192488, 15396447, 1923586, 2493569, 6291, 17422935, 22468044, 13395005, 34934009, 383930656, 25081168, 7776413, 251713726, 14793385, 12201, 40034677, 21600, 73574121, 332268910, 226421, 14273033, 238532921, 283708404, 30691696, 209351166, 2289265, 15152, 9087556, 214891699, 35447050, 20572691, 407454130, 11084630, 46672564, 188092373, 15889124, 42187665, 201634991, 106209378, 18159691, 50549909, 2285086, 91751762, 1006047460, 688719, 79854, 125646515, 3079996, 553324, 91522071, 117496491, 119520023, 434614103, 459462, 71561644, 14377130, 84470765, 1073392661, 251917, 85251425, 67343, 73529201, 337129056, 302159, 814037575, 18593260, 84751439, 6099773, 378707300, 86858, 56166, 12751667, 442710510, 106209378, 24554, 16376066, 72968, 47347283, 389681935, 42580920, 47756590, 52444295, 43498766, 3307565, 27397655, 549386, 5152, 60360581, 27387870, 35487190, 145625, 10902916, 120556201, 61051368, 21786639, 77947607, 857611174, 6689274, 337093376, 297718711, 33641697, 75308, 197744377, 15709652, 104392717, 32517248, 16373843, 222568526, 18803648, 49562710, 72968, 65188, 415484914, 228286231, 20296746, 37270721, 407454130, 37279439, 6133, 30930984, 167885588, 79336821, 265279, 11393886, 66789441, 136301839, 31390204, 174504407, 14659448, 549386, 100140227, 125275324, 28698, 38356892, 1148161807, 104965, 64191523, 18307490, 446092357, 11393886, 156844753, 7622595, 32933101, 117247124, 9212, 525245546, 64493915, 16002420, 146936910, 37272, 250463963, 21786639, 77685003, 67450815, 40140972, 13061491, 1167480, 21041950, 46141474, 13610252, 19602064, 1088641, 27709716, 44815036, 7430723, 72686024, 1328447, 379025218, 15407615, 87320000, 47309313, 14332467, 359377, 19015346, 896528, 43016528, 18159691, 7622595, 545887, 68148195, 31672678, 47269, 38629926, 125427681, 2697, 18640313, 66207073, 110797380, 12505126, 140705322, 207979992, 5982358, 1818, 94539426, 46707350, 22351401, 16024987, 1807216, 281245, 10433259, 540543335, 55668698, 15709652, 115084576, 87547518, 16358581, 52682376, 45173154, 246233113, 65046687, 70854454, 17644496, 361682618, 83001441, 99482027, 155732, 31626386, 109593721, 23857217, 4898, 14347433, 15793051, 351946602, 22007090, 39047153, 33901, 420177, 215826347, 13448497, 145143966, 18205312, 24643054, 579220560, 614049, 315291747, 49562710, 9212, 334933831, 1635907, 249112920, 1418245, 15152, 11799556, 23342182, 135413, 322421, 5717640, 1724565, 7850, 238007250, 72216294, 125479266, 246620398, 99503, 48165531, 96119773, 239725848, 15186410, 32390945, 35401758, 52425855, 12147170, 184495, 14879, 70051200, 56166, 20347513, 643331111, 472771329, 26667197, 40423945, 36281253, 7829089, 97204, 701290929, 64414761, 125275324, 5717640, 61465267, 40140972, 103197501, 14777982, 1807216, 6179954, 47347283, 99519938, 23316139, 343471816, 728558554, 2705442, 7693800, 17644496, 12145762, 3953337, 12214889, 15636462, 137056262, 62736142, 234798636, 23316139, 86630, 25494776, 749905988, 195635412, 15229193, 27506452, 420177, 129933456, 6133, 14293601, 65146020, 193490486, 351266433, 267096452, 23157646, 176586701, 16248580, 46567008, 300842, 23039243, 14431253, 62187529, 173128787, 61540828, 25070261, 521170825, 83672673, 4207563, 365550119, 150517444, 897992, 119100758, 2285086, 91522071, 265279, 23468586, 20296746, 37692886, 60582764, 21878518, 41978431, 45465780, 125348, 19542268, 43967255, 51411620, 249112920, 95918706, 4332, 11255, 81674009, 174504407, 22991060, 6179954, 793068, 20651333, 46152800, 21292009, 2617806, 356700357, 12957265, 290703249, 875191, 27139524, 133050212, 151092784, 147679506, 65046687, 24554, 205445149, 385900138, 24243825, 60845711, 27139524, 114679097, 349809329, 14793385, 3355324, 22867989, 13061491, 32611291, 26667197, 17618280, 33327329, 56996304, 20039, 114501299, 135191, 133440870, 98240, 37552144, 52882018, 1009888, 2414269, 519487, 95726763, 86234523, 255105930, 81093313, 15186410, 4405, 170207436, 95028902, 13099931, 2936245, 112833, 99482027, 1187280, 66316289, 55030051, 13942785, 25035950, 197183546, 50444358, 6424420, 64670795, 30691696, 30996615, 109557, 129916, 46152800, 603617795, 25957482, 333099550, 41657844, 14332467, 695164, 90040771, 821847012, 14777982, 214480518, 69497587, 271841, 30734502, 62076141, 82959, 271841, 41978431, 43763247, 8320, 37879877, 325186032, 20941, 19129015, 51380201, 808831, 18575244, 24177137, 155712077, 48902953, 7768, 80662951, 1034799409, 37552144, 376765432, 2622548, 22351401, 164256552, 147941979, 45899176, 32917353, 58815633, 13395005, 114679097, 13294, 39543581, 420904188, 23706049, 43498766, 16191434, 61540828, 99503, 14341431, 156432, 13653242, 15030387, 245416, 88923251, 524110008, 27590180, 44837717, 46141474, 221600160, 33748006, 62318862, 143426226, 12899968, 65859911, 459462, 290228, 102783356, 260234, 183288689, 16024987, 870325439, 33325063, 189193616, 82704350, 6020353, 880674609, 38844509, 11151, 48902953, 67998954, 24554, 36856, 12201, 50400, 148504, 41509280, 37120079, 540490451, 142337240, 35669017, 25537759, 38351827, 2246284, 69929545, 8850, 32087, 5123, 25192691, 38901, 3383, 65357366, 175044377, 62419742, 7123449, 23740788, 51411620, 22757764, 12201, 32450241, 21994, 60330833, 519311965, 11393886, 246130323, 75308, 66882132, 60845711, 40034677, 794861794, 9995692, 42187665, 18019198, 166262, 13747547, 38659039, 16405171, 95017038, 137489525, 60594262, 45710059, 30734502, 12283800, 64398132, 5667057, 278454358, 34506187, 476648432, 120934891, 5717640, 164531, 193677158, 43046590, 43763247, 103197501, 3624, 358352, 28118, 590671, 44989483, 226848275, 176794283, 37915971, 360653516, 14430249, 209035668, 514073, 144580236, 210091, 3355324, 119932733, 425007642, 604147, 38901, 374736354, 590671, 459462, 1604378, 17997350, 11625884, 76087556, 161675, 33213241, 11145006, 119107580, 791115104, 113353403, 6695165, 18205312, 31994323, 64398132, 24817852, 106209378, 16075091, 39543581, 29251, 1049054740, 65293701, 30334595, 17860397, 903018, 24243825, 17644496, 7622595, 77947607, 125852517, 19162324, 41887595, 7829089, 1473116, 305937718, 46153570, 12050, 3184666, 254212245, 255407969, 55078272, 173961069, 29318861, 20381995, 78130625, 15130912, 39156854, 13967, 79659652, 95154158, 39913280, 490719763, 1375526394, 24604331, 107588225, 5152, 28312502, 626871, 22152586, 12359573, 5200, 28698, 138775245, 21331784, 1188936, 58406783, 193841735, 311950384, 32413, 158762963, 11715198, 7123449, 14938, 16002420, 306515884, 24024444, 112983889, 17076, 14510490, 64191523, 61619773, 922656, 5717640, 33213241, 23157646, 58089494, 9650552, 181376793, 297718711, 128089699, 35487190, 13395005, 22381583, 1700381756, 150517444, 22991060, 903655259, 74298385, 24057, 57628292, 695164, 36240, 37608299, 903018, 491750917, 62944815, 13967, 24024444, 252293, 87041796, 14805471, 525245546, 6179954, 72629670, 89999246, 173892066, 115127170, 3953337, 9733932, 64503067, 162146076, 857611174, 14377130, 14377130, 35830132, 28118, 27526961, 250463963, 50009016, 7692, 118153135, 78903124, 41656, 603613933, 20780685, 39047153, 315444489, 23316139, 359377, 121545703, 896528, 3383, 12597262, 46152800, 13610252, 13747547, 17373124, 545887, 223204430, 18218760, 336166, 28240000, 33748006, 40513, 146583749, 104545505, 67234188, 75462037, 82959, 25537759, 4332, 42580920, 13313581, 200695624, 127402146, 91002, 43084060, 408579038, 64398132, 184495, 78144125, 345900, 17572289, 1252988554, 225197521, 103180403, 731557, 204709, 96212, 204881, 33748006, 31039126, 62944815, 5047078, 204709, 36186013, 36470596, 807082196, 15159762, 7762483, 75462037, 14430249, 349674588, 64493915, 434888866, 438104474, 15753623, 21672849, 31039126, 51624799, 110883070, 736914685, 230327278, 22821476, 509753503, 899037, 945210948, 77947607, 1073392661, 1724565, 16322067, 66207073, 201634991, 1656485880, 17373124, 23706049, 4405, 49714378, 136825064, 7829089, 87965942, 37272, 11625884, 85966425, 481678391, 301937, 21011110, 24057, 12283800, 45173154, 235956898, 922656, 67784583, 127215280, 473990832, 19162324, 45173154, 17509491, 2936245, 53717545, 122133739, 318885, 129916, 22271862, 24487848, 17691872, 252293, 32140970, 80657, 29721916, 4898, 110020796, 211952420, 17274695, 68135600, 83969502, 157680898, 693723, 72629670, 201451703, 122133739, 25775371, 7440228, 36796816, 296482446, 119520023, 15672751, 16191434, 30117161, 17076, 4332, 2414269, 11145242, 44019588, 258740890, 156432, 441060777, 79336821, 70949731, 2465, 4628975, 13294, 30930984, 259832857, 35401758, 131457147, 4207563, 12147170, 67128244, 80438653, 20381995, 3482861, 43539340, 263312830, 15130912, 48453605, 652446050, 24420923, 38362448, 78851264, 62076141, 39543581, 17997350, 62076141, 64241499, 116443696, 72389447, 549386, 71838, 1023784195, 49714378, 68815385, 32427, 1818, 289631, 61937945, 491494668, 37181723, 73256266, 290930148, 6262205, 145707380, 1265949, 46996270, 135191, 98203196, 396851064, 212711893, 45972724, 7776413, 87041796, 121988642, 12119692, 78664677, 119942387, 17572289, 614049, 134866593, 226421, 5152, 178027, 3624, 27387870, 40124, 13099931, 619021436, 16610713, 42699964, 55668698, 270170458, 148675066, 3307350, 35234203, 1294480, 171912, 180600171, 16604047, 27590180, 14401617, 49714378, 19602064, 7692, 301937, 383930656, 225191402, 821572805, 75912193, 14714624, 3956978, 614049, 332207671, 966550600, 91002, 519896648, 92382017, 64726987, 235351, 13099931, 314915052, 95017038, 46069568, 16118, 1719157, 27590180, 83080890, 1635907, 7123449, 67343, 32450241, 8320, 40140972, 179380, 115766, 35342550, 254088971, 26249469, 28645448, 131457147, 8320, 177698444, 289631, 54786825, 13624522, 164531, 10209813, 4697364, 12497366, 24420923, 5152, 60330833, 7776413, 24024444, 17986781, 254212245, 21401949, 4376819, 68191137, 203427584, 117991727, 16118, 429434163, 12147170, 72282227, 29318861, 47079, 24902723, 32016, 20753681, 36856, 69394081, 325186032, 640850229, 76419755, 27755817, 20224851, 148275174, 24902723, 94321, 21041447, 32413, 44253, 296069199, 16118, 22227514, 5123, 605425157, 20347513, 97644617, 1188936, 130170090, 75547184, 39256, 790, 10433259, 700381748, 32413, 121772, 19496308, 20490872, 365353, 86022265, 56411585, 1923586]\n",
      "['Zahra_Fazili', 'Dolly_Parton', 'Sasson_Gabai', 'Marc_Abraham', 'Ryan_Shoos', 'Bob_Odenkirk', 'Marc_Aronson', 'Olivia_Wilde', 'Xiaogang_Feng', 'Jean_Reno', 'Clive_Standen', 'Zitao_Huang', 'Zuo_Da', 'Ray_Chase', 'Morfydd_Clark', 'Dylan_Arnold', 'Diane_Keaton', 'David_Strathairn', 'Major_Attaway', 'Sean_Bean', 'Will_Arnett', 'Laurie_Metcalf', 'Josh_Wiggins', 'Lena_Waithe', 'Corey_Johnson', 'Maria_Björnstam', 'Marianne_Rendón', 'David_Denman', 'Varun_Dhawan', 'Sam_Claflin', 'Sebastian_Rudolph', 'Angelo_Josue_Lozano_Corzo', 'Jack_Reynor', 'Common', 'Ray_Corasani', 'Anne-Marie_Duff', 'Travis_Farris', 'Soo_Go', 'Noémie_Merlant', 'Xiaobao_Song', 'Odeya_Rush', 'Riley_Keough', 'Yiyan_Jiang', 'Ayushmann_Khurrana', 'Tom_Holland', 'Liya_Tong', 'Kiu_Wai_Miu', 'Casey_Bond', 'Tasia_Grant', 'George_Fenton', 'Bex_Taylor-Klaus', 'Rodney_Evans', 'Emily_Mortimer', 'Andrew_Caldwell', 'Muho_Nölke', 'Anna_Faris', 'Ernest_Anastasio', 'Patrik_Baboumian', 'Mónica_Dionne', 'Stephen_Conroy', 'Gangshan_Jing', 'Thomas_Solivérès', 'Manuel_Garcia-Rulfo', 'Boluwatife_Treasure_Bankole', 'Jun-seok_Heo', 'Zhe_Zhang', 'Rolf_Lassgård', 'Hao_Chen', 'Will_Smith', 'Toni_Collette', 'Britt_Robertson', 'Jenny_Slate', 'Jacob_Scipio', 'Brianna_Hildebrand', 'Morena_Baccarin', 'Gideon_Adlon', 'Paul_Bettany', 'Jessica_Rothe', 'Celia_Weston', 'Harvey_Scrimshaw', 'Buzz_Aldrin', 'Ben_Affleck', 'Tom_Lister', 'Yueting_Lang', 'Sterling_Jerins', 'Darrick_Doerner', 'Mu-Yeol_Kim', 'Alison_Faulk', 'Jemaine_Clement', 'Byron_Bowers', 'Rahul_Bhat', 'Bradley_Cooper', 'Jack_Madigan', 'Francesco_Di_Napoli', 'Fiona_Domenica', 'Cece_Kelly', 'Michiel_Huisman', 'Jennifer_Ehle', 'Aasif_Mandvi', 'Katharina_Maschek', 'Ryan_Mac_Lennan', 'Diomid_Vinogradov', 'Mike_Epps', 'Joon_Lee', \"Ben_O'Brien\", 'Batyste_Fleurial', 'Marc_Kudisch', 'Vicky_Chen', 'Bennett_Deady', 'Katie_Crown', \"Gabriel_D'Almeida_Freitas\", 'Kôji_Yakusho', 'Zac_Efron', 'Yi_Zhang', 'Suxi_Ren', 'Luis_Posada', 'Maura_Tierney', 'Alon_Aboutboul', 'Leanne_Best', 'Lucy_Miller', 'Mark_Gatiss', 'Ek_Harris', 'Jamario_Rowe', 'Mengjie_Jiang', 'Eddy_Lee', 'ASAP_Rocky', 'Kelly_Reilly', 'Vicky_Krieps', 'Timothy_Radford', 'Patrick_Schwarzenegger', 'Remo_Girone', 'Abby_Craden', 'Farshid_Azizi', 'Letizia_Battaglia', 'William_Sterchi', 'Tommy_Bastow', 'Lily_Franky', 'Raven_Goodwin', 'Siddhant_Chaturvedi', 'Kirk_Douglas', 'Yan_Liu', 'Haven_Paschall', 'Micheál_Richardson', 'Evelyne_Brochu', 'Steve_Anderson', 'Maria_Hagerman', 'James_Ransone', 'Ed_Skrein', 'Armaan_Haggio', 'Jiang_Du', 'Hye-ran_Yeom', 'Alvina_August', 'Danielle_Nicolet', 'Mélanie_Laurent', 'Charlie_Heaton', 'Jennifer_Aniston', 'Tom_Bower', 'Steve_Buscemi', 'Himesh_Patel', 'Hunter_Tremayne', 'Freddie_Thorp', 'Greg_Kinnear', 'Christine_Bougie', 'Jaynee-Lynne_Kinchen', 'Scott_Eastwood', 'Anthony_Hopkins', 'Alejandro_La_Rosa', 'Demián_Bichir', 'T.J._Miller', 'Masako_Nozawa', 'William_Wai-Ting_Chan', 'Erika_Karata', 'Rupert_Evans', 'Sung-woong_Park', 'Jonny_Weston', 'Will_Poulter', 'Emilia_Clarke', 'Ana_Girardot', 'Lauren_Cohan', 'Sanaa_Lathan', 'Jimmie_Fails', 'Tori_Ellen_Ross', 'Anna_Foglietta', 'Ed_Helms', 'Chazz_Palminteri', 'Jamie_Lee_Curtis', 'Charles_Kaiser', 'Andrew_Weil', 'Greta_Gerwig', 'Benedict_Cumberbatch', 'Sanya_Malhotra', 'Tom_Hardy', 'Anne_Consigny', 'Meredith_Binder', 'John_Capodice', 'Asha_Bhat', 'Ni_Ni', 'Tony_Chiu-Wai_Leung', 'Chris_Hemsworth', 'Ye-Won_Mun', 'Halle_Berry', 'Nick_Faldo', 'Dennis_Budesheim', 'Terry_Walters', 'Ferdia_Walsh-Peelo', 'Joe_Cole', 'Takeshi_Kaneshiro', 'Stephen_Lang', 'Abraham_Clinkscales', 'Jianbin_Chen', 'Storm_Reid', 'Marguerite_Bouchard', 'Vicky_Kaushal', 'Hugh_Jackman', 'Mark_Wingett', 'Lee_Barnett', 'Ana_de_la_Reguera', 'Hatidze_Muratova', 'Tenzing_Norgay_Trainor', 'Kenneth_Branagh', 'Kai_Wang', 'Jin_Zhang', 'Alisha_Boe', 'Finn_Wolfhard', 'Billy_Barratt', 'Ana_de_Armas', 'Hiba_Abouk', 'Susan_Kelechi_Watson', 'Nia_Peeples', 'Darren_Mann', 'Göran_Björkdahl', 'Craig_T._Nelson', 'Jacob_Tremblay', 'Cole_Allen', 'Joshua_Hill', 'Sushant_Singh_Rajput', 'Ryan_Reynolds', 'Sebastian_Maniscalco', 'Astrid_Bergès-Frisbey', 'Ellise_Chappell', 'Keira_Knightley', 'Mone_Kamishiraishi', 'Randeep_Hooda', 'Ang_Phula_Sherpa', 'Eric_Bauza', 'Liron_Ben-Shlush', 'Thomas_Brodie-Sangster', 'James_Corden', 'Tia_Lynn_Ballard', 'Dermot_Mulroney', 'Qin_Li', 'Kevin_Alejandro', 'Kenny_Lin', 'Rae-won_Kim', 'Milo_Ventimiglia', 'Theodore_Hesburgh', 'Robert_De_Niro', 'Courtney_Eaton', 'Meagan_Good', 'Joo-Hyuk_Nam', 'Arnold_Schwarzenegger', \"Roger_O'Donnell\", 'Alexandra_Shipp', 'June_Diane_Raphael', 'Jack_McMullen', 'Kathy_Bates', 'Rob_Morgan', 'Tom_Sweet', 'Ross_Anderson', 'Angus_Sampson', 'Louis_Koo', 'Adolfo_Alvarez', 'Kiara_Advani', 'Fumiyo_Kohinata', 'Jang_Ki-Yong', 'Jacob_Warner', 'Isaiah_Mustafa', 'Priyanka_Bose', 'Milly_Shapiro', 'Maika_Monroe', 'Amber_Heard', 'Suzu_Hirose', 'Nam-joon_Kim', 'Sally_Field', 'Samantha_Isler', 'Jay_Galloway', 'Miyu_Irino', 'Ellar_Coltrane', 'Allison_Janney', 'Natalie_Martinez', 'Olivia_Cooke', 'Evangeline_Lilly', 'Mauricio_Ochmann', 'Jennifer_Lawrence', 'Logan_Arevalo', 'Russell_Tovey', 'Mike_Wallace', 'Anushka_Sharma', 'Anastasia_Bredikhina', 'Judy_Davis', 'Imogen_Poots', 'Carey_Mulligan', 'Shirley_Henderson', 'Megan_Liu', 'Katie_Aselton', 'Marco_Rodríguez', 'Curtis_Strange', 'Mateus_Solano', 'Kristoffer_Joner', 'Ruby_Barnhill', 'Markus_Kelle', 'Sophia_Lillis', 'Daisy_Ridley', 'Terry_Decker', 'Jeremy_Renner', 'Kathryn_Hahn', 'Day_Mesquita', 'David_Packouz', 'Inma_Cuesta', 'Matthew_Broderick', 'Samara_Weaving', 'Patricia_Clarkson', 'Agnès_Varda', 'Yuri_Andropov', 'Eugenio_Derbez', 'Rebecca_Hall', 'Sam_Rockwell', 'Edoardo_Leo', 'Farrah_Laurel_Abraham', 'Kevin_James', 'Eddie_Redmayne', 'Yun_Liu', 'Lothaire_Bluteau', 'Dane_DeHaan', 'Leonardo_DiCaprio', 'Scott_Takeda', 'Michelle_Yeoh', 'Mark_Wahlberg', 'Bob_Bert', 'Anne_Innis_Dagg', 'Richard_E._Grant', 'Jeff_Daniels', 'Yo-Landi_Visser', 'Li-Chun_Lee', 'Mikhail_Aprosimov', 'Adam_Brody', 'Harris_Dickinson', 'Bill_Camp', 'Jackson_Robert_Scott', 'Jamie_McShane', 'Zach_Galifianakis', 'Lynda_Gravatt', 'Tom_Costello', 'Bill_Paxton', 'Jimmy_Kimmel', 'Paul_Walker', 'Keith_Collea', 'Joey_Morgan', 'Allie_Chan', 'William_Jackson_Harper', 'Shailene_Woodley', 'François_Damiens', 'Tim_Pigott-Smith', 'Kenny_Bee', 'Michael_Constantine', 'Matt_Lucas', 'Tim_Heidecker', 'Chris_Webster', 'Thomas_Cocquerel', 'Nicolas_Cage', 'Aiden_Malik', 'Yuanyuan_Gao', 'Mateus_Ward', \"Ileana_D'Cruz\", 'David_Oyelowo', 'John_Abraham', 'Dan_Bakkedahl', 'Emily_Hampshire', 'Manoj_Mishra', 'Mikhail_Khodorkovsky', 'Carrie_Fisher', 'Kristen_Bell', 'Jack_Black', 'Christopher_Bomford', 'Yara_Shahidi', 'Richie_Jen', 'Valerie_Mahaffey', 'Natalya_Bystrova', 'Seth_Rogen', \"Robert_Z'Dar\", 'Alex_Roe', 'Ella_Anderson', 'Ali_Fazal', 'Douglas_M._Griffin', 'Dani_Rovira', 'Reese_Witherspoon', 'Kun_Chen', 'In-kwon_Kim', 'Lara_Dutta', 'Metallica', 'Ethan_Baird', 'Thomas_Middleditch', 'Jaquan_Rhodes', 'Josh_Brener', 'Sofia_Mali', 'LaKeith_Stanfield', 'Jon_Seda', 'Eric_Bana', 'Adam_Sandler', 'Jiayin_Lei', 'Amira_Casar', 'Jude_Law', 'Taron_Egerton', 'James_Faulkner', 'Eddie_Izzard', 'Crispin_Freeman', 'Benicio_Del_Toro', 'George_Holden', 'Dev_Patel', 'Cary-Hiroyuki_Tagawa', 'Daniel_Wu', 'Shawn_Roberts', 'Claire_Keim', 'Jim_Sarbh', 'Daniel_Grao', 'Megan_Fox', 'Anika_Noni_Rose', 'Juliette_Binoche', 'Rajkummar_Rao', 'Jason_Drucker', 'Gina_Rodriguez', 'Alex_Godbout', 'Eun-kyung_Shim', 'Gustavo_Muñoz', 'Joseph_Sikora', 'Jess_Weixler', 'Emily_Robinson', 'Carla_Oudin', 'Angelababy', 'Charles_Melton', 'Ken_Hudson_Campbell', 'Entai_Yu', 'Dimple_Kapadia', 'Logan_Gillies', 'Dalton_Vigh', 'Daniel_Kaluuya', 'Bill_Moseley', 'Alyshia_Ochse', 'Andy_Lau', 'Molly_Shannon', 'Constance_Wu', 'Arnaud_Viard', 'Sang-Jung_Kim', 'Suga', 'Shari_Rigby', 'James_Russell', 'Dean_Chaumoo', 'Jack_Dylan_Grazer', 'Naeem_Khan', 'Guillermo_Francella', 'Julieth_Restrepo', 'Jeffrey_Donovan', 'Jason_Statham', 'ZZ_Top', 'Glenda_Braganza', 'Chloe_Bennet', 'Madhuri_Dixit', 'Marcin_Kowalczyk', 'Elizabeth_Hawthorne', 'Jon_Hamm', 'Mark_Tandy', 'Henry_Kaufman', 'Ekin_Cheng', 'Baoguo_Chen', 'Jordan_Ladd', 'Virginia_Gardner', 'Teague_Berres', 'Kenan_Thompson', 'Jared_Keeso', 'Jimmy_Sheirgill', 'Lochlyn_Munro', 'Rebecca_Rittenhouse', 'Matthew_Macfadyen', 'Danny_Huston', 'Michelle_Wai', 'Sean_Astin', 'Rana_Daggubati', 'Ryan_Knighton', 'Shuzhen_Zhao', 'Barry_Barish', 'Óscar_Barberán', 'Heather_Graham', 'Domenick_Lombardozzi', 'Brad_Pitt', 'Terri_Parks', 'Penélope_Cruz', 'Javier_Bardem', 'Blythe_Danner', 'Trey_Anastasio', 'Melissa_Rauch', 'Ed_Harris', 'Jet_Li', 'Kaitlin_Olson', 'Bei-Er_Bao', 'Christopher_Mintz-Plasse', 'Michelle_Jenner', 'Carlos_Espejel', 'Aaron_Paul', 'Neddy_Banda', 'Angélica_Vale', 'Channing_Tatum', 'Dong-il_Sung', 'Joshua_Satine', 'Maya_Dagan', 'Noah_Jupe', 'Alfredo_Tavares', 'Will_Yun_Lee', 'Seann_William_Scott', 'Madeline_Carroll', 'Danny_Glover', 'Robert_Jon_Mello', 'Leehom_Wang', 'Vanessa_Hudgens', 'Hie-won_Kim', 'Katie_Appeldorn', 'Abhishek_Bharate', 'Michael_Hutchence', 'Nonso_Anozie', 'Patrick_Descamps', 'Michael_Mosley', 'You_Ge', 'Jorge_Pabón', 'Gordon_Alexander', 'Bingbing_Fan', 'Michelle_Pfeiffer', 'Yeong-hie_Seo', 'Asher_Angel', 'Nick_Offerman', 'Ray_Stevenson', 'Matthew_Del_Negro', 'Rhyu_Si-Min', 'Rob_Lowe', 'Janusz_Chabior', 'James_Badge_Dale', 'Charlie_Gabriel', 'Wei_Tang', 'Timothy_Olyphant', 'Mark_Strong', 'Ha-Neul_Kang', 'Valerie_Pachner', 'Tara_Green', 'Rick_Rosas', 'Simon_Gallup', 'Carmen_Ejogo', 'Eddie_Peng', 'Aya_Hisakawa', 'Miles_Davis', 'Jesse_Williams', 'Rajat_Kapoor', 'Andy_Ivins', 'James_Quinn_Markey', 'Alek_Skarlatos', 'Robia_Scott', 'Jacki_Weaver', 'Amy_Seimetz', 'Michaela_Watkins', 'Zhusheng_Yin', 'Matthew_Rhys', 'Jermaine_Fowler', 'Anna_Brook-Mitchell', 'D._Boon', 'Li_Gong', 'Christian_Stevens', 'Chiwetel_Ejiofor', 'Michael_Stuhlbarg', 'Tilda_Swinton', 'Karen_Gillan', \"Frances_O'Connor\", 'Raymond_Lam', 'Ge_Gao', 'Junko_Takeuchi', 'Michael_Agee', 'Bobby_Deol', 'Bo-lin_Chen', 'Ben_Hardy', 'Swanand_Kirkire', 'Milo_Parker', 'Hamza_Al-Khateab', 'Zijian_Dong', 'Pia_Hierzegger', 'Richard_Donelly', 'Meher_Vij', 'Charlene_Beck', 'Roman_Griffin_Davis', 'Diane_Davis', 'Adam_Bartley', 'Thomasin_McKenzie', 'Mark_Krenik', 'Samantha_Mathis', 'Karen_Strassman', 'Tiger_Hu_Chen', 'Trung_Anh', 'Hang_Cai', 'Isabella_Rossellini', 'Miko_Hughes', 'Ellen_Decker', 'Ludi_Lin', 'Scott_Shepherd', 'Caleel_Harris', 'Zoey_Deutch', 'Uria_Hayik', 'Helena_Grace_Donald', 'Kevin_Durand', 'Bum_Kim', 'Neil_Armstrong', 'Moe_Berg', 'Mia_Goth', 'Madeleine_Harris', 'Zoe_Margaret_Colletti', 'Naomi_Scott', 'Ben_Kingsley', 'Brooks_Ryan', 'Robert_Pattinson', 'David_Crosby', 'Nick_Robinson', 'Bingbing_Li', 'Benjamin_Bratt', 'Dilraba_Dilmurat', 'Eui-sung_Kim', 'Aisha_Takow', 'Anil_George', 'Ali_Cobrin', 'Bruce_Willis', 'Joe_Alwyn', 'Jim_Caviezel', 'Hiroyuki_Sanada', 'Mavie_Hörbiger', 'Dusty_Hill', 'McKaley_Miller', 'Elodie_Yung', 'Joe_Baiza', 'Mandy_Moore', 'J.K._Simmons', 'Ruth_Negga', 'Elle_Fanning', 'Alfred_Molina', 'Sachin_Khedekar', 'Jaycee_Chan', 'Alexandre_Astier', 'Theo_Rossi', 'Olga_Kurylenko', 'Emelie_Jonsson', 'Billy_Bob_Thornton', 'Julianne_Nicholson', 'Richie_Merritt', 'Jeong-guk_Jeon', 'Duncan_Casey', 'Ryô_Narita', 'Katie_Morrison', 'Tom_Ellis', 'Karine_Vanasse', 'Amy_Schumer', 'Howard_Schneider', 'Leigh_Whannell', 'Tom_Leeb', 'Janel_Moloney', 'Boris_Berezovsky', 'Ellen_DeGeneres', 'Viggo_Mortensen', 'Lior_Raz', 'Zachary_Haven', 'Jung-woo_Ha', 'Arvin_Kananian', 'Seong-gyoon_Kim', 'Rose_Adam', 'Seong-woo_Bae', 'Levi_Miller', 'Nicholas_Hoult', 'Dave_Bautista', 'Jovan_Adepo', 'Gerard_Butler', 'Malachi_Barton', 'Tom_Wilkinson', 'Gwilym_Lee', 'Lele_Dai', 'Eun-hyung_Jo', 'Nice_Githinji', 'Nancy_Carroll', 'Luyi_Zhang', 'Nikolai_Witschl', 'Beau_Gadsdon', 'Estelle_Parsons', 'Peter_McRobbie', 'Miles_Teller', 'Mark_Rylance', 'Ashley_Bratcher', 'Susan_Tedeschi', 'Jun-ho_Heo', 'Rhet_Kidd', 'Ramiro_Rodriguez', 'Adam_Devine', 'Anais_Lee', 'Jason_Watkins', 'Matt_Dillon', 'Hao_Qin', 'Mackenzie_Foy', 'Kyeong-yeong_Lee', 'Sylvester_Stallone', 'Kareena_Kapoor', 'Tilly_Vosburgh', 'Aaron_Kwok', 'Clive_Owen', 'Ju-bong_Gi', 'Miles_Heizer', 'Haley_Bennett', 'Tim_Bentinck', 'Edie_Falco', 'Kôji_Nakamoto', 'Mary_Dagg', 'Molly_Gordon', 'Ivo_Nandi', 'Johnny_Yong_Bosch', 'Kali_Hawk', 'Rachida_Lièvre', 'Oona_Laurence', 'Stephanie_Vogt', 'Swann_Arlaud', 'Tom_Bennett', 'Lin-Manuel_Miranda', 'Seo-Joon_Park', 'Richard_Madden', 'Nic_Bishop', 'Hong_Chau', 'Raza_Jaffrey', 'Andy_Garcia', 'Jim_Devellano', 'Lisa_Kudrow', 'Dong-xue_Li', 'Sammy_Voit', 'Amy_Ryan', 'Devin_Fabry', 'Viacheslav_Fetisov', 'Richard_Abel', 'Joonas_Suotamo', 'Ninja', 'Alexander_Fehling', 'Patti_LuPone', 'Sharlto_Copley', 'James_Baker', 'Melanie_Martinez', 'Abigail_Breslin', 'Scott_Haze', 'Erik_Stolhanske', 'Louis_C.K.', 'Emily_C._Davis', 'Neil_Young', 'Kylie_Rogers', 'Jonathan_Groff', 'Bill_Clinton', 'Retta', 'Takahiro_Sakurai', 'Kevin_Eldon', 'Milla_Jovovich', 'KiKi_Layne', 'Dennis_Haysbert', 'Aidy_Bryant', 'Daniel_Brühl', 'Kerry_Fox', 'Aishwarya_Rai_Bachchan', 'Michelle_Monaghan', 'Oakley_Bull', 'Bhumi_Pednekar', 'Bianca_Cruzeiro', 'Michael_Cera', 'Yi-zhou_Sun', 'Casper_Van_Dien', 'Alice_Guy', 'Griffin_Dunne', 'Dan_Peled', 'Alia_Bhatt', 'Alexander_DiPersia', 'Tom_Waits', 'Denis_Ménochet', 'Natalie_Portman', 'Gabriela_Lopez', 'Tobin_Bell', 'Steele_Stebbins', 'Michael_Marchand', 'Edward_James_Olmos', 'Ruby_Modine', 'Bruno_Bichir', 'Charley_Boon', 'Min-hee_Kim', 'Seon-mi_Song', 'Chris_Browning', 'Adria_Arjona', 'Holly_Earl', 'Felicity_Jones', 'Nat_Wolff', 'Tun_Lin', 'Jimi_Hendrix', 'Hill_Harper', 'Chris_McGinn', 'Wu_Jiang', 'Rob_Campbell', 'Amitabh_Bachchan', 'Steve_Blum', 'Patrick_Bruel', 'William_Michael_Payne', 'Sakshi_Tanwar', 'Taissa_Farmiga', 'Vilhelm_Blomgren', 'Ray_Winstone', 'The_Beach_Boys', 'Ka_Tung_Lam', 'Boran_Jing', 'Bella_Heathcote', 'Sarah_Natochenny', 'Kubbra_Sait', 'Omar_Sy', 'Tim_Roth', 'Toshio_Furukawa', 'Cortney_Palm', 'Nikoo_Bafti', 'Haley_Lu_Richardson', 'Mauricio_Barrientos', 'Jeffrey_Wright', 'Arthur_Evans', 'Trombone_Shorty', 'Farrah_Mackenzie', 'Jin-woong_Cho', 'Paul_Stamets', 'Sakura_Andô', 'Robert_Pugh', 'Natalie_Mitchell', 'Cristela_Alonzo', 'Tracy_Letts', 'Amy_Winehouse', 'Renée_Zellweger', 'Allison_Williams', 'Beau_Bridges', 'Michael_Shannon', 'Woo-hee_Chun', 'Wyatt_Russell', 'Gemma_Chan', 'Dae-han_Ji', 'Tichina_Arnold', 'Tiffany_Haddish', 'Alexa_Demie', 'Spencer_Brown', 'John_Malkovich', 'Amandeep_Singh', 'Bai-Ke', 'Caleb_Castille', 'David_Thewlis', 'Kitt_Proudfoot', \"Jahi_Di'Allo_Winston\", 'Toni_Morrison', 'Jillian_Bell', 'RJ_Cyler', 'Mark_Chao', 'Zaira_Wasim', 'Sugar_Lyn_Beard', 'Affion_Crockett', 'Lauren_Gilbert', 'Zooey_Deschanel', 'Louis_Garrel', 'Mattia_Piano_Del_Balzo', 'Veronica_Cartwright', 'Pelé', 'Ashton_Sanders', 'Olivia_Colman', \"Vincent_D'Onofrio\", 'Marg_Helgenberger', 'Cliff_Morrison', 'Woo_Jung', 'Neville_Misati', 'Charlie_Talbert', 'Josh_Gad', 'John_Leguizamo', 'Molly_Chester', 'Tianxiang_Yang', 'Depeche_Mode', 'Jackson_Browne', 'Josie_Olivo', 'Suk-kyu_Han', 'Anthony_Sadler', 'Bryan_Cranston', 'Michael_Saquella', 'Lady_Gaga', 'Tracy_Morgan', 'Salman_Khan', 'Cyril_Corral', 'Sung-Ki_Ahn', 'Rosamund_Pike', 'Richa_Chadha', 'Flea', 'Waad_Al-Khateab', 'Melissa_Benoist', 'Bruno_Du_Bois', 'Angourie_Rice', 'Tony_Yo-ning_Yang', 'Christopher_Sabat', 'Hera_Hilmar', 'Tye_Sheridan', 'Jaime_FitzSimons', 'Kathy_Baker', 'Florence_Clery', 'Ed_Oxenbould', 'Kathryn_Newton', 'Liza_Minnelli', 'Mckenna_Grace', 'Margarete_Tiesel', 'Peter_Mooney', 'Dan_Gill', \"Finn_Scicluna-O'Prey\", 'Idina_Menzel', 'Amrita_Singh', 'Clint_James', 'Lake_Bell', 'Ewen_MacIntosh', 'Andy_Samberg', 'Ali_Larter', 'Katrina_Kaif', 'Jaz_Sinclair', 'L._Scott_Caldwell', 'Benjamin_Walker', 'Stephen_Root', 'Marchánt_Davis', 'Lainie_Kazan', 'Kevin_Spacey', 'Yifei_Liu', 'Myung-Min_Kim', 'Lubna_Azabal', 'Michael_Benyaer', 'Melissa_Fahn', 'Alex_Lutz', 'Jess_Salgueiro', 'Minho_Choi', 'Beanie_Feldstein', 'Sarah_Silverman', 'Marisa_Berenson', 'Cassidy_Gifford', 'Michael_Richards', 'Bryce_Dallas_Howard', 'Si_Won_Choi', 'Terry_Trammell', 'Xuan_Huang', 'Daniel_Marin', 'Laurent_Lafitte', 'Adel_Bencherif', 'Clint_Eastwood', 'Samuel_Gauthier', 'Dartanian_Sloan', 'Elsa_Zylberstein', 'Sistine_Rose_Stallone', 'Osamu_Tanpopo', 'Nina_Totenberg', 'Sheryl_Lee', 'Zendaya', 'Jason_Bateman', \"Mark_O'Brien\", 'Ace_Young', 'Hassan_Fazili', 'Deanna_Dunagan', 'Yoo_Gong', 'Julia_Goldani_Telles', 'Thomas_Whilley', 'Min-Seok_Kim', 'Liev_Schreiber', 'Hai-Qing', 'Jesse_Metcalfe', 'Mir_Mohammed_Mehroos', 'Hugh_Dancy', 'Antonio_Aakeel', 'Delphi_Harrington', 'Baykali_Ganambarr', 'Marion_Cotillard', 'Patricia_Rivadeneira', 'Xavier_Dolan', 'Mir_Mohammed_Zayan', 'Olivia_Bond', 'Victor_Garber', 'Samara_Lee', 'Carly_Rae_Jepsen', 'Logan_Creran', 'Sasha_Luss', 'Beverley_Bass', 'Harish_Khanna', 'Jamie_Bell', 'Shawn_Yue', 'Denzel_Washington', 'Yuma_Uchida', 'Hayley_Squires', 'Stephanie_Beatriz', 'Daniel_Mays', 'Chuxiao_Qu', 'Millie_Bobby_Brown', 'Robert_Krantz', 'Stefania_LaVie_Owen', 'Kayla_Hamilton', 'Sarah_Vowell', 'Mayumi_Tanaka', 'Saurabh_Shukla', 'Robbie_Amell', 'Megumi_Hayashibara', 'Topher_Grace', 'Johnny_Carson', 'Martin_Gore', 'Jordan_Peele', 'Michael_Kenneth_Williams', 'Jan_Uddin', 'Luke_Evans', 'Skyler_Gisondo', 'Joanna_Lumley', 'Sayani_Gupta', 'David_Gahan', 'Bill_Wise', 'Byeong-ok_Kim', 'Edward_Holcroft', 'Joshua_Leonard', 'Madison_Wolfe', 'Jason_Sudeikis', 'Jun_Kunimura', 'Ashley_McGuire', 'Michael_Gambon', 'Ye-jin_Son', 'Justice_Smith', 'Corbin_Allred', 'Jonas_Dassler', 'Justin_Fletcher', 'Sophie_Nélisse', 'Anna_B._Shaffer', 'Daniel_Day-Lewis', 'Bonnie_Aarons', 'Catrinel_Marlon', 'Kris_Wu', 'Bruce_Beatty', 'Adam_Bengis', 'Matt_Damon', \"Lupita_Nyong'o\", 'Russell_Dixon', 'Charles_Berling', 'Roland_Møller', 'Ji-Soo_Kim', 'Alisa_Harris', 'Catherine_McCormack', 'Jessica_Barth', 'Jon_Fishman', 'Vilma_Szécsi', 'Xuan_Gu', 'Ryûnosuke_Kamiki', 'Ah-jung_Kim', 'Jing_Wu', 'Matthew_Goode', 'Mads_Brügger', 'Briana_Shann', 'Glenne_Headly', 'Filip_Berg', 'Mary_J._Blige', 'Taylor_Hickson', 'John_Samaha', 'Sama_Al-Khateab', 'Alan_Arkin', 'Laia_Costa', 'Jackie_Shroff', 'Khushi_Solanki', 'Michael_Rouse', 'Jay_Ellis', 'Wei_Fan', 'John_Lennon', 'Jason_Mitchell', 'Roh_Moo-Hyun', 'Brighton_Sharbino', 'Sia', 'Mae_Whitman', 'Ryan_Teeple', 'Raad_Rawi', 'Ben_Skelton', 'Adrien_Brody', 'Damon_Herriman', 'Trey_Parker', 'Melissa_Leo', 'Jason_Mantzoukas', 'Paresh_Rawal', 'Frederick_Schmidt', 'Alex_Honnold', 'Michael_Winters', 'Sarah_Wayne_Callies', 'Lee_Hwa-Choon', 'Bryan_Blanco', 'Rooney_Mara', 'Dieter_Hallervorden', \"O'Shea_Jackson_Jr.\", 'Moises_Arias', 'Yanting_Lü', 'Tiger_Shroff', 'Sverrir_Gudnason', 'Jack_Lyons', 'Kristin_Scott_Thomas', 'Michael_Rapaport', 'Jun-Ho_Lee', 'Tony_D._Head', 'Beck', 'Michael_Roark', 'Zachary_Levi', 'Hae-hyo_Kwon', 'Chris_Chalk', 'Clifton_Collins_Jr.', 'Yun_Lin', 'Ji-Hyun_Park', 'Aleksey_Serebryakov', 'Éric_Caravaca', 'Jason_Gregory_London', \"Jack_O'Connell\", 'Christopher_Gorham', 'Susan_Brown', 'Woo-sik_Choi', 'Andrew_Scott', 'Karan_Soni', 'Akshay_Kumar', 'Jocelyn_DeBoer', 'Mai_Thu_Huong_Maya', 'Jane_Fonda', 'Radha_Mitchell', 'Noriaki_Sugiyama', 'Man-Tat_Ng', 'Clarke_Peters', 'Sam_Worthington', 'Diego_Armando_Maradona', 'Emory_Cohen', 'Oakes_Fegley', 'Octavia_Spencer', 'Stephanie_Allain', 'Nick_Thune', 'Seo-joon_Park', 'Nicholas_Dawidoff', 'Leah_Remini', 'Jim_Broadbent', 'Emjay_Anthony', 'John_Ortiz', 'Rajesh_Sharma', 'Matt_Bomer', 'Ju-hyuk_Kim', 'Max_Martini', 'Victor_Verhaeghe', 'Hugh_Laurie', 'Casey_Groves', 'Christopher_Eccleston', 'Oshri_Cohen', 'Gabriela_Cartol', 'Woody_Brown', 'Florence_Pugh', 'Ray_Romano', 'Reid_Scott', 'Mark_Ruffalo', 'Isla_Fisher', 'Christopher_Heyerdahl', 'Justin_Briner', 'Ethan_Hawke', 'Jim_Norton', 'Shanice_Banton', 'Heng_Yu', 'Humberto_Busto', 'Seung-Wook_Lee', 'Jordan_Chan', 'Ji-hyun_Jun', 'Will_Dalton', 'Benedict_Wong', 'Maggie_Grace', 'Joanne_Whalley', 'Consuelo_Castillo', 'Ivan_Lucev', 'Mia_Wasikowska', 'Keenan_Tracey', 'Fumino_Kimura', 'Huck_Milner', 'Ian_McKellen', 'Wolf_Roth', 'Shane_Carruth', 'Jason_Lee', 'Tina_Fey', 'Steve_Zahn', 'Shameik_Moore', 'John_Turturro', 'Feodosia_Ivanova', 'Christoph_Waltz', 'Sabine_Timoteo', 'Mindy_Kaling', 'Eddie_Marsan', 'Hussein_Sam', 'William_Monette', 'Edgar_Ramírez', 'Abbie_Cornish', 'Dotsie_Bausch', 'Takeshi_Kitano', 'Robert_Daniel_Sloan', 'Nazife_Muratova', 'Ji-yeon_Lim', 'Jared_Lotz', 'Dax_Shepard', 'Maggie_Smith', 'Moon_Jae-in', 'Denzil_Smith', 'Kelly_Asbury', 'Elizabeth_Mitchell', 'Kappei_Yamaguchi', 'Francis_Ng', 'Sathyaraj', 'Patrick_Wilson', 'Diana_Silvers', 'Jackson_A._Dunn', 'Brendan_Gleeson', 'Anna_Pniowsky', 'Erica_Mendez', 'Kelly_Thornton', 'Kelly_Clarkson', 'Bryce_Gheisar', 'Lesley_Manville', 'Austin_Pendleton', 'Madelyn_Miranda', 'Kelsey_Reinhardt', 'Véronique_Le_Flaguais', 'Oliver_Platt', 'Colm_Feore', 'Chris_Pine', 'Faye_Daveney', 'Isabela_Moner', 'Corinne_Foxx', 'Hyun-woo_Lee', 'Allison_Tolman', 'Ankhnyam_Ragchaa', 'Qi_Shu', 'Alex_Kendrick', 'Sigourney_Weaver', 'Sonam_Kapoor', 'Noomi_Rapace', 'Julio_Bonet', 'Adam_Driver', 'Iain_Glen', 'Betty_Gabriel', 'Joe_Stapleton', 'Emilio_Estevez', 'Sam_Redford', 'Patrice_Lovely', 'Jon-Jon_Lockwood', 'Marianne_Denicourt', 'Jason_Gu', 'Poema_Oleas_Mekhitarian', 'Hailee_Steinfeld', 'William_Toombs', 'Daniella_Alonso', 'Michael_Fassbender', 'Blanka_Györfi-Tóth', 'Paz_Vega', 'Jonah_Hauer-King', 'Shaofeng_Feng', 'Chin_Han', 'Katie_Leung', 'Angela_Gheorghiu', 'Daniel_Giménez_Cacho', 'Christopher_Abbott', 'Jin-mo_Joo', 'Fernando_Ramos', 'Jesse_Plemons', 'Andrea_Martin', 'Jae-hong_Ahn', 'Ananya_Panday', 'Justin_Edwards', 'Kais_Nashif', 'Matthew_Gray_Gubler', 'Anil_Dhawan', 'Walter_Harris', 'Paul_Haedike', 'Alejandro_Aguilar', 'Tanner_Stine', 'Natalia_López', 'Bowen_Duan', 'Maya_Rudolph', 'Russell_Crowe', 'Zachary_Quinto', 'Anjelica_Huston', 'Guansen_Sheng', 'Shoaib_Ahmed', 'Tony_Cox', 'Chadwick_Boseman', 'Aditya_Roy_Kapoor', 'Yaniv_Biton', 'Justin_Bieber', 'Nana_Patekar', 'Richard_Pyros', 'Agustí_Villaronga', 'Michael_B._Jordan', 'Richard_Jenkins', 'Tony_Pascual', 'Mo_Han', 'Sheri_Moon_Zombie', 'Jacqueline_Fernandez', 'Bill_Nighy', 'Steven_Yeun', \"Y'lan_Noel\", 'Kevin_Guthrie', 'Rufus_Wainwright', 'Gregg_Turkington', 'Joe_Odagiri', 'Rachel_Hendrix', 'Alma_Martinez', 'Fausto_Mata', 'Trevante_Rhodes', 'The_Retrosettes', 'Hope_Banks', 'Ben_Davies', 'Taika_Waititi', 'Maciej_Malysa', 'Seána_Kerslake', 'Kartik_Aaryan', 'Jason_Isaacs', \"Lauren_'Lolo'_Spencer\", 'Erica_Lindbeck', 'Brianne_Tju', 'Mary_Elizabeth_Winstead', 'Aaron_Eckhart', 'Imelda_Staunton', 'Haruka_Ayase', 'Hong_Lu', 'Bruce_Dern', 'Patrick_Stewart', 'Nikolaj_Coster-Waldau', 'Rachel_Weisz', 'Rodica_Lazar', 'Sophia_Di_Martino', 'Josh_Hutcherson', 'Brit_Shaw', 'Tony_Hale', 'Yassine_Zeroual', 'Joey_King', 'Kate_Hudson', 'Sarah_Bolger', 'Lin_Shaye', 'Bailey_Anne_Borders', 'Margo_Johnston', 'Judy_Greer', 'Annalise_Basso', 'Philip_Keung', 'Casey_Adams', 'Charlie_Karumi', 'Peta_Murgatroyd', 'Ice-T', 'Miranda_Bailey', 'Sarah_Lind', 'Tony_Evans', 'Douglas_Booth', 'Mickey_Cohen', 'Jennifer_Dundas', 'Javed_Sheikh', 'Sky_Ferreira', 'Melanie_Liburd', 'Lisa_Clifton-Bumpass', 'Steve_Martin', 'Fred_Armisen', 'Ye_Liu', 'Jonas_Karlsson', 'Brittany_Snow', 'Alexander_Skarsgård', 'Eloise_Mumford', 'Mekhi_Phifer', 'Jessie_T._Usher', 'Jack_Davenport', 'Angela_Bain', 'Max_Irons', 'Frank_Bough', 'Robert_Costanzo', \"Johnny_'Koolout'_Starks\", 'Madison_Iseman', 'Matt_Passmore', 'Ryan_Simpkins', 'Albert_Tsai', 'Bianca_A._Santos', 'Christopher_Plummer', 'Hero_Fiennes_Tiffin', 'Aaron_Taylor-Johnson', 'Rainn_Wilson', 'Holly_Hunter', 'Thom_Petty', 'Kar_Lok_Chin', 'Dal-su_Oh', 'Allen_Evangelista', 'Johan_Heldenbergh', 'Taylor_Kitsch', 'Pandora_Colin', 'Brad_Greenquist', 'Danny_McBride', 'Allison_Paige', 'Pilou_Asbæk', 'Yang_Xiao', 'Seol-Hyun_Kim', 'Cobie_Smulders', 'Danny_Mahoney', 'Bronson_Webb', 'Ben_Jaffe', 'Kasia_Smutniak', 'Temuera_Morrison', 'Tobias_Menzies', 'Ryan_Lee', 'Cedric_the_Entertainer', 'Jon_Daly', 'Julianne_Côté', 'Joe_Vitale', 'Lulu', 'Mike_Tyson', 'Neve_Campbell', 'Reeves_Gabrels', 'Carme_Calvell', 'Gavin_Wilde', 'Amy_Jackson', 'Derek_Cecil', 'Christian_McKay', 'Tom_Courtenay', 'Dee_Bradley_Baker', 'Jin-Hee_Jang', 'Long_Le_Vu', 'Lex_Scott_Davis', 'Rocci_Williams', 'Jai_Courtney', 'Yoon_Jeong-ro', 'Ajay_Devgn', 'Chaka_Khan', 'Grey_Damon', 'Ashin', 'Rihanna', 'Shawn_Dou', 'Deepak_Dobriyal', 'Nargis_Fazili', 'Rishi_Kapoor', 'Michael_Garza', 'Alison_Brie', 'Stephen_Amell', 'Jake_Johnson', 'Kirin_Kiki', 'Jeong-geun_Sin', 'Teo_Briones', 'Clare_Hammond', 'Henry_Cavill', 'Emma_Thompson', 'Ruofu_Wu', 'Jason_Cooper', 'Claudia_Villafañe', 'Peter_Firth', 'Hannah_Murray', 'Maleah_Nipay-Padilla', 'Tim_McGraw', 'Edmund_Lupinski', 'Do-won_Kwak', 'Ali_Afshar', 'Ryan_Zheng', 'Judi_Dench', 'Sheila_Houlahan', 'Henry_Czerny', 'Albert_Brooks', 'Mark_Fichera', 'Koyu_Rankin', 'Ming_Hu', 'David_Gyasi', 'Óscar_Jaenada', 'Katherine_Waterston', 'Zack_Gottsagen', 'Dong-won_Gang', 'Ava_Cooper', 'Lucy_Kaminsky', 'F._Murray_Abraham', 'Omar_Chaparro', 'Prasanth', 'Young-nam_Jang', 'Phi_Vu', 'Chao_Liang', 'Jet_Jurgensmeyer', 'Leora_Einleger', 'Manisha_Koirala', 'Wei_Zhao', 'Honor_Kneafsey', 'Ned_Wills', 'Leon_Lucev', 'Aldis_Hodge', 'Raj_Arjun', 'Tenae_Downing', 'Gemma_Jones', 'Burn_Gorman', 'Jon_Bernthal', 'Lorraine_Toussaint', 'Cameron_Crowe', 'Adam_Scott', 'Arjun_Kapoor', 'Reese_Mishler', 'Jesse_Eisenberg', 'Marianne_Ihlen', 'Zazie_Beetz', 'Ellie_Bamber', 'He_Chen', 'Jonathan_Capehart', 'Ioan_Gruffudd', 'Jamie_Foxx', 'Nile_Diaz', 'Charlie_Day', 'Nam-gil_Kim', 'Quinn_Shephard', 'Isabelle_Huppert', 'Simon_Yam', 'Christina_Baldwin', 'Abrar_Zahoor', 'Catherine_Deneuve', 'Queen_Latifah', 'Mrunal_Thakur', 'Amber_Kuo', 'Maria_Bello', 'Caleb_Brown', 'John_C._McGinley', 'John_Boyega', 'Yûko_Sanpei', 'Dawn_Luebbe', 'Anthony_Mackie', 'Kaley_Cuoco', 'Christian_Slater', 'Nandish_Singh', 'Gidi_Peled', 'Phoebe_Fox', 'Ray_Romulus', 'Alexandra_Daddario', 'Jon_Bass', 'Joel_Edgerton', 'Christina_Applegate', 'Joaquin_Phoenix', 'Bonnie_Langford', 'Jens_Hultén', 'David_Crowley', 'Woo-Bin_Kim', 'Bérénice_Bejo', 'Sunny_Pawar', 'Chengpeng_Dong', 'Quentin_Dolmaire', 'Ari_Einliger', 'Haoran_Liu', 'Robert_Cardone', 'Kyra_Sedgwick', 'Gang_Wu', 'Robert_Trujillo', 'Diane_Guerrero', 'Masahiro_Higashide', 'Jennifer_Lopez', 'Hyun_Bin', 'Sam_Waterston', 'Kim_Scar', 'Demi_Lovato', 'Lil_Rel_Howery', 'Josephine_Langford', 'Aidan_Devine', 'Jung-min_Hwang', 'Selena_Gomez', 'Maisie_Williams', 'Tony_Ka_Fai_Leung', 'Claire_Foy', 'Tim_Robbins', 'Neil_Nitin_Mukesh', 'Milo_Gibson', 'Ryô_Horikawa', 'Scout_Taylor-Compton', 'Nicole_Kidman', 'Edith_Haagenrud-Sande', 'Emily_Beecham', 'Frank_Beard', 'Pfeifer_Brown', 'Gael_García_Bernal', 'Andrea_Riseborough', 'Sergei_Fedorov', 'Sung-ha_Jo', 'Alan_Tudyk', 'Tom_Felton', 'Fatima_Hossaini', 'Elena_Sofia_Ricci', 'Jennifer_Saunders', 'Joong-Ki_Song', 'Andrel_McPherson', 'Joseph_Julian_Soria', 'Sandra_Kwan_Yue_Ng', 'Louis-José_Houde', 'Eiza_González', 'Kyrie_Irving', 'John_David_Washington', 'Jake_Gyllenhaal', 'Manoj_Mehra', 'Remigiusz_Jankowski', 'Elizabeth_Debicki', 'Park_Choong-Hwan', 'Asa_Butterfield', 'Erin_Blackwell', 'Lucy_Boynton', 'Robert_Forster', 'Tobias_Dirks', 'Dorian_Le_Clech', 'Ji-won_Kim', 'Brenda_Vaccaro', 'Waleed_Zuaiter', 'Brit_Laree', 'Sean_Penn', 'Thomas_Haden_Church', 'Neil_Casey', 'James_Allen_McCune', 'Kathy_Griffin', 'In-Sung_Jo', 'Nick_Broomfield', 'Lee_Armstrong', 'Melissa_Joan_Hart', 'Colin_Farrell', 'Huma_Qureshi', 'Aamir_Khan', 'Ryan_Bartley', 'Billy_Brown', \"Ed_O'Neill\", 'Melvil_Poupaud', 'Likun_Wang', 'Cressida_Bonas', 'Phil_Burgers', 'Ross_Kimball', 'Fred_Bercovitch', 'Dong-seok_Ma', 'Jessica_Alba', 'Chloë_Sevigny', 'Snoop_Dogg', 'Orson_Bean', 'Shabana_Azmi', 'Mahfuz_Rahman', 'Hannah_Emily_Anderson', 'Logan_Miller', 'Anna_Camp', 'Ronak_Singh_Chadha_Berges', 'Danielle_Macdonald', 'Suhail_Arastu', 'Hae-Young_Lee', 'Tony_Jaa', 'Tsuwayuki_Saotome', 'John_Corbett', 'Sarah_Gadon', 'Kim_Kardashian_West', 'Anne_Heche', 'Millicent_Simmonds', 'Kaho', 'Kamila_Kaminska', 'Joseph', 'Julia_Jones', 'Christina_Masterson', 'Andrea_Eversley', 'Norah_Jones', 'Julianne_Moore', 'Zheng_Xu', 'Agyness_Deyn', 'Danila_Kozlovsky', 'Guangjie_Li', 'Elise_Tielrooy', 'Juan_Pablo_Raba', 'Asher_Miles_Fallica', 'Qing_Xu', 'Louise_Chevillotte', 'Étienne_Galloy', 'Leslie_Odom_Jr.', 'Ben_Whishaw', 'Kelsey_Grammer', 'John_Carroll_Lynch', 'Ann-Margret', 'Chris_J._Murray', 'In-gi_Jeong', 'Jada_Pinkett_Smith', 'Sofia_Boutella', 'Mel_Gibson', 'Juan_Du', 'James_DuMont', 'Raphael_Alejandro', 'Eileen_Dunwoodie', 'David_Walliams', 'John_Cho', 'Lesley-Ann_Brandt', 'Jimmy_Chin', 'Maisa_Abd_Elhadi', 'Ming_Fan', 'Brady_Noon', 'John_Chester', 'Leynar_Gomez', 'Michael_Caine', 'Bo_Huang', 'Jeremy_Irons', 'Peter_Dinklage', 'George_MacKay', 'Johnny_Galecki', 'Yeo-jeong_Jo', 'Hanyu_Zhang', 'Sung-min_Lee', 'Teyonah_Parris', 'Christine_Lahti', 'Vidya_Balan', 'Cara_Delevingne', 'Noriko_Shitaya', 'Laura_Baudis', 'Fatima_Sana_Shaikh', 'Adam_James', 'Carolina_Main', 'Michael_Tse', 'Beth_Goulart', 'Marc_Hosemann', 'Lucas_Hedges', 'Yawen_Zhu', 'Stephen_Olvey', 'Michael_Pollan', 'Mason_Alban', 'Mayday', 'Christopher_Barcia', 'Ian_Nelson', 'Willem_Dafoe', 'Terry_Serpico', 'Sharon_Horgan', 'Dave_Johns', 'Sam_Neill', 'Rory_Scovel', 'Alison_Moed_Paolercio', 'Jay_Baruchel', 'Sara_N._Salazar', 'Chun_Du', 'Tim_Boxell', 'Tyler_Young', \"Asan_N'Jie\", 'Ruth_Bader_Ginsburg', 'Rufus_Sewell', 'Julian_Bray', 'Toby_Jones', 'Samantha_Mugatsia', 'Gregg_Weiner', 'Joseph_Izzo', 'Kate_Winslet', 'Shraddha_Kapoor', 'Nawazuddin_Siddiqui', 'Michael_Bornhütter', 'William_McNamara', 'Mike_Colter', 'Naomi_Watts', 'Rashida_Jones', 'Brett_Gelman', 'Rob_Brydon', 'John_Cena', 'Ruby_Rose', 'Sanae_Loutsis', 'Ljutvie_Sam', 'Radhika_Apte', 'Aarif_Rahman', 'Rick_Springfield', 'Isabela_Merced', 'Marlon_Wayans', 'Ranveer_Singh', 'Jessica_Chaffin', 'Megan_Gage', 'Israel_Broussard', 'Malin_Akerman', 'Cristina_Valenzuela', 'Chris_Scribner', 'Elisabeth_Moss', 'Charlize_Theron', 'Gwyneth_Paltrow', 'Samantha_Schnitzler', 'John_Eric_Bentley', 'Yousef_Erakat', 'Ludacris', 'Elijah_Wood', 'Kei_Kinoshita', 'Halston_Sage', 'Sofia_Buenaventura', 'Samuel_Kai_Taylor', 'Josh_Hamilton', 'Samuel_L._Jackson', 'Anthony_Gonzalez', 'Andre_Hyland', 'Maddie_Ziegler', 'Ansel_Elgort', 'Dean_Norris', 'John_Dugdale', 'The_Beatles', 'Diane_Lane', 'John_C._Reilly', 'Chris_Webber', 'Anushka_Shetty', 'Kristin_Dattilo', 'Sam_Elliott', 'Jóhannes_Haukur_Jóhannesson', 'James_Hetfield', 'Patch_Darragh', 'Hyeon-ju_Son', 'Varun_Sharma', 'Felecia_Angelle', 'Toni_Servillo', 'Douglas_Smith', 'Robert_C._Kirk', 'Saoirse_Ronan', 'Isiah_Whitlock_Jr.', 'Ping_Li', 'Andrea_Cohen', 'Harumi_Shuhama', 'Corin_Nemec', 'Ólafur_Darri_Ólafsson', 'Rory_Culkin', 'Madison_Ingoldsby', 'Fionn_Whitehead', 'Elaine_Jin', 'Rufat_Aliyev', 'Elizabeth_Banks', 'Dean_Winters', 'Abby_Ryder_Fortson', 'Beulah_Cooper', 'Jorge_Lendeborg_Jr.', 'Christopher_Rivera', 'Su-an_Kim', 'Kriti_Sanon', 'Kit_Connor', 'Byung-Hun_Lee', 'Paul_Rudd', 'Rocio_Garcia', 'Binlong_Pan', 'Alana_Blanchard', 'Viola_Davis', 'Xiubo_Wu', 'Aubrey_Plaza', 'Daniel_Choi', 'Mahershala_Ali', 'Robert_John_Burke', 'Anders_Holm', 'Tessa_Thompson', 'Stuart_Siet', 'Mathilde_Seigner', 'Spencer_Stone', 'Jennifer_Connelly', 'Sarah_Dumont', 'Scarlett_Johansson', 'Ava_Pickard', 'Marko_Zaror', 'Ellen_Burstyn', 'Joe_Estevez', 'Colin_Quinn', 'Lars_Kjeldsen', 'Mark_Duplass', 'Karen_Abercrombie', 'Jena_Malone', 'Ben_Stiller', 'Eszter_Balint', 'Galina_Tikhonova', 'Christine_Baranski', 'Michael_Peña', '50_Cent', 'Iris_Apatow', 'Mark_Arnold', 'François_Civil', 'Ryûichi_Kijima', 'Aiden_Haggarty', 'Lun_Ai', 'Christina_Hendricks', 'Curtis_Webster', 'Rob_Riggle', 'Matthew_Van_Wettering', 'Jim_Parsons', 'Freddie_Crowder', 'Michael_Ealy', 'Kati_Outinen', 'Non', 'Anna_Stranz', 'Nancy_Bacal', 'Amy_Adams', 'Callum_Keith_Rennie', 'Cheryl_Hines', 'Akio_Ôtsuka', 'Pierfrancesco_Favino', 'Pedro_Pascal', 'Anne_Hathaway', 'Naomi_Klein', 'Ryan_Phillippe', 'Peggy_Lipton', 'Rachel_McAdams', 'Alec_Baldwin', 'Ben_Mendelsohn', 'Barry_Pepper', 'Ziyi_Zhang', 'Matthew_Zuk', 'Hassie_Harrison', 'Stanley_Tucci', 'Nick_Nolte', 'Rufus_Jones', 'Bobby_Cannavale', 'Karin_Konoval', 'Ellen_Cervone', 'Chang-Wook_Ji', 'Mark_Moses', 'Paddy_Considine', 'Claire_Geare', 'Aisling_Franciosi', 'Bonnie_Raitt', 'Jenna_Day', 'Kuishan_Pei', 'Diego_Luna', 'Farhan_Akhtar', 'Filipp_Lebedev', 'Zuxin_Ye', 'Sharon_Blackwood', 'Ben_Crenshaw', 'Nick_Frost', 'Caitriona_Balfe', 'Nicoletta_Mantovani', 'Ewan_McGregor', 'Aoi_Yûki', 'Timofey_Tribuntsev', 'Laura_Dern', 'Faisa_Hassan', 'Vanessa_Kirby', 'Brooklynn_Prince', 'Hayley_Atwell', 'Michael_Beach', 'Paapa_Essiedu', 'Jiaoming_Pang', 'Natasha_Liu_Bordizzo', 'Sally_Hawkins', 'Daniel_Zovatto', 'Annu_Kapoor', 'Juan_Piedrahita', 'Rowan_Atkinson', 'Kelsey_Asbille', 'Jennifer_Gibson', 'Brad_Heller', 'Blake_Anderson', 'Woo-jin_Jo', 'Josh_Duhamel', 'Sage_Correa', 'Angelina_Jolie', 'Pat_Edwards', 'Francesca_Capaldi', 'Claire_Holt', 'Sonoya_Mizuno', 'Vanessa_Redgrave', 'Patrick_Hivon', 'Robert_Sheehan', 'Duan_Sanderson', 'Andrew_Fletcher', 'Anthony_LaPaglia', 'Paul_Anderson', \"Shaquille_O'Neal\", 'Winston_Chao', 'Rene_Russo', 'Gerald_McRaney', 'Longlan_Stuy', 'Damon_Wayans_Jr.', 'Marcel_Ruiz', 'Shuuko_Calderón', 'Emma_Watson', 'Menashe_Noy', 'Alejandro_Patiño', 'Zach_Aguilar', 'Landon_Gordon', 'Amadou_Madani_Tall', 'Harryette_Helsel', 'Zishan_Yang', 'Ari_Graynor', 'Jessica_Williams', 'Jeff_Goldblum', 'Shay_Mitchell', 'Rafe_Spall', 'Kate_Beckinsale', 'Kanye_West', 'J.J._Jia', 'Jae-Hyun_Cho', 'Justin_Long', 'Carlos_Pratts', 'Guillaume_Briat', 'Yani_Gellman', 'Tianyu_Ma', 'Ben_Tavassoli', 'Jim_Sturgess', 'Sarah_Markowitz', 'Lee_Hanee', 'Eric_Beecroft', 'Jeffrey_Thomas', 'Colin_H._Murphy', 'Peter_Lanzani', 'Michael_Domnitz', 'Guy_Rhys', 'James_Caan', 'Michael_Welch', 'Mehdi_Dehbi', 'Ximena_Alvarez', 'Armie_Hammer', 'William_Moseley', 'Yuan_Chang', 'Tom_Brooke', 'Will_Ferrell', 'Evan_Hofer', 'Julia_Roberts', 'Olivia_DeJonge', \"Erin_O'Brien\", 'Jack_McBrayer', 'Elsie_Fisher', 'Melissa_Croden', 'Nora_Fatehi', 'Luàna_Bajrami', 'Kiko_Mizuhara', 'Taylor_Schilling', 'Joseph_Bezenek', 'Sacha_Baron_Cohen', 'Helen_Mirren', 'Joivan_Wade', 'Ann_Kittner', 'Kari_Matchett', 'James_McAvoy', 'Sidharth_Malhotra', 'Pankaj_Tripathi', 'Samantha_Logan', 'Judith_Godrèche', 'Bryce_Papenbrook', 'Emma_Suárez', 'Shinnosuke_Mitsushima', 'Russell_Hornsby', 'Nathan_Fillion', 'Xun_Zhou', 'Craig_Roberts', 'Bill_Murray', 'Janet_Montgomery', 'Tracy_Campbell', 'Eui-soo_Jang', 'Justin_Marosa', 'Ice_Cube', 'Amy_Poehler', 'Kevin_Sizemore', 'Fiona_Shaw', 'Henry_Golding', 'Boyd_Holbrook', 'Bahar_Pars', 'Lily_James', 'Jeff_Daniel_Phillips', 'Colette_Kieffer', 'Omari_Hardwick', 'Amanda_Seyfried', 'Bella_Thorne', 'Regina_King', 'Max_Hubacher', 'Tony_Goldwyn', 'Richard_Cant', 'Kar_Yan_Lam', 'Juno_Temple', 'Robin_Hodges', 'Corey_Hawkins', 'Omid_Djalili', 'Amy_Forsyth', 'Dicky_Eklund_Jr.', 'Viviana_Aprea', 'Billy_Crudup', 'Marisa_Tomei', 'Mouni_Roy', 'Mark_Armstrong', 'Rebel_Wilson', 'Bruce_Springsteen', 'Tom_Mercier', 'Cole_Sprouse', 'Dave_Franco', 'Vincent_Ebrahim', 'Riz_Ahmed', 'Tara_Yelland', 'Joel_Kinnaman', 'Melanie_Vallejo', 'Kang-ho_Song', 'Tim_Allen', 'Lance_Reddick', 'Emma_Roberts', 'Anna_Gunn', 'Liam_Neeson', 'Donnie_Yen', 'Nguyen_Phuong_Tra_My', 'Scott_Goldman', 'Vijay_Raaz', 'Melissa_McCarthy', 'Michael_Collins', 'Julian_Dennison', 'Lathrop_Walker', 'Zaheer_Iqbal', 'Steve_Monroe', 'Tom_Cruise', 'Richard_Webber', 'Joely_Richardson', 'Travis_Tritt', 'David_Denmark', 'Ilana_Glazer', 'Bill_Pullman', 'Kimberly_Elise', 'Julie_Vollono', 'Doona_Bae', 'Zhang_Wen', 'Juhi_Chawla', 'Kirsten_Dunst', 'Michael_Bernardi', 'Eileen_Dietz', 'Jun-yeol_Ryu', 'Hwang_Chae-won', 'Langley_Kirkwood', 'Josh_Charles', 'Valeriia_Karaman', 'Gustavo_Escobar', 'Ah-in_Yoo', 'Yuan_Li', 'Ren_Osugi', 'Richard_Kind', 'Jonathan_Majors', 'Frank_Grillo', 'Deidre_Goodwin', 'Lauren_Graham', 'Anton_Yelchin', 'Bronte_Carmichael', 'Benoît_Poelvoorde', 'Disha_Patani', 'Ryan_Kwanten', 'Kian_Lawley', \"Dylan_O'Brien\", 'Blake_Jenner', 'Elisabeth_Shue', 'Mary_Magee', 'Diane_Kruger', 'Vincent_Cassel', 'Alden_Ehrenreich', 'Suhail_Nayyar', 'Pico_Alexander', 'Max_Thommes', 'Jaymes_Butler', 'Joshua_Burge', 'Mason_Lee', 'Kirk_Acevedo', 'Alex_Wolff', 'Casey_Elliott', 'BTS', 'Oprah_Winfrey', 'Matthew_McConaughey', 'Salma_Hayek', 'Cesar_De_León', 'Norma_Michaels', 'Jerry_Bock', 'Billy_Burke', 'Laura_De_Marchi', 'Claire_Corey', 'Evan_Peters', 'Jason_Momoa', 'Dag_Hammarskjöld', 'Adrian_Schiller', 'Min-Jung_Bae', 'Amiée_Conn', 'Park_Jimin', 'Lynn_Xiong', 'Louis_Hofmann', 'Matt_Walsh', 'So-dam_Park', 'Bronagh_Waugh', 'Damien_Bonnard', 'Lucas_Till', 'Grace_Stottor', 'Rose_Leslie', 'Axelle_Carolyn', 'Natalia_Reyes', 'Zi-Xuan_Zhang', 'Christian_Bale', 'Navid_Negahban', 'Tom_Everett_Scott', 'Falk_Hentschel', 'Sid_Haig', 'Ah-yeon_Oh', 'Ji-seob_So', 'Alfonso_Dosal', 'Awkwafina', 'Rohit_Saraf', 'Hye-su_Kim', 'Jinglei_Xu', 'Ron_Funches', 'Tom_Taylor', 'Laura_Castrillón', 'Johnny_Depp', 'Masami_Nagasawa', 'Anupriya_Goenka', 'Lewis_MacDougall', 'Sofia_Rosinsky', 'Emma_Harvey', 'Kyung-gu_Sol', 'Ron_Carter', 'Kirby_Johnson', 'Cynthea_Mercado', 'Adèle_Exarchopoulos', 'Vidyut_Jammwal', 'Gary_Oldman', 'Dempsey_Bovell', 'Mary_Gidley', 'Dongyu_Zhou', 'Nick_Kroll', 'Gil_Levanon', 'Jane_Perry', 'Kazuya_Nakai', 'Jane_Levy', 'Kaitlyn_Dever', 'Alistair_Abell', 'Ki_Hong_Lee', 'Olivier_Gourmet', 'Billy_Cox', 'Tom_Hopper', 'Wendi_McLendon-Covey', 'Giuseppe_Battiston', 'Stephanie_Nogueras', 'Joe_Folau', 'Salvador_Dalí', 'Aleksandr_Ilin', 'Robin_Wright', 'Demetrius_Shipp_Jr.', 'Pili_Groyne', 'Him_Law', 'Yu-mi_Jung', 'Roger_Kwok', 'Robert_Redford', 'Callie_Hernandez', 'Rebecca_Bloom', 'Shariff_Earp', 'Candice_Bergen', 'Faye_Dunaway', 'Yuchun_Li', 'Charlotte_Rampling', 'Peiyao_Jiang', 'Jamie_Bamber', 'Steve_Lemme', 'Vikramjeet_Virk', 'Soon-Hyoung_Cha', 'Abbas_Abdulghani', 'Jake_Ryan', 'Dylan_McKiernan', 'Kristen_Wiig', 'Emily_Watson', 'Ga-ram_Jung', 'Monica_Garcia_Bradley', 'V.G._Alexander', 'Rosa_Salazar', 'Robert_Shafran', 'John_Krasinski', 'Glenn_Close', 'Nikolay_Bystrov', 'Johnny_Huang', 'Maxim_Stoyanov', 'Ike_Barinholtz', 'Camila_Morrone', 'Jared_Bankens', 'Tian_Jing', 'Aditya_Seal', 'Keanu_Reeves', 'Kelvin_Harrison_Jr.', 'Aude-Laurence_Clermont_Biver', 'Do-Hwan_Woo', 'Daniel_Radcliffe', 'Ranvir_Shorey', 'Marc_Maron', 'Van_Veronica_Ngo', 'Philip_Bertioli', 'Patima_Tungpuchayakul', 'Yong_Hou', 'Kristen_Ledlow', 'Charles_Aitken', 'Chen_Yao', 'Peter_Cole', 'Yun-hie_Jo', 'Jung-jae_Lee', 'Josh_Brolin', 'Kanata_Hongô', 'Mira_Sorvino', 'Sean_Bridgers', 'Ryan_Guzman', 'Song-Kyoung_Lee', 'Sarah_Jes_Austell', 'Billy_Gibbons', 'Hae-jin_Yoo', 'Pranutan_Bahl', 'J-Hope', \"Auli'i_Cravalho\", 'Brenton_Thwaites', 'Doug_Jones', 'Kate_Dickie', 'Ruby_Lin', 'Luigi_Lo_Cascio', 'Sanjay_Dutt', 'Danai_Gurira', 'Stephen_McKinley_Henderson', 'Gabriella_Belisario', 'Pham_Anh_Khoa', 'Qianyuan_Wang', 'Charlie_Wright', 'Yun-Fat_Chow', 'Suk-ho_Jun', 'Natalie_Medlock', 'Tamao_Satô', 'Zoë_Kravitz', 'Andrew_Garfield', 'Andrew_Daly', 'Karl_Urban', 'Sandra_Bullock', 'Kirk_Hammett', 'Sung-Cheol_Kim', 'Frankie_Faison', 'Sun-kyun_Lee', 'Hrithik_Roshan', 'Jimit_Trivedi', 'Ron_Livingston', 'Mugga', 'Matthias_Schoenaerts', 'Jesse_McCartney', 'Griffin_Gluck', 'Samira_Wiley', 'Natalie_Morales', 'Chris_Pratt', 'Rebecca_Ferguson', 'Sang-ho_Kim', 'Leslie_David_Baker', 'Mort_Kimmel', 'Prabhas', 'David_Dastmalchian', 'Sarah_Stiles', 'Bobby_Moynihan', 'Owen_Wilson', 'Fayssal_Bazzi', 'Corey_Stoll', 'Lewis_Black', 'Roy_Hill', 'Kate_Mara', 'Hiroki_Hasegawa', 'Tania_Raymonde', 'Olivier_Martinez', 'Vince_Vaughn', 'Chris_Johnson', 'Chun_Sun', 'Cassi_Davis', 'Eli_Goree', 'Dustin_Hoffman', 'Jihae', 'Linda_Ronstadt', 'Jonas_Bloquet', 'Mette_Towley', 'James_Wilks', 'Joseph_Salas', 'Ciro_Vecchione', 'Kimberly_Hebert_Gregory', 'Larry_Bagby', 'Mitchell_Slaggert', 'Dinesh_Kumar', 'Tae-ri_Kim', 'Juliette_Lewis', 'Fawad_Khan', 'Hana_Sugisaki', 'Morris_Chestnut', 'Stacey_Arwen_Raab', 'Tabu', 'Luke_Kleintank', 'Ajiona_Alexus', 'Ian_McShane', 'Emma_Delves', 'Matheus_Nachtergaele', 'Corey_Large', 'Thomas_Kretschmann', 'Patrick_L._Reyes', 'Aditi_Rao_Hydari', 'Hisaaki_Takeuchi', 'Rupert_Penry-Jones', 'Method_Man', 'Keith_Allen', 'Laura_Post', 'Dalma_Maradona', 'Rory_J._Saper', 'Dean_Mumford', 'Woody_Harrelson', 'Sue_Anastasio', 'Connie_Britton', 'Mackenzie_Davis', 'Zanilia_Zhao', 'Forest_Whitaker', 'Alex_R._Hibbert', 'Jonathan_Rhys_Meyers', 'Celia_Imrie', 'Ken_Watanabe', 'Sung-won_Choi', 'Katie_Dippold', 'Kristen_Stewart', 'Zhihong_Liu', 'Tom_Hanks', 'Trey_Tucker', 'Fiona_Apple', 'Rima_Te_Wiata', \"Matt_O'Leary\", 'Yoon-seok_Kim', 'Lucien_Laviscount', 'Yogendra_Tiku', 'Iko_Uwais', 'Romain_Duris', 'Mx_Justin_Vivian_Bond', 'Olivia_Munn', 'Maayan_Blum', 'Rudy_Eisenzopf', 'Sosie_Bacon', 'Rica_Matsumoto', 'Shannyn_Sossamon', 'Joe_Anderson', 'Alessandro_Nivola', 'Susan_Ziegler', 'Justin_Theroux', 'Steve_Lantz', 'Winston_Duke', 'Lara_Pulver', 'Haruma_Miura', 'Robert_Patrick', 'Michael_Sheen', 'Austin_Abrams', \"Dinesh_D'Souza\", 'Valeria_Golino', 'Daniel_Henshall', 'Nick_Cheung', 'Danilo_Beauchamp', 'Katherine_Langford', 'Sean_Patrick_Thomas', 'Peter_Sarsgaard', 'Keri_Russell', 'Joe_Manganiello', 'Sarah_Constible', 'Kristoffer_Polaha', 'Neal_McDonough', 'Ida_Engvoll', 'Ming_Xi', 'Vlad_Ivanov', 'Meera_Chopra', 'Jo_Hartley', 'Sebastian_Stan', 'Bel_Powley', 'Rachel_House', 'Mathilde_Ollivier', 'Jeremy_Sisto', 'Stephen_Baldwin', 'Carina_Lau', 'Connie_Nielsen', 'Seung-ho_Yoo', 'Cliff_Curtis', 'Khadijha_Red_Thunder', 'Brian_Stuy', 'Rob_Schneider', 'Brid_Brennan', 'Spencer_Locke', 'Peng_Wang', 'Yûki_Amami', 'Paul_Schackman', 'Bill_Feehely', 'Dale_Dickey', 'Eddie_Deezen', 'Marina_Arellano', 'Fok_Siu-Man', 'Sofía_Vergara', 'Glen_Hansard', 'Sienna_Miller', 'Jasmine_Trinca', 'Tyler_Labine', 'Simon_Helberg', 'Eamon_Monaghan', 'Gabriel_Bateman', 'Miranda_Cosgrove', 'Unshô_Ishizuka', 'Eric_Johnson', 'Leonard_Cohen', 'Marco_Giallini', 'Anna_Kendrick', 'Alicia_Vikander', 'Amandla_Stenberg', 'Scoot_McNairy', 'Jia_Song', 'Masaharu_Fukuyama', 'Paul_Chun', 'Mario_Andretti', 'Kaya_Yanar', 'Helena_Bonham_Carter', 'Juliette_Ashby', 'Xiaoming_Huang', 'Min-Ho_Lee', 'Tyler_Perry', 'LeRoy_Dennis', 'Mohammed_Zeeshan_Ayyub', 'Luis_Enrique_de_Tomás', 'Charlotte_Le_Bon', 'Oscar_Isaac', 'Will_Sasso', 'Nia_Vardalos', 'Dwayne_Johnson', 'Kazuaki_Nagaya', 'Joseph_Gordon-Levitt', 'Jung-hyun_Lee', 'Alexandra_Maria_Lara', 'Mahiro_Takasugi', 'Tika_Sumpter', 'Mila_Kunis', 'Athiya_Shetty', 'Ben_Falcone', 'Jeni_Ross', 'Dan_Stevens', 'Martin_Henderson', 'Cynthia_Rothrock', 'Penelope_Wilton', 'Colin_Woodell', 'Celina_Jade', 'Yihong_Duan', 'Baihe_Bai', 'Kevin_Costner', 'Phoebe_Waller-Bridge', 'Léa_Seydoux', 'Ji-Hoon_Ju', 'Kyle_Van_Vonderen', 'Hugh_Grant', 'Mayu_Matsuoka', 'Lois_Robbins', 'Sarah_Baker', 'Shavonia_Jones', 'Cody_Calafiore', 'Jade_Pettyjohn', 'Oh-seong_Yu', 'Kathryn_Prescott', 'Michael_Keaton', 'Dacre_Montgomery', 'Stella_Cooper', 'Li_Da', 'Ranbir_Kapoor', 'Matt_Smith', 'Art_Parkinson', 'Alexandra_Bard', 'Sergei_Egorov', 'Karina_Fontes', 'Sahil_Vaid', 'Emily_Booth', 'Dominique_Swain', 'John_Goodman', 'Antonio_Banderas', 'Cillian_Murphy', 'Matt_Costello', 'Kathryn_Cahill', 'Richard_Cabral', 'Yanhui_Wang', \"Terrence_'T.C.'_Carson\", 'Pitbull', 'Tony_Revolori', 'Uzo_Aduba', 'Michael_Douglas', 'Jung_Hoseok', 'Margot_Robbie', 'J.J._Abrams', 'Romany_Malco', 'Kim_Caramele', 'Goo_Jin', 'Geoffrey_Rush', 'Beulah_Koale', 'Josh_Burdett', 'Viveik_Kalra', 'Thomas_Mann', 'Kathrine_Thorborg_Johansen', 'Harry_Shum_Jr.', 'Sam_Riley', 'Timothy_Simons', 'Laura_Linney', 'Jennifer_Jason_Leigh', 'Johnny_Ortiz', 'Ken_Jeong', 'George_Harrison', 'Kawsar_Al_Haddad', 'Sonakshi_Sinha', 'Betty_Buckley', 'Casey_Affleck', 'Daniel_Craig', 'Dennis_Quaid', 'Thanh_Nhien_Phan', 'Teresa_Sánchez', 'Shenyang_Xiao', 'Lindsay_Duncan', 'Todd_Weeks', 'Janice_Man', 'Francisco_Reyes', 'Zlatko_Buric', 'Pavle_Cemerikic', 'Adam_Dirks', 'Ben_Foster', 'Dakota_Johnson', 'Tommy_Lee_Jones', 'Gwendoline_Christie', 'Michelle_Williams', 'Geraldine_James', 'Raffey_Cassidy', 'Miles_Robbins', 'Anya_Taylor-Joy', 'Corbin_Bernsen', 'Lou_Adler', 'Myeong_Gong', 'Seth_MacFarlane', 'Katja_Studt', 'Lauren_Socha', 'Hugh_Keays-Byrne', 'Bethany_Hamilton', 'Ron_Lea', 'Pier-Luc_Funk', 'Eduard_Fernández', 'Pio_Marmaï', 'Ashley_Judd', 'Joel_Schumacher', \"Sofia_Black-D'Elia\", 'Caren_Pistorius', 'Yang_Yang', 'Ving_Rhames', 'Jackie_Chan', 'Gemma_Arterton', 'Jonathan_Pryce', 'Kajol', 'Zain_Al_Rafeea', 'Hsiao-chuan_Chang', 'John_Sparkes', 'Denise_Gough', 'Ilka_Bessin', 'Michelle_Barthel', 'Frances_Conroy', 'Regina_Hall', 'Jessica_Brown_Findlay', 'Sissy_Spacek', 'Hilton_Als', 'Sang-Woo_Kwon', 'Erika_Christensen', 'Oleg_Ivenko', 'Satomi_Ishihara', 'Aja_Naomi_King', 'Jung-suk_Jo', 'Timothée_Chalamet', 'Maria_Fernanda_Cândido', 'Rakul_Preet_Singh', 'Izabela_Vidovic', 'Christian_Clavier', 'Natalia_Arias', 'Anne-Élisabeth_Bossé', 'Yixing_Zhang', 'Catherine_Keener', 'Priscilla_C._Shirer', 'Meera_Syal', 'Tommy_Caldwell', 'Gastón_Cocchiarale', 'Annabelle_Wallis', 'Christophe_Odent', 'Natasha_Lyonne', 'Frankie_Diaz', 'Garrett_Hedlund', 'Li_Sun', 'Toby_Kebbell', 'Andy_Serkis', 'Michelle_Rodriguez', 'Javier_Balas', 'Raini_Rodriguez', 'Jason_L._Koerner', 'Adriana_Ugarte', 'Sairi_Itô', 'Jessie_Buckley', 'Dong-Gun_Jang', 'Kip_Pardue', \"Latonya_'Sassee'_Walker\", 'Kurt_Russell', 'Gugu_Mbatha-Raw', 'Tony_Dungy', 'John_Gallagher_Jr.', 'Phylicia_Rashad', 'Rosario_Dawson', 'Karina_Piliguian', 'Adrian_Martinez', 'Sterling_K._Brown', 'Jane_Patterson', 'Trevor_J._Blank', 'Geoff_Bell', 'Miranda_Otto', 'Moon-hee_Na', 'Stefanie_Scott', 'Vladimir_Putin', 'Nick_Madrick', 'Tusse_Silberg', 'Katie_Holmes', 'Kenna_Dawn', 'Mai_Cát_Vi', 'Sam_Lerner', 'Luke_Wilson', 'Cheney_Chen', 'Gaia_Weiss', 'Justin_Timberlake', 'Daniella_Rabbani', 'Deepika_Padukone', 'Daniah_De_Villiers', 'Mikako_Ichikawa', 'Taishen_Cheng', 'Mark_Hamill', 'Julia_Stiles', 'Shahid_Kapoor', 'Rami_Malek', 'Jennifer_Garner', 'Elena_Aprile', 'Alex_Fong', 'Sharman_Joshi', 'Carlos_Reygadas', 'Eoin_Macken', 'Russell_Banks', 'Tom_Hiddleston', 'Jack_Huston', 'Ian_Mackles', 'Cheol-min_Park', 'Rosa_Acosta', 'Adriana_Barraza', 'Riteish_Deshmukh', 'Aneurin_Barnard', 'Fumika_Shimizu', 'Loan_Chabanol', 'Meryl_Streep', 'Taraji_P._Henson', 'Chao_Deng', 'Virendra_Saxena', 'Gabrielle_Rose', 'Suraj_Sharma', 'Danika_Yarosh', 'Phyllis_Smith', 'Logan_Marshall-Green', 'Steve_Danielsen', 'Cynthia_Erivo', 'Tamara_Krcunovic', 'Daniel_Dae_Kim', 'Linda_Hamilton', 'Pablo_Schreiber', 'Ava_Preston', 'Yu_Zhang', 'Ivy_George', 'Marcelle_LeBlanc', 'Zoe_Saldana', 'Trevor_Jackson', 'Seung-won_Cha', 'Kevin_Hart', 'Alexa_Nisenson', 'Maggie_Budzyna', 'John_Cusack', 'Jimmy_Cobb', 'Gianni_Capaldi', 'Nicholas_Murchie', 'Dickon_Tolson', 'Aislinn_Derbez', 'Ane_Dahl_Torp', 'Bono', 'Vishwanath_Chatterjee', 'Liam_Hemsworth', 'James_Franco', 'Mary_Kay_Place', 'Vaunisha_Kapoor', 'Yukiyo_Fujii', 'Romane_Denis', 'Leslie_Jones', 'Gabriel_Rush', 'Charlotte_Vega', 'Sara_Sohn', 'Melissa_Bolona', 'Shuailiang_Liu', 'Denise_Fraga', \"Mo'Nique\", 'Jodie_Foster', 'Steve_Carell', 'Dominic_West', 'John_Benjamin_Hickey', 'Charlotte_Gainsbourg', 'Neil_deGrasse_Tyson', 'Yordanos_Shiferaw', 'Géza_Röhrig', 'Taylor_Russell', 'Scott_Adkins', 'Jakob_Salvati', 'Chris_Evans', 'Naomie_Harris', 'Leslie_Mann', 'Jan_Crosby', 'Robert_Sam_Anson', 'Leem_Lubany', 'Austin_Nichols', 'Lynn', 'Bailee_Madison', 'Alan_Alda', 'Matthew_Pilachowski', 'Jimmy_Carter', 'Kellan_Lutz', 'Ralph_Ineson', 'Alanna_Ubach', 'Piyush_Mishra', 'Sunil_Grover', 'Alex_Jayne_Go', 'Dolly_Wells', 'Cate_Blanchett', 'Thomas_Lennon', 'Andrew_Dice_Clay', 'Brie_Larson', 'Anil_Kapoor', 'Natalie_Dormer', 'Lewis_Pullman', 'Ji-won_Uhm', 'Keith_L._Williams', 'Simon_Pegg', 'Kaya_Scodelario', 'Stephan_James', 'Gal_Gadot', 'Michael_Mando', 'Irrfan_Khan', 'Yutaka_Takenouchi', 'Annie_Potts', 'Clare_Halse', 'Frank_Madigan', 'Akemi_Okamura', 'Neil_Brown_Jr.', 'Robert_Downey_Jr.', 'Andrea_Griminelli', 'Nick_Shymansky', 'Lily_Rabe', 'Kumiko_Asô', 'Jason_Clarke', 'Fausto_Russo_Alesi', 'Wilfred_Lau', 'Bijan_Aalam', 'Jean-Marc_Roulot', 'Teresa_Palmer', 'Idris_Elba', 'Konstantin_Chernenko', 'Tom_Vaughan-Lawlor', 'James_Beacham', 'Paul_McCartney', 'Brandon_Scott', 'Janelle_Monáe', 'David_McConnell', 'John_Lithgow', 'Emma_Stone', 'Carla_Gugino', 'Kyung-soo_Do', 'Corbin_Reid', 'Lew_Temple', 'Adèle_Haenel', 'Hugo_Weaving', 'Roman_Christou', 'Reg_Batson', 'Akshaye_Khanna', 'So-Min_Jung', 'Robin_Givens', 'Evonne_Hsieh', 'Alexandru_Achindinov', 'Louis_Ashbourne_Serkis', 'Jake_Choi', 'Ji-tae_Yu', 'Tewfik_Jallab', 'Sarah_Paulson', 'Sally_Phillips', 'Talu_Wang', 'Boris_Isakovic', 'Charlie_Hunnam', 'Dylan_Minnette', 'Harold_Cook', 'Gabriella_Wright', 'Ryan_Gosling', 'Raymond_Cruz', 'Kim_Sungkyu', 'Alice_Lee', 'Jingchu_Zhang', 'Eva_Green', 'Xavier_de_Guillebon', 'Manoj_Bajpayee', 'Jin-young_Jung', 'Shah_Rukh_Khan', 'Leonid_Nevzlin', 'Pedro_Henrique', 'Steve_Terada', 'Shia_LaBeouf', 'Sarah_Snook', 'Domhnall_Gleeson', 'Jorge_Usón', 'Jamie_Dornan', 'Gabriel_Byrne', 'Mary_Steenburgen', 'Mary_Ellen_Mark', 'Taapsee_Pannu', 'Bobby_Unser', 'Arturo_Castro', 'Baoqiang_Wang', 'Wendy_Crewson', 'Owen_Vaccaro', 'Emmylou_Harris', 'Sooyoung', 'Kyliegh_Curran', 'Greg_Ayres', 'Stefanía_Koessl', 'John_Chittenden', 'Trace_Adkins', 'Walton_Goggins', 'François_Cluzet', \"Jim_O'Heir\", 'Eric_Stonestreet', 'Steve_Coogan', 'Kokoro_Kikuchi', 'Chloë_Grace_Moretz', 'Hugh_Gormley', 'Matthias_Schweighöfer', 'Ricardo_Darín', 'Maeve_McGrath', 'Bob_Balaban', 'Kumail_Nanjiani', 'Keegan-Michael_Key', 'Danny_Burstein', 'Beck_Bennett', 'Ginnifer_Goodwin', 'Morgan_Berry', 'Donald_Sutherland', 'Jeff_Hephner', 'Bob_Merlis', 'Sanjay_Kapoor', 'Mykelti_Williamson', 'Bill_Hader', 'Finn_Wittrock', 'T.C._Stallings', 'Cailee_Spaeny', 'Jim_Gaffigan', 'Kyle_Chandler', 'Sammi_Cheng', 'Gabrielle_Union', 'Nathan_Goshen', 'Kodi_Smit-McPhee', 'Jeremy_Ray_Taylor', 'Vera_Farmiga', 'Ivy_Yi-Han_Chen', 'Kallum_Tolkien', 'Sergio_Peris-Mencheta', 'George_Clooney', 'Deke_Slayton', 'Rose_Byrne', 'Jonathan_Banks', 'David_Henrie', 'Chris_Galust', 'Sarah_Wright', 'Mark_Ashworth', \"Ernest_O'Donnell\", \"Liam_O'Brien\", 'Luis_Alarcón', 'Yeon-hee_Lee', 'Anneli_Martini', 'David_Guyette', 'Dafne_Keen', 'Petrônio_Gontijo', 'Emily_Meade', 'Kat_Graham', 'Jessica_Chastain', 'Djimon_Hounsou', 'Prateik', 'Timothy_Spall', 'Azzurra_Caccetta', 'Luke_Kirby', 'Emily_Blunt', 'Martha_Higareda', 'Yuzuki_Akiyama', 'Sherri_Shepherd', 'Bryn_Apprill', 'X_Mayo', 'Brandon_McKnight', 'Leonid_Brezhnev', 'Chris_Cooper', 'Jeffrey_Dean_Morgan', 'Vin_Diesel', 'Priyanka_Chopra', 'Peter_Ho', 'Lauren_German', 'Darya_Ekamasova', 'Frances_McDormand', 'Neel_Sethi', 'Hari_Nef', 'America_Ferrera', 'Blake_Lively', 'Jeff_Bridges', 'Sudev_Nair', 'Jonah_Goldberg', 'Laurence_Fishburne', 'Douggie_McMeekin', 'Joseph_Fiennes', 'Julia_Keefe', 'Tosin_Cole', 'Takayuki_Hamatsu', 'Matilda_Anna_Ingrid_Lutz', 'Tara_Sutaria', 'Lesley_Hart', 'Danielle_Campbell', 'Blake_Shelton', 'Jeremy_Childs', 'Alicia_Silverstone', 'Jake_Lacy', 'Setsuo_Ito', 'Duling_Chen', 'Ralph_Fiennes', 'Stephen_Fry', 'Hae-il_Park', 'Kyle_MacLachlan', 'Poorna_Jagannathan', 'Linda_Cardellini', 'Dulquer_Salmaan', 'Edward_Norton', 'Maria_Doyle_Kennedy', 'Agustina_Quinci', 'Babou_Ceesay', 'Antoine_Bertrand', 'Martin_Freeman', 'Nina_Arianda', 'Catherine_Corcoran', 'Ashleigh_Ball', 'Al_Bollands', 'Je-hoon_Lee', \"De'aundre_Bonds\", 'Miya_Muqi', 'Jenn_Murray', 'Tiffany_Dupont', \"Tian'Ai_Zhang\", 'Thomas_M._Wright', 'Kevin_Cheng', 'Jessica_Miesel', 'Patton_Oswalt', 'Mi-ran_Ra', 'Treat_Williams', 'Cheyne_Lempe', 'Tabitha_Bastien', 'Rodrigo_Santoro', 'Anthony_Ausgang', 'John_Hawkes', 'Michael_Abbott_Jr.', 'Riccardo_Scamarcio', 'Tim_Conway', 'Harrison_Ford', 'Michael_Eklund', 'Anupam_Kher', 'Kay_Kay_Menon', 'Bradley_Whitford', 'James_Brolin', 'Elena_Campbell-Martinez', 'Tadanobu_Asano', 'Angelo_Diona', 'Nels_Cline', 'Jack_Gore', 'Aurora_Perrineau', 'Fred_Willard', 'Emily_Althaus', 'Laura_Haddock', 'Seok-jin_Kim', 'Ian_Ho', 'Tim_Brown', 'Theo_James', 'Harshaali_Malhotra', 'Virginia_Newcomb', 'Ellen_Greene', 'Ilya_Malakov', 'Jaeden_Martell', 'Vahik_Pirhamzei', 'Ronell_Johnson', 'Kenna_Pickard', 'Ziwen_Wang', 'Jack_Kilmer', 'J._Michael_Finley', 'Zoe_Kazan', 'Aparshakti_Khurana']\n"
     ]
    }
   ],
   "source": [
    "count = 0\n",
    "for col in movie_data_df.columns:\n",
    "    if \"Actor_\" in col:\n",
    "        total, count = group_by_actor(col)\n",
    "        if total > 0:\n",
    "           if count % 50 == 0:\n",
    "              print(total, count)\n",
    "           total_list.append(total)\n",
    "           avg_list.append(int(total/count))\n",
    "           actor_list.append(col[6:])\n",
    "           count += 1\n",
    "\n",
    "print(total_list)\n",
    "print(avg_list)\n",
    "print(actor_list)"
   ]
  },
  {
   "cell_type": "code",
   "execution_count": 168,
   "metadata": {},
   "outputs": [
    {
     "name": "stdout",
     "output_type": "stream",
     "text": [
      "3062 3062 3062\n"
     ]
    }
   ],
   "source": [
    "print(len(total_list), len(avg_list), len(actor_list))"
   ]
  },
  {
   "cell_type": "code",
   "execution_count": 169,
   "metadata": {},
   "outputs": [
    {
     "name": "stdout",
     "output_type": "stream",
     "text": [
      "3729\n"
     ]
    }
   ],
   "source": [
    "count = 0\n",
    "for col in movie_data_df.columns:\n",
    "    if \"Actor_\" in col:\n",
    "       count += 1\n",
    "print(count)"
   ]
  },
  {
   "cell_type": "code",
   "execution_count": 170,
   "metadata": {},
   "outputs": [
    {
     "data": {
      "text/plain": [
       "[8282429403.0,\n",
       " 7705648822.0,\n",
       " 7517931325.0,\n",
       " 6682139030.0,\n",
       " 5241100081.0,\n",
       " 4499435928.0,\n",
       " 4165936266.0,\n",
       " 4107864027.0,\n",
       " 3853427131.0,\n",
       " 3526148929.0,\n",
       " 3438464641.0,\n",
       " 3400763513.0,\n",
       " 3400763513.0,\n",
       " 3332624157.0,\n",
       " 3154444895.0,\n",
       " 2751052789.0,\n",
       " 2563400917.0,\n",
       " 2429719427.0,\n",
       " 2356939611.0,\n",
       " 2161961804.0,\n",
       " 2098047533.0,\n",
       " 2075661590.0,\n",
       " 2042181507.0,\n",
       " 2039014014.0,\n",
       " 2034922748.0,\n",
       " 2025624233.0,\n",
       " 2012094920.0,\n",
       " 1992205025.0,\n",
       " 1926347418.0,\n",
       " 1899242132.0,\n",
       " 1895126092.0,\n",
       " 1890421896.0,\n",
       " 1862012173.0,\n",
       " 1841332745.0,\n",
       " 1825685590.0,\n",
       " 1817049603.0,\n",
       " 1806745002.0,\n",
       " 1773072527.0,\n",
       " 1770842040.0,\n",
       " 1759733012.0,\n",
       " 1752417897.0,\n",
       " 1749046648.0,\n",
       " 1734596631.0,\n",
       " 1724349058.0,\n",
       " 1712199655.0,\n",
       " 1697231399.0,\n",
       " 1685645284.0,\n",
       " 1660889625.0,\n",
       " 1610865145.0,\n",
       " 1602019091.0,\n",
       " 1587937927.0,\n",
       " 1582919212.0,\n",
       " 1526595554.0,\n",
       " 1515047671.0,\n",
       " 1512616079.0,\n",
       " 1493998554.0,\n",
       " 1475252752.0,\n",
       " 1474484005.0,\n",
       " 1473829371.0,\n",
       " 1457117108.0,\n",
       " 1442614064.0,\n",
       " 1438826499.0,\n",
       " 1402581859.0,\n",
       " 1397790319.0,\n",
       " 1379358851.0,\n",
       " 1369447890.0,\n",
       " 1367895542.0,\n",
       " 1364218293.0,\n",
       " 1356729691.0,\n",
       " 1355846808.0,\n",
       " 1354516812.0,\n",
       " 1350852290.0,\n",
       " 1332769294.0,\n",
       " 1323182331.0,\n",
       " 1323182331.0,\n",
       " 1314943213.0,\n",
       " 1308467944.0,\n",
       " 1304892100.0,\n",
       " 1299216944.0,\n",
       " 1270444856.0,\n",
       " 1264201200.0,\n",
       " 1256106999.0,\n",
       " 1255297795.0,\n",
       " 1248258583.0,\n",
       " 1242805359.0,\n",
       " 1242805359.0,\n",
       " 1215330127.0,\n",
       " 1213337694.0,\n",
       " 1208652408.0,\n",
       " 1207235590.0,\n",
       " 1207227867.0,\n",
       " 1204173748.0,\n",
       " 1192228667.0,\n",
       " 1186772727.0,\n",
       " 1178889846.0,\n",
       " 1174007723.0,\n",
       " 1155386654.0,\n",
       " 1149795867.0,\n",
       " 1149478203.0,\n",
       " 1148161807.0,\n",
       " 1148161807.0,\n",
       " 1141986104.0,\n",
       " 1141986104.0,\n",
       " 1138589446.0,\n",
       " 1118896333.0,\n",
       " 1116022152.0,\n",
       " 1109464796.0,\n",
       " 1089588880.0,\n",
       " 1081086670.0,\n",
       " 1077194461.0,\n",
       " 1073392661.0,\n",
       " 1073392661.0,\n",
       " 1073392661.0,\n",
       " 1063559466.0,\n",
       " 1056057273.0,\n",
       " 1056057273.0,\n",
       " 1053251321.0,\n",
       " 1049374716.0,\n",
       " 1049054740.0,\n",
       " 1041842530.0,\n",
       " 1034963561.0,\n",
       " 1034799409.0,\n",
       " 1034799409.0,\n",
       " 1028570889.0,\n",
       " 1028570889.0,\n",
       " 1028570889.0,\n",
       " 1023784195.0,\n",
       " 1014685925.0,\n",
       " 1011280129.0,\n",
       " 1007258518.0,\n",
       " 1006854904.0,\n",
       " 1003383774.0,\n",
       " 1001802279.0,\n",
       " 996806731.0,\n",
       " 984521293.0,\n",
       " 967224286.0,\n",
       " 966550600.0,\n",
       " 962077546.0,\n",
       " 958903394.0,\n",
       " 953296865.0,\n",
       " 945968081.0,\n",
       " 945875241.0,\n",
       " 945542658.0,\n",
       " 936700179.0,\n",
       " 936160458.0,\n",
       " 931687493.0,\n",
       " 903655259.0,\n",
       " 903655259.0,\n",
       " 903655259.0,\n",
       " 903655259.0,\n",
       " 899089242.0,\n",
       " 893357728.0,\n",
       " 891998317.0,\n",
       " 887651874.0,\n",
       " 884738017.0,\n",
       " 880674609.0,\n",
       " 875457937.0,\n",
       " 870325439.0,\n",
       " 870325439.0,\n",
       " 869460332.0,\n",
       " 869228207.0,\n",
       " 866080843.0,\n",
       " 862961166.0,\n",
       " 857611174.0,\n",
       " 857611174.0,\n",
       " 855478465.0,\n",
       " 855241825.0,\n",
       " 853183614.0,\n",
       " 851125214.0,\n",
       " 850015285.0,\n",
       " 841808377.0,\n",
       " 821847012.0,\n",
       " 820950386.0,\n",
       " 817811037.0,\n",
       " 814037575.0,\n",
       " 814037575.0,\n",
       " 814037575.0,\n",
       " 813279015.0,\n",
       " 811602570.0,\n",
       " 807082196.0,\n",
       " 807082196.0,\n",
       " 807082196.0,\n",
       " 805453386.0,\n",
       " 794861794.0,\n",
       " 793702128.0,\n",
       " 793473823.0,\n",
       " 791115104.0,\n",
       " 788316722.0,\n",
       " 783083182.0,\n",
       " 782642092.0,\n",
       " 782612155.0,\n",
       " 782612155.0,\n",
       " 779498572.0,\n",
       " 778751282.0,\n",
       " 776166832.0,\n",
       " 773961945.0,\n",
       " 772756933.0,\n",
       " 767774100.0,\n",
       " 757414600.0,\n",
       " 753879091.0,\n",
       " 753530864.0,\n",
       " 752388460.0,\n",
       " 746846894.0,\n",
       " 745248362.0,\n",
       " 745248362.0,\n",
       " 737606064.0,\n",
       " 735692827.0,\n",
       " 734714830.0,\n",
       " 732275951.0,\n",
       " 728536902.0,\n",
       " 727427288.0,\n",
       " 718889788.0,\n",
       " 710793777.0,\n",
       " 707177133.0,\n",
       " 702188935.0,\n",
       " 700547754.0,\n",
       " 700547754.0,\n",
       " 700547754.0,\n",
       " 700547754.0,\n",
       " 700381748.0,\n",
       " 700381748.0,\n",
       " 700381748.0,\n",
       " 699760773.0,\n",
       " 691965492.0,\n",
       " 690981836.0,\n",
       " 674911598.0,\n",
       " 671741446.0,\n",
       " 669904851.0,\n",
       " 667705579.0,\n",
       " 666781761.0,\n",
       " 666199100.0,\n",
       " 665088812.0,\n",
       " 661267133.0,\n",
       " 659916790.0,\n",
       " 653755901.0,\n",
       " 653755901.0,\n",
       " 653428261.0,\n",
       " 649033286.0,\n",
       " 644675099.0,\n",
       " 643441554.0,\n",
       " 643331111.0,\n",
       " 643331111.0,\n",
       " 636076404.0,\n",
       " 629830105.0,\n",
       " 627779729.0,\n",
       " 625846751.0,\n",
       " 623939977.0,\n",
       " 619021436.0,\n",
       " 619021436.0,\n",
       " 614905081.0,\n",
       " 611915835.0,\n",
       " 609762244.0,\n",
       " 607558289.0,\n",
       " 606081961.0,\n",
       " 605425157.0,\n",
       " 602622678.0,\n",
       " 600471391.0,\n",
       " 599027218.0,\n",
       " 598879688.0,\n",
       " 594569689.0,\n",
       " 593225692.0,\n",
       " 587482455.0,\n",
       " 582890172.0,\n",
       " 582890172.0,\n",
       " 582720955.0,\n",
       " 582559499.0,\n",
       " 579220560.0,\n",
       " 579220560.0,\n",
       " 578320946.0,\n",
       " 576976898.0,\n",
       " 573704905.0,\n",
       " 564194488.0,\n",
       " 562553005.0,\n",
       " 548831929.0,\n",
       " 542942340.0,\n",
       " 541869194.0,\n",
       " 536194407.0,\n",
       " 534192904.0,\n",
       " 532950503.0,\n",
       " 532950503.0,\n",
       " 529323962.0,\n",
       " 527965936.0,\n",
       " 527965936.0,\n",
       " 527965936.0,\n",
       " 525722640.0,\n",
       " 525245546.0,\n",
       " 525245546.0,\n",
       " 525245546.0,\n",
       " 525148453.0,\n",
       " 524601544.0,\n",
       " 523084727.0,\n",
       " 522456430.0,\n",
       " 521773833.0,\n",
       " 521170825.0,\n",
       " 519896648.0,\n",
       " 519896648.0,\n",
       " 519896648.0,\n",
       " 519311965.0,\n",
       " 508130617.0,\n",
       " 498225840.0,\n",
       " 498225840.0,\n",
       " 494021696.0,\n",
       " 492308975.0,\n",
       " 490719763.0,\n",
       " 490719763.0,\n",
       " 490073174.0,\n",
       " 476117335.0,\n",
       " 474725266.0,\n",
       " 474495716.0,\n",
       " 474111196.0,\n",
       " 473990832.0,\n",
       " 473990832.0,\n",
       " 472544424.0,\n",
       " 471496110.0,\n",
       " 470289082.0,\n",
       " 467989645.0,\n",
       " 465774786.0,\n",
       " 460508680.0,\n",
       " 456640373.0,\n",
       " 456572463.0,\n",
       " 450395043.0,\n",
       " 450382805.0,\n",
       " 446092357.0,\n",
       " 446092357.0,\n",
       " 439193819.0,\n",
       " 435475234.0,\n",
       " 435431899.0,\n",
       " 434888866.0,\n",
       " 434888866.0,\n",
       " 434888866.0,\n",
       " 434075312.0,\n",
       " 431652695.0,\n",
       " 430201414.0,\n",
       " 429434163.0,\n",
       " 428468519.0,\n",
       " 428028233.0,\n",
       " 423757196.0,\n",
       " 415484914.0,\n",
       " 413521752.0,\n",
       " 411959235.0,\n",
       " 410902662.0,\n",
       " 410890299.0,\n",
       " 408579038.0,\n",
       " 408579038.0,\n",
       " 408579038.0,\n",
       " 407454130.0,\n",
       " 407454130.0,\n",
       " 407454130.0,\n",
       " 407454130.0,\n",
       " 404852543.0,\n",
       " 402995516.0,\n",
       " 402921595.0,\n",
       " 402156773.0,\n",
       " 399964518.0,\n",
       " 398674932.0,\n",
       " 395044706.0,\n",
       " 392924807.0,\n",
       " 389681935.0,\n",
       " 389681935.0,\n",
       " 389050365.0,\n",
       " 388780077.0,\n",
       " 387683470.0,\n",
       " 386041607.0,\n",
       " 385900138.0,\n",
       " 385900138.0,\n",
       " 385284817.0,\n",
       " 384269099.0,\n",
       " 383930656.0,\n",
       " 383930656.0,\n",
       " 383930656.0,\n",
       " 382449162.0,\n",
       " 382206440.0,\n",
       " 381800822.0,\n",
       " 380751255.0,\n",
       " 375540831.0,\n",
       " 375540831.0,\n",
       " 374736354.0,\n",
       " 372444975.0,\n",
       " 371491926.0,\n",
       " 367646009.0,\n",
       " 365965928.0,\n",
       " 365550119.0,\n",
       " 365550119.0,\n",
       " 365550119.0,\n",
       " 365550119.0,\n",
       " 364922856.0,\n",
       " 364571656.0,\n",
       " 364571656.0,\n",
       " 363525515.0,\n",
       " 362804674.0,\n",
       " 362753586.0,\n",
       " 361682618.0,\n",
       " 361682618.0,\n",
       " 361593362.0,\n",
       " 361500055.0,\n",
       " 357986087.0,\n",
       " 357986087.0,\n",
       " 357986087.0,\n",
       " 357599394.0,\n",
       " 357297169.0,\n",
       " 356700357.0,\n",
       " 356700357.0,\n",
       " 353830062.0,\n",
       " 352789811.0,\n",
       " 352789811.0,\n",
       " 352789811.0,\n",
       " 352789811.0,\n",
       " 351375793.0,\n",
       " 351266433.0,\n",
       " 351266433.0,\n",
       " 350088755.0,\n",
       " 349537494.0,\n",
       " 348767037.0,\n",
       " 346864462.0,\n",
       " 346864462.0,\n",
       " 346672922.0,\n",
       " 344539757.0,\n",
       " 343471816.0,\n",
       " 342476165.0,\n",
       " 342040292.0,\n",
       " 341716104.0,\n",
       " 340939361.0,\n",
       " 340414873.0,\n",
       " 336691647.0,\n",
       " 335590171.0,\n",
       " 334933831.0,\n",
       " 332277945.0,\n",
       " 332207671.0,\n",
       " 332207671.0,\n",
       " 332207671.0,\n",
       " 325186032.0,\n",
       " 325186032.0,\n",
       " 325186032.0,\n",
       " 324221571.0,\n",
       " 323719391.0,\n",
       " 323284230.0,\n",
       " 321872971.0,\n",
       " 321752656.0,\n",
       " 320392818.0,\n",
       " 320392818.0,\n",
       " 315361797.0,\n",
       " 314496502.0,\n",
       " 313178151.0,\n",
       " 312320132.0,\n",
       " 312242626.0,\n",
       " 312242626.0,\n",
       " 312242626.0,\n",
       " 312242626.0,\n",
       " 311950384.0,\n",
       " 311647009.0,\n",
       " 310466491.0,\n",
       " 308350069.0,\n",
       " 307963780.0,\n",
       " 306515884.0,\n",
       " 306515884.0,\n",
       " 306515884.0,\n",
       " 306515884.0,\n",
       " 305937718.0,\n",
       " 304868961.0,\n",
       " 304868961.0,\n",
       " 304868961.0,\n",
       " 304650910.0,\n",
       " 303445959.0,\n",
       " 302895451.0,\n",
       " 302895451.0,\n",
       " 299606235.0,\n",
       " 297718711.0,\n",
       " 297718711.0,\n",
       " 297718711.0,\n",
       " 297002527.0,\n",
       " 296550348.0,\n",
       " 296548286.0,\n",
       " 296482446.0,\n",
       " 296482446.0,\n",
       " 296437442.0,\n",
       " 296180930.0,\n",
       " 296165264.0,\n",
       " 296069199.0,\n",
       " 296069199.0,\n",
       " 296069199.0,\n",
       " 296069199.0,\n",
       " 295359013.0,\n",
       " 293010418.0,\n",
       " 290930148.0,\n",
       " 290930148.0,\n",
       " 290930148.0,\n",
       " 289557791.0,\n",
       " 288820262.0,\n",
       " 287180289.0,\n",
       " 286753392.0,\n",
       " 282785416.0,\n",
       " 281623524.0,\n",
       " 280869477.0,\n",
       " 280869477.0,\n",
       " 280204801.0,\n",
       " 279770770.0,\n",
       " 279623901.0,\n",
       " 278454358.0,\n",
       " 278111152.0,\n",
       " 277888374.0,\n",
       " 277550490.0,\n",
       " 275255286.0,\n",
       " 274979051.0,\n",
       " 274775001.0,\n",
       " 271980483.0,\n",
       " 271710302.0,\n",
       " 271599181.0,\n",
       " 271532319.0,\n",
       " 269997738.0,\n",
       " 266100425.0,\n",
       " 261429467.0,\n",
       " 261174806.0,\n",
       " 260340181.0,\n",
       " 259866912.0,\n",
       " 259368448.0,\n",
       " 259239658.0,\n",
       " 256283912.0,\n",
       " 256283912.0,\n",
       " 256283912.0,\n",
       " 255407969.0,\n",
       " 255407969.0,\n",
       " 255407969.0,\n",
       " 255236827.0,\n",
       " 255105930.0,\n",
       " 254212245.0,\n",
       " 254212245.0,\n",
       " 254158390.0,\n",
       " 254158390.0,\n",
       " 254158390.0,\n",
       " 253412295.0,\n",
       " 253340107.0,\n",
       " 253317648.0,\n",
       " 251718694.0,\n",
       " 251706381.0,\n",
       " 250550648.0,\n",
       " 250550648.0,\n",
       " 250550648.0,\n",
       " 250463963.0,\n",
       " 250463963.0,\n",
       " 249134143.0,\n",
       " 246678614.0,\n",
       " 246620398.0,\n",
       " 246620398.0,\n",
       " 246614017.0,\n",
       " 246233113.0,\n",
       " 246233113.0,\n",
       " 246233113.0,\n",
       " 246233113.0,\n",
       " 245623848.0,\n",
       " 245275781.0,\n",
       " 243954732.0,\n",
       " 243177531.0,\n",
       " 240797623.0,\n",
       " 240797623.0,\n",
       " 240797623.0,\n",
       " 240697856.0,\n",
       " 238532921.0,\n",
       " 238532921.0,\n",
       " 238007250.0,\n",
       " 238007250.0,\n",
       " 238007250.0,\n",
       " 236777708.0,\n",
       " 236553794.0,\n",
       " 235994033.0,\n",
       " 235956898.0,\n",
       " 235666219.0,\n",
       " 235666219.0,\n",
       " 235666165.0,\n",
       " 234798636.0,\n",
       " 234798636.0,\n",
       " 234798636.0,\n",
       " 234798636.0,\n",
       " 233542106.0,\n",
       " 233055010.0,\n",
       " 232007371.0,\n",
       " 231592478.0,\n",
       " 228821492.0,\n",
       " 228122928.0,\n",
       " 228122928.0,\n",
       " 228122928.0,\n",
       " 227736579.0,\n",
       " 227331938.0,\n",
       " 227331938.0,\n",
       " 226945087.0,\n",
       " 221600160.0,\n",
       " 221600160.0,\n",
       " 221594760.0,\n",
       " 220722365.0,\n",
       " 220041592.0,\n",
       " 220021259.0,\n",
       " 217776646.0,\n",
       " 216972543.0,\n",
       " 216972543.0,\n",
       " 216907193.0,\n",
       " 215863606.0,\n",
       " 214136315.0,\n",
       " 211952420.0,\n",
       " 211952420.0,\n",
       " 211459765.0,\n",
       " 210729505.0,\n",
       " 210017552.0,\n",
       " 209035668.0,\n",
       " 209035668.0,\n",
       " 208733451.0,\n",
       " 208314186.0,\n",
       " 208182243.0,\n",
       " 206360807.0,\n",
       " 206358399.0,\n",
       " 205754447.0,\n",
       " 205754447.0,\n",
       " 205754447.0,\n",
       " 205754447.0,\n",
       " 205035819.0,\n",
       " 205035819.0,\n",
       " 204977396.0,\n",
       " 204444585.0,\n",
       " 204222285.0,\n",
       " 203427584.0,\n",
       " 203427584.0,\n",
       " 203353749.0,\n",
       " 201634991.0,\n",
       " 201634991.0,\n",
       " 200646565.0,\n",
       " 200280455.0,\n",
       " 199171689.0,\n",
       " 199164986.0,\n",
       " 199039877.0,\n",
       " 197937783.0,\n",
       " 197744377.0,\n",
       " 197744377.0,\n",
       " 197744377.0,\n",
       " 197183546.0,\n",
       " 197183546.0,\n",
       " 197183546.0,\n",
       " 195318416.0,\n",
       " 195243464.0,\n",
       " 194704644.0,\n",
       " 194564672.0,\n",
       " 194564672.0,\n",
       " 193677158.0,\n",
       " 193677158.0,\n",
       " 191296530.0,\n",
       " 190458183.0,\n",
       " 190400157.0,\n",
       " 190400157.0,\n",
       " 190366240.0,\n",
       " 190308316.0,\n",
       " 190057805.0,\n",
       " 189996421.0,\n",
       " 189982333.0,\n",
       " 188433700.0,\n",
       " 188222966.0,\n",
       " 188208427.0,\n",
       " 188092373.0,\n",
       " 188092373.0,\n",
       " 187606454.0,\n",
       " 186435334.0,\n",
       " 186350580.0,\n",
       " 185400345.0,\n",
       " 184764034.0,\n",
       " 183887723.0,\n",
       " 183388953.0,\n",
       " 183388953.0,\n",
       " 183288689.0,\n",
       " 183288689.0,\n",
       " 183288689.0,\n",
       " 181782787.0,\n",
       " 179769457.0,\n",
       " 176742981.0,\n",
       " 176586701.0,\n",
       " 176586701.0,\n",
       " 176586701.0,\n",
       " 175485270.0,\n",
       " 175485270.0,\n",
       " 175485270.0,\n",
       " 175485270.0,\n",
       " 175302354.0,\n",
       " 175302354.0,\n",
       " 175302354.0,\n",
       " 175220351.0,\n",
       " 174504407.0,\n",
       " 174504407.0,\n",
       " 174504407.0,\n",
       " 174504407.0,\n",
       " 173961069.0,\n",
       " 173961069.0,\n",
       " 173128787.0,\n",
       " 173128787.0,\n",
       " 172608218.0,\n",
       " 172530936.0,\n",
       " 172414467.0,\n",
       " 171932850.0,\n",
       " 171539887.0,\n",
       " 171141274.0,\n",
       " 169801921.0,\n",
       " 168660455.0,\n",
       " 167968547.0,\n",
       " 167939004.0,\n",
       " 167885588.0,\n",
       " 166522895.0,\n",
       " 166002883.0,\n",
       " 165478348.0,\n",
       " 165478348.0,\n",
       " 165478348.0,\n",
       " 164360477.0,\n",
       " 163725083.0,\n",
       " 163675436.0,\n",
       " 163283318.0,\n",
       " 162807769.0,\n",
       " 162146076.0,\n",
       " 162146076.0,\n",
       " 161325902.0,\n",
       " 161240839.0,\n",
       " 160542134.0,\n",
       " 160051518.0,\n",
       " 159319304.0,\n",
       " 159161187.0,\n",
       " 158970776.0,\n",
       " 158970776.0,\n",
       " 158970776.0,\n",
       " 158855130.0,\n",
       " 158762963.0,\n",
       " 158762963.0,\n",
       " 158260952.0,\n",
       " 158260952.0,\n",
       " 157836947.0,\n",
       " 157785775.0,\n",
       " 157110319.0,\n",
       " 157100845.0,\n",
       " 157100845.0,\n",
       " 156844753.0,\n",
       " 156844753.0,\n",
       " 156288251.0,\n",
       " 155712077.0,\n",
       " 155712077.0,\n",
       " 155155936.0,\n",
       " 155062330.0,\n",
       " 155004360.0,\n",
       " 153527959.0,\n",
       " 153443348.0,\n",
       " 151286650.0,\n",
       " 151286650.0,\n",
       " 151092784.0,\n",
       " 150847207.0,\n",
       " 150680864.0,\n",
       " 150680864.0,\n",
       " 150680864.0,\n",
       " 150517444.0,\n",
       " 150517444.0,\n",
       " 150027049.0,\n",
       " 148868835.0,\n",
       " 148675066.0,\n",
       " 148675066.0,\n",
       " 148592945.0,\n",
       " 146936910.0,\n",
       " 146936910.0,\n",
       " 146936910.0,\n",
       " 146781575.0,\n",
       " 146644269.0,\n",
       " 146583749.0,\n",
       " 145374099.0,\n",
       " 145374099.0,\n",
       " 145374099.0,\n",
       " 145372048.0,\n",
       " 144532846.0,\n",
       " 143690894.0,\n",
       " 142337240.0,\n",
       " 142337240.0,\n",
       " 142337240.0,\n",
       " 142337240.0,\n",
       " 142038680.0,\n",
       " 141899462.0,\n",
       " 141708909.0,\n",
       " 141349106.0,\n",
       " 141041752.0,\n",
       " 140885528.0,\n",
       " 140795793.0,\n",
       " 140795793.0,\n",
       " 140795793.0,\n",
       " 140705322.0,\n",
       " 140705322.0,\n",
       " 140705322.0,\n",
       " 140552359.0,\n",
       " 140552359.0,\n",
       " 140312928.0,\n",
       " 140312928.0,\n",
       " 140312928.0,\n",
       " 140312928.0,\n",
       " 140115856.0,\n",
       " 139191345.0,\n",
       " 137963875.0,\n",
       " 137697528.0,\n",
       " 137630771.0,\n",
       " 137056262.0,\n",
       " 137056262.0,\n",
       " 137056262.0,\n",
       " 136382275.0,\n",
       " 134866593.0,\n",
       " 134866593.0,\n",
       " 134761409.0,\n",
       " 134331154.0,\n",
       " 133764265.0,\n",
       " 133578882.0,\n",
       " 133440870.0,\n",
       " 133440870.0,\n",
       " 133440870.0,\n",
       " 133365452.0,\n",
       " 133365452.0,\n",
       " 133365452.0,\n",
       " 131457147.0,\n",
       " 131457147.0,\n",
       " 131443157.0,\n",
       " 130560428.0,\n",
       " 130497125.0,\n",
       " 130471345.0,\n",
       " 129897009.0,\n",
       " 129453974.0,\n",
       " 129341590.0,\n",
       " 128388320.0,\n",
       " 127937429.0,\n",
       " 127365953.0,\n",
       " 126972584.0,\n",
       " 125852517.0,\n",
       " 125842935.0,\n",
       " 125799039.0,\n",
       " 125799039.0,\n",
       " 125799039.0,\n",
       " 125729635.0,\n",
       " 125479266.0,\n",
       " 125479266.0,\n",
       " 125427681.0,\n",
       " 125427681.0,\n",
       " 124839484.0,\n",
       " 124795039.0,\n",
       " 124637724.0,\n",
       " 124354481.0,\n",
       " 123875891.0,\n",
       " 123081657.0,\n",
       " 123081657.0,\n",
       " 123081657.0,\n",
       " 123081555.0,\n",
       " 123045578.0,\n",
       " 122930535.0,\n",
       " 122133739.0,\n",
       " 122133739.0,\n",
       " 122133739.0,\n",
       " 122102736.0,\n",
       " 121956937.0,\n",
       " 121956937.0,\n",
       " 121790373.0,\n",
       " 121545703.0,\n",
       " 121545703.0,\n",
       " 121545703.0,\n",
       " 120721162.0,\n",
       " 120556201.0,\n",
       " 120556201.0,\n",
       " 120135561.0,\n",
       " 119942387.0,\n",
       " 119932733.0,\n",
       " 119932733.0,\n",
       " 119932733.0,\n",
       " 119932733.0,\n",
       " 119559110.0,\n",
       " 119559110.0,\n",
       " 119559110.0,\n",
       " 119520023.0,\n",
       " 119520023.0,\n",
       " 119107580.0,\n",
       " 119100758.0,\n",
       " 119100758.0,\n",
       " 119100758.0,\n",
       " 118914774.0,\n",
       " 118914774.0,\n",
       " 118914774.0,\n",
       " 118879830.0,\n",
       " 118587880.0,\n",
       " 118587880.0,\n",
       " 118153135.0,\n",
       " 118153135.0,\n",
       " 118153135.0,\n",
       " 117991727.0,\n",
       " 117991727.0,\n",
       " 117813057.0,\n",
       " 117813057.0,\n",
       " 117813057.0,\n",
       " 117744336.0,\n",
       " 117679066.0,\n",
       " 117247124.0,\n",
       " 117247124.0,\n",
       " 117247124.0,\n",
       " 117089444.0,\n",
       " 116984773.0,\n",
       " 116078643.0,\n",
       " 116014998.0,\n",
       " 115640590.0,\n",
       " 115584548.0,\n",
       " 115084576.0,\n",
       " 115055482.0,\n",
       " 114679097.0,\n",
       " 114679097.0,\n",
       " 114679097.0,\n",
       " 114501299.0,\n",
       " 114102821.0,\n",
       " 114102821.0,\n",
       " 114102821.0,\n",
       " 114102821.0,\n",
       " 113282923.0,\n",
       " 112983889.0,\n",
       " 112343513.0,\n",
       " 111912394.0,\n",
       " 111711453.0,\n",
       " 110883070.0,\n",
       " 110883070.0,\n",
       " 110449447.0,\n",
       " 110446871.0,\n",
       " 110156545.0,\n",
       " 109906372.0,\n",
       " 109906372.0,\n",
       " 109906372.0,\n",
       " 109593721.0,\n",
       " 109593721.0,\n",
       " 109423914.0,\n",
       " 109400246.0,\n",
       " 107838177.0,\n",
       " 107588225.0,\n",
       " 107588225.0,\n",
       " 107435090.0,\n",
       " 106209378.0,\n",
       " 106209378.0,\n",
       " 106209378.0,\n",
       " 106209378.0,\n",
       " 106072605.0,\n",
       " 105751425.0,\n",
       " 104884188.0,\n",
       " 104884188.0,\n",
       " 104545505.0,\n",
       " 104545505.0,\n",
       " 104545505.0,\n",
       " 104438188.0,\n",
       " 103329908.0,\n",
       " 103197501.0,\n",
       " 103197501.0,\n",
       " 102988998.0,\n",
       " 102952888.0,\n",
       " 102952888.0,\n",
       " 102952888.0,\n",
       " 102952888.0,\n",
       " 102495262.0,\n",
       " 102304791.0,\n",
       " 102205175.0,\n",
       " 102205175.0,\n",
       " 102069268.0,\n",
       " 102069268.0,\n",
       " 101343079.0,\n",
       " 100933115.0,\n",
       " 99482027.0,\n",
       " 99482027.0,\n",
       " 99456956.0,\n",
       " 98599942.0,\n",
       " 98599942.0,\n",
       " 98450062.0,\n",
       " 98450062.0,\n",
       " 98450062.0,\n",
       " 98450062.0,\n",
       " 98275238.0,\n",
       " 98203196.0,\n",
       " 98203196.0,\n",
       " 98203196.0,\n",
       " 97644617.0,\n",
       " 97644617.0,\n",
       " 97644617.0,\n",
       " 96942115.0,\n",
       " 96942115.0,\n",
       " 96942115.0,\n",
       " 96872534.0,\n",
       " 96230215.0,\n",
       " 96119773.0,\n",
       " 96119773.0,\n",
       " 96084968.0,\n",
       " 95918706.0,\n",
       " 95918706.0,\n",
       " 95017038.0,\n",
       " 95017038.0,\n",
       " 95017038.0,\n",
       " 94539426.0,\n",
       " 94539426.0,\n",
       " 93992540.0,\n",
       " 93431108.0,\n",
       " 93414701.0,\n",
       " 93400823.0,\n",
       " 93400823.0,\n",
       " 93400823.0,\n",
       " 93320380.0,\n",
       " 93134017.0,\n",
       " 92876224.0,\n",
       " 92850518.0,\n",
       " 92558469.0,\n",
       " 92256005.0,\n",
       " 91799198.0,\n",
       " 91522071.0,\n",
       " ...]"
      ]
     },
     "execution_count": 170,
     "metadata": {},
     "output_type": "execute_result"
    }
   ],
   "source": [
    "top = 10\n",
    "total_sorted = sorted(total_list, reverse=True)\n",
    "total_sorted"
   ]
  },
  {
   "cell_type": "code",
   "execution_count": 171,
   "metadata": {},
   "outputs": [],
   "source": [
    "top_total_actors = []\n",
    "top_actors = []\n",
    "top_avg_actors = []"
   ]
  },
  {
   "cell_type": "code",
   "execution_count": 172,
   "metadata": {},
   "outputs": [
    {
     "data": {
      "text/plain": [
       "10"
      ]
     },
     "execution_count": 172,
     "metadata": {},
     "output_type": "execute_result"
    }
   ],
   "source": [
    "top"
   ]
  },
  {
   "cell_type": "code",
   "execution_count": 173,
   "metadata": {},
   "outputs": [
    {
     "name": "stdout",
     "output_type": "stream",
     "text": [
      "8282429403.0 1656485880 Robert_Downey_Jr.\n",
      "7705648822.0 770564882 Chris_Hemsworth\n",
      "7517931325.0 1252988554 Chris_Evans\n",
      "6682139030.0 1336427806 Mark_Ruffalo\n",
      "5241100081.0 524110008 Dwayne_Johnson\n",
      "4499435928.0 749905988 Chris_Pratt\n",
      "4165936266.0 833187253 Jason_Statham\n",
      "4107864027.0 821572805 Vin_Diesel\n",
      "3853427131.0 481678391 Idris_Elba\n",
      "3526148929.0 503735561 Samuel_L._Jackson\n"
     ]
    }
   ],
   "source": [
    "for i in range(top):\n",
    "    for j, total in enumerate(total_list):\n",
    "        #print(i, j)\n",
    "        actor = actor_list[j]\n",
    "        if actor not in top_actors and total_sorted[i] == total: \n",
    "            top_total_actors.append(total)\n",
    "            top_avg_actors.append(avg_list[j])\n",
    "            top_actors.append(actor_list[j])\n",
    "            print(total, avg_list[j], actor_list[j])\n",
    "            "
   ]
  },
  {
   "cell_type": "code",
   "execution_count": 174,
   "metadata": {},
   "outputs": [
    {
     "data": {
      "text/plain": [
       "True"
      ]
     },
     "execution_count": 174,
     "metadata": {},
     "output_type": "execute_result"
    }
   ],
   "source": [
    "top_total_actors[0] > top_avg_actors[0]"
   ]
  },
  {
   "cell_type": "code",
   "execution_count": 175,
   "metadata": {},
   "outputs": [
    {
     "name": "stdout",
     "output_type": "stream",
     "text": [
      "['Robert_Downey_Jr.', 'Chris_Hemsworth', 'Chris_Evans', 'Mark_Ruffalo', 'Dwayne_Johnson', 'Chris_Pratt', 'Jason_Statham', 'Vin_Diesel', 'Idris_Elba', 'Samuel_L._Jackson'] \n",
      " [8282429403.0, 7705648822.0, 7517931325.0, 6682139030.0, 5241100081.0, 4499435928.0, 4165936266.0, 4107864027.0, 3853427131.0, 3526148929.0]\n"
     ]
    }
   ],
   "source": [
    "print(top_actors, \"\\n\", top_total_actors)"
   ]
  },
  {
   "cell_type": "code",
   "execution_count": 176,
   "metadata": {},
   "outputs": [
    {
     "data": {
      "text/plain": [
       "1          Avengers: Infinity War\n",
       "7         Avengers: Age of Ultron\n",
       "9      Captain America: Civil War\n",
       "15         Spider-Man: Homecoming\n",
       "492             Avengers: Endgame\n",
       "Name: Title, dtype: object"
      ]
     },
     "execution_count": 176,
     "metadata": {},
     "output_type": "execute_result"
    }
   ],
   "source": [
    "movie_data_df[movie_data_df['Actor_Robert_Downey_Jr.'] == 1]['Title']"
   ]
  },
  {
   "cell_type": "code",
   "execution_count": 177,
   "metadata": {},
   "outputs": [
    {
     "data": {
      "text/plain": [
       "1           Avengers: Infinity War\n",
       "7          Avengers: Age of Ultron\n",
       "20                  Thor: Ragnarok\n",
       "163     The Huntsman: Winter's War\n",
       "267        In the Heart of the Sea\n",
       "345                       Blackhat\n",
       "440                      12 Strong\n",
       "492              Avengers: Endgame\n",
       "733      Jay and Silent Bob Reboot\n",
       "809    Men in Black: International\n",
       "Name: Title, dtype: object"
      ]
     },
     "execution_count": 177,
     "metadata": {},
     "output_type": "execute_result"
    }
   ],
   "source": [
    "movie_data_df[movie_data_df['Actor_Chris_Hemsworth'] == 1]['Title']"
   ]
  },
  {
   "cell_type": "code",
   "execution_count": 178,
   "metadata": {},
   "outputs": [],
   "source": [
    "top_actors = list(map(lambda actor: actor.replace('_', ' '), top_actors))"
   ]
  },
  {
   "cell_type": "code",
   "execution_count": 179,
   "metadata": {},
   "outputs": [
    {
     "data": {
      "application/vnd.plotly.v1+json": {
       "config": {
        "plotlyServerURL": "https://plot.ly"
       },
       "data": [
        {
         "type": "bar",
         "x": [
          "Robert Downey Jr.",
          "Chris Hemsworth",
          "Chris Evans",
          "Mark Ruffalo",
          "Dwayne Johnson",
          "Chris Pratt",
          "Jason Statham",
          "Vin Diesel",
          "Idris Elba",
          "Samuel L. Jackson"
         ],
         "y": [
          8282429403,
          7705648822,
          7517931325,
          6682139030,
          5241100081,
          4499435928,
          4165936266,
          4107864027,
          3853427131,
          3526148929
         ]
        }
       ],
       "layout": {
        "template": {
         "data": {
          "bar": [
           {
            "error_x": {
             "color": "#2a3f5f"
            },
            "error_y": {
             "color": "#2a3f5f"
            },
            "marker": {
             "line": {
              "color": "#E5ECF6",
              "width": 0.5
             }
            },
            "type": "bar"
           }
          ],
          "barpolar": [
           {
            "marker": {
             "line": {
              "color": "#E5ECF6",
              "width": 0.5
             }
            },
            "type": "barpolar"
           }
          ],
          "carpet": [
           {
            "aaxis": {
             "endlinecolor": "#2a3f5f",
             "gridcolor": "white",
             "linecolor": "white",
             "minorgridcolor": "white",
             "startlinecolor": "#2a3f5f"
            },
            "baxis": {
             "endlinecolor": "#2a3f5f",
             "gridcolor": "white",
             "linecolor": "white",
             "minorgridcolor": "white",
             "startlinecolor": "#2a3f5f"
            },
            "type": "carpet"
           }
          ],
          "choropleth": [
           {
            "colorbar": {
             "outlinewidth": 0,
             "ticks": ""
            },
            "type": "choropleth"
           }
          ],
          "contour": [
           {
            "colorbar": {
             "outlinewidth": 0,
             "ticks": ""
            },
            "colorscale": [
             [
              0,
              "#0d0887"
             ],
             [
              0.1111111111111111,
              "#46039f"
             ],
             [
              0.2222222222222222,
              "#7201a8"
             ],
             [
              0.3333333333333333,
              "#9c179e"
             ],
             [
              0.4444444444444444,
              "#bd3786"
             ],
             [
              0.5555555555555556,
              "#d8576b"
             ],
             [
              0.6666666666666666,
              "#ed7953"
             ],
             [
              0.7777777777777778,
              "#fb9f3a"
             ],
             [
              0.8888888888888888,
              "#fdca26"
             ],
             [
              1,
              "#f0f921"
             ]
            ],
            "type": "contour"
           }
          ],
          "contourcarpet": [
           {
            "colorbar": {
             "outlinewidth": 0,
             "ticks": ""
            },
            "type": "contourcarpet"
           }
          ],
          "heatmap": [
           {
            "colorbar": {
             "outlinewidth": 0,
             "ticks": ""
            },
            "colorscale": [
             [
              0,
              "#0d0887"
             ],
             [
              0.1111111111111111,
              "#46039f"
             ],
             [
              0.2222222222222222,
              "#7201a8"
             ],
             [
              0.3333333333333333,
              "#9c179e"
             ],
             [
              0.4444444444444444,
              "#bd3786"
             ],
             [
              0.5555555555555556,
              "#d8576b"
             ],
             [
              0.6666666666666666,
              "#ed7953"
             ],
             [
              0.7777777777777778,
              "#fb9f3a"
             ],
             [
              0.8888888888888888,
              "#fdca26"
             ],
             [
              1,
              "#f0f921"
             ]
            ],
            "type": "heatmap"
           }
          ],
          "heatmapgl": [
           {
            "colorbar": {
             "outlinewidth": 0,
             "ticks": ""
            },
            "colorscale": [
             [
              0,
              "#0d0887"
             ],
             [
              0.1111111111111111,
              "#46039f"
             ],
             [
              0.2222222222222222,
              "#7201a8"
             ],
             [
              0.3333333333333333,
              "#9c179e"
             ],
             [
              0.4444444444444444,
              "#bd3786"
             ],
             [
              0.5555555555555556,
              "#d8576b"
             ],
             [
              0.6666666666666666,
              "#ed7953"
             ],
             [
              0.7777777777777778,
              "#fb9f3a"
             ],
             [
              0.8888888888888888,
              "#fdca26"
             ],
             [
              1,
              "#f0f921"
             ]
            ],
            "type": "heatmapgl"
           }
          ],
          "histogram": [
           {
            "marker": {
             "colorbar": {
              "outlinewidth": 0,
              "ticks": ""
             }
            },
            "type": "histogram"
           }
          ],
          "histogram2d": [
           {
            "colorbar": {
             "outlinewidth": 0,
             "ticks": ""
            },
            "colorscale": [
             [
              0,
              "#0d0887"
             ],
             [
              0.1111111111111111,
              "#46039f"
             ],
             [
              0.2222222222222222,
              "#7201a8"
             ],
             [
              0.3333333333333333,
              "#9c179e"
             ],
             [
              0.4444444444444444,
              "#bd3786"
             ],
             [
              0.5555555555555556,
              "#d8576b"
             ],
             [
              0.6666666666666666,
              "#ed7953"
             ],
             [
              0.7777777777777778,
              "#fb9f3a"
             ],
             [
              0.8888888888888888,
              "#fdca26"
             ],
             [
              1,
              "#f0f921"
             ]
            ],
            "type": "histogram2d"
           }
          ],
          "histogram2dcontour": [
           {
            "colorbar": {
             "outlinewidth": 0,
             "ticks": ""
            },
            "colorscale": [
             [
              0,
              "#0d0887"
             ],
             [
              0.1111111111111111,
              "#46039f"
             ],
             [
              0.2222222222222222,
              "#7201a8"
             ],
             [
              0.3333333333333333,
              "#9c179e"
             ],
             [
              0.4444444444444444,
              "#bd3786"
             ],
             [
              0.5555555555555556,
              "#d8576b"
             ],
             [
              0.6666666666666666,
              "#ed7953"
             ],
             [
              0.7777777777777778,
              "#fb9f3a"
             ],
             [
              0.8888888888888888,
              "#fdca26"
             ],
             [
              1,
              "#f0f921"
             ]
            ],
            "type": "histogram2dcontour"
           }
          ],
          "mesh3d": [
           {
            "colorbar": {
             "outlinewidth": 0,
             "ticks": ""
            },
            "type": "mesh3d"
           }
          ],
          "parcoords": [
           {
            "line": {
             "colorbar": {
              "outlinewidth": 0,
              "ticks": ""
             }
            },
            "type": "parcoords"
           }
          ],
          "pie": [
           {
            "automargin": true,
            "type": "pie"
           }
          ],
          "scatter": [
           {
            "marker": {
             "colorbar": {
              "outlinewidth": 0,
              "ticks": ""
             }
            },
            "type": "scatter"
           }
          ],
          "scatter3d": [
           {
            "line": {
             "colorbar": {
              "outlinewidth": 0,
              "ticks": ""
             }
            },
            "marker": {
             "colorbar": {
              "outlinewidth": 0,
              "ticks": ""
             }
            },
            "type": "scatter3d"
           }
          ],
          "scattercarpet": [
           {
            "marker": {
             "colorbar": {
              "outlinewidth": 0,
              "ticks": ""
             }
            },
            "type": "scattercarpet"
           }
          ],
          "scattergeo": [
           {
            "marker": {
             "colorbar": {
              "outlinewidth": 0,
              "ticks": ""
             }
            },
            "type": "scattergeo"
           }
          ],
          "scattergl": [
           {
            "marker": {
             "colorbar": {
              "outlinewidth": 0,
              "ticks": ""
             }
            },
            "type": "scattergl"
           }
          ],
          "scattermapbox": [
           {
            "marker": {
             "colorbar": {
              "outlinewidth": 0,
              "ticks": ""
             }
            },
            "type": "scattermapbox"
           }
          ],
          "scatterpolar": [
           {
            "marker": {
             "colorbar": {
              "outlinewidth": 0,
              "ticks": ""
             }
            },
            "type": "scatterpolar"
           }
          ],
          "scatterpolargl": [
           {
            "marker": {
             "colorbar": {
              "outlinewidth": 0,
              "ticks": ""
             }
            },
            "type": "scatterpolargl"
           }
          ],
          "scatterternary": [
           {
            "marker": {
             "colorbar": {
              "outlinewidth": 0,
              "ticks": ""
             }
            },
            "type": "scatterternary"
           }
          ],
          "surface": [
           {
            "colorbar": {
             "outlinewidth": 0,
             "ticks": ""
            },
            "colorscale": [
             [
              0,
              "#0d0887"
             ],
             [
              0.1111111111111111,
              "#46039f"
             ],
             [
              0.2222222222222222,
              "#7201a8"
             ],
             [
              0.3333333333333333,
              "#9c179e"
             ],
             [
              0.4444444444444444,
              "#bd3786"
             ],
             [
              0.5555555555555556,
              "#d8576b"
             ],
             [
              0.6666666666666666,
              "#ed7953"
             ],
             [
              0.7777777777777778,
              "#fb9f3a"
             ],
             [
              0.8888888888888888,
              "#fdca26"
             ],
             [
              1,
              "#f0f921"
             ]
            ],
            "type": "surface"
           }
          ],
          "table": [
           {
            "cells": {
             "fill": {
              "color": "#EBF0F8"
             },
             "line": {
              "color": "white"
             }
            },
            "header": {
             "fill": {
              "color": "#C8D4E3"
             },
             "line": {
              "color": "white"
             }
            },
            "type": "table"
           }
          ]
         },
         "layout": {
          "annotationdefaults": {
           "arrowcolor": "#2a3f5f",
           "arrowhead": 0,
           "arrowwidth": 1
          },
          "coloraxis": {
           "colorbar": {
            "outlinewidth": 0,
            "ticks": ""
           }
          },
          "colorscale": {
           "diverging": [
            [
             0,
             "#8e0152"
            ],
            [
             0.1,
             "#c51b7d"
            ],
            [
             0.2,
             "#de77ae"
            ],
            [
             0.3,
             "#f1b6da"
            ],
            [
             0.4,
             "#fde0ef"
            ],
            [
             0.5,
             "#f7f7f7"
            ],
            [
             0.6,
             "#e6f5d0"
            ],
            [
             0.7,
             "#b8e186"
            ],
            [
             0.8,
             "#7fbc41"
            ],
            [
             0.9,
             "#4d9221"
            ],
            [
             1,
             "#276419"
            ]
           ],
           "sequential": [
            [
             0,
             "#0d0887"
            ],
            [
             0.1111111111111111,
             "#46039f"
            ],
            [
             0.2222222222222222,
             "#7201a8"
            ],
            [
             0.3333333333333333,
             "#9c179e"
            ],
            [
             0.4444444444444444,
             "#bd3786"
            ],
            [
             0.5555555555555556,
             "#d8576b"
            ],
            [
             0.6666666666666666,
             "#ed7953"
            ],
            [
             0.7777777777777778,
             "#fb9f3a"
            ],
            [
             0.8888888888888888,
             "#fdca26"
            ],
            [
             1,
             "#f0f921"
            ]
           ],
           "sequentialminus": [
            [
             0,
             "#0d0887"
            ],
            [
             0.1111111111111111,
             "#46039f"
            ],
            [
             0.2222222222222222,
             "#7201a8"
            ],
            [
             0.3333333333333333,
             "#9c179e"
            ],
            [
             0.4444444444444444,
             "#bd3786"
            ],
            [
             0.5555555555555556,
             "#d8576b"
            ],
            [
             0.6666666666666666,
             "#ed7953"
            ],
            [
             0.7777777777777778,
             "#fb9f3a"
            ],
            [
             0.8888888888888888,
             "#fdca26"
            ],
            [
             1,
             "#f0f921"
            ]
           ]
          },
          "colorway": [
           "#636efa",
           "#EF553B",
           "#00cc96",
           "#ab63fa",
           "#FFA15A",
           "#19d3f3",
           "#FF6692",
           "#B6E880",
           "#FF97FF",
           "#FECB52"
          ],
          "font": {
           "color": "#2a3f5f"
          },
          "geo": {
           "bgcolor": "white",
           "lakecolor": "white",
           "landcolor": "#E5ECF6",
           "showlakes": true,
           "showland": true,
           "subunitcolor": "white"
          },
          "hoverlabel": {
           "align": "left"
          },
          "hovermode": "closest",
          "mapbox": {
           "style": "light"
          },
          "paper_bgcolor": "white",
          "plot_bgcolor": "#E5ECF6",
          "polar": {
           "angularaxis": {
            "gridcolor": "white",
            "linecolor": "white",
            "ticks": ""
           },
           "bgcolor": "#E5ECF6",
           "radialaxis": {
            "gridcolor": "white",
            "linecolor": "white",
            "ticks": ""
           }
          },
          "scene": {
           "xaxis": {
            "backgroundcolor": "#E5ECF6",
            "gridcolor": "white",
            "gridwidth": 2,
            "linecolor": "white",
            "showbackground": true,
            "ticks": "",
            "zerolinecolor": "white"
           },
           "yaxis": {
            "backgroundcolor": "#E5ECF6",
            "gridcolor": "white",
            "gridwidth": 2,
            "linecolor": "white",
            "showbackground": true,
            "ticks": "",
            "zerolinecolor": "white"
           },
           "zaxis": {
            "backgroundcolor": "#E5ECF6",
            "gridcolor": "white",
            "gridwidth": 2,
            "linecolor": "white",
            "showbackground": true,
            "ticks": "",
            "zerolinecolor": "white"
           }
          },
          "shapedefaults": {
           "line": {
            "color": "#2a3f5f"
           }
          },
          "ternary": {
           "aaxis": {
            "gridcolor": "white",
            "linecolor": "white",
            "ticks": ""
           },
           "baxis": {
            "gridcolor": "white",
            "linecolor": "white",
            "ticks": ""
           },
           "bgcolor": "#E5ECF6",
           "caxis": {
            "gridcolor": "white",
            "linecolor": "white",
            "ticks": ""
           }
          },
          "title": {
           "x": 0.05
          },
          "xaxis": {
           "automargin": true,
           "gridcolor": "white",
           "linecolor": "white",
           "ticks": "",
           "title": {
            "standoff": 15
           },
           "zerolinecolor": "white",
           "zerolinewidth": 2
          },
          "yaxis": {
           "automargin": true,
           "gridcolor": "white",
           "linecolor": "white",
           "ticks": "",
           "title": {
            "standoff": 15
           },
           "zerolinecolor": "white",
           "zerolinewidth": 2
          }
         }
        }
       }
      },
      "text/html": [
       "<div>\n",
       "        \n",
       "        \n",
       "            <div id=\"312513f4-d69d-41e0-af7c-5d4eca2a8bd1\" class=\"plotly-graph-div\" style=\"height:525px; width:100%;\"></div>\n",
       "            <script type=\"text/javascript\">\n",
       "                require([\"plotly\"], function(Plotly) {\n",
       "                    window.PLOTLYENV=window.PLOTLYENV || {};\n",
       "                    \n",
       "                if (document.getElementById(\"312513f4-d69d-41e0-af7c-5d4eca2a8bd1\")) {\n",
       "                    Plotly.newPlot(\n",
       "                        '312513f4-d69d-41e0-af7c-5d4eca2a8bd1',\n",
       "                        [{\"type\": \"bar\", \"x\": [\"Robert Downey Jr.\", \"Chris Hemsworth\", \"Chris Evans\", \"Mark Ruffalo\", \"Dwayne Johnson\", \"Chris Pratt\", \"Jason Statham\", \"Vin Diesel\", \"Idris Elba\", \"Samuel L. Jackson\"], \"y\": [8282429403.0, 7705648822.0, 7517931325.0, 6682139030.0, 5241100081.0, 4499435928.0, 4165936266.0, 4107864027.0, 3853427131.0, 3526148929.0]}],\n",
       "                        {\"template\": {\"data\": {\"bar\": [{\"error_x\": {\"color\": \"#2a3f5f\"}, \"error_y\": {\"color\": \"#2a3f5f\"}, \"marker\": {\"line\": {\"color\": \"#E5ECF6\", \"width\": 0.5}}, \"type\": \"bar\"}], \"barpolar\": [{\"marker\": {\"line\": {\"color\": \"#E5ECF6\", \"width\": 0.5}}, \"type\": \"barpolar\"}], \"carpet\": [{\"aaxis\": {\"endlinecolor\": \"#2a3f5f\", \"gridcolor\": \"white\", \"linecolor\": \"white\", \"minorgridcolor\": \"white\", \"startlinecolor\": \"#2a3f5f\"}, \"baxis\": {\"endlinecolor\": \"#2a3f5f\", \"gridcolor\": \"white\", \"linecolor\": \"white\", \"minorgridcolor\": \"white\", \"startlinecolor\": \"#2a3f5f\"}, \"type\": \"carpet\"}], \"choropleth\": [{\"colorbar\": {\"outlinewidth\": 0, \"ticks\": \"\"}, \"type\": \"choropleth\"}], \"contour\": [{\"colorbar\": {\"outlinewidth\": 0, \"ticks\": \"\"}, \"colorscale\": [[0.0, \"#0d0887\"], [0.1111111111111111, \"#46039f\"], [0.2222222222222222, \"#7201a8\"], [0.3333333333333333, \"#9c179e\"], [0.4444444444444444, \"#bd3786\"], [0.5555555555555556, \"#d8576b\"], [0.6666666666666666, \"#ed7953\"], [0.7777777777777778, \"#fb9f3a\"], [0.8888888888888888, \"#fdca26\"], [1.0, \"#f0f921\"]], \"type\": \"contour\"}], \"contourcarpet\": [{\"colorbar\": {\"outlinewidth\": 0, \"ticks\": \"\"}, \"type\": \"contourcarpet\"}], \"heatmap\": [{\"colorbar\": {\"outlinewidth\": 0, \"ticks\": \"\"}, \"colorscale\": [[0.0, \"#0d0887\"], [0.1111111111111111, \"#46039f\"], [0.2222222222222222, \"#7201a8\"], [0.3333333333333333, \"#9c179e\"], [0.4444444444444444, \"#bd3786\"], [0.5555555555555556, \"#d8576b\"], [0.6666666666666666, \"#ed7953\"], [0.7777777777777778, \"#fb9f3a\"], [0.8888888888888888, \"#fdca26\"], [1.0, \"#f0f921\"]], \"type\": \"heatmap\"}], \"heatmapgl\": [{\"colorbar\": {\"outlinewidth\": 0, \"ticks\": \"\"}, \"colorscale\": [[0.0, \"#0d0887\"], [0.1111111111111111, \"#46039f\"], [0.2222222222222222, \"#7201a8\"], [0.3333333333333333, \"#9c179e\"], [0.4444444444444444, \"#bd3786\"], [0.5555555555555556, \"#d8576b\"], [0.6666666666666666, \"#ed7953\"], [0.7777777777777778, \"#fb9f3a\"], [0.8888888888888888, \"#fdca26\"], [1.0, \"#f0f921\"]], \"type\": \"heatmapgl\"}], \"histogram\": [{\"marker\": {\"colorbar\": {\"outlinewidth\": 0, \"ticks\": \"\"}}, \"type\": \"histogram\"}], \"histogram2d\": [{\"colorbar\": {\"outlinewidth\": 0, \"ticks\": \"\"}, \"colorscale\": [[0.0, \"#0d0887\"], [0.1111111111111111, \"#46039f\"], [0.2222222222222222, \"#7201a8\"], [0.3333333333333333, \"#9c179e\"], [0.4444444444444444, \"#bd3786\"], [0.5555555555555556, \"#d8576b\"], [0.6666666666666666, \"#ed7953\"], [0.7777777777777778, \"#fb9f3a\"], [0.8888888888888888, \"#fdca26\"], [1.0, \"#f0f921\"]], \"type\": \"histogram2d\"}], \"histogram2dcontour\": [{\"colorbar\": {\"outlinewidth\": 0, \"ticks\": \"\"}, \"colorscale\": [[0.0, \"#0d0887\"], [0.1111111111111111, \"#46039f\"], [0.2222222222222222, \"#7201a8\"], [0.3333333333333333, \"#9c179e\"], [0.4444444444444444, \"#bd3786\"], [0.5555555555555556, \"#d8576b\"], [0.6666666666666666, \"#ed7953\"], [0.7777777777777778, \"#fb9f3a\"], [0.8888888888888888, \"#fdca26\"], [1.0, \"#f0f921\"]], \"type\": \"histogram2dcontour\"}], \"mesh3d\": [{\"colorbar\": {\"outlinewidth\": 0, \"ticks\": \"\"}, \"type\": \"mesh3d\"}], \"parcoords\": [{\"line\": {\"colorbar\": {\"outlinewidth\": 0, \"ticks\": \"\"}}, \"type\": \"parcoords\"}], \"pie\": [{\"automargin\": true, \"type\": \"pie\"}], \"scatter\": [{\"marker\": {\"colorbar\": {\"outlinewidth\": 0, \"ticks\": \"\"}}, \"type\": \"scatter\"}], \"scatter3d\": [{\"line\": {\"colorbar\": {\"outlinewidth\": 0, \"ticks\": \"\"}}, \"marker\": {\"colorbar\": {\"outlinewidth\": 0, \"ticks\": \"\"}}, \"type\": \"scatter3d\"}], \"scattercarpet\": [{\"marker\": {\"colorbar\": {\"outlinewidth\": 0, \"ticks\": \"\"}}, \"type\": \"scattercarpet\"}], \"scattergeo\": [{\"marker\": {\"colorbar\": {\"outlinewidth\": 0, \"ticks\": \"\"}}, \"type\": \"scattergeo\"}], \"scattergl\": [{\"marker\": {\"colorbar\": {\"outlinewidth\": 0, \"ticks\": \"\"}}, \"type\": \"scattergl\"}], \"scattermapbox\": [{\"marker\": {\"colorbar\": {\"outlinewidth\": 0, \"ticks\": \"\"}}, \"type\": \"scattermapbox\"}], \"scatterpolar\": [{\"marker\": {\"colorbar\": {\"outlinewidth\": 0, \"ticks\": \"\"}}, \"type\": \"scatterpolar\"}], \"scatterpolargl\": [{\"marker\": {\"colorbar\": {\"outlinewidth\": 0, \"ticks\": \"\"}}, \"type\": \"scatterpolargl\"}], \"scatterternary\": [{\"marker\": {\"colorbar\": {\"outlinewidth\": 0, \"ticks\": \"\"}}, \"type\": \"scatterternary\"}], \"surface\": [{\"colorbar\": {\"outlinewidth\": 0, \"ticks\": \"\"}, \"colorscale\": [[0.0, \"#0d0887\"], [0.1111111111111111, \"#46039f\"], [0.2222222222222222, \"#7201a8\"], [0.3333333333333333, \"#9c179e\"], [0.4444444444444444, \"#bd3786\"], [0.5555555555555556, \"#d8576b\"], [0.6666666666666666, \"#ed7953\"], [0.7777777777777778, \"#fb9f3a\"], [0.8888888888888888, \"#fdca26\"], [1.0, \"#f0f921\"]], \"type\": \"surface\"}], \"table\": [{\"cells\": {\"fill\": {\"color\": \"#EBF0F8\"}, \"line\": {\"color\": \"white\"}}, \"header\": {\"fill\": {\"color\": \"#C8D4E3\"}, \"line\": {\"color\": \"white\"}}, \"type\": \"table\"}]}, \"layout\": {\"annotationdefaults\": {\"arrowcolor\": \"#2a3f5f\", \"arrowhead\": 0, \"arrowwidth\": 1}, \"coloraxis\": {\"colorbar\": {\"outlinewidth\": 0, \"ticks\": \"\"}}, \"colorscale\": {\"diverging\": [[0, \"#8e0152\"], [0.1, \"#c51b7d\"], [0.2, \"#de77ae\"], [0.3, \"#f1b6da\"], [0.4, \"#fde0ef\"], [0.5, \"#f7f7f7\"], [0.6, \"#e6f5d0\"], [0.7, \"#b8e186\"], [0.8, \"#7fbc41\"], [0.9, \"#4d9221\"], [1, \"#276419\"]], \"sequential\": [[0.0, \"#0d0887\"], [0.1111111111111111, \"#46039f\"], [0.2222222222222222, \"#7201a8\"], [0.3333333333333333, \"#9c179e\"], [0.4444444444444444, \"#bd3786\"], [0.5555555555555556, \"#d8576b\"], [0.6666666666666666, \"#ed7953\"], [0.7777777777777778, \"#fb9f3a\"], [0.8888888888888888, \"#fdca26\"], [1.0, \"#f0f921\"]], \"sequentialminus\": [[0.0, \"#0d0887\"], [0.1111111111111111, \"#46039f\"], [0.2222222222222222, \"#7201a8\"], [0.3333333333333333, \"#9c179e\"], [0.4444444444444444, \"#bd3786\"], [0.5555555555555556, \"#d8576b\"], [0.6666666666666666, \"#ed7953\"], [0.7777777777777778, \"#fb9f3a\"], [0.8888888888888888, \"#fdca26\"], [1.0, \"#f0f921\"]]}, \"colorway\": [\"#636efa\", \"#EF553B\", \"#00cc96\", \"#ab63fa\", \"#FFA15A\", \"#19d3f3\", \"#FF6692\", \"#B6E880\", \"#FF97FF\", \"#FECB52\"], \"font\": {\"color\": \"#2a3f5f\"}, \"geo\": {\"bgcolor\": \"white\", \"lakecolor\": \"white\", \"landcolor\": \"#E5ECF6\", \"showlakes\": true, \"showland\": true, \"subunitcolor\": \"white\"}, \"hoverlabel\": {\"align\": \"left\"}, \"hovermode\": \"closest\", \"mapbox\": {\"style\": \"light\"}, \"paper_bgcolor\": \"white\", \"plot_bgcolor\": \"#E5ECF6\", \"polar\": {\"angularaxis\": {\"gridcolor\": \"white\", \"linecolor\": \"white\", \"ticks\": \"\"}, \"bgcolor\": \"#E5ECF6\", \"radialaxis\": {\"gridcolor\": \"white\", \"linecolor\": \"white\", \"ticks\": \"\"}}, \"scene\": {\"xaxis\": {\"backgroundcolor\": \"#E5ECF6\", \"gridcolor\": \"white\", \"gridwidth\": 2, \"linecolor\": \"white\", \"showbackground\": true, \"ticks\": \"\", \"zerolinecolor\": \"white\"}, \"yaxis\": {\"backgroundcolor\": \"#E5ECF6\", \"gridcolor\": \"white\", \"gridwidth\": 2, \"linecolor\": \"white\", \"showbackground\": true, \"ticks\": \"\", \"zerolinecolor\": \"white\"}, \"zaxis\": {\"backgroundcolor\": \"#E5ECF6\", \"gridcolor\": \"white\", \"gridwidth\": 2, \"linecolor\": \"white\", \"showbackground\": true, \"ticks\": \"\", \"zerolinecolor\": \"white\"}}, \"shapedefaults\": {\"line\": {\"color\": \"#2a3f5f\"}}, \"ternary\": {\"aaxis\": {\"gridcolor\": \"white\", \"linecolor\": \"white\", \"ticks\": \"\"}, \"baxis\": {\"gridcolor\": \"white\", \"linecolor\": \"white\", \"ticks\": \"\"}, \"bgcolor\": \"#E5ECF6\", \"caxis\": {\"gridcolor\": \"white\", \"linecolor\": \"white\", \"ticks\": \"\"}}, \"title\": {\"x\": 0.05}, \"xaxis\": {\"automargin\": true, \"gridcolor\": \"white\", \"linecolor\": \"white\", \"ticks\": \"\", \"title\": {\"standoff\": 15}, \"zerolinecolor\": \"white\", \"zerolinewidth\": 2}, \"yaxis\": {\"automargin\": true, \"gridcolor\": \"white\", \"linecolor\": \"white\", \"ticks\": \"\", \"title\": {\"standoff\": 15}, \"zerolinecolor\": \"white\", \"zerolinewidth\": 2}}}},\n",
       "                        {\"responsive\": true}\n",
       "                    ).then(function(){\n",
       "                            \n",
       "var gd = document.getElementById('312513f4-d69d-41e0-af7c-5d4eca2a8bd1');\n",
       "var x = new MutationObserver(function (mutations, observer) {{\n",
       "        var display = window.getComputedStyle(gd).display;\n",
       "        if (!display || display === 'none') {{\n",
       "            console.log([gd, 'removed!']);\n",
       "            Plotly.purge(gd);\n",
       "            observer.disconnect();\n",
       "        }}\n",
       "}});\n",
       "\n",
       "// Listen for the removal of the full notebook cells\n",
       "var notebookContainer = gd.closest('#notebook-container');\n",
       "if (notebookContainer) {{\n",
       "    x.observe(notebookContainer, {childList: true});\n",
       "}}\n",
       "\n",
       "// Listen for the clearing of the current output cell\n",
       "var outputEl = gd.closest('.output');\n",
       "if (outputEl) {{\n",
       "    x.observe(outputEl, {childList: true});\n",
       "}}\n",
       "\n",
       "                        })\n",
       "                };\n",
       "                });\n",
       "            </script>\n",
       "        </div>"
      ]
     },
     "metadata": {},
     "output_type": "display_data"
    }
   ],
   "source": [
    "# plt.bar(top_actors, top_total)\n",
    "\n",
    "plot_top_actors_total = go.Figure()\n",
    "plot_top_actors_total = go.Figure([go.Bar(x=top_actors, y=top_total_actors)])\n",
    "plot_top_actors_total.show()"
   ]
  },
  {
   "cell_type": "code",
   "execution_count": 180,
   "metadata": {},
   "outputs": [
    {
     "data": {
      "application/vnd.plotly.v1+json": {
       "config": {
        "plotlyServerURL": "https://plot.ly"
       },
       "data": [
        {
         "type": "scatter",
         "x": [
          "Robert Downey Jr.",
          "Chris Hemsworth",
          "Chris Evans",
          "Mark Ruffalo",
          "Dwayne Johnson",
          "Chris Pratt",
          "Jason Statham",
          "Vin Diesel",
          "Idris Elba",
          "Samuel L. Jackson"
         ],
         "y": [
          340651485,
          243356855,
          411643995,
          131855030,
          78926453,
          231780934,
          130809390,
          261047961,
          256332047,
          99621632
         ]
        }
       ],
       "layout": {
        "template": {
         "data": {
          "bar": [
           {
            "error_x": {
             "color": "#2a3f5f"
            },
            "error_y": {
             "color": "#2a3f5f"
            },
            "marker": {
             "line": {
              "color": "#E5ECF6",
              "width": 0.5
             }
            },
            "type": "bar"
           }
          ],
          "barpolar": [
           {
            "marker": {
             "line": {
              "color": "#E5ECF6",
              "width": 0.5
             }
            },
            "type": "barpolar"
           }
          ],
          "carpet": [
           {
            "aaxis": {
             "endlinecolor": "#2a3f5f",
             "gridcolor": "white",
             "linecolor": "white",
             "minorgridcolor": "white",
             "startlinecolor": "#2a3f5f"
            },
            "baxis": {
             "endlinecolor": "#2a3f5f",
             "gridcolor": "white",
             "linecolor": "white",
             "minorgridcolor": "white",
             "startlinecolor": "#2a3f5f"
            },
            "type": "carpet"
           }
          ],
          "choropleth": [
           {
            "colorbar": {
             "outlinewidth": 0,
             "ticks": ""
            },
            "type": "choropleth"
           }
          ],
          "contour": [
           {
            "colorbar": {
             "outlinewidth": 0,
             "ticks": ""
            },
            "colorscale": [
             [
              0,
              "#0d0887"
             ],
             [
              0.1111111111111111,
              "#46039f"
             ],
             [
              0.2222222222222222,
              "#7201a8"
             ],
             [
              0.3333333333333333,
              "#9c179e"
             ],
             [
              0.4444444444444444,
              "#bd3786"
             ],
             [
              0.5555555555555556,
              "#d8576b"
             ],
             [
              0.6666666666666666,
              "#ed7953"
             ],
             [
              0.7777777777777778,
              "#fb9f3a"
             ],
             [
              0.8888888888888888,
              "#fdca26"
             ],
             [
              1,
              "#f0f921"
             ]
            ],
            "type": "contour"
           }
          ],
          "contourcarpet": [
           {
            "colorbar": {
             "outlinewidth": 0,
             "ticks": ""
            },
            "type": "contourcarpet"
           }
          ],
          "heatmap": [
           {
            "colorbar": {
             "outlinewidth": 0,
             "ticks": ""
            },
            "colorscale": [
             [
              0,
              "#0d0887"
             ],
             [
              0.1111111111111111,
              "#46039f"
             ],
             [
              0.2222222222222222,
              "#7201a8"
             ],
             [
              0.3333333333333333,
              "#9c179e"
             ],
             [
              0.4444444444444444,
              "#bd3786"
             ],
             [
              0.5555555555555556,
              "#d8576b"
             ],
             [
              0.6666666666666666,
              "#ed7953"
             ],
             [
              0.7777777777777778,
              "#fb9f3a"
             ],
             [
              0.8888888888888888,
              "#fdca26"
             ],
             [
              1,
              "#f0f921"
             ]
            ],
            "type": "heatmap"
           }
          ],
          "heatmapgl": [
           {
            "colorbar": {
             "outlinewidth": 0,
             "ticks": ""
            },
            "colorscale": [
             [
              0,
              "#0d0887"
             ],
             [
              0.1111111111111111,
              "#46039f"
             ],
             [
              0.2222222222222222,
              "#7201a8"
             ],
             [
              0.3333333333333333,
              "#9c179e"
             ],
             [
              0.4444444444444444,
              "#bd3786"
             ],
             [
              0.5555555555555556,
              "#d8576b"
             ],
             [
              0.6666666666666666,
              "#ed7953"
             ],
             [
              0.7777777777777778,
              "#fb9f3a"
             ],
             [
              0.8888888888888888,
              "#fdca26"
             ],
             [
              1,
              "#f0f921"
             ]
            ],
            "type": "heatmapgl"
           }
          ],
          "histogram": [
           {
            "marker": {
             "colorbar": {
              "outlinewidth": 0,
              "ticks": ""
             }
            },
            "type": "histogram"
           }
          ],
          "histogram2d": [
           {
            "colorbar": {
             "outlinewidth": 0,
             "ticks": ""
            },
            "colorscale": [
             [
              0,
              "#0d0887"
             ],
             [
              0.1111111111111111,
              "#46039f"
             ],
             [
              0.2222222222222222,
              "#7201a8"
             ],
             [
              0.3333333333333333,
              "#9c179e"
             ],
             [
              0.4444444444444444,
              "#bd3786"
             ],
             [
              0.5555555555555556,
              "#d8576b"
             ],
             [
              0.6666666666666666,
              "#ed7953"
             ],
             [
              0.7777777777777778,
              "#fb9f3a"
             ],
             [
              0.8888888888888888,
              "#fdca26"
             ],
             [
              1,
              "#f0f921"
             ]
            ],
            "type": "histogram2d"
           }
          ],
          "histogram2dcontour": [
           {
            "colorbar": {
             "outlinewidth": 0,
             "ticks": ""
            },
            "colorscale": [
             [
              0,
              "#0d0887"
             ],
             [
              0.1111111111111111,
              "#46039f"
             ],
             [
              0.2222222222222222,
              "#7201a8"
             ],
             [
              0.3333333333333333,
              "#9c179e"
             ],
             [
              0.4444444444444444,
              "#bd3786"
             ],
             [
              0.5555555555555556,
              "#d8576b"
             ],
             [
              0.6666666666666666,
              "#ed7953"
             ],
             [
              0.7777777777777778,
              "#fb9f3a"
             ],
             [
              0.8888888888888888,
              "#fdca26"
             ],
             [
              1,
              "#f0f921"
             ]
            ],
            "type": "histogram2dcontour"
           }
          ],
          "mesh3d": [
           {
            "colorbar": {
             "outlinewidth": 0,
             "ticks": ""
            },
            "type": "mesh3d"
           }
          ],
          "parcoords": [
           {
            "line": {
             "colorbar": {
              "outlinewidth": 0,
              "ticks": ""
             }
            },
            "type": "parcoords"
           }
          ],
          "pie": [
           {
            "automargin": true,
            "type": "pie"
           }
          ],
          "scatter": [
           {
            "marker": {
             "colorbar": {
              "outlinewidth": 0,
              "ticks": ""
             }
            },
            "type": "scatter"
           }
          ],
          "scatter3d": [
           {
            "line": {
             "colorbar": {
              "outlinewidth": 0,
              "ticks": ""
             }
            },
            "marker": {
             "colorbar": {
              "outlinewidth": 0,
              "ticks": ""
             }
            },
            "type": "scatter3d"
           }
          ],
          "scattercarpet": [
           {
            "marker": {
             "colorbar": {
              "outlinewidth": 0,
              "ticks": ""
             }
            },
            "type": "scattercarpet"
           }
          ],
          "scattergeo": [
           {
            "marker": {
             "colorbar": {
              "outlinewidth": 0,
              "ticks": ""
             }
            },
            "type": "scattergeo"
           }
          ],
          "scattergl": [
           {
            "marker": {
             "colorbar": {
              "outlinewidth": 0,
              "ticks": ""
             }
            },
            "type": "scattergl"
           }
          ],
          "scattermapbox": [
           {
            "marker": {
             "colorbar": {
              "outlinewidth": 0,
              "ticks": ""
             }
            },
            "type": "scattermapbox"
           }
          ],
          "scatterpolar": [
           {
            "marker": {
             "colorbar": {
              "outlinewidth": 0,
              "ticks": ""
             }
            },
            "type": "scatterpolar"
           }
          ],
          "scatterpolargl": [
           {
            "marker": {
             "colorbar": {
              "outlinewidth": 0,
              "ticks": ""
             }
            },
            "type": "scatterpolargl"
           }
          ],
          "scatterternary": [
           {
            "marker": {
             "colorbar": {
              "outlinewidth": 0,
              "ticks": ""
             }
            },
            "type": "scatterternary"
           }
          ],
          "surface": [
           {
            "colorbar": {
             "outlinewidth": 0,
             "ticks": ""
            },
            "colorscale": [
             [
              0,
              "#0d0887"
             ],
             [
              0.1111111111111111,
              "#46039f"
             ],
             [
              0.2222222222222222,
              "#7201a8"
             ],
             [
              0.3333333333333333,
              "#9c179e"
             ],
             [
              0.4444444444444444,
              "#bd3786"
             ],
             [
              0.5555555555555556,
              "#d8576b"
             ],
             [
              0.6666666666666666,
              "#ed7953"
             ],
             [
              0.7777777777777778,
              "#fb9f3a"
             ],
             [
              0.8888888888888888,
              "#fdca26"
             ],
             [
              1,
              "#f0f921"
             ]
            ],
            "type": "surface"
           }
          ],
          "table": [
           {
            "cells": {
             "fill": {
              "color": "#EBF0F8"
             },
             "line": {
              "color": "white"
             }
            },
            "header": {
             "fill": {
              "color": "#C8D4E3"
             },
             "line": {
              "color": "white"
             }
            },
            "type": "table"
           }
          ]
         },
         "layout": {
          "annotationdefaults": {
           "arrowcolor": "#2a3f5f",
           "arrowhead": 0,
           "arrowwidth": 1
          },
          "coloraxis": {
           "colorbar": {
            "outlinewidth": 0,
            "ticks": ""
           }
          },
          "colorscale": {
           "diverging": [
            [
             0,
             "#8e0152"
            ],
            [
             0.1,
             "#c51b7d"
            ],
            [
             0.2,
             "#de77ae"
            ],
            [
             0.3,
             "#f1b6da"
            ],
            [
             0.4,
             "#fde0ef"
            ],
            [
             0.5,
             "#f7f7f7"
            ],
            [
             0.6,
             "#e6f5d0"
            ],
            [
             0.7,
             "#b8e186"
            ],
            [
             0.8,
             "#7fbc41"
            ],
            [
             0.9,
             "#4d9221"
            ],
            [
             1,
             "#276419"
            ]
           ],
           "sequential": [
            [
             0,
             "#0d0887"
            ],
            [
             0.1111111111111111,
             "#46039f"
            ],
            [
             0.2222222222222222,
             "#7201a8"
            ],
            [
             0.3333333333333333,
             "#9c179e"
            ],
            [
             0.4444444444444444,
             "#bd3786"
            ],
            [
             0.5555555555555556,
             "#d8576b"
            ],
            [
             0.6666666666666666,
             "#ed7953"
            ],
            [
             0.7777777777777778,
             "#fb9f3a"
            ],
            [
             0.8888888888888888,
             "#fdca26"
            ],
            [
             1,
             "#f0f921"
            ]
           ],
           "sequentialminus": [
            [
             0,
             "#0d0887"
            ],
            [
             0.1111111111111111,
             "#46039f"
            ],
            [
             0.2222222222222222,
             "#7201a8"
            ],
            [
             0.3333333333333333,
             "#9c179e"
            ],
            [
             0.4444444444444444,
             "#bd3786"
            ],
            [
             0.5555555555555556,
             "#d8576b"
            ],
            [
             0.6666666666666666,
             "#ed7953"
            ],
            [
             0.7777777777777778,
             "#fb9f3a"
            ],
            [
             0.8888888888888888,
             "#fdca26"
            ],
            [
             1,
             "#f0f921"
            ]
           ]
          },
          "colorway": [
           "#636efa",
           "#EF553B",
           "#00cc96",
           "#ab63fa",
           "#FFA15A",
           "#19d3f3",
           "#FF6692",
           "#B6E880",
           "#FF97FF",
           "#FECB52"
          ],
          "font": {
           "color": "#2a3f5f"
          },
          "geo": {
           "bgcolor": "white",
           "lakecolor": "white",
           "landcolor": "#E5ECF6",
           "showlakes": true,
           "showland": true,
           "subunitcolor": "white"
          },
          "hoverlabel": {
           "align": "left"
          },
          "hovermode": "closest",
          "mapbox": {
           "style": "light"
          },
          "paper_bgcolor": "white",
          "plot_bgcolor": "#E5ECF6",
          "polar": {
           "angularaxis": {
            "gridcolor": "white",
            "linecolor": "white",
            "ticks": ""
           },
           "bgcolor": "#E5ECF6",
           "radialaxis": {
            "gridcolor": "white",
            "linecolor": "white",
            "ticks": ""
           }
          },
          "scene": {
           "xaxis": {
            "backgroundcolor": "#E5ECF6",
            "gridcolor": "white",
            "gridwidth": 2,
            "linecolor": "white",
            "showbackground": true,
            "ticks": "",
            "zerolinecolor": "white"
           },
           "yaxis": {
            "backgroundcolor": "#E5ECF6",
            "gridcolor": "white",
            "gridwidth": 2,
            "linecolor": "white",
            "showbackground": true,
            "ticks": "",
            "zerolinecolor": "white"
           },
           "zaxis": {
            "backgroundcolor": "#E5ECF6",
            "gridcolor": "white",
            "gridwidth": 2,
            "linecolor": "white",
            "showbackground": true,
            "ticks": "",
            "zerolinecolor": "white"
           }
          },
          "shapedefaults": {
           "line": {
            "color": "#2a3f5f"
           }
          },
          "ternary": {
           "aaxis": {
            "gridcolor": "white",
            "linecolor": "white",
            "ticks": ""
           },
           "baxis": {
            "gridcolor": "white",
            "linecolor": "white",
            "ticks": ""
           },
           "bgcolor": "#E5ECF6",
           "caxis": {
            "gridcolor": "white",
            "linecolor": "white",
            "ticks": ""
           }
          },
          "title": {
           "x": 0.05
          },
          "xaxis": {
           "automargin": true,
           "gridcolor": "white",
           "linecolor": "white",
           "ticks": "",
           "title": {
            "standoff": 15
           },
           "zerolinecolor": "white",
           "zerolinewidth": 2
          },
          "yaxis": {
           "automargin": true,
           "gridcolor": "white",
           "linecolor": "white",
           "ticks": "",
           "title": {
            "standoff": 15
           },
           "zerolinecolor": "white",
           "zerolinewidth": 2
          }
         }
        }
       }
      },
      "text/html": [
       "<div>\n",
       "        \n",
       "        \n",
       "            <div id=\"e65de74a-832f-4498-b330-4ebd0d785e84\" class=\"plotly-graph-div\" style=\"height:525px; width:100%;\"></div>\n",
       "            <script type=\"text/javascript\">\n",
       "                require([\"plotly\"], function(Plotly) {\n",
       "                    window.PLOTLYENV=window.PLOTLYENV || {};\n",
       "                    \n",
       "                if (document.getElementById(\"e65de74a-832f-4498-b330-4ebd0d785e84\")) {\n",
       "                    Plotly.newPlot(\n",
       "                        'e65de74a-832f-4498-b330-4ebd0d785e84',\n",
       "                        [{\"type\": \"scatter\", \"x\": [\"Robert Downey Jr.\", \"Chris Hemsworth\", \"Chris Evans\", \"Mark Ruffalo\", \"Dwayne Johnson\", \"Chris Pratt\", \"Jason Statham\", \"Vin Diesel\", \"Idris Elba\", \"Samuel L. Jackson\"], \"y\": [340651485, 243356855, 411643995, 131855030, 78926453, 231780934, 130809390, 261047961, 256332047, 99621632]}],\n",
       "                        {\"template\": {\"data\": {\"bar\": [{\"error_x\": {\"color\": \"#2a3f5f\"}, \"error_y\": {\"color\": \"#2a3f5f\"}, \"marker\": {\"line\": {\"color\": \"#E5ECF6\", \"width\": 0.5}}, \"type\": \"bar\"}], \"barpolar\": [{\"marker\": {\"line\": {\"color\": \"#E5ECF6\", \"width\": 0.5}}, \"type\": \"barpolar\"}], \"carpet\": [{\"aaxis\": {\"endlinecolor\": \"#2a3f5f\", \"gridcolor\": \"white\", \"linecolor\": \"white\", \"minorgridcolor\": \"white\", \"startlinecolor\": \"#2a3f5f\"}, \"baxis\": {\"endlinecolor\": \"#2a3f5f\", \"gridcolor\": \"white\", \"linecolor\": \"white\", \"minorgridcolor\": \"white\", \"startlinecolor\": \"#2a3f5f\"}, \"type\": \"carpet\"}], \"choropleth\": [{\"colorbar\": {\"outlinewidth\": 0, \"ticks\": \"\"}, \"type\": \"choropleth\"}], \"contour\": [{\"colorbar\": {\"outlinewidth\": 0, \"ticks\": \"\"}, \"colorscale\": [[0.0, \"#0d0887\"], [0.1111111111111111, \"#46039f\"], [0.2222222222222222, \"#7201a8\"], [0.3333333333333333, \"#9c179e\"], [0.4444444444444444, \"#bd3786\"], [0.5555555555555556, \"#d8576b\"], [0.6666666666666666, \"#ed7953\"], [0.7777777777777778, \"#fb9f3a\"], [0.8888888888888888, \"#fdca26\"], [1.0, \"#f0f921\"]], \"type\": \"contour\"}], \"contourcarpet\": [{\"colorbar\": {\"outlinewidth\": 0, \"ticks\": \"\"}, \"type\": \"contourcarpet\"}], \"heatmap\": [{\"colorbar\": {\"outlinewidth\": 0, \"ticks\": \"\"}, \"colorscale\": [[0.0, \"#0d0887\"], [0.1111111111111111, \"#46039f\"], [0.2222222222222222, \"#7201a8\"], [0.3333333333333333, \"#9c179e\"], [0.4444444444444444, \"#bd3786\"], [0.5555555555555556, \"#d8576b\"], [0.6666666666666666, \"#ed7953\"], [0.7777777777777778, \"#fb9f3a\"], [0.8888888888888888, \"#fdca26\"], [1.0, \"#f0f921\"]], \"type\": \"heatmap\"}], \"heatmapgl\": [{\"colorbar\": {\"outlinewidth\": 0, \"ticks\": \"\"}, \"colorscale\": [[0.0, \"#0d0887\"], [0.1111111111111111, \"#46039f\"], [0.2222222222222222, \"#7201a8\"], [0.3333333333333333, \"#9c179e\"], [0.4444444444444444, \"#bd3786\"], [0.5555555555555556, \"#d8576b\"], [0.6666666666666666, \"#ed7953\"], [0.7777777777777778, \"#fb9f3a\"], [0.8888888888888888, \"#fdca26\"], [1.0, \"#f0f921\"]], \"type\": \"heatmapgl\"}], \"histogram\": [{\"marker\": {\"colorbar\": {\"outlinewidth\": 0, \"ticks\": \"\"}}, \"type\": \"histogram\"}], \"histogram2d\": [{\"colorbar\": {\"outlinewidth\": 0, \"ticks\": \"\"}, \"colorscale\": [[0.0, \"#0d0887\"], [0.1111111111111111, \"#46039f\"], [0.2222222222222222, \"#7201a8\"], [0.3333333333333333, \"#9c179e\"], [0.4444444444444444, \"#bd3786\"], [0.5555555555555556, \"#d8576b\"], [0.6666666666666666, \"#ed7953\"], [0.7777777777777778, \"#fb9f3a\"], [0.8888888888888888, \"#fdca26\"], [1.0, \"#f0f921\"]], \"type\": \"histogram2d\"}], \"histogram2dcontour\": [{\"colorbar\": {\"outlinewidth\": 0, \"ticks\": \"\"}, \"colorscale\": [[0.0, \"#0d0887\"], [0.1111111111111111, \"#46039f\"], [0.2222222222222222, \"#7201a8\"], [0.3333333333333333, \"#9c179e\"], [0.4444444444444444, \"#bd3786\"], [0.5555555555555556, \"#d8576b\"], [0.6666666666666666, \"#ed7953\"], [0.7777777777777778, \"#fb9f3a\"], [0.8888888888888888, \"#fdca26\"], [1.0, \"#f0f921\"]], \"type\": \"histogram2dcontour\"}], \"mesh3d\": [{\"colorbar\": {\"outlinewidth\": 0, \"ticks\": \"\"}, \"type\": \"mesh3d\"}], \"parcoords\": [{\"line\": {\"colorbar\": {\"outlinewidth\": 0, \"ticks\": \"\"}}, \"type\": \"parcoords\"}], \"pie\": [{\"automargin\": true, \"type\": \"pie\"}], \"scatter\": [{\"marker\": {\"colorbar\": {\"outlinewidth\": 0, \"ticks\": \"\"}}, \"type\": \"scatter\"}], \"scatter3d\": [{\"line\": {\"colorbar\": {\"outlinewidth\": 0, \"ticks\": \"\"}}, \"marker\": {\"colorbar\": {\"outlinewidth\": 0, \"ticks\": \"\"}}, \"type\": \"scatter3d\"}], \"scattercarpet\": [{\"marker\": {\"colorbar\": {\"outlinewidth\": 0, \"ticks\": \"\"}}, \"type\": \"scattercarpet\"}], \"scattergeo\": [{\"marker\": {\"colorbar\": {\"outlinewidth\": 0, \"ticks\": \"\"}}, \"type\": \"scattergeo\"}], \"scattergl\": [{\"marker\": {\"colorbar\": {\"outlinewidth\": 0, \"ticks\": \"\"}}, \"type\": \"scattergl\"}], \"scattermapbox\": [{\"marker\": {\"colorbar\": {\"outlinewidth\": 0, \"ticks\": \"\"}}, \"type\": \"scattermapbox\"}], \"scatterpolar\": [{\"marker\": {\"colorbar\": {\"outlinewidth\": 0, \"ticks\": \"\"}}, \"type\": \"scatterpolar\"}], \"scatterpolargl\": [{\"marker\": {\"colorbar\": {\"outlinewidth\": 0, \"ticks\": \"\"}}, \"type\": \"scatterpolargl\"}], \"scatterternary\": [{\"marker\": {\"colorbar\": {\"outlinewidth\": 0, \"ticks\": \"\"}}, \"type\": \"scatterternary\"}], \"surface\": [{\"colorbar\": {\"outlinewidth\": 0, \"ticks\": \"\"}, \"colorscale\": [[0.0, \"#0d0887\"], [0.1111111111111111, \"#46039f\"], [0.2222222222222222, \"#7201a8\"], [0.3333333333333333, \"#9c179e\"], [0.4444444444444444, \"#bd3786\"], [0.5555555555555556, \"#d8576b\"], [0.6666666666666666, \"#ed7953\"], [0.7777777777777778, \"#fb9f3a\"], [0.8888888888888888, \"#fdca26\"], [1.0, \"#f0f921\"]], \"type\": \"surface\"}], \"table\": [{\"cells\": {\"fill\": {\"color\": \"#EBF0F8\"}, \"line\": {\"color\": \"white\"}}, \"header\": {\"fill\": {\"color\": \"#C8D4E3\"}, \"line\": {\"color\": \"white\"}}, \"type\": \"table\"}]}, \"layout\": {\"annotationdefaults\": {\"arrowcolor\": \"#2a3f5f\", \"arrowhead\": 0, \"arrowwidth\": 1}, \"coloraxis\": {\"colorbar\": {\"outlinewidth\": 0, \"ticks\": \"\"}}, \"colorscale\": {\"diverging\": [[0, \"#8e0152\"], [0.1, \"#c51b7d\"], [0.2, \"#de77ae\"], [0.3, \"#f1b6da\"], [0.4, \"#fde0ef\"], [0.5, \"#f7f7f7\"], [0.6, \"#e6f5d0\"], [0.7, \"#b8e186\"], [0.8, \"#7fbc41\"], [0.9, \"#4d9221\"], [1, \"#276419\"]], \"sequential\": [[0.0, \"#0d0887\"], [0.1111111111111111, \"#46039f\"], [0.2222222222222222, \"#7201a8\"], [0.3333333333333333, \"#9c179e\"], [0.4444444444444444, \"#bd3786\"], [0.5555555555555556, \"#d8576b\"], [0.6666666666666666, \"#ed7953\"], [0.7777777777777778, \"#fb9f3a\"], [0.8888888888888888, \"#fdca26\"], [1.0, \"#f0f921\"]], \"sequentialminus\": [[0.0, \"#0d0887\"], [0.1111111111111111, \"#46039f\"], [0.2222222222222222, \"#7201a8\"], [0.3333333333333333, \"#9c179e\"], [0.4444444444444444, \"#bd3786\"], [0.5555555555555556, \"#d8576b\"], [0.6666666666666666, \"#ed7953\"], [0.7777777777777778, \"#fb9f3a\"], [0.8888888888888888, \"#fdca26\"], [1.0, \"#f0f921\"]]}, \"colorway\": [\"#636efa\", \"#EF553B\", \"#00cc96\", \"#ab63fa\", \"#FFA15A\", \"#19d3f3\", \"#FF6692\", \"#B6E880\", \"#FF97FF\", \"#FECB52\"], \"font\": {\"color\": \"#2a3f5f\"}, \"geo\": {\"bgcolor\": \"white\", \"lakecolor\": \"white\", \"landcolor\": \"#E5ECF6\", \"showlakes\": true, \"showland\": true, \"subunitcolor\": \"white\"}, \"hoverlabel\": {\"align\": \"left\"}, \"hovermode\": \"closest\", \"mapbox\": {\"style\": \"light\"}, \"paper_bgcolor\": \"white\", \"plot_bgcolor\": \"#E5ECF6\", \"polar\": {\"angularaxis\": {\"gridcolor\": \"white\", \"linecolor\": \"white\", \"ticks\": \"\"}, \"bgcolor\": \"#E5ECF6\", \"radialaxis\": {\"gridcolor\": \"white\", \"linecolor\": \"white\", \"ticks\": \"\"}}, \"scene\": {\"xaxis\": {\"backgroundcolor\": \"#E5ECF6\", \"gridcolor\": \"white\", \"gridwidth\": 2, \"linecolor\": \"white\", \"showbackground\": true, \"ticks\": \"\", \"zerolinecolor\": \"white\"}, \"yaxis\": {\"backgroundcolor\": \"#E5ECF6\", \"gridcolor\": \"white\", \"gridwidth\": 2, \"linecolor\": \"white\", \"showbackground\": true, \"ticks\": \"\", \"zerolinecolor\": \"white\"}, \"zaxis\": {\"backgroundcolor\": \"#E5ECF6\", \"gridcolor\": \"white\", \"gridwidth\": 2, \"linecolor\": \"white\", \"showbackground\": true, \"ticks\": \"\", \"zerolinecolor\": \"white\"}}, \"shapedefaults\": {\"line\": {\"color\": \"#2a3f5f\"}}, \"ternary\": {\"aaxis\": {\"gridcolor\": \"white\", \"linecolor\": \"white\", \"ticks\": \"\"}, \"baxis\": {\"gridcolor\": \"white\", \"linecolor\": \"white\", \"ticks\": \"\"}, \"bgcolor\": \"#E5ECF6\", \"caxis\": {\"gridcolor\": \"white\", \"linecolor\": \"white\", \"ticks\": \"\"}}, \"title\": {\"x\": 0.05}, \"xaxis\": {\"automargin\": true, \"gridcolor\": \"white\", \"linecolor\": \"white\", \"ticks\": \"\", \"title\": {\"standoff\": 15}, \"zerolinecolor\": \"white\", \"zerolinewidth\": 2}, \"yaxis\": {\"automargin\": true, \"gridcolor\": \"white\", \"linecolor\": \"white\", \"ticks\": \"\", \"title\": {\"standoff\": 15}, \"zerolinecolor\": \"white\", \"zerolinewidth\": 2}}}},\n",
       "                        {\"responsive\": true}\n",
       "                    ).then(function(){\n",
       "                            \n",
       "var gd = document.getElementById('e65de74a-832f-4498-b330-4ebd0d785e84');\n",
       "var x = new MutationObserver(function (mutations, observer) {{\n",
       "        var display = window.getComputedStyle(gd).display;\n",
       "        if (!display || display === 'none') {{\n",
       "            console.log([gd, 'removed!']);\n",
       "            Plotly.purge(gd);\n",
       "            observer.disconnect();\n",
       "        }}\n",
       "}});\n",
       "\n",
       "// Listen for the removal of the full notebook cells\n",
       "var notebookContainer = gd.closest('#notebook-container');\n",
       "if (notebookContainer) {{\n",
       "    x.observe(notebookContainer, {childList: true});\n",
       "}}\n",
       "\n",
       "// Listen for the clearing of the current output cell\n",
       "var outputEl = gd.closest('.output');\n",
       "if (outputEl) {{\n",
       "    x.observe(outputEl, {childList: true});\n",
       "}}\n",
       "\n",
       "                        })\n",
       "                };\n",
       "                });\n",
       "            </script>\n",
       "        </div>"
      ]
     },
     "metadata": {},
     "output_type": "display_data"
    }
   ],
   "source": [
    "# plt.plot(top_actors, top_avg)\n",
    "\n",
    "plot_top_actors_avg = go.Figure()\n",
    "plot_top_actors_avg = go.Figure([go.Scatter(x=top_actors, y=top_avg)])\n",
    "plot_top_actors_avg.show()"
   ]
  },
  {
   "cell_type": "code",
   "execution_count": 222,
   "metadata": {},
   "outputs": [
    {
     "data": {
      "application/vnd.plotly.v1+json": {
       "config": {
        "plotlyServerURL": "https://plot.ly"
       },
       "data": [
        {
         "marker": {
          "color": "#bfa878"
         },
         "type": "bar",
         "x": [
          "Robert Downey Jr.",
          "Chris Hemsworth",
          "Chris Evans",
          "Mark Ruffalo",
          "Dwayne Johnson",
          "Chris Pratt",
          "Jason Statham",
          "Vin Diesel",
          "Idris Elba",
          "Samuel L. Jackson"
         ],
         "y": [
          84140916917,
          78117550560,
          53102075391,
          46808535740,
          44119887542,
          37316730468,
          35710963506,
          29759467609,
          23838880421,
          12253460814
         ]
        },
        {
         "marker": {
          "color": "#7a4b4b"
         },
         "type": "scatter",
         "x": [
          "Robert Downey Jr.",
          "Chris Hemsworth",
          "Chris Evans",
          "Mark Ruffalo",
          "Dwayne Johnson",
          "Chris Pratt",
          "Jason Statham",
          "Vin Diesel",
          "Idris Elba",
          "Samuel L. Jackson"
         ],
         "xaxis": "x",
         "y": [
          340651485,
          243356855,
          411643995,
          131855030,
          78926453,
          231780934,
          130809390,
          261047961,
          256332047,
          99621632
         ],
         "yaxis": "y2"
        }
       ],
       "layout": {
        "font": {
         "color": "#7a4b4b",
         "family": "Calibri",
         "size": 24
        },
        "showlegend": false,
        "template": {
         "data": {
          "bar": [
           {
            "error_x": {
             "color": "rgb(51,51,51)"
            },
            "error_y": {
             "color": "rgb(51,51,51)"
            },
            "marker": {
             "line": {
              "color": "rgb(237,237,237)",
              "width": 0.5
             }
            },
            "type": "bar"
           }
          ],
          "barpolar": [
           {
            "marker": {
             "line": {
              "color": "rgb(237,237,237)",
              "width": 0.5
             }
            },
            "type": "barpolar"
           }
          ],
          "carpet": [
           {
            "aaxis": {
             "endlinecolor": "rgb(51,51,51)",
             "gridcolor": "white",
             "linecolor": "white",
             "minorgridcolor": "white",
             "startlinecolor": "rgb(51,51,51)"
            },
            "baxis": {
             "endlinecolor": "rgb(51,51,51)",
             "gridcolor": "white",
             "linecolor": "white",
             "minorgridcolor": "white",
             "startlinecolor": "rgb(51,51,51)"
            },
            "type": "carpet"
           }
          ],
          "choropleth": [
           {
            "colorbar": {
             "outlinewidth": 0,
             "tickcolor": "rgb(237,237,237)",
             "ticklen": 6,
             "ticks": "inside"
            },
            "type": "choropleth"
           }
          ],
          "contour": [
           {
            "colorbar": {
             "outlinewidth": 0,
             "tickcolor": "rgb(237,237,237)",
             "ticklen": 6,
             "ticks": "inside"
            },
            "colorscale": [
             [
              0,
              "rgb(20,44,66)"
             ],
             [
              1,
              "rgb(90,179,244)"
             ]
            ],
            "type": "contour"
           }
          ],
          "contourcarpet": [
           {
            "colorbar": {
             "outlinewidth": 0,
             "tickcolor": "rgb(237,237,237)",
             "ticklen": 6,
             "ticks": "inside"
            },
            "type": "contourcarpet"
           }
          ],
          "heatmap": [
           {
            "colorbar": {
             "outlinewidth": 0,
             "tickcolor": "rgb(237,237,237)",
             "ticklen": 6,
             "ticks": "inside"
            },
            "colorscale": [
             [
              0,
              "rgb(20,44,66)"
             ],
             [
              1,
              "rgb(90,179,244)"
             ]
            ],
            "type": "heatmap"
           }
          ],
          "heatmapgl": [
           {
            "colorbar": {
             "outlinewidth": 0,
             "tickcolor": "rgb(237,237,237)",
             "ticklen": 6,
             "ticks": "inside"
            },
            "colorscale": [
             [
              0,
              "rgb(20,44,66)"
             ],
             [
              1,
              "rgb(90,179,244)"
             ]
            ],
            "type": "heatmapgl"
           }
          ],
          "histogram": [
           {
            "marker": {
             "colorbar": {
              "outlinewidth": 0,
              "tickcolor": "rgb(237,237,237)",
              "ticklen": 6,
              "ticks": "inside"
             }
            },
            "type": "histogram"
           }
          ],
          "histogram2d": [
           {
            "colorbar": {
             "outlinewidth": 0,
             "tickcolor": "rgb(237,237,237)",
             "ticklen": 6,
             "ticks": "inside"
            },
            "colorscale": [
             [
              0,
              "rgb(20,44,66)"
             ],
             [
              1,
              "rgb(90,179,244)"
             ]
            ],
            "type": "histogram2d"
           }
          ],
          "histogram2dcontour": [
           {
            "colorbar": {
             "outlinewidth": 0,
             "tickcolor": "rgb(237,237,237)",
             "ticklen": 6,
             "ticks": "inside"
            },
            "colorscale": [
             [
              0,
              "rgb(20,44,66)"
             ],
             [
              1,
              "rgb(90,179,244)"
             ]
            ],
            "type": "histogram2dcontour"
           }
          ],
          "mesh3d": [
           {
            "colorbar": {
             "outlinewidth": 0,
             "tickcolor": "rgb(237,237,237)",
             "ticklen": 6,
             "ticks": "inside"
            },
            "type": "mesh3d"
           }
          ],
          "parcoords": [
           {
            "line": {
             "colorbar": {
              "outlinewidth": 0,
              "tickcolor": "rgb(237,237,237)",
              "ticklen": 6,
              "ticks": "inside"
             }
            },
            "type": "parcoords"
           }
          ],
          "pie": [
           {
            "automargin": true,
            "type": "pie"
           }
          ],
          "scatter": [
           {
            "marker": {
             "colorbar": {
              "outlinewidth": 0,
              "tickcolor": "rgb(237,237,237)",
              "ticklen": 6,
              "ticks": "inside"
             }
            },
            "type": "scatter"
           }
          ],
          "scatter3d": [
           {
            "line": {
             "colorbar": {
              "outlinewidth": 0,
              "tickcolor": "rgb(237,237,237)",
              "ticklen": 6,
              "ticks": "inside"
             }
            },
            "marker": {
             "colorbar": {
              "outlinewidth": 0,
              "tickcolor": "rgb(237,237,237)",
              "ticklen": 6,
              "ticks": "inside"
             }
            },
            "type": "scatter3d"
           }
          ],
          "scattercarpet": [
           {
            "marker": {
             "colorbar": {
              "outlinewidth": 0,
              "tickcolor": "rgb(237,237,237)",
              "ticklen": 6,
              "ticks": "inside"
             }
            },
            "type": "scattercarpet"
           }
          ],
          "scattergeo": [
           {
            "marker": {
             "colorbar": {
              "outlinewidth": 0,
              "tickcolor": "rgb(237,237,237)",
              "ticklen": 6,
              "ticks": "inside"
             }
            },
            "type": "scattergeo"
           }
          ],
          "scattergl": [
           {
            "marker": {
             "colorbar": {
              "outlinewidth": 0,
              "tickcolor": "rgb(237,237,237)",
              "ticklen": 6,
              "ticks": "inside"
             }
            },
            "type": "scattergl"
           }
          ],
          "scattermapbox": [
           {
            "marker": {
             "colorbar": {
              "outlinewidth": 0,
              "tickcolor": "rgb(237,237,237)",
              "ticklen": 6,
              "ticks": "inside"
             }
            },
            "type": "scattermapbox"
           }
          ],
          "scatterpolar": [
           {
            "marker": {
             "colorbar": {
              "outlinewidth": 0,
              "tickcolor": "rgb(237,237,237)",
              "ticklen": 6,
              "ticks": "inside"
             }
            },
            "type": "scatterpolar"
           }
          ],
          "scatterpolargl": [
           {
            "marker": {
             "colorbar": {
              "outlinewidth": 0,
              "tickcolor": "rgb(237,237,237)",
              "ticklen": 6,
              "ticks": "inside"
             }
            },
            "type": "scatterpolargl"
           }
          ],
          "scatterternary": [
           {
            "marker": {
             "colorbar": {
              "outlinewidth": 0,
              "tickcolor": "rgb(237,237,237)",
              "ticklen": 6,
              "ticks": "inside"
             }
            },
            "type": "scatterternary"
           }
          ],
          "surface": [
           {
            "colorbar": {
             "outlinewidth": 0,
             "tickcolor": "rgb(237,237,237)",
             "ticklen": 6,
             "ticks": "inside"
            },
            "colorscale": [
             [
              0,
              "rgb(20,44,66)"
             ],
             [
              1,
              "rgb(90,179,244)"
             ]
            ],
            "type": "surface"
           }
          ],
          "table": [
           {
            "cells": {
             "fill": {
              "color": "rgb(237,237,237)"
             },
             "line": {
              "color": "white"
             }
            },
            "header": {
             "fill": {
              "color": "rgb(217,217,217)"
             },
             "line": {
              "color": "white"
             }
            },
            "type": "table"
           }
          ]
         },
         "layout": {
          "annotationdefaults": {
           "arrowhead": 0,
           "arrowwidth": 1
          },
          "coloraxis": {
           "colorbar": {
            "outlinewidth": 0,
            "tickcolor": "rgb(237,237,237)",
            "ticklen": 6,
            "ticks": "inside"
           }
          },
          "colorscale": {
           "sequential": [
            [
             0,
             "rgb(20,44,66)"
            ],
            [
             1,
             "rgb(90,179,244)"
            ]
           ],
           "sequentialminus": [
            [
             0,
             "rgb(20,44,66)"
            ],
            [
             1,
             "rgb(90,179,244)"
            ]
           ]
          },
          "colorway": [
           "#F8766D",
           "#A3A500",
           "#00BF7D",
           "#00B0F6",
           "#E76BF3"
          ],
          "font": {
           "color": "rgb(51,51,51)"
          },
          "geo": {
           "bgcolor": "white",
           "lakecolor": "white",
           "landcolor": "rgb(237,237,237)",
           "showlakes": true,
           "showland": true,
           "subunitcolor": "white"
          },
          "hoverlabel": {
           "align": "left"
          },
          "hovermode": "closest",
          "paper_bgcolor": "white",
          "plot_bgcolor": "rgb(237,237,237)",
          "polar": {
           "angularaxis": {
            "gridcolor": "white",
            "linecolor": "white",
            "showgrid": true,
            "tickcolor": "rgb(51,51,51)",
            "ticks": "outside"
           },
           "bgcolor": "rgb(237,237,237)",
           "radialaxis": {
            "gridcolor": "white",
            "linecolor": "white",
            "showgrid": true,
            "tickcolor": "rgb(51,51,51)",
            "ticks": "outside"
           }
          },
          "scene": {
           "xaxis": {
            "backgroundcolor": "rgb(237,237,237)",
            "gridcolor": "white",
            "gridwidth": 2,
            "linecolor": "white",
            "showbackground": true,
            "showgrid": true,
            "tickcolor": "rgb(51,51,51)",
            "ticks": "outside",
            "zerolinecolor": "white"
           },
           "yaxis": {
            "backgroundcolor": "rgb(237,237,237)",
            "gridcolor": "white",
            "gridwidth": 2,
            "linecolor": "white",
            "showbackground": true,
            "showgrid": true,
            "tickcolor": "rgb(51,51,51)",
            "ticks": "outside",
            "zerolinecolor": "white"
           },
           "zaxis": {
            "backgroundcolor": "rgb(237,237,237)",
            "gridcolor": "white",
            "gridwidth": 2,
            "linecolor": "white",
            "showbackground": true,
            "showgrid": true,
            "tickcolor": "rgb(51,51,51)",
            "ticks": "outside",
            "zerolinecolor": "white"
           }
          },
          "shapedefaults": {
           "fillcolor": "black",
           "line": {
            "width": 0
           },
           "opacity": 0.3
          },
          "ternary": {
           "aaxis": {
            "gridcolor": "white",
            "linecolor": "white",
            "showgrid": true,
            "tickcolor": "rgb(51,51,51)",
            "ticks": "outside"
           },
           "baxis": {
            "gridcolor": "white",
            "linecolor": "white",
            "showgrid": true,
            "tickcolor": "rgb(51,51,51)",
            "ticks": "outside"
           },
           "bgcolor": "rgb(237,237,237)",
           "caxis": {
            "gridcolor": "white",
            "linecolor": "white",
            "showgrid": true,
            "tickcolor": "rgb(51,51,51)",
            "ticks": "outside"
           }
          },
          "xaxis": {
           "automargin": true,
           "gridcolor": "white",
           "linecolor": "white",
           "showgrid": true,
           "tickcolor": "rgb(51,51,51)",
           "ticks": "outside",
           "title": {
            "standoff": 15
           },
           "zerolinecolor": "white"
          },
          "yaxis": {
           "automargin": true,
           "gridcolor": "white",
           "linecolor": "white",
           "showgrid": true,
           "tickcolor": "rgb(51,51,51)",
           "ticks": "outside",
           "title": {
            "standoff": 15
           },
           "zerolinecolor": "white"
          }
         }
        },
        "xaxis": {
         "anchor": "y",
         "domain": [
          0,
          0.94
         ]
        },
        "yaxis": {
         "anchor": "x",
         "domain": [
          0,
          1
         ],
         "title": {
          "text": "Revenue (USD)"
         }
        },
        "yaxis2": {
         "anchor": "x",
         "overlaying": "y",
         "side": "right",
         "title": {
          "text": "Avg Revenue (USD)"
         }
        }
       }
      },
      "text/html": [
       "<div>\n",
       "        \n",
       "        \n",
       "            <div id=\"31f82a0e-0a33-46e3-8b57-7433b6b0f4c1\" class=\"plotly-graph-div\" style=\"height:525px; width:100%;\"></div>\n",
       "            <script type=\"text/javascript\">\n",
       "                require([\"plotly\"], function(Plotly) {\n",
       "                    window.PLOTLYENV=window.PLOTLYENV || {};\n",
       "                    \n",
       "                if (document.getElementById(\"31f82a0e-0a33-46e3-8b57-7433b6b0f4c1\")) {\n",
       "                    Plotly.newPlot(\n",
       "                        '31f82a0e-0a33-46e3-8b57-7433b6b0f4c1',\n",
       "                        [{\"marker\": {\"color\": \"#bfa878\"}, \"type\": \"bar\", \"x\": [\"Robert Downey Jr.\", \"Chris Hemsworth\", \"Chris Evans\", \"Mark Ruffalo\", \"Dwayne Johnson\", \"Chris Pratt\", \"Jason Statham\", \"Vin Diesel\", \"Idris Elba\", \"Samuel L. Jackson\"], \"y\": [84140916917.0, 78117550560.0, 53102075391.0, 46808535740.0, 44119887542.0, 37316730468.0, 35710963506.0, 29759467609.0, 23838880421.0, 12253460814.0]}, {\"marker\": {\"color\": \"#7a4b4b\"}, \"type\": \"scatter\", \"x\": [\"Robert Downey Jr.\", \"Chris Hemsworth\", \"Chris Evans\", \"Mark Ruffalo\", \"Dwayne Johnson\", \"Chris Pratt\", \"Jason Statham\", \"Vin Diesel\", \"Idris Elba\", \"Samuel L. Jackson\"], \"xaxis\": \"x\", \"y\": [340651485, 243356855, 411643995, 131855030, 78926453, 231780934, 130809390, 261047961, 256332047, 99621632], \"yaxis\": \"y2\"}],\n",
       "                        {\"font\": {\"color\": \"#7a4b4b\", \"family\": \"Calibri\", \"size\": 24}, \"showlegend\": false, \"template\": {\"data\": {\"bar\": [{\"error_x\": {\"color\": \"rgb(51,51,51)\"}, \"error_y\": {\"color\": \"rgb(51,51,51)\"}, \"marker\": {\"line\": {\"color\": \"rgb(237,237,237)\", \"width\": 0.5}}, \"type\": \"bar\"}], \"barpolar\": [{\"marker\": {\"line\": {\"color\": \"rgb(237,237,237)\", \"width\": 0.5}}, \"type\": \"barpolar\"}], \"carpet\": [{\"aaxis\": {\"endlinecolor\": \"rgb(51,51,51)\", \"gridcolor\": \"white\", \"linecolor\": \"white\", \"minorgridcolor\": \"white\", \"startlinecolor\": \"rgb(51,51,51)\"}, \"baxis\": {\"endlinecolor\": \"rgb(51,51,51)\", \"gridcolor\": \"white\", \"linecolor\": \"white\", \"minorgridcolor\": \"white\", \"startlinecolor\": \"rgb(51,51,51)\"}, \"type\": \"carpet\"}], \"choropleth\": [{\"colorbar\": {\"outlinewidth\": 0, \"tickcolor\": \"rgb(237,237,237)\", \"ticklen\": 6, \"ticks\": \"inside\"}, \"type\": \"choropleth\"}], \"contour\": [{\"colorbar\": {\"outlinewidth\": 0, \"tickcolor\": \"rgb(237,237,237)\", \"ticklen\": 6, \"ticks\": \"inside\"}, \"colorscale\": [[0, \"rgb(20,44,66)\"], [1, \"rgb(90,179,244)\"]], \"type\": \"contour\"}], \"contourcarpet\": [{\"colorbar\": {\"outlinewidth\": 0, \"tickcolor\": \"rgb(237,237,237)\", \"ticklen\": 6, \"ticks\": \"inside\"}, \"type\": \"contourcarpet\"}], \"heatmap\": [{\"colorbar\": {\"outlinewidth\": 0, \"tickcolor\": \"rgb(237,237,237)\", \"ticklen\": 6, \"ticks\": \"inside\"}, \"colorscale\": [[0, \"rgb(20,44,66)\"], [1, \"rgb(90,179,244)\"]], \"type\": \"heatmap\"}], \"heatmapgl\": [{\"colorbar\": {\"outlinewidth\": 0, \"tickcolor\": \"rgb(237,237,237)\", \"ticklen\": 6, \"ticks\": \"inside\"}, \"colorscale\": [[0, \"rgb(20,44,66)\"], [1, \"rgb(90,179,244)\"]], \"type\": \"heatmapgl\"}], \"histogram\": [{\"marker\": {\"colorbar\": {\"outlinewidth\": 0, \"tickcolor\": \"rgb(237,237,237)\", \"ticklen\": 6, \"ticks\": \"inside\"}}, \"type\": \"histogram\"}], \"histogram2d\": [{\"colorbar\": {\"outlinewidth\": 0, \"tickcolor\": \"rgb(237,237,237)\", \"ticklen\": 6, \"ticks\": \"inside\"}, \"colorscale\": [[0, \"rgb(20,44,66)\"], [1, \"rgb(90,179,244)\"]], \"type\": \"histogram2d\"}], \"histogram2dcontour\": [{\"colorbar\": {\"outlinewidth\": 0, \"tickcolor\": \"rgb(237,237,237)\", \"ticklen\": 6, \"ticks\": \"inside\"}, \"colorscale\": [[0, \"rgb(20,44,66)\"], [1, \"rgb(90,179,244)\"]], \"type\": \"histogram2dcontour\"}], \"mesh3d\": [{\"colorbar\": {\"outlinewidth\": 0, \"tickcolor\": \"rgb(237,237,237)\", \"ticklen\": 6, \"ticks\": \"inside\"}, \"type\": \"mesh3d\"}], \"parcoords\": [{\"line\": {\"colorbar\": {\"outlinewidth\": 0, \"tickcolor\": \"rgb(237,237,237)\", \"ticklen\": 6, \"ticks\": \"inside\"}}, \"type\": \"parcoords\"}], \"pie\": [{\"automargin\": true, \"type\": \"pie\"}], \"scatter\": [{\"marker\": {\"colorbar\": {\"outlinewidth\": 0, \"tickcolor\": \"rgb(237,237,237)\", \"ticklen\": 6, \"ticks\": \"inside\"}}, \"type\": \"scatter\"}], \"scatter3d\": [{\"line\": {\"colorbar\": {\"outlinewidth\": 0, \"tickcolor\": \"rgb(237,237,237)\", \"ticklen\": 6, \"ticks\": \"inside\"}}, \"marker\": {\"colorbar\": {\"outlinewidth\": 0, \"tickcolor\": \"rgb(237,237,237)\", \"ticklen\": 6, \"ticks\": \"inside\"}}, \"type\": \"scatter3d\"}], \"scattercarpet\": [{\"marker\": {\"colorbar\": {\"outlinewidth\": 0, \"tickcolor\": \"rgb(237,237,237)\", \"ticklen\": 6, \"ticks\": \"inside\"}}, \"type\": \"scattercarpet\"}], \"scattergeo\": [{\"marker\": {\"colorbar\": {\"outlinewidth\": 0, \"tickcolor\": \"rgb(237,237,237)\", \"ticklen\": 6, \"ticks\": \"inside\"}}, \"type\": \"scattergeo\"}], \"scattergl\": [{\"marker\": {\"colorbar\": {\"outlinewidth\": 0, \"tickcolor\": \"rgb(237,237,237)\", \"ticklen\": 6, \"ticks\": \"inside\"}}, \"type\": \"scattergl\"}], \"scattermapbox\": [{\"marker\": {\"colorbar\": {\"outlinewidth\": 0, \"tickcolor\": \"rgb(237,237,237)\", \"ticklen\": 6, \"ticks\": \"inside\"}}, \"type\": \"scattermapbox\"}], \"scatterpolar\": [{\"marker\": {\"colorbar\": {\"outlinewidth\": 0, \"tickcolor\": \"rgb(237,237,237)\", \"ticklen\": 6, \"ticks\": \"inside\"}}, \"type\": \"scatterpolar\"}], \"scatterpolargl\": [{\"marker\": {\"colorbar\": {\"outlinewidth\": 0, \"tickcolor\": \"rgb(237,237,237)\", \"ticklen\": 6, \"ticks\": \"inside\"}}, \"type\": \"scatterpolargl\"}], \"scatterternary\": [{\"marker\": {\"colorbar\": {\"outlinewidth\": 0, \"tickcolor\": \"rgb(237,237,237)\", \"ticklen\": 6, \"ticks\": \"inside\"}}, \"type\": \"scatterternary\"}], \"surface\": [{\"colorbar\": {\"outlinewidth\": 0, \"tickcolor\": \"rgb(237,237,237)\", \"ticklen\": 6, \"ticks\": \"inside\"}, \"colorscale\": [[0, \"rgb(20,44,66)\"], [1, \"rgb(90,179,244)\"]], \"type\": \"surface\"}], \"table\": [{\"cells\": {\"fill\": {\"color\": \"rgb(237,237,237)\"}, \"line\": {\"color\": \"white\"}}, \"header\": {\"fill\": {\"color\": \"rgb(217,217,217)\"}, \"line\": {\"color\": \"white\"}}, \"type\": \"table\"}]}, \"layout\": {\"annotationdefaults\": {\"arrowhead\": 0, \"arrowwidth\": 1}, \"coloraxis\": {\"colorbar\": {\"outlinewidth\": 0, \"tickcolor\": \"rgb(237,237,237)\", \"ticklen\": 6, \"ticks\": \"inside\"}}, \"colorscale\": {\"sequential\": [[0, \"rgb(20,44,66)\"], [1, \"rgb(90,179,244)\"]], \"sequentialminus\": [[0, \"rgb(20,44,66)\"], [1, \"rgb(90,179,244)\"]]}, \"colorway\": [\"#F8766D\", \"#A3A500\", \"#00BF7D\", \"#00B0F6\", \"#E76BF3\"], \"font\": {\"color\": \"rgb(51,51,51)\"}, \"geo\": {\"bgcolor\": \"white\", \"lakecolor\": \"white\", \"landcolor\": \"rgb(237,237,237)\", \"showlakes\": true, \"showland\": true, \"subunitcolor\": \"white\"}, \"hoverlabel\": {\"align\": \"left\"}, \"hovermode\": \"closest\", \"paper_bgcolor\": \"white\", \"plot_bgcolor\": \"rgb(237,237,237)\", \"polar\": {\"angularaxis\": {\"gridcolor\": \"white\", \"linecolor\": \"white\", \"showgrid\": true, \"tickcolor\": \"rgb(51,51,51)\", \"ticks\": \"outside\"}, \"bgcolor\": \"rgb(237,237,237)\", \"radialaxis\": {\"gridcolor\": \"white\", \"linecolor\": \"white\", \"showgrid\": true, \"tickcolor\": \"rgb(51,51,51)\", \"ticks\": \"outside\"}}, \"scene\": {\"xaxis\": {\"backgroundcolor\": \"rgb(237,237,237)\", \"gridcolor\": \"white\", \"gridwidth\": 2, \"linecolor\": \"white\", \"showbackground\": true, \"showgrid\": true, \"tickcolor\": \"rgb(51,51,51)\", \"ticks\": \"outside\", \"zerolinecolor\": \"white\"}, \"yaxis\": {\"backgroundcolor\": \"rgb(237,237,237)\", \"gridcolor\": \"white\", \"gridwidth\": 2, \"linecolor\": \"white\", \"showbackground\": true, \"showgrid\": true, \"tickcolor\": \"rgb(51,51,51)\", \"ticks\": \"outside\", \"zerolinecolor\": \"white\"}, \"zaxis\": {\"backgroundcolor\": \"rgb(237,237,237)\", \"gridcolor\": \"white\", \"gridwidth\": 2, \"linecolor\": \"white\", \"showbackground\": true, \"showgrid\": true, \"tickcolor\": \"rgb(51,51,51)\", \"ticks\": \"outside\", \"zerolinecolor\": \"white\"}}, \"shapedefaults\": {\"fillcolor\": \"black\", \"line\": {\"width\": 0}, \"opacity\": 0.3}, \"ternary\": {\"aaxis\": {\"gridcolor\": \"white\", \"linecolor\": \"white\", \"showgrid\": true, \"tickcolor\": \"rgb(51,51,51)\", \"ticks\": \"outside\"}, \"baxis\": {\"gridcolor\": \"white\", \"linecolor\": \"white\", \"showgrid\": true, \"tickcolor\": \"rgb(51,51,51)\", \"ticks\": \"outside\"}, \"bgcolor\": \"rgb(237,237,237)\", \"caxis\": {\"gridcolor\": \"white\", \"linecolor\": \"white\", \"showgrid\": true, \"tickcolor\": \"rgb(51,51,51)\", \"ticks\": \"outside\"}}, \"xaxis\": {\"automargin\": true, \"gridcolor\": \"white\", \"linecolor\": \"white\", \"showgrid\": true, \"tickcolor\": \"rgb(51,51,51)\", \"ticks\": \"outside\", \"title\": {\"standoff\": 15}, \"zerolinecolor\": \"white\"}, \"yaxis\": {\"automargin\": true, \"gridcolor\": \"white\", \"linecolor\": \"white\", \"showgrid\": true, \"tickcolor\": \"rgb(51,51,51)\", \"ticks\": \"outside\", \"title\": {\"standoff\": 15}, \"zerolinecolor\": \"white\"}}}, \"xaxis\": {\"anchor\": \"y\", \"domain\": [0.0, 0.94]}, \"yaxis\": {\"anchor\": \"x\", \"domain\": [0.0, 1.0], \"title\": {\"text\": \"Revenue (USD)\"}}, \"yaxis2\": {\"anchor\": \"x\", \"overlaying\": \"y\", \"side\": \"right\", \"title\": {\"text\": \"Avg Revenue (USD)\"}}},\n",
       "                        {\"responsive\": true}\n",
       "                    ).then(function(){\n",
       "                            \n",
       "var gd = document.getElementById('31f82a0e-0a33-46e3-8b57-7433b6b0f4c1');\n",
       "var x = new MutationObserver(function (mutations, observer) {{\n",
       "        var display = window.getComputedStyle(gd).display;\n",
       "        if (!display || display === 'none') {{\n",
       "            console.log([gd, 'removed!']);\n",
       "            Plotly.purge(gd);\n",
       "            observer.disconnect();\n",
       "        }}\n",
       "}});\n",
       "\n",
       "// Listen for the removal of the full notebook cells\n",
       "var notebookContainer = gd.closest('#notebook-container');\n",
       "if (notebookContainer) {{\n",
       "    x.observe(notebookContainer, {childList: true});\n",
       "}}\n",
       "\n",
       "// Listen for the clearing of the current output cell\n",
       "var outputEl = gd.closest('.output');\n",
       "if (outputEl) {{\n",
       "    x.observe(outputEl, {childList: true});\n",
       "}}\n",
       "\n",
       "                        })\n",
       "                };\n",
       "                });\n",
       "            </script>\n",
       "        </div>"
      ]
     },
     "metadata": {},
     "output_type": "display_data"
    }
   ],
   "source": [
    "# Combining the above two plots\n",
    "plot_top_actors_total_and_avg = make_subplots(specs=[[{\"secondary_y\": True}]])\n",
    "\n",
    "plot_top_actors_total_and_avg.add_trace(go.Bar(x=top_actors, y=top_total, marker_color='#bfa878'))\n",
    "plot_top_actors_total_and_avg.add_trace(go.Scatter(x=top_actors, y=top_avg, marker_color='#7a4b4b'), secondary_y=True)\n",
    "plot_top_actors_total_and_avg.update_layout(\n",
    "    yaxis_title=\"Revenue (USD)\", showlegend = False,\n",
    "    template=\"ggplot2\",\n",
    "    font=dict(\n",
    "        family=\"Calibri\",\n",
    "        size=24,\n",
    "        color='#7a4b4b'\n",
    "    ))\n",
    "plot_top_actors_total_and_avg.update_yaxes(title_text=\"Avg Revenue (USD)\", secondary_y=True)\n",
    "plot_top_actors_total_and_avg.show()"
   ]
  },
  {
   "cell_type": "markdown",
   "metadata": {},
   "source": [
    "Done!"
   ]
  },
  {
   "cell_type": "code",
   "execution_count": null,
   "metadata": {},
   "outputs": [],
   "source": []
  }
 ],
 "metadata": {
  "kernelspec": {
   "display_name": "Python [conda env:learn-env] *",
   "language": "python",
   "name": "conda-env-learn-env-py"
  },
  "language_info": {
   "codemirror_mode": {
    "name": "ipython",
    "version": 3
   },
   "file_extension": ".py",
   "mimetype": "text/x-python",
   "name": "python",
   "nbconvert_exporter": "python",
   "pygments_lexer": "ipython3",
   "version": "3.6.9"
  }
 },
 "nbformat": 4,
 "nbformat_minor": 2
}
